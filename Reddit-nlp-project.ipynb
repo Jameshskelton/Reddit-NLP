{
 "cells": [
  {
   "cell_type": "code",
   "execution_count": 4,
   "metadata": {
    "scrolled": true
   },
   "outputs": [],
   "source": [
    "import pandas as pd\n",
    "import numpy as np\n",
    "import glob\n",
    "import os\n",
    "from os import listdir\n",
    "from os.path import isfile, join\n",
    "import matplotlib.pyplot as plt\n",
    "from datetime import datetime as dt\n",
    "import unidecode\n",
    "from sklearn.feature_extraction.text import CountVectorizer, TfidfVectorizer\n",
    "from nltk.stem import WordNetLemmatizer \n",
    "lemmatizer = WordNetLemmatizer()\n",
    "import string\n",
    "# import cv2\n",
    "\n",
    "\n",
    "import re\n",
    "import pickle\n",
    "\n",
    "from nltk.tokenize import sent_tokenize\n",
    "from nltk.tokenize import word_tokenize\n",
    "from nltk.corpus import stopwords\n",
    "from nltk.stem.porter import PorterStemmer\n",
    "from nltk.stem.snowball import SnowballStemmer\n",
    "from nltk.stem import WordNetLemmatizer \n",
    "\n",
    "from sklearn.model_selection import cross_val_score,train_test_split,GridSearchCV\n",
    "from sklearn.svm import SVC\n",
    "from sklearn.metrics import plot_roc_curve, f1_score, plot_confusion_matrix\n",
    "\n",
    "from sklearn.preprocessing import StandardScaler\n",
    "from sklearn.model_selection import StratifiedShuffleSplit\n",
    "from matplotlib.colors import Normalize\n",
    "\n",
    "from sklearn.naive_bayes import MultinomialNB\n",
    "from sklearn.ensemble import RandomForestClassifier,BaggingClassifier,ExtraTreesClassifier\n",
    "from sklearn.tree import DecisionTreeClassifier\n",
    "\n",
    "from scipy.sparse import hstack\n",
    "from scipy.special import logit, expit\n",
    "\n",
    "# from my_nmf import NMF\n",
    "# from helpers import build_text_vectorizer, hand_label_topics, analyze_article\n",
    "\n",
    "plt.style.use('seaborn')\n",
    "# os.chdir(\"data\")"
   ]
  },
  {
   "cell_type": "code",
   "execution_count": 5,
   "metadata": {},
   "outputs": [],
   "source": [
    "file = 'data/comments.csv'\n",
    "df = pd.read_csv(file, names = ['Text', 'ID', 'Subreddit', 'meta', 'Time', 'Username', 'Upvotes', 'Downvotes', 'Author_link_karma', 'Author_Comment_Karma','Author_has_gold?'], parse_dates =True, encoding = 'utf-8')\n"
   ]
  },
  {
   "cell_type": "code",
   "execution_count": null,
   "metadata": {},
   "outputs": [],
   "source": []
  },
  {
   "cell_type": "code",
   "execution_count": 6,
   "metadata": {},
   "outputs": [],
   "source": [
    "df = df.dropna(axis =0)"
   ]
  },
  {
   "cell_type": "markdown",
   "metadata": {},
   "source": [
    "# make meta dataframes"
   ]
  },
  {
   "cell_type": "code",
   "execution_count": 479,
   "metadata": {
    "scrolled": true
   },
   "outputs": [],
   "source": [
    "df_entertainment = df.dropna(axis =0).loc[df['meta']== 'entertainment']\n",
    "# df_entertainment.Text\n",
    "df"
   ]
  },
  {
   "cell_type": "markdown",
   "metadata": {},
   "source": [
    "# Proper Pipeline, no alaska"
   ]
  },
  {
   "cell_type": "code",
   "execution_count": null,
   "metadata": {},
   "outputs": [],
   "source": []
  },
  {
   "cell_type": "code",
   "execution_count": 9,
   "metadata": {},
   "outputs": [],
   "source": [
    "def clean_urls(array):\n",
    "    lst = []\n",
    "    for string in array:\n",
    "#         remove url strings\n",
    "        if string > re.sub(r'(https|http)? : \\/\\/(\\w|\\.|\\/|\\?|\\=|\\&|\\%)*\\b', '', string, flags=re.MULTILINE):\n",
    "            string = re.sub(r'(https|http)? : \\/\\/(\\w|\\.|\\/|\\?|\\=|\\&|\\%)*\\b', '', string, flags=re.MULTILINE)\n",
    "#           remove extra youtube v's\n",
    "            string = re.sub(r'v = () ', '', string, flags = re.MULTILINE)\n",
    "            lst.append(string)\n",
    "        else: \n",
    "            string = re.sub(r'(https|http)?:\\/\\/(\\w|\\.|\\/|\\?|\\=|\\&|\\%)*\\b', '', string, flags=re.MULTILINE)\n",
    "            lst.append(string)\n",
    "    return lst\n",
    "# test\n",
    "# tokelems = clean_urls(df_entertainment.Text.values)\n",
    "# cleaned_urls\n",
    "# type(cleaned_urls[1])"
   ]
  },
  {
   "cell_type": "code",
   "execution_count": 11,
   "metadata": {},
   "outputs": [
    {
     "name": "stdout",
     "output_type": "stream",
     "text": [
      "['james ran forward from the https    youtubecom v asfhabjf v  666 32 ']\n"
     ]
    }
   ],
   "source": [
    "punctuations = '''.!=-()[]{};:\"|\\<>/?@#$%^&*_~'''\n",
    "replace = '{}'.format('\\n')\n",
    "lst = []\n",
    "\n",
    "test_strings = ['James ran ForWard from the https://  !!! $ %   youtube.com v asfhabjf v asvjdakbfakdfasdfbasdfadfsasfadga %666^^ 32$']\n",
    "# test_strings2 = df_entertainment.Text.values[:2]\n",
    "# print(test_strings2)\n",
    "\n",
    "def base_clean_up(strings):\n",
    "    new_strings = [] \n",
    "    for i in strings:\n",
    "#         lower the strings\n",
    "        i = i.lower()\n",
    "#         convert strings to unicode\n",
    "        i = unidecode.unidecode(i)\n",
    "#         remove extra spaces\n",
    "        i = re.sub(\" +\", \" \", i)\n",
    "        no_punct = \"\"\n",
    "        for word in i.split():\n",
    "#             remove any individual letters or extra spaces\n",
    "            word = re.sub(r'[^\\w\\s]','',word)\n",
    "            \n",
    "            if len(word) > 20:\n",
    "                word = \"\"\n",
    "            no_punct += f'{word} '\n",
    "        new_strings.append(no_punct)\n",
    "#         print(no_punct)\n",
    "    return new_strings\n",
    "\n",
    "\n",
    "\n",
    "# # test check\n",
    "clean_test = base_clean_up(test_strings)\n",
    "print(clean_test)\n",
    "# check using df\n",
    "# tokelems = base_clean_up(tokelems)  \n",
    "# base_clean_up1\n",
    "# clean_test"
   ]
  },
  {
   "cell_type": "code",
   "execution_count": 24,
   "metadata": {},
   "outputs": [
    {
     "name": "stdout",
     "output_type": "stream",
     "text": [
      "6255\n",
      "6597\n",
      "6597\n"
     ]
    }
   ],
   "source": [
    "s_stop = set(stopwords.words())\n",
    "print(len(s_stop))\n",
    "new_stops = ['would', 'get', 'why', 'what', 'where', 'politics', 'libertarian', 'worldnews', 'offbeat', 'news',\n",
    "       'truereddit', 'conspiracy', 'conservative', 'frugal',\n",
    "       'motorcycles', 'sex', 'drunk', 'food', 'lifehacks', 'guns',\n",
    "       'progresspics', 'askscience', 'science', 'explainlikeimfive',\n",
    "       'askhistorians', 'youshouldknow', 'todayilearned', 'space',\n",
    "       'circlejerk', 'facepalm', 'jokes', 'adviceanimals', 'funny',\n",
    "       'imgoingtohellforthis', 'movies', 'harrypotter', 'music', 'anime',\n",
    "       'comicbooks', 'starwars', 'doctorwho', 'community', 'breakingbad',\n",
    "       'thewalkingdead', 'startrek', 'mylittlepony', 'gameofthrones',\n",
    "       'himym', 'tf2', 'dota2', 'leagueoflegends', 'minecraft', 'pokemon',\n",
    "       'gaming', 'skyrim', 'starcraft','nt','like', 'really', '2015ref',\n",
    "        'publisherspage190ref','volume9', 'issue2','005', '1671', '2015', \n",
    "        'jpgthumbemerg', 'jpgthumbrightth', 'logo', 'page7','logo.png','2015.ref', \n",
    "        'nameleaf200kcit','ref', '005.jpgthumbrightth', 'whose', 'kind','png', 'jpg', \n",
    "        'wiktionaryzero', 'wiktionaryzero0', 'wiktionaryzero0', 'articlesquantum','0supsup', \n",
    "        '0refcit', '1-3', 'redirectzero', '.', ',', 'nameleaf200k2cit', 'wiktionari', 'namecarb01cit','-',\n",
    "        'filezero', 'mvaramvarxmvari', 'page98','datemfyes1915228', 'year1989ref', '1671.jpgthumbemerg', \n",
    "        'refimprovedatemay','ligatureligatur','amazing', 'awesome', 'bad', 'best', 'better', 'bit', \n",
    "        'character', 'cool', 'day', 'end', 'episode', 'feel', 'film', 'going', 'good', 'great', 'know', \n",
    "        'life', 'little', 'll', 'looks', 'love', 'make', 'man', 'music', 'new', 'people', 'pretty', 'read', \n",
    "        'right', 'saw', 'scene', 'seen', 'sure', 'think', 'thought', 'want', 'wars', 'way', 'come', 'jpg','10',\n",
    "        '11','12', 'amp', 'days', 'edit', 'far', 'gets', 'fun', 'getting','let', 'later', 'makes', 'men', 'na',\n",
    "        'oh', 'op', 'post', 'reddit', 'said', 'remember', 'sorry', 'start', 'started', 'stop', 'tell', 'stuff',\n",
    "        'took', 'try','use', 'used', 'wait', 'wanted', 'week','went', 'yeah', 'yes', 'work', 'world', \n",
    "        'pppc1expiry2144', 'wiktionary','wiktionary0', 'n','improvedateoctob','baiknya', \n",
    "        'berkali', 'kali', 'kurangnya', 'mata', 'olah', 'onların', 'printr', 'sekurang', 'setidak', 'tama', 'tidaknya', 'δι', 'арбаң', 'арсалаң', 'афташ', 'бай', 'бале', 'баски', 'батыр', 'баҳри', 'болои', 'бүгжең', 'бұтыр', 'валекин', 'вақте', 'вой', 'вуҷуди', 'гар', 'гарчанде', 'далаң', 'даме', 'ербелең', 'жалт', 'жұлт', 'карда', 'кошки', 'куя', 'күңгір', 'кӣ', 'магар', 'майлаш', 'митың', 'модоме', 'нияти', 'онан', 'оре', 'паһ', 'рӯи', 'салаң', 'сар', 'сұлаң', 'сұрт', 'тарбаң', 'тразе', 'ту', 'тыржың', 'тұрс', 'хом', 'хуб', 'чаро', 'чи', 'чун', 'чунон', 'шарте', 'шұңқ', 'ыржың', 'қадар', 'қайқаң', 'қалт', 'қаңғыр', 'қаңқ', 'қош', 'қызараң', 'құйқаң', 'құлт', 'құңқ', 'ұрс', 'ҳай', 'ҳамин', 'ҳатто', 'ҳо', 'ҳол', 'ҳолате', 'әттеген', 'ӯим', 'अक', 'अग', 'अझ', 'अन', 'अर', 'आजक', 'आत', 'आद', 'आफ', 'आय', 'ईक', 'उद', 'उनक', 'उनल', 'उह', 'एउट', 'एन', 'कog', 'कत', 'कम', 'कस', 'कसर', 'कह', 'गत', 'गय', 'गर', 'चम', 'छन', 'जत', 'जबक', 'जस', 'जसक', 'जसब', 'जसम', 'जसल', 'जह', 'तत', 'तथ', 'तदन', 'तप', 'तवम', 'नज', 'नत', 'नभन', 'नय', 'पक', 'पछ', 'पन', 'पय', 'पर', 'पष', 'पह', 'बन', 'बर', 'भएक', 'भय', 'भव', 'मल', 'यत', 'यथ', 'यद', 'यप', 'यसक', 'यसपछ', 'यसब', 'यसर', 'यह', 'रण', 'रत', 'रमश', 'रह', 'लस', 'वर', 'सक', 'सट', 'सध', 'सपछ', 'सब', 'सम', 'सर', 'सह', 'हन', 'हर', 'हरण', 'ἀλλ']\n",
    "for i in new_stops:\n",
    "    s_stop.add(i)\n",
    "    \n",
    "print(len(s_stop))\n",
    "stops = s_stop\n",
    "print(len(stops))"
   ]
  },
  {
   "cell_type": "code",
   "execution_count": 14,
   "metadata": {},
   "outputs": [],
   "source": [
    "def tokenizer(strings):\n",
    "        lst = []\n",
    "        for i in strings:\n",
    "            tokens = [word for word in i.split(\" \") if word not in s_stop]\n",
    "            lst.append(tokens)\n",
    "        return lst\n",
    "\n",
    "# # test tokenizer \n",
    "# tokelems = tokenizer(tokelems)\n",
    "# print(test_tokes)\n",
    "#     lst.append(no_punct)\n",
    "# df_entertainment.Text = lst"
   ]
  },
  {
   "cell_type": "code",
   "execution_count": 16,
   "metadata": {},
   "outputs": [],
   "source": [
    "def lemmatization(tokens):\n",
    "#     for i in tokens:\n",
    "    \n",
    "    lems = [[lemmatizer.lemmatize(word) for word in sent] for sent in tokens]\n",
    "    return lems\n",
    "# tokelems = lemmatization(tokelems)\n"
   ]
  },
  {
   "cell_type": "markdown",
   "metadata": {},
   "source": [
    "# Pipeline"
   ]
  },
  {
   "cell_type": "code",
   "execution_count": 17,
   "metadata": {},
   "outputs": [],
   "source": [
    "def piped(arr):\n",
    "    arr = clean_urls(arr)\n",
    "    arr = base_clean_up(arr)\n",
    "    tokens = tokenizer(arr)\n",
    "    lems = lemmatization(tokens)\n",
    "    lst_final = []\n",
    "    for i in lems:\n",
    "        i = \" \".join(i)\n",
    "        lst_final.append(i)\n",
    "    return lst_final"
   ]
  },
  {
   "cell_type": "markdown",
   "metadata": {},
   "source": [
    "# add 'tokelems' to individual dataframes"
   ]
  },
  {
   "cell_type": "code",
   "execution_count": 740,
   "metadata": {},
   "outputs": [],
   "source": [
    "df['tokelems'] = piped(df.Text.values)"
   ]
  },
  {
   "cell_type": "code",
   "execution_count": 661,
   "metadata": {},
   "outputs": [],
   "source": [
    "df_entertainment['tokelems'] = piped(df_entertainment.Text.values)"
   ]
  },
  {
   "cell_type": "markdown",
   "metadata": {},
   "source": [
    "# predict meta: my original goal was to predict the meta, but i need to rework this entire section. scroll down to predict entertainment subreddit for the current, relevant work "
   ]
  },
  {
   "cell_type": "code",
   "execution_count": 541,
   "metadata": {},
   "outputs": [],
   "source": [
    "tfidf_vectorizer = TfidfVectorizer(max_df=0.965, min_df=.015, stop_words=new_stops)"
   ]
  },
  {
   "cell_type": "code",
   "execution_count": 741,
   "metadata": {},
   "outputs": [],
   "source": [
    "x_meta = tfidf_vectorizer.fit_transform(df['tokelems']).toarray()\n",
    "feats_meta = tfidf_vectorizer.get_feature_names()"
   ]
  },
  {
   "cell_type": "markdown",
   "metadata": {},
   "source": [
    "# Gaming"
   ]
  },
  {
   "cell_type": "code",
   "execution_count": 753,
   "metadata": {},
   "outputs": [],
   "source": [
    "y_meta_gaming = df['meta_gaming']\n",
    "X_train_gaming, X_test_gaming, y_train_gaming, y_test_gaming = train_test_split(x_meta, y_meta_gaming, test_size=0.20)"
   ]
  },
  {
   "cell_type": "code",
   "execution_count": 754,
   "metadata": {
    "scrolled": true
   },
   "outputs": [
    {
     "data": {
      "text/plain": [
       "0.8509824279517096"
      ]
     },
     "execution_count": 754,
     "metadata": {},
     "output_type": "execute_result"
    }
   ],
   "source": [
    "rfc_meta_gaming = RandomForestClassifier(n_estimators=50, max_features='log2', n_jobs = -1,  max_depth = None, oob_score=True)\n",
    "rfc_meta_gaming.fit(X_train_gaming, y_train_gaming)\n",
    "rfc_meta_gaming.oob_score_"
   ]
  },
  {
   "cell_type": "code",
   "execution_count": 743,
   "metadata": {
    "collapsed": true
   },
   "outputs": [
    {
     "data": {
      "text/plain": [
       "[(0.004821735781949641, 'job'),\n",
       " (0.004916527852914273, 'different'),\n",
       " (0.005197629893645958, 'looking'),\n",
       " (0.005675798671240562, 'else'),\n",
       " (0.005820072484920765, 'enough'),\n",
       " (0.005916655564534491, 'everyone'),\n",
       " (0.005917101647419786, 'may'),\n",
       " (0.005961421373314505, 'hard'),\n",
       " (0.00599621051269973, 'might'),\n",
       " (0.006007647242206605, 'big'),\n",
       " (0.006010326189663184, 'everything'),\n",
       " (0.006016681875743121, 'least'),\n",
       " (0.006104713968043671, 'reason'),\n",
       " (0.006106251737369379, 'fucking'),\n",
       " (0.00613422755312064, 'money'),\n",
       " (0.006262395351390746, 'long'),\n",
       " (0.006306329573052639, 'question'),\n",
       " (0.006340428164238054, 'seems'),\n",
       " (0.006412704954393561, 'anything'),\n",
       " (0.006594792737060608, 'done'),\n",
       " (0.006816220042122501, 'part'),\n",
       " (0.006881787983247647, 'place'),\n",
       " (0.006903715758037396, 'point'),\n",
       " (0.006942352935306974, 'friend'),\n",
       " (0.006952623616763545, 'idea'),\n",
       " (0.007097864833453234, 'two'),\n",
       " (0.007122975601190701, 'old'),\n",
       " (0.007190178024250177, 'another'),\n",
       " (0.007241748906244446, 'without'),\n",
       " (0.0072693272678401475, 'keep'),\n",
       " (0.007434321292649668, 'ever'),\n",
       " (0.007520243627979612, 'put'),\n",
       " (0.007693653995170958, 'problem'),\n",
       " (0.007790976603970862, 'change'),\n",
       " (0.007860181979333582, 'mean'),\n",
       " (0.008012891447281487, 'fuck'),\n",
       " (0.008128282408805221, 'anyone'),\n",
       " (0.008403629843780779, 'last'),\n",
       " (0.008414346206230806, 'help'),\n",
       " (0.008569605958787412, 'already'),\n",
       " (0.008686907195853206, 'guy'),\n",
       " (0.008721505403854338, 'probably'),\n",
       " (0.008734882754720293, 'maybe'),\n",
       " (0.008801079512067218, 'around'),\n",
       " (0.00911021595379169, 'many'),\n",
       " (0.009356711892500282, 'away'),\n",
       " (0.009523724274223795, 'look'),\n",
       " (0.009546869784887502, 'give'),\n",
       " (0.009827801906152659, 'say'),\n",
       " (0.009839683024276215, 'find'),\n",
       " (0.010038810577111512, 'gt'),\n",
       " (0.01035971940110856, 'since'),\n",
       " (0.010484882048074367, 'every'),\n",
       " (0.010544207881164657, 'made'),\n",
       " (0.010607041103333274, 'though'),\n",
       " (0.010646400080089383, 'shit'),\n",
       " (0.01102540743891437, 'actually'),\n",
       " (0.01144231293765364, 'always'),\n",
       " (0.011484379156302273, 'someone'),\n",
       " (0.011770826570243568, 'first'),\n",
       " (0.01183202574037836, 'lot'),\n",
       " (0.012041336289301445, 'something'),\n",
       " (0.012195826188272637, 'year'),\n",
       " (0.012229507673097705, 'never'),\n",
       " (0.012473255038273453, 'nice'),\n",
       " (0.01248312445231377, 'show'),\n",
       " (0.01279099716082635, 'thing'),\n",
       " (0.012847824425158009, 'much'),\n",
       " (0.012948851145507787, 'need'),\n",
       " (0.013010685324609746, 'could'),\n",
       " (0.013861190707581572, 'got'),\n",
       " (0.01479833089947388, 'back'),\n",
       " (0.014835871491652452, 'well'),\n",
       " (0.014865093109148448, 'go'),\n",
       " (0.015441570783612557, 'see'),\n",
       " (0.015977101823159166, 'still'),\n",
       " (0.017336174409186337, 'even'),\n",
       " (0.019712510339976785, 'time'),\n",
       " (0.02114358447095893, 'would'),\n",
       " (0.022095283885723096, 'get'),\n",
       " (0.06178929824540444, 'play'),\n",
       " (0.17397060603869133, 'game')]"
      ]
     },
     "execution_count": 743,
     "metadata": {},
     "output_type": "execute_result"
    }
   ],
   "source": [
    "sorted(list(zip(rfc_meta_gaming.feature_importances_, feats_meta)))"
   ]
  },
  {
   "cell_type": "code",
   "execution_count": 756,
   "metadata": {},
   "outputs": [
    {
     "name": "stdout",
     "output_type": "stream",
     "text": [
      "[0.85015678 0.84970109 0.85098171]\n"
     ]
    }
   ],
   "source": [
    "print(cross_val_score(rfc_meta_gaming, X_test_gaming, y_test_gaming, cv=3))"
   ]
  },
  {
   "cell_type": "markdown",
   "metadata": {},
   "source": [
    "### Gaming visualization"
   ]
  },
  {
   "cell_type": "code",
   "execution_count": 796,
   "metadata": {},
   "outputs": [],
   "source": [
    "from sklearn.metrics import confusion_matrix, f1_score, roc_curve, accuracy_score, precision_score, recall_score\n",
    "def plot_confusion_matrix(cm, classes,\n",
    "                          normalize=False,\n",
    "                          title='Confusion matrix',\n",
    "                          cmap=plt.cm.Blues):\n",
    "    \"\"\"\n",
    "    This function prints and plots the confusion matrix.\n",
    "    Normalization can be applied by setting `normalize=True`.\n",
    "    \"\"\"\n",
    "    if normalize:\n",
    "        cm = cm.astype('float') / cm.sum(axis=1)[:, np.newaxis]\n",
    "        print(\"Normalized confusion matrix\")\n",
    "    else:\n",
    "        print('Confusion matrix, without normalization')\n",
    "\n",
    "    print(cm)\n",
    "\n",
    "    plt.imshow(cm, interpolation='nearest', cmap=cmap)\n",
    "    plt.title(title)\n",
    "    plt.colorbar()\n",
    "    tick_marks = np.arange(len(classes))\n",
    "    plt.xticks(tick_marks, classes, rotation=45)\n",
    "    plt.yticks(tick_marks, classes)\n",
    "\n",
    "    fmt = '.2f' if normalize else 'd'\n",
    "    thresh = cm.max() / 2.\n",
    "    for i, j in itertools.product(range(cm.shape[0]), range(cm.shape[1])):\n",
    "        plt.text(j, i, format(cm[i, j], fmt),\n",
    "                 horizontalalignment=\"center\",\n",
    "                 color=\"white\" if cm[i, j] > thresh else \"black\")\n",
    "\n",
    "    plt.tight_layout()\n",
    "    plt.ylabel('True label')\n",
    "    plt.xlabel('Predicted label')\n"
   ]
  },
  {
   "cell_type": "code",
   "execution_count": 797,
   "metadata": {},
   "outputs": [
    {
     "name": "stdout",
     "output_type": "stream",
     "text": [
      "Model precision 0.9108964167787698\n",
      "Model recall 0.3424583214558295\n"
     ]
    }
   ],
   "source": [
    "# Create prediction array.\n",
    "preds_gaming = rfc_meta_gaming.predict(X_test_gaming)\n",
    "\n",
    "# Use the sklearn confusion matrix class to create a confusion matrix, call the variable \"cm\"\n",
    "# so it works with the last line of this cell\n",
    "cm = confusion_matrix(y_test_gaming, preds_gaming)\n",
    "\n",
    "#Print the accuracy_score and f1 score\n",
    "print(\"Model precision {}\".format(precision_score(y_test_gaming, preds_gaming)))\n",
    "print(\"Model recall {}\".format(recall_score(y_test_gaming, preds_gaming)))\n",
    "\n"
   ]
  },
  {
   "cell_type": "code",
   "execution_count": 793,
   "metadata": {},
   "outputs": [
    {
     "data": {
      "text/plain": [
       "array([[388930,   3643],\n",
       "       [ 71507,  37242]])"
      ]
     },
     "execution_count": 793,
     "metadata": {},
     "output_type": "execute_result"
    }
   ],
   "source": [
    "cm"
   ]
  },
  {
   "cell_type": "markdown",
   "metadata": {},
   "source": [
    "# Entertainment"
   ]
  },
  {
   "cell_type": "code",
   "execution_count": 757,
   "metadata": {},
   "outputs": [],
   "source": [
    "y_meta_ent = df['meta_entertainment']\n",
    "X_train_ent, X_test_ent, y_train_ent, y_test_ent = train_test_split(x_meta, y_meta_ent, test_size=0.20)"
   ]
  },
  {
   "cell_type": "code",
   "execution_count": 758,
   "metadata": {},
   "outputs": [
    {
     "data": {
      "text/plain": [
       "0.9010111769537228"
      ]
     },
     "execution_count": 758,
     "metadata": {},
     "output_type": "execute_result"
    }
   ],
   "source": [
    "y_meta_ent = df['meta_entertainment']\n",
    "rfc_meta_entertainment = RandomForestClassifier(n_estimators=50, max_features='log2', n_jobs = -1,  max_depth = None, oob_score=True)\n",
    "rfc_meta_entertainment.fit(X_train_ent, y_train_ent)\n",
    "rfc_meta_entertainment.oob_score_"
   ]
  },
  {
   "cell_type": "code",
   "execution_count": 745,
   "metadata": {
    "collapsed": true
   },
   "outputs": [
    {
     "data": {
      "text/plain": [
       "[(0.005930525304617422, 'problem'),\n",
       " (0.006371317020606162, 'play'),\n",
       " (0.006442130362635647, 'change'),\n",
       " (0.007017786444899626, 'job'),\n",
       " (0.0070554470629204495, 'long'),\n",
       " (0.00719647886759506, 'away'),\n",
       " (0.00728787175290564, 'money'),\n",
       " (0.00732500631930878, 'hard'),\n",
       " (0.007368499987234982, 'fuck'),\n",
       " (0.007509878888094168, 'idea'),\n",
       " (0.007761846070007444, 'may'),\n",
       " (0.007886884947200648, 'without'),\n",
       " (0.007995558511062307, 'around'),\n",
       " (0.008000182239407556, 'different'),\n",
       " (0.008119551269328382, 'place'),\n",
       " (0.008131210252243677, 'else'),\n",
       " (0.008250175905493816, 'old'),\n",
       " (0.008456029946277642, 'big'),\n",
       " (0.00856879133704029, 'mean'),\n",
       " (0.008614184749385849, 'reason'),\n",
       " (0.008691682299100856, 'question'),\n",
       " (0.008736704853308713, 'help'),\n",
       " (0.008773718916311202, 'anything'),\n",
       " (0.008777671745503902, 'least'),\n",
       " (0.00904655893590092, 'keep'),\n",
       " (0.009059598434601654, 'fucking'),\n",
       " (0.009123742411800324, 'everyone'),\n",
       " (0.009269185355861416, 'done'),\n",
       " (0.009539981164741605, 'anyone'),\n",
       " (0.0095589889543771, 'friend'),\n",
       " (0.009572746795390795, 'enough'),\n",
       " (0.009598354475103307, 'nice'),\n",
       " (0.009769265306837251, 'seems'),\n",
       " (0.009830958935137581, 'might'),\n",
       " (0.009904127826648037, 'looking'),\n",
       " (0.009926562255291635, 'put'),\n",
       " (0.009985087113924231, 'game'),\n",
       " (0.010006208427061392, 'someone'),\n",
       " (0.01025687813720282, 'maybe'),\n",
       " (0.010772583044139607, 'everything'),\n",
       " (0.010777292510414488, 'give'),\n",
       " (0.01092142900770213, 'another'),\n",
       " (0.010984246457073698, 'gt'),\n",
       " (0.011110705154790847, 'already'),\n",
       " (0.011338144517236328, 'need'),\n",
       " (0.011405487333498643, 'point'),\n",
       " (0.011453634248574287, 'look'),\n",
       " (0.011466545613426218, 'part'),\n",
       " (0.01154793645777771, 'many'),\n",
       " (0.011773290111677225, 'since'),\n",
       " (0.01178927185724044, 'shit'),\n",
       " (0.011914950827482224, 'find'),\n",
       " (0.011928940547088557, 'ever'),\n",
       " (0.01193814157362497, 'made'),\n",
       " (0.01200154503737582, 'every'),\n",
       " (0.012506563985108455, 'probably'),\n",
       " (0.012634927366867046, 'last'),\n",
       " (0.013228162987412452, 'guy'),\n",
       " (0.01342548425902077, 'always'),\n",
       " (0.013460031578268628, 'never'),\n",
       " (0.013872656105723693, 'though'),\n",
       " (0.013916634824774413, 'two'),\n",
       " (0.014183217127873057, 'actually'),\n",
       " (0.015093725489622916, 'show'),\n",
       " (0.015944383458873022, 'lot'),\n",
       " (0.01594731483165028, 'go'),\n",
       " (0.01658694151958599, 'say'),\n",
       " (0.0166925604675007, 'something'),\n",
       " (0.01692222600105549, 'year'),\n",
       " (0.017548896283444484, 'well'),\n",
       " (0.017752419484102496, 'back'),\n",
       " (0.01798249116177308, 'still'),\n",
       " (0.01925430211374091, 'got'),\n",
       " (0.020332603332548178, 'first'),\n",
       " (0.02043493158473803, 'even'),\n",
       " (0.020745415947865404, 'see'),\n",
       " (0.020882816036263328, 'thing'),\n",
       " (0.021032803832392366, 'could'),\n",
       " (0.021168015305959687, 'get'),\n",
       " (0.02221918926037369, 'much'),\n",
       " (0.03102451447128197, 'time'),\n",
       " (0.03136524730068597, 'would')]"
      ]
     },
     "execution_count": 745,
     "metadata": {},
     "output_type": "execute_result"
    }
   ],
   "source": [
    "sorted(list(zip(rfc_meta_entertainment.feature_importances_, feats_meta)))"
   ]
  },
  {
   "cell_type": "code",
   "execution_count": 784,
   "metadata": {},
   "outputs": [
    {
     "name": "stdout",
     "output_type": "stream",
     "text": [
      "[0.90195562 0.90166779 0.90127284]\n"
     ]
    }
   ],
   "source": [
    "print(cross_val_score(rfc_meta_entertainment, X_test_ent, y_test_ent, cv=3))"
   ]
  },
  {
   "cell_type": "code",
   "execution_count": 798,
   "metadata": {},
   "outputs": [
    {
     "name": "stdout",
     "output_type": "stream",
     "text": [
      "Model precision 0.9300137768155875\n",
      "Model recall 0.3316628765546478\n"
     ]
    }
   ],
   "source": [
    "# Create prediction array.\n",
    "preds_ent = rfc_meta_entertainment.predict(X_test_ent)\n",
    "\n",
    "# Use the sklearn confusion matrix class to create a confusion matrix, call the variable \"cm\"\n",
    "# so it works with the last line of this cell\n",
    "cm_ent = confusion_matrix(y_test_ent, preds_ent)\n",
    "tn, fp, fn, tp = cm\n",
    "cm_ent = np.array([tp, ])\n",
    "array([[388930,   3643],\n",
    "       [ 71507,  37242]])\n",
    "\n",
    "#Print the accuracy_score and f1 score\n",
    "print(\"Model precision {}\".format(precision_score(y_test_ent, preds_ent)))\n",
    "print(\"Model recall {}\".format(recall_score(y_test_ent, preds_ent)))\n"
   ]
  },
  {
   "cell_type": "code",
   "execution_count": null,
   "metadata": {},
   "outputs": [],
   "source": [
    "from sklearn.metrics import plot_confusion_matrix\n",
    "plot_confusion_matrix()"
   ]
  },
  {
   "cell_type": "markdown",
   "metadata": {},
   "source": [
    "# Humor"
   ]
  },
  {
   "cell_type": "code",
   "execution_count": 760,
   "metadata": {},
   "outputs": [],
   "source": [
    "y_meta_humor = df['meta_humor']\n",
    "X_train_hum, X_test_hum, y_train_hum, y_test_hum = train_test_split(x_meta, y_meta_humor, test_size=0.20)"
   ]
  },
  {
   "cell_type": "code",
   "execution_count": 761,
   "metadata": {},
   "outputs": [
    {
     "data": {
      "text/plain": [
       "0.8847411866730298"
      ]
     },
     "execution_count": 761,
     "metadata": {},
     "output_type": "execute_result"
    }
   ],
   "source": [
    "# y_meta_humor = df['meta_humor']\n",
    "rfc_meta_humor = RandomForestClassifier(n_estimators=50, max_features='log2', n_jobs = -1,  max_depth = None, oob_score=True)\n",
    "rfc_meta_humor.fit(X_train_hum, y_train_hum)\n",
    "rfc_meta_humor.oob_score_"
   ]
  },
  {
   "cell_type": "code",
   "execution_count": 747,
   "metadata": {
    "collapsed": true
   },
   "outputs": [
    {
     "data": {
      "text/plain": [
       "[(0.006096559845993284, 'problem'),\n",
       " (0.006336960679442734, 'change'),\n",
       " (0.00639269898568565, 'play'),\n",
       " (0.006775760318966552, 'job'),\n",
       " (0.007080255360804618, 'money'),\n",
       " (0.007159294522834042, 'hard'),\n",
       " (0.007303450080398889, 'away'),\n",
       " (0.007388139970983847, 'fuck'),\n",
       " (0.007633718556378671, 'idea'),\n",
       " (0.007707077976850657, 'without'),\n",
       " (0.007932302188838997, 'long'),\n",
       " (0.008021164906320643, 'around'),\n",
       " (0.00809819768239004, 'different'),\n",
       " (0.008161279587386822, 'may'),\n",
       " (0.00834842555021433, 'old'),\n",
       " (0.008443848696818938, 'else'),\n",
       " (0.008449400191289893, 'reason'),\n",
       " (0.00854939821987684, 'question'),\n",
       " (0.008600286920369267, 'place'),\n",
       " (0.008688792606695696, 'help'),\n",
       " (0.008692806454596462, 'big'),\n",
       " (0.008885328905603482, 'mean'),\n",
       " (0.008895956751250883, 'least'),\n",
       " (0.008965804581678656, 'fucking'),\n",
       " (0.008966842456210065, 'anything'),\n",
       " (0.009113084025941829, 'everyone'),\n",
       " (0.009170995123228208, 'someone'),\n",
       " (0.009379703062023839, 'keep'),\n",
       " (0.009503364496642594, 'nice'),\n",
       " (0.009530046150632097, 'done'),\n",
       " (0.009537330646865658, 'enough'),\n",
       " (0.009552526246648782, 'game'),\n",
       " (0.009589084748107558, 'anyone'),\n",
       " (0.009690712887739856, 'friend'),\n",
       " (0.009769068595291213, 'maybe'),\n",
       " (0.009829615003483689, 'seems'),\n",
       " (0.009925997628205903, 'put'),\n",
       " (0.009992667833962967, 'looking'),\n",
       " (0.010025377943391521, 'might'),\n",
       " (0.01032463207802833, 'already'),\n",
       " (0.010558108288450796, 'give'),\n",
       " (0.010704714116516004, 'need'),\n",
       " (0.010829734691933535, 'everything'),\n",
       " (0.01101129594815274, 'another'),\n",
       " (0.011199876964547445, 'gt'),\n",
       " (0.011248461827546626, 'point'),\n",
       " (0.011429397479803347, 'many'),\n",
       " (0.011615569595017436, 'since'),\n",
       " (0.01162942726107378, 'part'),\n",
       " (0.011805166924113474, 'find'),\n",
       " (0.01185413516288301, 'made'),\n",
       " (0.011922101603368297, 'every'),\n",
       " (0.011969667272940588, 'shit'),\n",
       " (0.011995969306323427, 'last'),\n",
       " (0.01203319010520896, 'look'),\n",
       " (0.012783772107417287, 'ever'),\n",
       " (0.013027528944957602, 'probably'),\n",
       " (0.01357617942906951, 'never'),\n",
       " (0.013598165306125459, 'guy'),\n",
       " (0.013627254010383675, 'two'),\n",
       " (0.013729661623008076, 'always'),\n",
       " (0.013935053211052107, 'actually'),\n",
       " (0.01426441479479943, 'though'),\n",
       " (0.015266117938754301, 'show'),\n",
       " (0.015647384341500738, 'go'),\n",
       " (0.015946302807613884, 'something'),\n",
       " (0.016198047284124113, 'year'),\n",
       " (0.016673212543378686, 'lot'),\n",
       " (0.01683513375963634, 'say'),\n",
       " (0.01706764167520539, 'well'),\n",
       " (0.01797288311893642, 'back'),\n",
       " (0.018029375323601934, 'still'),\n",
       " (0.019540248287524504, 'got'),\n",
       " (0.019630490878921807, 'see'),\n",
       " (0.01978759927488644, 'first'),\n",
       " (0.020691393404600928, 'thing'),\n",
       " (0.020727332526104324, 'even'),\n",
       " (0.021012909255681087, 'could'),\n",
       " (0.021823394851923077, 'get'),\n",
       " (0.022593132273804765, 'much'),\n",
       " (0.03075979978906406, 'time'),\n",
       " (0.030940796221970383, 'would')]"
      ]
     },
     "execution_count": 747,
     "metadata": {},
     "output_type": "execute_result"
    }
   ],
   "source": [
    "sorted(list(zip(rfc_meta_humor.feature_importances_, feats_meta)))"
   ]
  },
  {
   "cell_type": "code",
   "execution_count": 762,
   "metadata": {},
   "outputs": [
    {
     "name": "stdout",
     "output_type": "stream",
     "text": [
      "[0.88469732 0.88534891 0.88479238]\n"
     ]
    }
   ],
   "source": [
    "print(cross_val_score(rfc_meta_humor, X_test_hum, y_test_hum, cv=3))"
   ]
  },
  {
   "cell_type": "markdown",
   "metadata": {},
   "source": [
    "# Learning"
   ]
  },
  {
   "cell_type": "code",
   "execution_count": 765,
   "metadata": {},
   "outputs": [],
   "source": [
    "y_meta_learn = df['meta_learning']\n",
    "X_train_learn, X_test_learn, y_train_learn, y_test_learn = train_test_split(x_meta, y_meta_learn, test_size=0.20)"
   ]
  },
  {
   "cell_type": "code",
   "execution_count": 767,
   "metadata": {},
   "outputs": [
    {
     "data": {
      "text/plain": [
       "(2005287,)"
      ]
     },
     "execution_count": 767,
     "metadata": {},
     "output_type": "execute_result"
    }
   ],
   "source": [
    "y_train_learn.shape"
   ]
  },
  {
   "cell_type": "code",
   "execution_count": 770,
   "metadata": {},
   "outputs": [
    {
     "data": {
      "text/plain": [
       "0.9445500818586068"
      ]
     },
     "execution_count": 770,
     "metadata": {},
     "output_type": "execute_result"
    }
   ],
   "source": [
    "# y_meta_learn = df['meta_learning']\n",
    "rfc_meta_learn = RandomForestClassifier(n_estimators=50, max_features='log2', n_jobs = -1,  max_depth = None, oob_score=True)\n",
    "rfc_meta_learn.fit(X_train_learn, y_train_learn)\n",
    "rfc_meta_learn.oob_score_"
   ]
  },
  {
   "cell_type": "code",
   "execution_count": 749,
   "metadata": {
    "collapsed": true
   },
   "outputs": [
    {
     "data": {
      "text/plain": [
       "[(0.006096559845993284, 'problem'),\n",
       " (0.006336960679442734, 'change'),\n",
       " (0.00639269898568565, 'play'),\n",
       " (0.006775760318966552, 'job'),\n",
       " (0.007080255360804618, 'money'),\n",
       " (0.007159294522834042, 'hard'),\n",
       " (0.007303450080398889, 'away'),\n",
       " (0.007388139970983847, 'fuck'),\n",
       " (0.007633718556378671, 'idea'),\n",
       " (0.007707077976850657, 'without'),\n",
       " (0.007932302188838997, 'long'),\n",
       " (0.008021164906320643, 'around'),\n",
       " (0.00809819768239004, 'different'),\n",
       " (0.008161279587386822, 'may'),\n",
       " (0.00834842555021433, 'old'),\n",
       " (0.008443848696818938, 'else'),\n",
       " (0.008449400191289893, 'reason'),\n",
       " (0.00854939821987684, 'question'),\n",
       " (0.008600286920369267, 'place'),\n",
       " (0.008688792606695696, 'help'),\n",
       " (0.008692806454596462, 'big'),\n",
       " (0.008885328905603482, 'mean'),\n",
       " (0.008895956751250883, 'least'),\n",
       " (0.008965804581678656, 'fucking'),\n",
       " (0.008966842456210065, 'anything'),\n",
       " (0.009113084025941829, 'everyone'),\n",
       " (0.009170995123228208, 'someone'),\n",
       " (0.009379703062023839, 'keep'),\n",
       " (0.009503364496642594, 'nice'),\n",
       " (0.009530046150632097, 'done'),\n",
       " (0.009537330646865658, 'enough'),\n",
       " (0.009552526246648782, 'game'),\n",
       " (0.009589084748107558, 'anyone'),\n",
       " (0.009690712887739856, 'friend'),\n",
       " (0.009769068595291213, 'maybe'),\n",
       " (0.009829615003483689, 'seems'),\n",
       " (0.009925997628205903, 'put'),\n",
       " (0.009992667833962967, 'looking'),\n",
       " (0.010025377943391521, 'might'),\n",
       " (0.01032463207802833, 'already'),\n",
       " (0.010558108288450796, 'give'),\n",
       " (0.010704714116516004, 'need'),\n",
       " (0.010829734691933535, 'everything'),\n",
       " (0.01101129594815274, 'another'),\n",
       " (0.011199876964547445, 'gt'),\n",
       " (0.011248461827546626, 'point'),\n",
       " (0.011429397479803347, 'many'),\n",
       " (0.011615569595017436, 'since'),\n",
       " (0.01162942726107378, 'part'),\n",
       " (0.011805166924113474, 'find'),\n",
       " (0.01185413516288301, 'made'),\n",
       " (0.011922101603368297, 'every'),\n",
       " (0.011969667272940588, 'shit'),\n",
       " (0.011995969306323427, 'last'),\n",
       " (0.01203319010520896, 'look'),\n",
       " (0.012783772107417287, 'ever'),\n",
       " (0.013027528944957602, 'probably'),\n",
       " (0.01357617942906951, 'never'),\n",
       " (0.013598165306125459, 'guy'),\n",
       " (0.013627254010383675, 'two'),\n",
       " (0.013729661623008076, 'always'),\n",
       " (0.013935053211052107, 'actually'),\n",
       " (0.01426441479479943, 'though'),\n",
       " (0.015266117938754301, 'show'),\n",
       " (0.015647384341500738, 'go'),\n",
       " (0.015946302807613884, 'something'),\n",
       " (0.016198047284124113, 'year'),\n",
       " (0.016673212543378686, 'lot'),\n",
       " (0.01683513375963634, 'say'),\n",
       " (0.01706764167520539, 'well'),\n",
       " (0.01797288311893642, 'back'),\n",
       " (0.018029375323601934, 'still'),\n",
       " (0.019540248287524504, 'got'),\n",
       " (0.019630490878921807, 'see'),\n",
       " (0.01978759927488644, 'first'),\n",
       " (0.020691393404600928, 'thing'),\n",
       " (0.020727332526104324, 'even'),\n",
       " (0.021012909255681087, 'could'),\n",
       " (0.021823394851923077, 'get'),\n",
       " (0.022593132273804765, 'much'),\n",
       " (0.03075979978906406, 'time'),\n",
       " (0.030940796221970383, 'would')]"
      ]
     },
     "execution_count": 749,
     "metadata": {},
     "output_type": "execute_result"
    }
   ],
   "source": [
    "sorted(list(zip(rfc_meta_humor.feature_importances_, feats_meta)))"
   ]
  },
  {
   "cell_type": "code",
   "execution_count": 776,
   "metadata": {},
   "outputs": [
    {
     "name": "stdout",
     "output_type": "stream",
     "text": [
      "[0.94390454 0.94380247 0.94416751]\n"
     ]
    }
   ],
   "source": [
    "print(cross_val_score(rfc_meta_learn, X_test_learn, y_test_learn, cv=3))"
   ]
  },
  {
   "cell_type": "markdown",
   "metadata": {},
   "source": [
    "# News"
   ]
  },
  {
   "cell_type": "code",
   "execution_count": 771,
   "metadata": {},
   "outputs": [],
   "source": [
    "y_meta_news = df['meta_news']\n",
    "X_train_news, X_test_news, y_train_news, y_test_news = train_test_split(x_meta, y_meta_news, test_size=0.20)"
   ]
  },
  {
   "cell_type": "code",
   "execution_count": 772,
   "metadata": {},
   "outputs": [
    {
     "data": {
      "text/plain": [
       "0.9077194436507093"
      ]
     },
     "execution_count": 772,
     "metadata": {},
     "output_type": "execute_result"
    }
   ],
   "source": [
    "# y_meta_news = df['meta_news']\n",
    "rfc_meta_news = RandomForestClassifier(n_estimators=50, max_features='log2', n_jobs = -1,  max_depth = None, oob_score=True)\n",
    "rfc_meta_news.fit(X_train_news, y_train_news)\n",
    "rfc_meta_news.oob_score_"
   ]
  },
  {
   "cell_type": "code",
   "execution_count": 751,
   "metadata": {
    "collapsed": true
   },
   "outputs": [
    {
     "data": {
      "text/plain": [
       "[(0.0044202799958007345, 'friend'),\n",
       " (0.004947082330848768, 'looking'),\n",
       " (0.004976859074104878, 'nice'),\n",
       " (0.005011064006277879, 'play'),\n",
       " (0.0059904905527886744, 'question'),\n",
       " (0.0068191451561053365, 'different'),\n",
       " (0.006881297204158495, 'else'),\n",
       " (0.00701375961271807, 'hard'),\n",
       " (0.0076963793428480205, 'maybe'),\n",
       " (0.007702635824951783, 'done'),\n",
       " (0.007905399319956968, 'show'),\n",
       " (0.00800817621328952, 'least'),\n",
       " (0.008092876267103474, 'place'),\n",
       " (0.008268207677164352, 'old'),\n",
       " (0.008350915685344651, 'away'),\n",
       " (0.008402886364404963, 'everything'),\n",
       " (0.00858731718757263, 'last'),\n",
       " (0.008675577579811564, 'though'),\n",
       " (0.00869165024814813, 'part'),\n",
       " (0.008878726056654008, 'enough'),\n",
       " (0.008956948665876222, 'fucking'),\n",
       " (0.009005241704992836, 'look'),\n",
       " (0.009175609575318922, 'change'),\n",
       " (0.009223054551267361, 'already'),\n",
       " (0.009246168572271726, 'long'),\n",
       " (0.009259034309127221, 'made'),\n",
       " (0.009522795733815238, 'reason'),\n",
       " (0.0096398389995773, 'might'),\n",
       " (0.009646720320064783, 'fuck'),\n",
       " (0.009705379383467517, 'everyone'),\n",
       " (0.009705397822781568, 'find'),\n",
       " (0.009923858865032983, 'put'),\n",
       " (0.009958855129977458, 'help'),\n",
       " (0.010092837732676036, 'idea'),\n",
       " (0.010134431861987828, 'probably'),\n",
       " (0.010134934861474076, 'may'),\n",
       " (0.01016762006238372, 'two'),\n",
       " (0.01038320014650219, 'since'),\n",
       " (0.010497674534956982, 'without'),\n",
       " (0.010532129152472753, 'keep'),\n",
       " (0.010577674292831327, 'job'),\n",
       " (0.010620682800562163, 'shit'),\n",
       " (0.010665727629569159, 'anyone'),\n",
       " (0.010864827394063283, 'seems'),\n",
       " (0.010895391635609047, 'big'),\n",
       " (0.011082388460765806, 'game'),\n",
       " (0.011172628254102668, 'got'),\n",
       " (0.01119202817706221, 'ever'),\n",
       " (0.011217032351623055, 'problem'),\n",
       " (0.011265528848531941, 'give'),\n",
       " (0.011306495643694948, 'never'),\n",
       " (0.011358080183651557, 'always'),\n",
       " (0.011505927582776665, 'around'),\n",
       " (0.011705613409229902, 'another'),\n",
       " (0.012397735889046602, 'anything'),\n",
       " (0.012398815986479858, 'mean'),\n",
       " (0.012420927224485527, 'first'),\n",
       " (0.01258500544035809, 'lot'),\n",
       " (0.012610809682775273, 'back'),\n",
       " (0.012639565521017184, 'many'),\n",
       " (0.01316163771029175, 'point'),\n",
       " (0.013190788413701263, 'something'),\n",
       " (0.013259714382173056, 'every'),\n",
       " (0.013428416819686033, 'guy'),\n",
       " (0.013612074355397049, 'actually'),\n",
       " (0.013832923899721713, 'still'),\n",
       " (0.015238067336500936, 'someone'),\n",
       " (0.017683323243763118, 'much'),\n",
       " (0.017863437423215885, 'say'),\n",
       " (0.018051712654588874, 'need'),\n",
       " (0.0188720664500357, 'well'),\n",
       " (0.018977378040358553, 'time'),\n",
       " (0.019471475581788137, 'go'),\n",
       " (0.019631254318085472, 'year'),\n",
       " (0.01970762477942865, 'even'),\n",
       " (0.019950755312176036, 'thing'),\n",
       " (0.020126111584934377, 'see'),\n",
       " (0.022187198822558582, 'could'),\n",
       " (0.026808171662065866, 'get'),\n",
       " (0.027005435259737167, 'money'),\n",
       " (0.032497765612954095, 'would'),\n",
       " (0.034727322242523756, 'gt')]"
      ]
     },
     "execution_count": 751,
     "metadata": {},
     "output_type": "execute_result"
    }
   ],
   "source": [
    "sorted(list(zip(rfc_meta_news.feature_importances_, feats_meta)))"
   ]
  },
  {
   "cell_type": "code",
   "execution_count": 777,
   "metadata": {},
   "outputs": [
    {
     "name": "stdout",
     "output_type": "stream",
     "text": [
      "[0.90713191 0.90745451 0.90732285]\n"
     ]
    }
   ],
   "source": [
    "print(cross_val_score(rfc_meta_news, X_test_news, y_test_news, cv=3))"
   ]
  },
  {
   "cell_type": "markdown",
   "metadata": {},
   "source": [
    "# TV"
   ]
  },
  {
   "cell_type": "code",
   "execution_count": 775,
   "metadata": {},
   "outputs": [],
   "source": [
    "y_meta_tv = df['meta_television']\n",
    "X_train_tv, X_test_tv, y_train_tv, y_test_tv = train_test_split(x_meta, y_meta_tv, test_size=0.20)"
   ]
  },
  {
   "cell_type": "code",
   "execution_count": 778,
   "metadata": {
    "scrolled": true
   },
   "outputs": [
    {
     "data": {
      "text/plain": [
       "0.9224350429639249"
      ]
     },
     "execution_count": 778,
     "metadata": {},
     "output_type": "execute_result"
    }
   ],
   "source": [
    "# y_meta_tv = df['meta_television']\n",
    "rfc_meta_tv = RandomForestClassifier(n_estimators=50, max_features='log2', n_jobs = -1,  max_depth = None, oob_score=True)\n",
    "rfc_meta_tv.fit(X_train_tv, y_train_tv)\n",
    "rfc_meta_tv.oob_score_"
   ]
  },
  {
   "cell_type": "code",
   "execution_count": null,
   "metadata": {},
   "outputs": [],
   "source": [
    "sorted(list(zip(rfc_meta_tv.feature_importances_, feats_meta)))"
   ]
  },
  {
   "cell_type": "code",
   "execution_count": 779,
   "metadata": {},
   "outputs": [
    {
     "name": "stdout",
     "output_type": "stream",
     "text": [
      "[0.92307968 0.92302537 0.92257057]\n"
     ]
    }
   ],
   "source": [
    "print(cross_val_score(rfc_meta_tv, X_test_tv, y_test_tv, cv=3))"
   ]
  },
  {
   "cell_type": "markdown",
   "metadata": {},
   "source": [
    "# Lifestyle"
   ]
  },
  {
   "cell_type": "code",
   "execution_count": 781,
   "metadata": {},
   "outputs": [],
   "source": [
    "y_meta_life = df['meta_lifestyle']\n",
    "X_train_life, X_test_life, y_train_life, y_test_life = train_test_split(x_meta, y_meta_life, test_size=0.20)"
   ]
  },
  {
   "cell_type": "code",
   "execution_count": 782,
   "metadata": {},
   "outputs": [
    {
     "data": {
      "text/plain": [
       "0.9133395868022881"
      ]
     },
     "execution_count": 782,
     "metadata": {},
     "output_type": "execute_result"
    }
   ],
   "source": [
    "y_meta_life = df['meta_lifestyle']\n",
    "rfc_meta_life = RandomForestClassifier(n_estimators=50, max_features='log2', n_jobs = -1,  max_depth = None, oob_score=True)\n",
    "rfc_meta_life.fit(X_train_life, y_train_life)\n",
    "rfc_meta_life.oob_score_"
   ]
  },
  {
   "cell_type": "code",
   "execution_count": null,
   "metadata": {},
   "outputs": [],
   "source": [
    "sorted(list(zip(rfc_meta_life.feature_importances_, feats_meta)))"
   ]
  },
  {
   "cell_type": "code",
   "execution_count": 783,
   "metadata": {},
   "outputs": [
    {
     "name": "stdout",
     "output_type": "stream",
     "text": [
      "[0.91324174 0.91198454 0.91307366]\n"
     ]
    }
   ],
   "source": [
    "print(cross_val_score(rfc_meta_life, X_test_life, y_test_life, cv=3))"
   ]
  },
  {
   "cell_type": "code",
   "execution_count": null,
   "metadata": {},
   "outputs": [],
   "source": [
    "meta_model_names = ['Gaming', 'Entertainment', 'Humor', 'Learning', 'News', 'Television', 'Lifestyle']\n",
    "meta_models = [rfc_meta_gaming, rfc_meta_entertainment,rfc_meta_humor, rfc_meta_learn, rfc_meta_news, rfc_meta_tv, rfc_meta_life]"
   ]
  },
  {
   "cell_type": "markdown",
   "metadata": {},
   "source": [
    "# predict meta function: currently not working, scroll down to entertainment section\n"
   ]
  },
  {
   "cell_type": "code",
   "execution_count": null,
   "metadata": {},
   "outputs": [],
   "source": [
    "x_meta = tfidf_vectorizer.fit_transform(df['tokelems']).toarray()"
   ]
  },
  {
   "cell_type": "code",
   "execution_count": 814,
   "metadata": {},
   "outputs": [
    {
     "data": {
      "text/plain": [
       "[(array([[0.82636327, 0.17363673]]), 'Gaming'),\n",
       " (array([[0.7880882, 0.2119118]]), 'Entertainment'),\n",
       " (array([[0.88546995, 0.11453005]]), 'Humor'),\n",
       " (array([[0.90545273, 0.09454727]]), 'Learning'),\n",
       " (array([[0.90928748, 0.09071252]]), 'News'),\n",
       " (array([[0.79710595, 0.20289405]]), 'Television'),\n",
       " (array([[0.8924007, 0.1075993]]), 'Lifestyle')]"
      ]
     },
     "execution_count": 814,
     "metadata": {},
     "output_type": "execute_result"
    }
   ],
   "source": [
    "game_string = ['Gears of war and halo were my childhood. i loved playing those games on the xbox more than anything. everyday my brothers and i would play together. we beat the campaign']\n",
    "anime_strings = ['Little Witch Academia is the best anime ever written. its just like harry potter for weebs']\n",
    "politic_string = ['i am still not sure if bernie sanders is the candidate for me. clinton and other more typical democrats really tend to speak more to me than those on the far left. furthermore, i dont like the idea of socialism']\n",
    "random_string = ['Little Witch Academia is a great show. i love watching it with my family and it is so much better than harry potter ever was. when i get home to watch this anime with my family, i truly feel like it is an surreal experience. other anime and movies and cartoons cannot compare']\n",
    "def predict_meta(test_strings):\n",
    "    test_strings = clean_urls(Test_strings)\n",
    "    test_strings = base_clean_up(test_strings)\n",
    "    test_strings = tokenizer(test_strings)\n",
    "    test_strings = lemmatization(test_strings)\n",
    "    lsttest =[]\n",
    "    for i in test_strings:\n",
    "        i = \" \".join(i)\n",
    "        lsttest.append(i)\n",
    "    \n",
    "    vectors = tfidf_vectorizer.transform(lsttest).toarray()\n",
    "    meta_model_names = ['Gaming', 'Entertainment', 'Humor', 'Learning', 'News', 'Television', 'Lifestyle']\n",
    "    meta_models = [rfc_meta_gaming, rfc_meta_entertainment,rfc_meta_humor, rfc_meta_learn, rfc_meta_news, rfc_meta_tv, rfc_meta_life]    \n",
    "\n",
    "    probs = []\n",
    "    for i in meta_models:\n",
    "        probs.append(i.predict_proba(vectors))\n",
    "    return (list(zip(probs, meta_model_names)))\n",
    "predict_meta(politic_string)"
   ]
  },
  {
   "cell_type": "markdown",
   "metadata": {},
   "source": [
    "Instantiate vectorizer"
   ]
  },
  {
   "cell_type": "code",
   "execution_count": 808,
   "metadata": {},
   "outputs": [
    {
     "data": {
      "text/plain": [
       "array(['movies', 'harrypotter', 'music', 'anime', 'comicbooks',\n",
       "       'starwars'], dtype=object)"
      ]
     },
     "execution_count": 808,
     "metadata": {},
     "output_type": "execute_result"
    }
   ],
   "source": [
    "df_entertainment.Subreddit.unique()"
   ]
  },
  {
   "cell_type": "markdown",
   "metadata": {},
   "source": [
    "# Predict entertainment subreddit\n",
    "\n",
    "### Process:\n",
    "- First create the dummies dataframe for entertainment meta subreddits. \n",
    "- instantiate tfidfvectorizer\n",
    "- fit_transform tokenized data to the tfidf and put it in dense array, set equal to X_ent\n",
    "#### For each sub:\n",
    "- Train Test split data and fir model to the training data, then cross validate using f1 as scoring metric\n",
    "- confirm they work\n",
    "- get features and feature importances and plot them on barh graph to show most important words and frequencies\n",
    "- plot confusion matrix to show spread \n",
    "- create new model to fit to entire data set so that test strings can be used in function below this section"
   ]
  },
  {
   "cell_type": "markdown",
   "metadata": {},
   "source": [
    "##  Create Entertainment dataframe"
   ]
  },
  {
   "cell_type": "code",
   "execution_count": 8,
   "metadata": {},
   "outputs": [],
   "source": [
    "dummiezed = df.dropna(axis =0).lhttp://localhost:8889/notebooks/Reddit-nlp-project.ipynb#Create-Entertainment-dataframeoc[df['meta']== 'entertainment']\n",
    "dummiezed = pd.get_dummies(dummiezed,columns = ['Subreddit'])"
   ]
  },
  {
   "cell_type": "code",
   "execution_count": 25,
   "metadata": {},
   "outputs": [],
   "source": [
    "dummiezed['tokelems'] = piped(dummiezed['Text'].values)"
   ]
  },
  {
   "cell_type": "code",
   "execution_count": 26,
   "metadata": {},
   "outputs": [],
   "source": [
    "tfidf_vectorizer = TfidfVectorizer(max_df=0.95, min_df=2, stop_words=stops, max_features =200)\n",
    "X_ent = tfidf_vectorizer.fit_transform(dummiezed['tokelems']).toarray()\n",
    "feats_ent = tfidf_vectorizer.get_feature_names()"
   ]
  },
  {
   "cell_type": "code",
   "execution_count": 27,
   "metadata": {},
   "outputs": [
    {
     "data": {
      "text/plain": [
       "6597"
      ]
     },
     "execution_count": 27,
     "metadata": {},
     "output_type": "execute_result"
    }
   ],
   "source": [
    "len(tfidf_vectorizer.stop_words)"
   ]
  },
  {
   "cell_type": "markdown",
   "metadata": {},
   "source": [
    "### Anime"
   ]
  },
  {
   "cell_type": "code",
   "execution_count": 28,
   "metadata": {},
   "outputs": [],
   "source": [
    "y_anime = dummiezed['Subreddit_anime']\n",
    "X_train_anime, X_test_anime, y_train_anime, y_test_anime = train_test_split(X_ent, y_anime, test_size=0.20)"
   ]
  },
  {
   "cell_type": "code",
   "execution_count": 29,
   "metadata": {},
   "outputs": [
    {
     "name": "stdout",
     "output_type": "stream",
     "text": [
      "[0.7688618  0.77247191 0.77586379]\n"
     ]
    }
   ],
   "source": [
    "rfc_anime =RandomForestClassifier(n_estimators=50, max_features='log2', n_jobs = -1,  max_depth = None)\n",
    "rfc_anime.fit(X_train_anime, y_train_anime)\n",
    "\n",
    "print(cross_val_score(rfc_anime, X_test_anime, y_test_anime, cv=3, scoring = 'f1'))\n"
   ]
  },
  {
   "cell_type": "code",
   "execution_count": 129,
   "metadata": {},
   "outputs": [
    {
     "data": {
      "text/plain": [
       "0.7723991666666666"
      ]
     },
     "execution_count": 129,
     "metadata": {},
     "output_type": "execute_result"
    }
   ],
   "source": [
    "Anime_f1= np.mean([0.7688618,  0.77247191, 0.77586379])\n",
    "Anime_f1\n"
   ]
  },
  {
   "cell_type": "code",
   "execution_count": 71,
   "metadata": {},
   "outputs": [
    {
     "data": {
      "text/plain": [
       "[(0.044308823225318504, 'show'),\n",
       " (0.024569896434240922, 'season'),\n",
       " (0.023385853072572158, 'girl'),\n",
       " (0.0233613269966063, 'movie'),\n",
       " (0.014266999109671517, 'time'),\n",
       " (0.013412971100886644, 'watching'),\n",
       " (0.01293944425288597, 'see'),\n",
       " (0.012651010964462386, 'series'),\n",
       " (0.011583883518789856, 'got'),\n",
       " (0.010700263746065967, 'watched'),\n",
       " (0.01066329951941429, 'watch'),\n",
       " (0.01032271187450592, 'something'),\n",
       " (0.010007306043241643, 'first'),\n",
       " (0.009735876132053636, 'book'),\n",
       " (0.009314228122412269, 'even'),\n",
       " (0.009267756568126386, 'action'),\n",
       " (0.009196602865590198, 'well'),\n",
       " (0.009191386889719898, 'spoiler'),\n",
       " (0.009025051101305108, 'school'),\n",
       " (0.008872909512613481, 'still'),\n",
       " (0.008848530825982307, 'much'),\n",
       " (0.0087819605733153, 'though'),\n",
       " (0.008498800108066685, 'thing'),\n",
       " (0.008473226541527469, 'guy'),\n",
       " (0.008206313305096979, 'never'),\n",
       " (0.008161946786206173, 'actually'),\n",
       " (0.008050649517483289, 'stand'),\n",
       " (0.007823248524819028, 'lot'),\n",
       " (0.00782261543715926, 'favorite'),\n",
       " (0.007707708528008974, 'shit'),\n",
       " (0.007676668268841902, 'made'),\n",
       " (0.007486227894918337, 'could'),\n",
       " (0.007439892720952005, 'guess'),\n",
       " (0.007422675391420472, 'say'),\n",
       " (0.007175871354941637, 'nice'),\n",
       " (0.00716096795697462, 'year'),\n",
       " (0.00708242553095627, 'already'),\n",
       " (0.007031670359749661, 'always'),\n",
       " (0.006789935973225022, 'reason'),\n",
       " (0.006675829584275024, 'go'),\n",
       " (0.006671750957388367, 'gt'),\n",
       " (0.006555397711240271, 'another'),\n",
       " (0.00643460922048383, 'might'),\n",
       " (0.006312120699514367, 'last'),\n",
       " (0.006192282253903225, 'every'),\n",
       " (0.00617272623037261, 'need'),\n",
       " (0.0061430747784361975, 'deadpool'),\n",
       " (0.0060427593750776686, 'friend'),\n",
       " (0.006021786780890283, 'hope'),\n",
       " (0.006020673147417359, 'back'),\n",
       " (0.006000041817270818, 'comic'),\n",
       " (0.0058919754289625086, 'gon'),\n",
       " (0.005819877598684412, 'star'),\n",
       " (0.005633537708320833, 'story'),\n",
       " (0.005620371772505002, 'harry'),\n",
       " (0.005599950593403058, 'ever'),\n",
       " (0.005403674756008986, 'looking'),\n",
       " (0.005402375891424946, 'probably'),\n",
       " (0.005359634278876201, 'point'),\n",
       " (0.005186450739030168, 'anyone'),\n",
       " (0.0050141001040355, 'next'),\n",
       " (0.004953464381655617, 'look'),\n",
       " (0.004949607488104722, 'kill'),\n",
       " (0.004945141926934312, 'find'),\n",
       " (0.004940531784398068, 'real'),\n",
       " (0.004939874610058122, 'thanks'),\n",
       " (0.004862683718569333, 'enough'),\n",
       " (0.004841248912907039, 'death'),\n",
       " (0.004840925986512018, 'album'),\n",
       " (0.004829540319567057, 'part'),\n",
       " (0.004800356787361547, 'fucking'),\n",
       " (0.004796145996921708, 'two'),\n",
       " (0.004793231485640741, 'thread'),\n",
       " (0.00479076261941028, 'list'),\n",
       " (0.00469489415430166, 'least'),\n",
       " (0.004683332463380455, 'keep'),\n",
       " (0.004683132619276625, 'luke'),\n",
       " (0.004675977127465401, 'kanye'),\n",
       " (0.0046304234383789614, 'enjoy'),\n",
       " (0.0046189379491931234, 'maybe'),\n",
       " (0.004616471288803929, 'song'),\n",
       " (0.004576096670372665, 'someone'),\n",
       " (0.0045673886872305254, 'mean'),\n",
       " (0.004444556421484151, 'fight'),\n",
       " (0.0044362221211533565, 'old'),\n",
       " (0.004373547931329034, 'issue'),\n",
       " (0.004343776842954053, 'interesting'),\n",
       " (0.004277296158790867, 'many'),\n",
       " (0.004253034789660718, 'everyone'),\n",
       " (0.004252353351533722, 'mind'),\n",
       " (0.004233640998732049, 'quite'),\n",
       " (0.004224789971320791, 'job'),\n",
       " (0.004205312790156584, 'around'),\n",
       " (0.004134796250358308, 'moment'),\n",
       " (0.004131362164859275, 'art'),\n",
       " (0.004126157068103459, 'fuck'),\n",
       " (0.004113043827511471, 'liked'),\n",
       " (0.004095267766289297, 'almost'),\n",
       " (0.004027628854694334, 'since'),\n",
       " (0.0039015431034188793, 'loved'),\n",
       " (0.0038798536190545337, 'top'),\n",
       " (0.0038071803994852234, 'especially'),\n",
       " (0.003806315930522477, 'original'),\n",
       " (0.00376799327705289, 'done'),\n",
       " (0.003672752871173444, 'fan'),\n",
       " (0.003628892916525384, 'version'),\n",
       " (0.0036065996755483953, 'play'),\n",
       " (0.0035937980859231363, 'eye'),\n",
       " (0.003586236510243558, 'give'),\n",
       " (0.00357733486331635, 'everything'),\n",
       " (0.0035652095465746212, 'link'),\n",
       " (0.0035585010900716792, 'else'),\n",
       " (0.0035088046461670573, 'second'),\n",
       " (0.0034157782744540536, 'trying'),\n",
       " (0.0034127987919204505, 'without'),\n",
       " (0.0034068083646847276, 'place'),\n",
       " (0.0033917927506644584, 'sound'),\n",
       " (0.0033746051246282527, 'question'),\n",
       " (0.003361718865689488, 'definitely'),\n",
       " (0.003345043361229519, 'white'),\n",
       " (0.003342883315633258, 'game'),\n",
       " (0.0032918181464536454, 'super'),\n",
       " (0.0032863106263908743, 'hate'),\n",
       " (0.0032801827537084845, 'please'),\n",
       " (0.003262435966071377, 'force'),\n",
       " (0.0032503150134243343, 'whole'),\n",
       " (0.003243120492298611, 'lost'),\n",
       " (0.0032147505095537943, 'total'),\n",
       " (0.003212116075318488, 'long'),\n",
       " (0.0032065048476443868, 'either'),\n",
       " (0.0031033405996130446, 'seeing'),\n",
       " (0.0031014342102366225, 'american'),\n",
       " (0.00308984543587597, 'change'),\n",
       " (0.0030614620802151093, 'idea'),\n",
       " (0.0030303465961718174, 'ending'),\n",
       " (0.002998254866308513, 'nothing'),\n",
       " (0.002970522195332135, 'god'),\n",
       " (0.0029516405798509014, 'seems'),\n",
       " (0.002867698920874497, 'tidal'),\n",
       " (0.0028422392454560148, 'reading'),\n",
       " (0.0028347895089130414, 'batman'),\n",
       " (0.0028217865380596708, 'theater'),\n",
       " (0.0027828131591421364, 'instead'),\n",
       " (0.002774760019032661, 'black'),\n",
       " (0.0027366947375149376, 'absolutely'),\n",
       " (0.002725997800172854, 'may'),\n",
       " (0.0027212113978364707, 'anything'),\n",
       " (0.0027019409006075784, 'shot'),\n",
       " (0.002696583657536034, 'head'),\n",
       " (0.002696462325991554, 'found'),\n",
       " (0.0026712829493043787, 'james'),\n",
       " (0.002659593801831201, 'listen'),\n",
       " (0.0026590837108969355, 'yet'),\n",
       " (0.0026545969895780575, 'money'),\n",
       " (0.0026423378129514998, 'dead'),\n",
       " (0.0026056491423610603, 'fantastic'),\n",
       " (0.0025618651055939277, 'big'),\n",
       " (0.0025590228458450344, 'dark'),\n",
       " (0.002535298698938907, 'together'),\n",
       " (0.0025193415483310356, 'put'),\n",
       " (0.0025068529112548797, 'able'),\n",
       " (0.0024978431039961377, 'hear'),\n",
       " (0.0024816681993156306, 'run'),\n",
       " (0.002419354945128522, 'jedi'),\n",
       " (0.0023707994901473223, 'hand'),\n",
       " (0.0023581620612974506, 'different'),\n",
       " (0.0023481930575621236, 'voice'),\n",
       " (0.0023418157868291514, 'high'),\n",
       " (0.002328915285337258, 'came'),\n",
       " (0.002300680628875991, 'believe'),\n",
       " (0.002226201658866891, 'power'),\n",
       " (0.0021724721956011424, 'family'),\n",
       " (0.0021680240358449656, 'huge'),\n",
       " (0.0021418186010365285, 'side'),\n",
       " (0.0021265443222264545, 'talk'),\n",
       " (0.002104658260986833, 'kid'),\n",
       " (0.001981341857515303, 'alien'),\n",
       " (0.001923052755600803, 'fact'),\n",
       " (0.0018982603396656107, 'help'),\n",
       " (0.0018578731768698375, 'title'),\n",
       " (0.0018561286933480837, 'artist'),\n",
       " (0.00184144515635961, 'away'),\n",
       " (0.0017972127159669488, 'making'),\n",
       " (0.0017680924261198314, 'house'),\n",
       " (0.0017562108851847333, 'hard'),\n",
       " (0.0017408181354799694, 'happy'),\n",
       " (0.0017050989613670966, 'felt'),\n",
       " (0.001595113875958855, 'order'),\n",
       " (0.001577497343071818, 'month'),\n",
       " (0.0014416285002163362, 'person'),\n",
       " (0.0013287878736472187, 'line'),\n",
       " (0.001283912008388437, 'three'),\n",
       " (0.001246895282280804, 'band'),\n",
       " (0.0012158476765930745, 'dumbledore'),\n",
       " (0.0011371782028221657, 'rey'),\n",
       " (0.0010837844747447456, 'track'),\n",
       " (0.0008313660662438469, 'snape'),\n",
       " (0.0007683225179150295, 'voldemort'),\n",
       " (0.0005744690529846624, 'winner'),\n",
       " (0.000260864479102983, 'nomination')]"
      ]
     },
     "execution_count": 71,
     "metadata": {},
     "output_type": "execute_result"
    }
   ],
   "source": [
    "anilist = sorted(list(zip(rfc_anime.feature_importances_, feats_ent)),reverse = True)\n",
    "anilist"
   ]
  },
  {
   "cell_type": "code",
   "execution_count": 148,
   "metadata": {},
   "outputs": [
    {
     "data": {
      "text/plain": [
       "Text(0.5, 0, 'Term Frequency - Inverse Document Frequency')"
      ]
     },
     "execution_count": 148,
     "metadata": {},
     "output_type": "execute_result"
    },
    {
     "data": {
      "image/png": "[encoded data removed]",
      "text/plain": [
       "<Figure size 1440x720 with 1 Axes>"
      ]
     },
     "metadata": {},
     "output_type": "display_data"
    }
   ],
   "source": [
    "anilist = sorted(list(zip(rfc_anime.feature_importances_, feats_ent)),reverse = True)\n",
    "lstfeats_ani = []\n",
    "lst_vals_ani = []\n",
    "for i in anilist:\n",
    "    lst_vals_ani.append(i[0])\n",
    "    lstfeats_ani.append(i[1])\n",
    "    if len(lstfeats_ani) == 15:\n",
    "        break\n",
    "fig, ax = plt.subplots(figsize = (20,10))\n",
    "plt.barh(lstfeats_ani, lst_vals_ani ) \n",
    "plt.xticks(rotation=90, fontsize = 12)\n",
    "ax.set_title(\"Most Common Words for r/Anime\")\n",
    "ax.set_ylabel('Words')\n",
    "ax.set_xlabel('Term Frequency - Inverse Document Frequency')\n"
   ]
  },
  {
   "cell_type": "code",
   "execution_count": 121,
   "metadata": {},
   "outputs": [
    {
     "name": "stdout",
     "output_type": "stream",
     "text": [
      "My recall for the anime model is 0.6475493533015657 and my precision is 0.9556299706990372\n"
     ]
    },
    {
     "data": {
      "image/png": "[encoded data removed]",
      "text/plain": [
       "<Figure size 576x396 with 2 Axes>"
      ]
     },
     "metadata": {},
     "output_type": "display_data"
    }
   ],
   "source": [
    "import itertools\n",
    "pred_ani = rfc_anime_full.predict(X_test_anime)\n",
    "cm = confusion_matrix(y_test_anime, pred_ani)\n",
    "# tn, fp, fn, tp = cm\n",
    "\n",
    "plot_confusion_matrix(rfc_anime_full, X_test_anime, pred_ani, labels = [1,0],normalize = 'all', cmap = \"OrRd\")\n",
    "tn, fp, fn, tp = cm.ravel()\n",
    "recall = tp/(tp+fn)\n",
    "precision = tp/(tp+fp)\n",
    "\n",
    "print(f'My recall for the anime model is {recall} and my precision is {precision}')"
   ]
  },
  {
   "cell_type": "code",
   "execution_count": 828,
   "metadata": {
    "collapsed": true
   },
   "outputs": [
    {
     "data": {
      "text/plain": [
       "[(0.0019259397482239524, 'would'),\n",
       " (0.001936017634228288, 'least'),\n",
       " (0.002470192397232392, 'watch'),\n",
       " (0.002532240486803361, 'ever'),\n",
       " (0.002547761063435647, 'series'),\n",
       " (0.0025504744281263474, 'first'),\n",
       " (0.0025610307061039116, 'without'),\n",
       " (0.0026262961771151934, 'favorite'),\n",
       " (0.002656172822848171, 'watched'),\n",
       " (0.0026658907350136356, 'show'),\n",
       " (0.0027046193951050183, 'nice'),\n",
       " (0.0027279573921246626, 'dark'),\n",
       " (0.0027356562358888544, 'movie'),\n",
       " (0.002737399811209283, 'find'),\n",
       " (0.002776696475035548, 'though'),\n",
       " (0.0027795679941952202, 'kid'),\n",
       " (0.002817705283690343, 'friend'),\n",
       " (0.0028571892663975273, 'story'),\n",
       " (0.002857867868980416, 'around'),\n",
       " (0.002896965776452426, 'big'),\n",
       " (0.0029352875519486144, 'death'),\n",
       " (0.002986692922835178, 'deadpool'),\n",
       " (0.0030444346908095987, 'fan'),\n",
       " (0.003066157556095549, 'seems'),\n",
       " (0.003191121946110235, 'real'),\n",
       " (0.003203857522168424, 'issue'),\n",
       " (0.0032107977325530157, 'next'),\n",
       " (0.003226640623959252, 'keep'),\n",
       " (0.0032403919811429495, 'go'),\n",
       " (0.003280296560173956, 'give'),\n",
       " (0.003334043511221811, 'back'),\n",
       " (0.003344040054075968, 'watching'),\n",
       " (0.0033779041573571028, 'could'),\n",
       " (0.003440165742102539, 'enough'),\n",
       " (0.003476377208557049, 'place'),\n",
       " (0.0034767526980012033, 'never'),\n",
       " (0.003488323809379112, 'gt'),\n",
       " (0.0034988433528484546, 'yet'),\n",
       " (0.0035028351025605366, 'harry'),\n",
       " (0.003625581366789881, 'girl'),\n",
       " (0.0036261222880620975, 'since'),\n",
       " (0.0036721059648417453, 'need'),\n",
       " (0.003674492246467849, 'year'),\n",
       " (0.0036744935748827135, 'shit'),\n",
       " (0.0037098840087680805, 'got'),\n",
       " (0.003718177859698454, 'book'),\n",
       " (0.0037548406042848294, 'put'),\n",
       " (0.0037651470315630165, 'old'),\n",
       " (0.0038782374344869595, 'probably'),\n",
       " (0.003931153308531876, 'much'),\n",
       " (0.00406972588346562, 'character'),\n",
       " (0.004115801290632489, 'everything'),\n",
       " (0.004139714421788078, 'time'),\n",
       " (0.0041899010927428735, 'point'),\n",
       " (0.004271202143804253, 'part'),\n",
       " (0.004283153720820407, 'whole'),\n",
       " (0.004298032650509297, 'trying'),\n",
       " (0.004404415597838648, 'another'),\n",
       " (0.004461568468431608, 'game'),\n",
       " (0.0045232446572152476, 'song'),\n",
       " (0.00458839470793433, 'actually'),\n",
       " (0.004628485124277869, 'might'),\n",
       " (0.004730043848709367, 'long'),\n",
       " (0.004748255266318711, 'black'),\n",
       " (0.004811626997092016, 'anything'),\n",
       " (0.004846641059853688, 'look'),\n",
       " (0.004902701084723804, 'album'),\n",
       " (0.0049088204390199145, 'everyone'),\n",
       " (0.004912848616655363, 'star'),\n",
       " (0.0049231988519167665, 'else'),\n",
       " (0.00501870022829196, 'top'),\n",
       " (0.0050767413427233905, 'every'),\n",
       " (0.005142150195065099, 'get'),\n",
       " (0.005145351108172364, 'please'),\n",
       " (0.0052684043827842635, 'thing'),\n",
       " (0.005314334096133054, 'already'),\n",
       " (0.00545269257226608, 'reason'),\n",
       " (0.005496662029219564, 'maybe'),\n",
       " (0.005574534223336846, 'interesting'),\n",
       " (0.005621465572844211, 'kanye'),\n",
       " (0.005843437154372234, 'made'),\n",
       " (0.005908996768911512, 'two'),\n",
       " (0.005938679524121769, 'guess'),\n",
       " (0.005982511158379964, 'always'),\n",
       " (0.00606858260119942, 'mean'),\n",
       " (0.006163108303783883, 'still'),\n",
       " (0.006189049492575626, 'even'),\n",
       " (0.00648730867966694, 'looking'),\n",
       " (0.006646063054144312, 'may'),\n",
       " (0.006761702305771781, 'sound'),\n",
       " (0.006803632826566249, 'second'),\n",
       " (0.00709468774595003, 'well'),\n",
       " (0.007216188647826742, 'question'),\n",
       " (0.007342213448976484, 'something'),\n",
       " (0.0073628644287902665, 'fucking'),\n",
       " (0.00783871899636334, 'see'),\n",
       " (0.007882954283106473, 'hope'),\n",
       " (0.008349778232678436, 'definitely'),\n",
       " (0.008453888577278435, 'nothing'),\n",
       " (0.008814221802434068, 'guy'),\n",
       " (0.009056416094384996, 'say'),\n",
       " (0.009944317728938947, 'comic'),\n",
       " (0.012075057671498022, 'lot'),\n",
       " (0.012666571686352372, 'many'),\n",
       " (0.013281571151639106, 'last'),\n",
       " (0.01745773790031401, 'list'),\n",
       " (0.021516557296430473, 'done'),\n",
       " (0.02379882239363364, 'someone'),\n",
       " (0.044111812505805884, 'fuck'),\n",
       " (0.11888892261193763, 'anyone')]"
      ]
     },
     "execution_count": 828,
     "metadata": {},
     "output_type": "execute_result"
    }
   ],
   "source": [
    "sorted(list(zip(rfc_Anime.feature_importances_, feats_ent)))"
   ]
  },
  {
   "cell_type": "code",
   "execution_count": 30,
   "metadata": {},
   "outputs": [
    {
     "data": {
      "text/plain": [
       "True"
      ]
     },
     "execution_count": 30,
     "metadata": {},
     "output_type": "execute_result"
    }
   ],
   "source": [
    "rfc_anime_full =RandomForestClassifier(n_estimators=50, max_features='sqrt', n_jobs = -1,  max_depth = None, oob_score=True)\n",
    "rfc_anime_full.fit(X_ent, y_anime)\n",
    "rfc_anime_full.oob_score"
   ]
  },
  {
   "cell_type": "markdown",
   "metadata": {},
   "source": [
    "### Movies"
   ]
  },
  {
   "cell_type": "code",
   "execution_count": 31,
   "metadata": {},
   "outputs": [],
   "source": [
    "y_mov = dummiezed['Subreddit_movies']\n",
    "X_train_mov, X_test_mov, y_train_mov, y_test_mov = train_test_split(X_ent, y_mov, test_size=0.20)"
   ]
  },
  {
   "cell_type": "code",
   "execution_count": 32,
   "metadata": {},
   "outputs": [
    {
     "name": "stdout",
     "output_type": "stream",
     "text": [
      "[0.78278537 0.77638145 0.77492771]\n"
     ]
    }
   ],
   "source": [
    "rfc_movies =RandomForestClassifier(n_estimators=50, max_features='log2', n_jobs = -1,  max_depth = None)\n",
    "rfc_movies.fit(X_train_mov, y_train_mov)\n",
    "print(cross_val_score(rfc_movies, X_test_mov, y_test_mov, cv=3, scoring = 'f1'))\n"
   ]
  },
  {
   "cell_type": "code",
   "execution_count": 131,
   "metadata": {},
   "outputs": [
    {
     "data": {
      "text/plain": [
       "0.77803151"
      ]
     },
     "execution_count": 131,
     "metadata": {},
     "output_type": "execute_result"
    }
   ],
   "source": [
    "f1_movies = np.mean([0.78278537, 0.77638145, 0.77492771])\n",
    "f1_movies"
   ]
  },
  {
   "cell_type": "code",
   "execution_count": 33,
   "metadata": {
    "scrolled": true
   },
   "outputs": [
    {
     "data": {
      "text/plain": [
       "[(0.0006270192415902626, 'track'),\n",
       " (0.0006731214670068758, 'voldemort'),\n",
       " (0.000739051332079136, 'winner'),\n",
       " (0.0010582221715085061, 'snape'),\n",
       " (0.0011211848569157542, 'nomination'),\n",
       " (0.0011651256603750911, 'dumbledore'),\n",
       " (0.0011905911734201623, 'band'),\n",
       " (0.0014150276701561956, 'voice'),\n",
       " (0.0014523147288068596, 'run'),\n",
       " (0.0015600651903448308, 'rey'),\n",
       " (0.0016631967486020042, 'huge'),\n",
       " (0.0016763777982950875, 'talk'),\n",
       " (0.0017466881555592317, 'fuck'),\n",
       " (0.0018520447737331623, 'batman'),\n",
       " (0.0019138588495220385, 'making'),\n",
       " (0.0019464029402634889, 'reading'),\n",
       " (0.0019707113345557806, 'eye'),\n",
       " (0.0020064438410151357, 'listen'),\n",
       " (0.0020588177659483812, 'together'),\n",
       " (0.0020781423271932077, 'thread'),\n",
       " (0.0020980772970996876, 'girl'),\n",
       " (0.002101703944662561, 'james'),\n",
       " (0.0021063472348166455, 'person'),\n",
       " (0.0021120440450882573, 'white'),\n",
       " (0.002124102263620038, 'family'),\n",
       " (0.0021490603185562, 'stand'),\n",
       " (0.0021668160143422308, 'house'),\n",
       " (0.002183630691974118, 'able'),\n",
       " (0.002188631731756674, 'instead'),\n",
       " (0.002237785976223672, 'especially'),\n",
       " (0.0022742793093874533, 'head'),\n",
       " (0.0023206767571692316, 'hate'),\n",
       " (0.0023271568837583607, 'school'),\n",
       " (0.002347263190993802, 'title'),\n",
       " (0.0023512806401402293, 'line'),\n",
       " (0.0023595183003406405, 'else'),\n",
       " (0.0023601112227350546, 'happy'),\n",
       " (0.0023889334486445835, 'high'),\n",
       " (0.0024133946206499547, 'artist'),\n",
       " (0.0024188103767035264, 'question'),\n",
       " (0.0024388894738936392, 'thanks'),\n",
       " (0.0024498586881757157, 'job'),\n",
       " (0.0024505427550432445, 'month'),\n",
       " (0.0024622020262200033, 'hand'),\n",
       " (0.0024690312356174253, 'side'),\n",
       " (0.002497129668910796, 'order'),\n",
       " (0.002543717958551633, 'found'),\n",
       " (0.0025662488581531485, 'version'),\n",
       " (0.0025684542110453058, 'came'),\n",
       " (0.0026273059958215844, 'almost'),\n",
       " (0.0026341350994690802, 'different'),\n",
       " (0.0026826714473629997, 'either'),\n",
       " (0.002689039855088429, 'fact'),\n",
       " (0.0026977989146053424, 'enjoy'),\n",
       " (0.0027086688316554208, 'felt'),\n",
       " (0.0027227635467592416, 'without'),\n",
       " (0.002742401911291556, 'old'),\n",
       " (0.002760564363237062, 'trying'),\n",
       " (0.0028120819590922784, 'tidal'),\n",
       " (0.002817483106152563, 'lost'),\n",
       " (0.0028547193643147185, 'super'),\n",
       " (0.002868727589841336, 'guess'),\n",
       " (0.0028771893930394786, 'absolutely'),\n",
       " (0.0029002610998341083, 'idea'),\n",
       " (0.0029055173715578893, 'everything'),\n",
       " (0.002927884510939703, 'away'),\n",
       " (0.0029300973338894877, 'quite'),\n",
       " (0.0029354783783841513, 'believe'),\n",
       " (0.002937425406513194, 'jedi'),\n",
       " (0.0029482704042722973, 'hear'),\n",
       " (0.002948783799163367, 'god'),\n",
       " (0.0029634263230173207, 'give'),\n",
       " (0.0030076445703917155, 'link'),\n",
       " (0.00302772882982818, 'help'),\n",
       " (0.003034233659529623, 'moment'),\n",
       " (0.003051864869673282, 'black'),\n",
       " (0.0031193551209545696, 'mean'),\n",
       " (0.0031493661029093757, 'interesting'),\n",
       " (0.0031576865457663295, 'original'),\n",
       " (0.0031809070423537045, 'money'),\n",
       " (0.003265738968489903, 'harry'),\n",
       " (0.0032704997747443733, 'action'),\n",
       " (0.003273862502373276, 'whole'),\n",
       " (0.0032860153498738176, 'around'),\n",
       " (0.0032946934876042877, 'may'),\n",
       " (0.003306888107064502, 'seems'),\n",
       " (0.0033143840051931407, 'liked'),\n",
       " (0.003319301697393429, 'since'),\n",
       " (0.003343320062339619, 'anything'),\n",
       " (0.0033605428713958997, 'art'),\n",
       " (0.003368677120493161, 'fan'),\n",
       " (0.0034019517176312225, 'put'),\n",
       " (0.0034096816309867077, 'power'),\n",
       " (0.003416789069432479, 'fantastic'),\n",
       " (0.0034169905724045413, 'kill'),\n",
       " (0.003440499564122122, 'mind'),\n",
       " (0.0034488752218683268, 'everyone'),\n",
       " (0.0034611567019107487, 'enough'),\n",
       " (0.003493594780330787, 'place'),\n",
       " (0.0034992127479228953, 'another'),\n",
       " (0.003520568613932066, 'gon'),\n",
       " (0.0035285618428900086, 'gt'),\n",
       " (0.003547417478989113, 'luke'),\n",
       " (0.0035615613825612878, 'find'),\n",
       " (0.003611188977818156, 'spoiler'),\n",
       " (0.0036278238456175504, 'change'),\n",
       " (0.0036833529455018365, 'sound'),\n",
       " (0.0036893550050136254, 'someone'),\n",
       " (0.003691440582774044, 'play'),\n",
       " (0.003708203778247004, 'three'),\n",
       " (0.0037111531806305375, 'yet'),\n",
       " (0.003801417373675024, 'fight'),\n",
       " (0.003805546453401417, 'might'),\n",
       " (0.0038347993753144534, 'hard'),\n",
       " (0.0038543020355383127, 'hope'),\n",
       " (0.0038839130114717785, 'reason'),\n",
       " (0.003927801066766565, 'please'),\n",
       " (0.00398213279530532, 'real'),\n",
       " (0.0039975488784412426, 'friend'),\n",
       " (0.004013116249238179, 'nothing'),\n",
       " (0.004047725443324685, 'keep'),\n",
       " (0.004096594121511005, 'probably'),\n",
       " (0.004148134042768802, 'looking'),\n",
       " (0.004209488575755192, 'death'),\n",
       " (0.004252206228798693, 'season'),\n",
       " (0.004272563938706622, 'done'),\n",
       " (0.004278550649631941, 'least'),\n",
       " (0.004294336500147575, 'big'),\n",
       " (0.004391530621710458, 'long'),\n",
       " (0.004409190109822971, 'many'),\n",
       " (0.004416135726872159, 'definitely'),\n",
       " (0.004426916003142139, 'nice'),\n",
       " (0.004549376351000197, 'watched'),\n",
       " (0.004603473211961108, 'watching'),\n",
       " (0.004680248606821174, 'favorite'),\n",
       " (0.004701881907129221, 'look'),\n",
       " (0.004713405226752415, 'top'),\n",
       " (0.004714983948468508, 'point'),\n",
       " (0.004718512603106962, 'anyone'),\n",
       " (0.004783428845363286, 'shot'),\n",
       " (0.004784693751385875, 'second'),\n",
       " (0.004840505793361266, 'seeing'),\n",
       " (0.004895993782770416, 'fucking'),\n",
       " (0.004951466705395548, 'already'),\n",
       " (0.005046238537315141, 'need'),\n",
       " (0.005233266098964148, 'maybe'),\n",
       " (0.005269972541585152, 'kanye'),\n",
       " (0.0052794413410204065, 'last'),\n",
       " (0.005336476737890915, 'two'),\n",
       " (0.0053717192429781555, 'issue'),\n",
       " (0.005410060880717414, 'force'),\n",
       " (0.005543251376786652, 'actually'),\n",
       " (0.005598281957722633, 'ending'),\n",
       " (0.0056820005103234315, 'every'),\n",
       " (0.005801448277702357, 'kid'),\n",
       " (0.005888560196555212, 'shit'),\n",
       " (0.005922484053261975, 'song'),\n",
       " (0.005984035274418887, 'though'),\n",
       " (0.006028144936707853, 'album'),\n",
       " (0.006067222221388303, 'guy'),\n",
       " (0.006125320628396522, 'never'),\n",
       " (0.006138123687689341, 'loved'),\n",
       " (0.006219924929146022, 'ever'),\n",
       " (0.00624607979113524, 'say'),\n",
       " (0.006416409530258979, 'always'),\n",
       " (0.006761619378048092, 'made'),\n",
       " (0.006846594662550486, 'part'),\n",
       " (0.006875211913357682, 'next'),\n",
       " (0.006896417296385695, 'thing'),\n",
       " (0.006925206753944917, 'comic'),\n",
       " (0.006949228625423084, 'story'),\n",
       " (0.007065313873434195, 'american'),\n",
       " (0.007103463478695252, 'book'),\n",
       " (0.007171464995182707, 'back'),\n",
       " (0.007292169945735807, 'dead'),\n",
       " (0.007588388599649329, 'got'),\n",
       " (0.007609916504057234, 'still'),\n",
       " (0.007632251655274372, 'lot'),\n",
       " (0.007636781175497051, 'show'),\n",
       " (0.007652897599227478, 'series'),\n",
       " (0.007853092323263939, 'something'),\n",
       " (0.00800573288811432, 'go'),\n",
       " (0.008076081299389552, 'dark'),\n",
       " (0.008162955863484825, 'even'),\n",
       " (0.008649329199068278, 'alien'),\n",
       " (0.008697227740566398, 'well'),\n",
       " (0.008879643851183103, 'year'),\n",
       " (0.009158730048546086, 'list'),\n",
       " (0.00971009565390741, 'could'),\n",
       " (0.0097788846457806, 'first'),\n",
       " (0.009947346477290257, 'star'),\n",
       " (0.010608372856325926, 'deadpool'),\n",
       " (0.010781992754172486, 'game'),\n",
       " (0.011304109186802499, 'much'),\n",
       " (0.011382253592741174, 'watch'),\n",
       " (0.013950644519326285, 'see'),\n",
       " (0.01508528173931995, 'theater'),\n",
       " (0.025251377004809065, 'time'),\n",
       " (0.028216377867585133, 'total'),\n",
       " (0.11031826783960921, 'movie')]"
      ]
     },
     "execution_count": 33,
     "metadata": {},
     "output_type": "execute_result"
    }
   ],
   "source": [
    "sorted(list(zip(rfc_movies.feature_importances_, feats_ent)))"
   ]
  },
  {
   "cell_type": "code",
   "execution_count": 150,
   "metadata": {},
   "outputs": [
    {
     "data": {
      "text/plain": [
       "Text(0.5, 0, 'Term Frequency - Inverse Document Frequency ')"
      ]
     },
     "execution_count": 150,
     "metadata": {},
     "output_type": "execute_result"
    },
    {
     "data": {
      "image/png": "[encoded data removed]",
      "text/plain": [
       "<Figure size 720x360 with 1 Axes>"
      ]
     },
     "metadata": {},
     "output_type": "display_data"
    }
   ],
   "source": [
    "movlist = sorted(list(zip(rfc_movies.feature_importances_, feats_ent)),reverse = True)\n",
    "lstfeats_mov = []\n",
    "lst_vals_mov = []\n",
    "for i in movlist:\n",
    "    lst_vals_mov.append(i[0])\n",
    "    lstfeats_mov.append(i[1])\n",
    "    if len(lstfeats_mov) == 15:\n",
    "        break\n",
    "fig, ax = plt.subplots(figsize = (10,5))\n",
    "plt.barh(lstfeats_mov, lst_vals_mov) \n",
    "plt.xticks(rotation=90, fontsize = 12)\n",
    "ax.set_title(\"Most Common Words for r/Movies\")\n",
    "ax.set_ylabel('Words')\n",
    "ax.set_xlabel('Term Frequency - Inverse Document Frequency ')\n"
   ]
  },
  {
   "cell_type": "code",
   "execution_count": 34,
   "metadata": {},
   "outputs": [
    {
     "data": {
      "text/plain": [
       "True"
      ]
     },
     "execution_count": 34,
     "metadata": {},
     "output_type": "execute_result"
    }
   ],
   "source": [
    "rfc_movies_full =RandomForestClassifier(n_estimators=50, max_features='sqrt', n_jobs = -1,  max_depth = None, oob_score=True)\n",
    "rfc_movies_full.fit(X_ent, y_mov)\n",
    "rfc_movies_full.oob_score"
   ]
  },
  {
   "cell_type": "code",
   "execution_count": 119,
   "metadata": {},
   "outputs": [
    {
     "name": "stdout",
     "output_type": "stream",
     "text": [
      "[0 0 0 ... 0 0 0]\n",
      "My recall for the movie model is 0.6706555120194854 and my precision is 0.9336576735957541\n"
     ]
    },
    {
     "data": {
      "image/png": "[encoded data removed]",
      "text/plain": [
       "<Figure size 576x396 with 2 Axes>"
      ]
     },
     "metadata": {},
     "output_type": "display_data"
    }
   ],
   "source": [
    "import itertools\n",
    "pred_mov = rfc_movies_full.predict(X_test_mov)\n",
    "print(pred_mov)\n",
    "cm = confusion_matrix(y_test_mov, pred_mov)\n",
    "# tn, fp, fn, tp = cm\n",
    "\n",
    "plot_confusion_matrix(rfc_movies_full, X_test_mov, pred_mov,labels = [1,0], normalize = 'all', cmap = \"OrRd\")\n",
    "tn, fp, fn, tp = cm.ravel()\n",
    "recall = tp/(tp+fn)\n",
    "precision = tp/(tp+fp)\n",
    "\n",
    "print(f'My recall for the movie model is {recall} and my precision is {precision}')"
   ]
  },
  {
   "cell_type": "markdown",
   "metadata": {},
   "source": [
    "### Potter"
   ]
  },
  {
   "cell_type": "code",
   "execution_count": 36,
   "metadata": {},
   "outputs": [],
   "source": [
    "y_potter = dummiezed['Subreddit_harrypotter']\n",
    "X_train_pot, X_test_pot, y_train_pot, y_test_pot = train_test_split(X_ent, y_potter, test_size=0.20)"
   ]
  },
  {
   "cell_type": "code",
   "execution_count": 37,
   "metadata": {
    "scrolled": true
   },
   "outputs": [
    {
     "name": "stdout",
     "output_type": "stream",
     "text": [
      "[0.78714639 0.77408638 0.77857936]\n"
     ]
    }
   ],
   "source": [
    "rfc_potter =RandomForestClassifier(n_estimators=50, max_features='log2', n_jobs = -1,  max_depth = None)\n",
    "rfc_potter.fit(X_train_pot, y_train_pot)\n",
    "print(cross_val_score(rfc_potter, X_test_pot, y_test_pot, cv=3, scoring = 'f1'))\n"
   ]
  },
  {
   "cell_type": "code",
   "execution_count": 132,
   "metadata": {},
   "outputs": [
    {
     "data": {
      "text/plain": [
       "0.7799373766666666"
      ]
     },
     "execution_count": 132,
     "metadata": {},
     "output_type": "execute_result"
    }
   ],
   "source": [
    "np.mean([0.78714639, 0.77408638, 0.77857936])\n"
   ]
  },
  {
   "cell_type": "code",
   "execution_count": 38,
   "metadata": {
    "collapsed": true
   },
   "outputs": [
    {
     "data": {
      "text/plain": [
       "[(0.00010271735107304748, 'band'),\n",
       " (0.00017657198490726465, 'nomination'),\n",
       " (0.00020200463297395576, 'rey'),\n",
       " (0.00022850244725472837, 'winner'),\n",
       " (0.0002301614796585157, 'alien'),\n",
       " (0.00045774714272358164, 'artist'),\n",
       " (0.0005071782435278368, 'voice'),\n",
       " (0.0005567859210487995, 'tidal'),\n",
       " (0.0005611774724133304, 'jedi'),\n",
       " (0.0005654954658118872, 'season'),\n",
       " (0.0005770678131036378, 'ending'),\n",
       " (0.0005780027722642861, 'fight'),\n",
       " (0.0006372040964048606, 'liked'),\n",
       " (0.0006704462925828043, 'track'),\n",
       " (0.0006882930623825814, 'high'),\n",
       " (0.0007124411834393082, 'action'),\n",
       " (0.0008034920693270629, 'seeing'),\n",
       " (0.000838154392168057, 'batman'),\n",
       " (0.0008453621630228345, 'hear'),\n",
       " (0.0009035241129569342, 'spoiler'),\n",
       " (0.0009403165803616313, 'three'),\n",
       " (0.0009449940144052661, 'force'),\n",
       " (0.0009479061223558608, 'kanye'),\n",
       " (0.0010071351316453085, 'play'),\n",
       " (0.001034987431166357, 'instead'),\n",
       " (0.0010357277963026143, 'luke'),\n",
       " (0.0011245736760372264, 'thread'),\n",
       " (0.0011784241680935234, 'line'),\n",
       " (0.0012063794827857038, 'listen'),\n",
       " (0.0012183306101539555, 'list'),\n",
       " (0.0012462724145657672, 'without'),\n",
       " (0.0013511596511629924, 'white'),\n",
       " (0.0013950940622642805, 'watched'),\n",
       " (0.0014123269317556295, 'watching'),\n",
       " (0.001427599964820947, 'link'),\n",
       " (0.0014558482968036054, 'fantastic'),\n",
       " (0.0014862089774274707, 'girl'),\n",
       " (0.001580712046259548, 'big'),\n",
       " (0.001598983106758359, 'guess'),\n",
       " (0.001621099687308297, 'next'),\n",
       " (0.0017310832431564594, 'album'),\n",
       " (0.0017451560527095439, 'almost'),\n",
       " (0.0017503129270248796, 'felt'),\n",
       " (0.0017656650107095932, 'dead'),\n",
       " (0.001775592773937619, 'huge'),\n",
       " (0.0017868301656794067, 'money'),\n",
       " (0.0018203200478246909, 'gon'),\n",
       " (0.00183225837695182, 'believe'),\n",
       " (0.001854403387079899, 'either'),\n",
       " (0.0018551795179950097, 'shot'),\n",
       " (0.0018631362550173725, 'deadpool'),\n",
       " (0.0018929576487009712, 'side'),\n",
       " (0.0018932443502406326, 'different'),\n",
       " (0.0019319460631361902, 'head'),\n",
       " (0.0019602662304453473, 'old'),\n",
       " (0.0019612371899692545, 'already'),\n",
       " (0.0020326511197468478, 'version'),\n",
       " (0.0020395801399064576, 'enjoy'),\n",
       " (0.0020615135244665293, 'super'),\n",
       " (0.0020840763153009115, 'away'),\n",
       " (0.002108238246680757, 'run'),\n",
       " (0.0021163026748736206, 'anything'),\n",
       " (0.0021182114197542835, 'kid'),\n",
       " (0.0021316417833328522, 'help'),\n",
       " (0.00214046351796358, 'looking'),\n",
       " (0.0021728147594847562, 'enough'),\n",
       " (0.002249659729348368, 'stand'),\n",
       " (0.002284111415520436, 'please'),\n",
       " (0.0022945307643801958, 'making'),\n",
       " (0.0022951294687060266, 'moment'),\n",
       " (0.0023897285103260733, 'second'),\n",
       " (0.002415893823832984, 'original'),\n",
       " (0.002429813482481584, 'together'),\n",
       " (0.0024640346616730106, 'art'),\n",
       " (0.002478819038235608, 'james'),\n",
       " (0.00248251743276691, 'song'),\n",
       " (0.002483771154949295, 'yet'),\n",
       " (0.0024949646849050213, 'quite'),\n",
       " (0.002501203115821011, 'theater'),\n",
       " (0.002524015089778654, 'star'),\n",
       " (0.0025296966347779447, 'total'),\n",
       " (0.0025399061032729763, 'month'),\n",
       " (0.002549363560037089, 'everything'),\n",
       " (0.002573036640567967, 'power'),\n",
       " (0.0025813570221543346, 'interesting'),\n",
       " (0.0026457323089075723, 'may'),\n",
       " (0.0026625609700409248, 'mean'),\n",
       " (0.0027159046479092626, 'everyone'),\n",
       " (0.0027610408941275573, 'fan'),\n",
       " (0.0027645277546681996, 'issue'),\n",
       " (0.0027700552234135286, 'change'),\n",
       " (0.0027703608163028746, 'school'),\n",
       " (0.0027891806397180086, 'mind'),\n",
       " (0.0028025194502439015, 'american'),\n",
       " (0.002830032201643767, 'else'),\n",
       " (0.002838824933168605, 'loved'),\n",
       " (0.0028782225033863163, 'death'),\n",
       " (0.002947457873412187, 'keep'),\n",
       " (0.002951167624199024, 'hard'),\n",
       " (0.0029818137892685757, 'top'),\n",
       " (0.0030695272802261746, 'long'),\n",
       " (0.0031156187263561637, 'fact'),\n",
       " (0.0031346666025821477, 'job'),\n",
       " (0.003165148364117722, 'title'),\n",
       " (0.0032028286615329938, 'came'),\n",
       " (0.0033100745968113123, 'place'),\n",
       " (0.0033156758853199264, 'dark'),\n",
       " (0.003395940053517548, 'game'),\n",
       " (0.0033962855772203364, 'black'),\n",
       " (0.003396666193726856, 'fucking'),\n",
       " (0.003403801740684722, 'hate'),\n",
       " (0.0034224255895588212, 'last'),\n",
       " (0.003484683596284718, 'thanks'),\n",
       " (0.0035674295723235865, 'hand'),\n",
       " (0.003587333974870961, 'comic'),\n",
       " (0.003601683219943792, 'show'),\n",
       " (0.003645238601857018, 'definitely'),\n",
       " (0.003681606754365977, 'gt'),\n",
       " (0.003756181010364026, 'give'),\n",
       " (0.0037603912369996106, 'another'),\n",
       " (0.0038820122283361696, 'sound'),\n",
       " (0.0038857022468946957, 'idea'),\n",
       " (0.003955660276160668, 'shit'),\n",
       " (0.00408731965641149, 'fuck'),\n",
       " (0.004174303986854122, 'two'),\n",
       " (0.004175424730572866, 'happy'),\n",
       " (0.004191941982876534, 'reading'),\n",
       " (0.004210454859273222, 'watch'),\n",
       " (0.004217853468738304, 'lost'),\n",
       " (0.004249608806198435, 'every'),\n",
       " (0.004283692144271202, 'story'),\n",
       " (0.004334787389351589, 'done'),\n",
       " (0.004364926347597227, 'anyone'),\n",
       " (0.00447548373774609, 'probably'),\n",
       " (0.00450479917743727, 'order'),\n",
       " (0.004649157357355314, 'real'),\n",
       " (0.004780931263084396, 'absolutely'),\n",
       " (0.004794191485569646, 'someone'),\n",
       " (0.004848129756538571, 'god'),\n",
       " (0.004861215596826704, 'might'),\n",
       " (0.00495839355746409, 'seems'),\n",
       " (0.004979977655538344, 'trying'),\n",
       " (0.0050214511093079695, 'since'),\n",
       " (0.005064471020749287, 'series'),\n",
       " (0.005071621630776703, 'kill'),\n",
       " (0.0050779911711508795, 'nothing'),\n",
       " (0.005114318891438952, 'especially'),\n",
       " (0.005231551701390834, 'whole'),\n",
       " (0.00525078321967818, 'favorite'),\n",
       " (0.005267458263632038, 'many'),\n",
       " (0.005345280995859739, 'nice'),\n",
       " (0.005370229377911474, 'least'),\n",
       " (0.005463212318843847, 'put'),\n",
       " (0.005584304017377005, 'talk'),\n",
       " (0.005745004809868548, 'friend'),\n",
       " (0.005954030995587472, 'eye'),\n",
       " (0.006110328965223677, 'able'),\n",
       " (0.006140696602824193, 'guy'),\n",
       " (0.006266597297060479, 'ever'),\n",
       " (0.006275041458246399, 'never'),\n",
       " (0.006299258705992617, 'first'),\n",
       " (0.006454692047235324, 'well'),\n",
       " (0.006528228706784236, 'lot'),\n",
       " (0.0065857160909248025, 'reason'),\n",
       " (0.006585932873588027, 'still'),\n",
       " (0.006601437018538095, 'say'),\n",
       " (0.006631537693731935, 'find'),\n",
       " (0.006708429037725861, 'see'),\n",
       " (0.006794976123381043, 'around'),\n",
       " (0.006803380201704428, 'look'),\n",
       " (0.006812764804504891, 'actually'),\n",
       " (0.0068396510992516394, 'go'),\n",
       " (0.00690440497121808, 'part'),\n",
       " (0.007035443007567367, 'family'),\n",
       " (0.007056671990705682, 'though'),\n",
       " (0.007540847744907441, 'back'),\n",
       " (0.007570752665682079, 'movie'),\n",
       " (0.007812381246748094, 'found'),\n",
       " (0.00790710316874016, 'much'),\n",
       " (0.007946916551502436, 'got'),\n",
       " (0.008350442689458778, 'hope'),\n",
       " (0.008495057347418048, 'point'),\n",
       " (0.008570417937027869, 'made'),\n",
       " (0.008586821353312492, 'year'),\n",
       " (0.008597055472970539, 'question'),\n",
       " (0.008915774247241944, 'something'),\n",
       " (0.009150108331336178, 'even'),\n",
       " (0.00981680853970302, 'always'),\n",
       " (0.010003720237833129, 'need'),\n",
       " (0.010809573677961022, 'person'),\n",
       " (0.011077607981964032, 'maybe'),\n",
       " (0.011572515304564353, 'thing'),\n",
       " (0.01332809008400278, 'time'),\n",
       " (0.016089004503314627, 'could'),\n",
       " (0.023661519771037427, 'house'),\n",
       " (0.029207006398540035, 'voldemort'),\n",
       " (0.034492789673296054, 'book'),\n",
       " (0.03473082385614127, 'snape'),\n",
       " (0.04967989150863159, 'dumbledore'),\n",
       " (0.1056584495796068, 'harry')]"
      ]
     },
     "execution_count": 38,
     "metadata": {},
     "output_type": "execute_result"
    }
   ],
   "source": [
    "sorted(list(zip(rfc_potter.feature_importances_, feats_ent)))"
   ]
  },
  {
   "cell_type": "code",
   "execution_count": 156,
   "metadata": {},
   "outputs": [
    {
     "data": {
      "text/plain": [
       "Text(0.5, 0, 'Term Frequency - Inverse Document Frequency ')"
      ]
     },
     "execution_count": 156,
     "metadata": {},
     "output_type": "execute_result"
    },
    {
     "data": {
      "image/png": "[encoded data removed]",
      "text/plain": [
       "<Figure size 720x360 with 1 Axes>"
      ]
     },
     "metadata": {},
     "output_type": "display_data"
    }
   ],
   "source": [
    "potlist = sorted(list(zip(rfc_potter.feature_importances_, feats_ent)), reverse = True)\n",
    "lstfeats_hp = []\n",
    "lst_vals_hp = []\n",
    "for i in potlist:\n",
    "    lst_vals_hp.append(i[0])\n",
    "    lstfeats_hp.append(i[1])\n",
    "    if len(lstfeats_hp) == 15:\n",
    "        break\n",
    "fig, ax = plt.subplots(figsize = (10,5))\n",
    "plt.barh(lstfeats_hp, lst_vals_hp) \n",
    "plt.xticks(rotation=90, fontsize = 12)\n",
    "ax.set_title(\"Most Common Words for r/HarryPotter\")\n",
    "ax.set_ylabel('Words')\n",
    "ax.set_xlabel('Term Frequency - Inverse Document Frequency ')"
   ]
  },
  {
   "cell_type": "code",
   "execution_count": 100,
   "metadata": {},
   "outputs": [
    {
     "data": {
      "text/plain": [
       "True"
      ]
     },
     "execution_count": 100,
     "metadata": {},
     "output_type": "execute_result"
    }
   ],
   "source": [
    "rfc_potter_full =RandomForestClassifier(n_estimators=50, max_features='sqrt', n_jobs = -1,  max_depth = None, oob_score=True)\n",
    "rfc_potter_full.fit(X_ent, y_potter)\n",
    "rfc_potter_full.oob_score"
   ]
  },
  {
   "cell_type": "code",
   "execution_count": 164,
   "metadata": {},
   "outputs": [
    {
     "name": "stdout",
     "output_type": "stream",
     "text": [
      "[0 0 0 ... 0 0 0]\n",
      "My recall for the potter model is 0.6439417415556244 and my precision is 0.9771925699506231\n"
     ]
    },
    {
     "data": {
      "image/png": "[encoded data removed]",
      "text/plain": [
       "<Figure size 576x396 with 2 Axes>"
      ]
     },
     "metadata": {},
     "output_type": "display_data"
    }
   ],
   "source": [
    "pred_pot = rfc_potter.predict(X_test_pot)\n",
    "print(pred_pot)\n",
    "cm = confusion_matrix(y_test_pot, pred_pot)\n",
    "# tn, fp, fn, tp = cm\n",
    "\n",
    "plot_confusion_matrix(rfc_potter_full, X_test_pot, pred_pot ,labels = [1,0], display_labels = ['Harry Potter', 'Not Potter'], normalize = 'all', cmap = \"OrRd\")\n",
    "tn, fp, fn, tp = cm.ravel()\n",
    "recall = tp/(tp+fn)\n",
    "precision = tp/(tp+fp)\n",
    "\n",
    "print(f'My recall for the potter model is {recall} and my precision is {precision}')"
   ]
  },
  {
   "cell_type": "markdown",
   "metadata": {},
   "source": [
    "### comic books"
   ]
  },
  {
   "cell_type": "code",
   "execution_count": 42,
   "metadata": {},
   "outputs": [],
   "source": [
    "y_comic = dummiezed['Subreddit_comicbooks']\n",
    "X_train_com, X_test_com, y_train_com, y_test_com = train_test_split(X_ent, y_comic, test_size=0.20)"
   ]
  },
  {
   "cell_type": "code",
   "execution_count": 43,
   "metadata": {},
   "outputs": [
    {
     "name": "stdout",
     "output_type": "stream",
     "text": [
      "[0.80614859 0.79572856 0.78951965]\n"
     ]
    }
   ],
   "source": [
    "rfc_comic =RandomForestClassifier(n_estimators=50, max_features='log2', n_jobs = -1,  max_depth = None)\n",
    "rfc_comic.fit(X_train_com, y_train_com)\n",
    "\n",
    "print(cross_val_score(rfc_comic, X_test_com, y_test_com, cv=3, scoring = 'f1'))\n"
   ]
  },
  {
   "cell_type": "code",
   "execution_count": 133,
   "metadata": {},
   "outputs": [
    {
     "data": {
      "text/plain": [
       "0.7971322666666666"
      ]
     },
     "execution_count": 133,
     "metadata": {},
     "output_type": "execute_result"
    }
   ],
   "source": [
    "np.mean([0.80614859, 0.79572856, 0.78951965])"
   ]
  },
  {
   "cell_type": "code",
   "execution_count": 44,
   "metadata": {},
   "outputs": [
    {
     "data": {
      "text/plain": [
       "[(2.7812853215617547e-05, 'nomination'),\n",
       " (6.319761969633202e-05, 'winner'),\n",
       " (0.00012173268419777285, 'voldemort'),\n",
       " (0.000286136431764443, 'rey'),\n",
       " (0.00031992100299388723, 'snape'),\n",
       " (0.0005009271954028537, 'listen'),\n",
       " (0.0005636170384657024, 'band'),\n",
       " (0.0005664395454456441, 'dumbledore'),\n",
       " (0.0005731815156665841, 'jedi'),\n",
       " (0.0006192706316270795, 'fight'),\n",
       " (0.0007472169011329609, 'school'),\n",
       " (0.0008917724104311899, 'came'),\n",
       " (0.0009406785131294815, 'house'),\n",
       " (0.0009415277570723492, 'tidal'),\n",
       " (0.0009900149725970927, 'fact'),\n",
       " (0.0010347974561907814, 'person'),\n",
       " (0.0010892407091734357, 'found'),\n",
       " (0.0011005719215829571, 'thread'),\n",
       " (0.0011219351223955047, 'voice'),\n",
       " (0.001128064388677073, 'link'),\n",
       " (0.0011459376969521272, 'talk'),\n",
       " (0.0011651789688599307, 'white'),\n",
       " (0.0011736630527598483, 'change'),\n",
       " (0.0011767516209435476, 'eye'),\n",
       " (0.0012280081527026535, 'track'),\n",
       " (0.0012478353777051969, 'luke'),\n",
       " (0.0012600733436722957, 'total'),\n",
       " (0.0012710001112629357, 'theater'),\n",
       " (0.0013390716040898416, 'three'),\n",
       " (0.001348603730817094, 'job'),\n",
       " (0.0013596155933597003, 'james'),\n",
       " (0.0013677136417869174, 'head'),\n",
       " (0.001369042991409498, 'side'),\n",
       " (0.0013779019350775483, 'help'),\n",
       " (0.0013982639354523242, 'ending'),\n",
       " (0.0014378924587124073, 'kid'),\n",
       " (0.0014815192391817492, 'hear'),\n",
       " (0.0015006920130344308, 'together'),\n",
       " (0.0015304618462212358, 'reason'),\n",
       " (0.001557590881451803, 'lost'),\n",
       " (0.0015889069907629022, 'stand'),\n",
       " (0.0016608100803202214, 'huge'),\n",
       " (0.001685654714053806, 'question'),\n",
       " (0.0017028595694967927, 'trying'),\n",
       " (0.0017113997826279082, 'either'),\n",
       " (0.001714752493256883, 'making'),\n",
       " (0.0017202986123503379, 'moment'),\n",
       " (0.0017375718699023366, 'order'),\n",
       " (0.0017484778609276103, 'family'),\n",
       " (0.0017621819998129035, 'able'),\n",
       " (0.0017785506419606067, 'enjoy'),\n",
       " (0.001846922943537934, 'kanye'),\n",
       " (0.0018942162710805111, 'liked'),\n",
       " (0.0019012574462087288, 'play'),\n",
       " (0.0019285628496386311, 'absolutely'),\n",
       " (0.001936879443247582, 'almost'),\n",
       " (0.0019514329331549918, 'shot'),\n",
       " (0.0019711765306744036, 'album'),\n",
       " (0.0019838105875625857, 'force'),\n",
       " (0.0019872818609521867, 'girl'),\n",
       " (0.002018467975704112, 'game'),\n",
       " (0.0020586869636400043, 'felt'),\n",
       " (0.002083311776003141, 'hard'),\n",
       " (0.0021022759865922517, 'quite'),\n",
       " (0.0021337613971100376, 'death'),\n",
       " (0.002168925152544293, 'watched'),\n",
       " (0.0022055118004233923, 'least'),\n",
       " (0.002349672439550031, 'whole'),\n",
       " (0.0023653772628678075, 'action'),\n",
       " (0.0023705703106668514, 'fuck'),\n",
       " (0.00240616917860109, 'high'),\n",
       " (0.0024176001042800705, 'spoiler'),\n",
       " (0.002428615936929128, 'instead'),\n",
       " (0.0024539034008996875, 'original'),\n",
       " (0.0024685808417249018, 'dead'),\n",
       " (0.0025329869346983865, 'song'),\n",
       " (0.00256190387945648, 'put'),\n",
       " (0.002582627048697059, 'seeing'),\n",
       " (0.0026102095562846794, 'version'),\n",
       " (0.0026255596981885443, 'artist'),\n",
       " (0.002632585629554482, 'fantastic'),\n",
       " (0.0026327644653868143, 'gon'),\n",
       " (0.0026614791013431917, 'nice'),\n",
       " (0.0026976176659100726, 'everyone'),\n",
       " (0.002710490969263636, 'around'),\n",
       " (0.002727613579223679, 'someone'),\n",
       " (0.0027376457446643353, 'place'),\n",
       " (0.0027448310763844384, 'anything'),\n",
       " (0.002749431210473789, 'watching'),\n",
       " (0.0027640640326728246, 'may'),\n",
       " (0.0028055894332122727, 'another'),\n",
       " (0.002861599035363222, 'guess'),\n",
       " (0.002866387586467329, 'harry'),\n",
       " (0.0028715326957444126, 'especially'),\n",
       " (0.00289343421925995, 'friend'),\n",
       " (0.002928653806989411, 'nothing'),\n",
       " (0.0029482845679606423, 'dark'),\n",
       " (0.0030742055711073437, 'shit'),\n",
       " (0.0031363293589943535, 'actually'),\n",
       " (0.0031933295208497353, 'hand'),\n",
       " (0.003234895012544424, 'different'),\n",
       " (0.0032536538612516963, 'definitely'),\n",
       " (0.003272869218389647, 'real'),\n",
       " (0.0032866884818777333, 'big'),\n",
       " (0.0033445701478991307, 'next'),\n",
       " (0.0033510442701483556, 'probably'),\n",
       " (0.003365121410796378, 'hate'),\n",
       " (0.003378890140269395, 'since'),\n",
       " (0.0034210948005139762, 'made'),\n",
       " (0.003425409081388963, 'part'),\n",
       " (0.003485837659066071, 'enough'),\n",
       " (0.0034915612543730762, 'believe'),\n",
       " (0.0035055728744859665, 'please'),\n",
       " (0.0035079986313317274, 'mind'),\n",
       " (0.003519676525400986, 'top'),\n",
       " (0.0035824583892827746, 'many'),\n",
       " (0.0036061028377337282, 'watch'),\n",
       " (0.0036201239971062056, 'fan'),\n",
       " (0.0036369987061291085, 'loved'),\n",
       " (0.0037191401619817476, 'look'),\n",
       " (0.00375031812072053, 'anyone'),\n",
       " (0.003781878494039357, 'everything'),\n",
       " (0.0038801880741470302, 'mean'),\n",
       " (0.003919736790722842, 'else'),\n",
       " (0.003943453131745643, 'guy'),\n",
       " (0.0039479546996410405, 'season'),\n",
       " (0.003949602068314011, 'point'),\n",
       " (0.003980359032743138, 'without'),\n",
       " (0.004042436924648736, 'happy'),\n",
       " (0.004193730453940677, 'maybe'),\n",
       " (0.004235720554087551, 'two'),\n",
       " (0.004239806245204913, 'seems'),\n",
       " (0.004429338374872187, 'find'),\n",
       " (0.004579709454061636, 'away'),\n",
       " (0.004608340016042884, 'fucking'),\n",
       " (0.004673707472004732, 'favorite'),\n",
       " (0.004682952604889961, 'already'),\n",
       " (0.0046832419664708455, 'black'),\n",
       " (0.004726368194642286, 'month'),\n",
       " (0.004798818671325881, 'could'),\n",
       " (0.0049261678965969065, 'idea'),\n",
       " (0.0049591680831922854, 'done'),\n",
       " (0.004974570939317377, 'line'),\n",
       " (0.00500577631021507, 'list'),\n",
       " (0.005032555698305964, 'show'),\n",
       " (0.005085434729828494, 'star'),\n",
       " (0.0051111211916244435, 'might'),\n",
       " (0.005203525102058821, 'looking'),\n",
       " (0.0052411957382130095, 'money'),\n",
       " (0.005266239400831425, 'super'),\n",
       " (0.0052839484961511385, 'yet'),\n",
       " (0.00528971429400109, 'kill'),\n",
       " (0.0053865810010984535, 'long'),\n",
       " (0.005540796659527487, 'gt'),\n",
       " (0.005550926658672986, 'never'),\n",
       " (0.0055724476661544375, 'old'),\n",
       " (0.005586664169953131, 'though'),\n",
       " (0.005602732717989831, 'god'),\n",
       " (0.0056221850087639766, 'need'),\n",
       " (0.005630652837743419, 'give'),\n",
       " (0.005686913696816294, 'every'),\n",
       " (0.005696900127496015, 'keep'),\n",
       " (0.005785067949107795, 'last'),\n",
       " (0.0059052836279614405, 'always'),\n",
       " (0.005998156564577862, 'even'),\n",
       " (0.006141605084256942, 'power'),\n",
       " (0.006287620434066988, 'second'),\n",
       " (0.006450175652249093, 'title'),\n",
       " (0.006621504066617786, 'ever'),\n",
       " (0.006996945198456098, 'alien'),\n",
       " (0.007334656839720739, 'something'),\n",
       " (0.007424961766478717, 'much'),\n",
       " (0.007441486160796759, 'say'),\n",
       " (0.0074572904005169895, 'still'),\n",
       " (0.007516747098448704, 'back'),\n",
       " (0.007919298313043617, 'interesting'),\n",
       " (0.007930851888244429, 'story'),\n",
       " (0.008003675668354271, 'well'),\n",
       " (0.008055663655696835, 'american'),\n",
       " (0.00810186164440473, 'reading'),\n",
       " (0.008165757974771289, 'year'),\n",
       " (0.008385829253814519, 'go'),\n",
       " (0.008397578030106859, 'hope'),\n",
       " (0.008475177726802102, 'lot'),\n",
       " (0.008731475341053611, 'got'),\n",
       " (0.009815067230467947, 'first'),\n",
       " (0.009934545319684664, 'thanks'),\n",
       " (0.01001194698573746, 'sound'),\n",
       " (0.010118893379052106, 'time'),\n",
       " (0.010254485091719693, 'art'),\n",
       " (0.010772421626956779, 'thing'),\n",
       " (0.010976161833080986, 'movie'),\n",
       " (0.011398181038498063, 'see'),\n",
       " (0.011790158503530556, 'run'),\n",
       " (0.014435067441627586, 'series'),\n",
       " (0.03418071148562638, 'book'),\n",
       " (0.03506919879146672, 'deadpool'),\n",
       " (0.04491533884019758, 'batman'),\n",
       " (0.06178539575666198, 'issue'),\n",
       " (0.09353970184182474, 'comic')]"
      ]
     },
     "execution_count": 44,
     "metadata": {},
     "output_type": "execute_result"
    }
   ],
   "source": [
    "sorted(list(zip(rfc_comic.feature_importances_, feats_ent)))"
   ]
  },
  {
   "cell_type": "code",
   "execution_count": 157,
   "metadata": {},
   "outputs": [
    {
     "data": {
      "text/plain": [
       "Text(0.5, 0, 'Term Frequency - Inverse Document Frequency')"
      ]
     },
     "execution_count": 157,
     "metadata": {},
     "output_type": "execute_result"
    },
    {
     "data": {
      "image/png": "[encoded data removed]",
      "text/plain": [
       "<Figure size 720x360 with 1 Axes>"
      ]
     },
     "metadata": {},
     "output_type": "display_data"
    }
   ],
   "source": [
    "com_list = sorted(list(zip(rfc_comic.feature_importances_, feats_ent)), reverse = True)\n",
    "lstfeats_comics = []\n",
    "lst_vals_comics = []\n",
    "for i in com_list:\n",
    "    lst_vals_comics.append(i[0])\n",
    "    lstfeats_comics.append(i[1])\n",
    "    if len(lstfeats_comics) == 15:\n",
    "        break\n",
    "\n",
    "fig, ax = plt.subplots(figsize = (10,5))\n",
    "plt.barh(lstfeats_comics, lst_vals_comics) \n",
    "plt.xticks(rotation=90, fontsize = 11)\n",
    "ax.set_title(\"Most Common Words for r/Comicbooks\")\n",
    "ax.set_ylabel('Words')\n",
    "ax.set_xlabel('Term Frequency - Inverse Document Frequency')\n",
    "\n"
   ]
  },
  {
   "cell_type": "code",
   "execution_count": 51,
   "metadata": {},
   "outputs": [
    {
     "data": {
      "text/plain": [
       "True"
      ]
     },
     "execution_count": 51,
     "metadata": {},
     "output_type": "execute_result"
    }
   ],
   "source": [
    "rfc_comic_full =RandomForestClassifier(n_estimators=50, max_features='sqrt', n_jobs = -1,  max_depth = None, oob_score=True)\n",
    "rfc_comic_full.fit(X_ent, y_comic)\n",
    "rfc_comic_full.oob_score"
   ]
  },
  {
   "cell_type": "code",
   "execution_count": 167,
   "metadata": {},
   "outputs": [
    {
     "name": "stdout",
     "output_type": "stream",
     "text": [
      "[0 0 0 ... 0 0 0]\n",
      "My recall for the comic model is 0.6990823857969279 and my precision is 0.9334132374483952\n"
     ]
    },
    {
     "data": {
      "text/plain": [
       "array([61009,   500,  3017,  7009])"
      ]
     },
     "execution_count": 167,
     "metadata": {},
     "output_type": "execute_result"
    },
    {
     "data": {
      "image/png": "[encoded data removed]",
      "text/plain": [
       "<Figure size 576x396 with 2 Axes>"
      ]
     },
     "metadata": {},
     "output_type": "display_data"
    }
   ],
   "source": [
    "\n",
    "\n",
    "pred_com = rfc_comic.predict(X_test_com)\n",
    "print(pred_com)\n",
    "cm = confusion_matrix(y_test_com, pred_com)\n",
    "# tn, fp, fn, tp = cm\n",
    "\n",
    "plot_confusion_matrix(rfc_comic_full, X_test_com, pred_com, labels = [1,0], cmap = \"OrRd\")\n",
    "\n",
    "\n",
    "tn, fp, fn, tp = cm.ravel()\n",
    "recall = tp/(tp+fn)\n",
    "precision = tp/(tp+fp)\n",
    "\n",
    "print(f'My recall for the comic model is {recall} and my precision is {precision}')\n",
    "tn, fp, fn, tp = cm.ravel()\n",
    "cm.ravel()"
   ]
  },
  {
   "cell_type": "markdown",
   "metadata": {},
   "source": [
    "## music"
   ]
  },
  {
   "cell_type": "code",
   "execution_count": 46,
   "metadata": {},
   "outputs": [],
   "source": [
    "y_music = dummiezed['Subreddit_music']\n",
    "X_train_mus, X_test_mus, y_train_mus, y_test_mus = train_test_split(X_ent, y_music, test_size=0.20)"
   ]
  },
  {
   "cell_type": "code",
   "execution_count": 47,
   "metadata": {},
   "outputs": [
    {
     "name": "stdout",
     "output_type": "stream",
     "text": [
      "[0.8236233  0.8118932  0.82043097]\n"
     ]
    }
   ],
   "source": [
    "rfc_music =RandomForestClassifier(n_estimators=50, max_features='log2', n_jobs = -1,  max_depth = None)\n",
    "rfc_music.fit(X_train_mus, y_train_mus)\n",
    "print(cross_val_score(rfc_music, X_test_mus, y_test_mus, cv=3, scoring = 'f1'))\n"
   ]
  },
  {
   "cell_type": "code",
   "execution_count": 134,
   "metadata": {},
   "outputs": [
    {
     "data": {
      "text/plain": [
       "0.8186491566666666"
      ]
     },
     "execution_count": 134,
     "metadata": {},
     "output_type": "execute_result"
    }
   ],
   "source": [
    "np.mean([0.8236233,  0.8118932,  0.82043097])"
   ]
  },
  {
   "cell_type": "code",
   "execution_count": 81,
   "metadata": {
    "scrolled": true
   },
   "outputs": [],
   "source": [
    "j_music = sorted(list(zip(rfc_music.feature_importances_, feats_ent)), reverse = True)\n",
    "lstfeats_music = []\n",
    "lst_vals_music = []\n",
    "for i in j_music:\n",
    "    lst_vals_music.append(i[0])\n",
    "    lstfeats_music.append(i[1])\n",
    "    if len(lstfeats_music) == 15:\n",
    "        break"
   ]
  },
  {
   "cell_type": "code",
   "execution_count": null,
   "metadata": {},
   "outputs": [],
   "source": []
  },
  {
   "cell_type": "code",
   "execution_count": 158,
   "metadata": {},
   "outputs": [
    {
     "data": {
      "text/plain": [
       "Text(0.5, 0, 'Term Frequency - Inverse Document Frequency')"
      ]
     },
     "execution_count": 158,
     "metadata": {},
     "output_type": "execute_result"
    },
    {
     "data": {
      "image/png": "[encoded data removed]",
      "text/plain": [
       "<Figure size 720x360 with 1 Axes>"
      ]
     },
     "metadata": {},
     "output_type": "display_data"
    }
   ],
   "source": [
    "fig, ax = plt.subplots(figsize = (10,5))\n",
    "plt.barh(lstfeats_music, lst_vals_music) \n",
    "plt.xticks(rotation=90, fontsize = 12)\n",
    "ax.set_title(\"Most Common Words for r/Music\")\n",
    "ax.set_ylabel('Words')\n",
    "ax.set_xlabel('Term Frequency - Inverse Document Frequency')\n"
   ]
  },
  {
   "cell_type": "code",
   "execution_count": 53,
   "metadata": {
    "scrolled": true
   },
   "outputs": [
    {
     "data": {
      "text/plain": [
       "RandomForestClassifier(bootstrap=True, ccp_alpha=0.0, class_weight=None,\n",
       "                       criterion='gini', max_depth=None, max_features='sqrt',\n",
       "                       max_leaf_nodes=None, max_samples=None,\n",
       "                       min_impurity_decrease=0.0, min_impurity_split=None,\n",
       "                       min_samples_leaf=1, min_samples_split=2,\n",
       "                       min_weight_fraction_leaf=0.0, n_estimators=50, n_jobs=-1,\n",
       "                       oob_score=True, random_state=None, verbose=0,\n",
       "                       warm_start=False)"
      ]
     },
     "execution_count": 53,
     "metadata": {},
     "output_type": "execute_result"
    }
   ],
   "source": [
    "rfc_music_full =RandomForestClassifier(n_estimators=50, max_features='sqrt', n_jobs = -1,  max_depth = None, oob_score=True)\n",
    "rfc_music_full.fit(X_ent, y_music)"
   ]
  },
  {
   "cell_type": "code",
   "execution_count": null,
   "metadata": {},
   "outputs": [],
   "source": []
  },
  {
   "cell_type": "code",
   "execution_count": 112,
   "metadata": {},
   "outputs": [
    {
     "name": "stdout",
     "output_type": "stream",
     "text": [
      "My recall for the music model trained on the full dataset is 0.7114647461958415 and my precision is 0.9625962596259626\n"
     ]
    },
    {
     "data": {
      "image/png": "[encoded data removed]",
      "text/plain": [
       "<Figure size 576x396 with 2 Axes>"
      ]
     },
     "metadata": {},
     "output_type": "display_data"
    }
   ],
   "source": [
    "pred_mus = rfc_music_full.predict(X_test_mus)\n",
    "# printpred_com)\n",
    "cm = confusion_matrix(y_test_mus, pred_mus)\n",
    "# tn, fp, fn, tp = cm\n",
    "\n",
    "plot_confusion_matrix(rfc_music_full, X_test_mus, pred_mus, labels = [1,0], normalize = 'all', cmap = \"OrRd\")\n",
    "tn, fp, fn, tp = cm.ravel()\n",
    "recall = tp/(tp+fn)\n",
    "precision = tp/(tp+fp)\n",
    "\n",
    "print(f'My recall for the music model trained on the full dataset is {recall} and my precision is {precision}')"
   ]
  },
  {
   "cell_type": "markdown",
   "metadata": {},
   "source": [
    "### Star Wars"
   ]
  },
  {
   "cell_type": "code",
   "execution_count": 49,
   "metadata": {},
   "outputs": [],
   "source": [
    "y_sw = dummiezed['Subreddit_starwars']\n",
    "X_train_sw, X_test_sw, y_train_sw, y_test_sw = train_test_split(X_ent, y_sw, test_size=0.20)"
   ]
  },
  {
   "cell_type": "code",
   "execution_count": 50,
   "metadata": {},
   "outputs": [
    {
     "name": "stdout",
     "output_type": "stream",
     "text": [
      "[0.65564629 0.66600279 0.65588177]\n"
     ]
    }
   ],
   "source": [
    "rfc_sw =RandomForestClassifier(n_estimators=50, max_features='sqrt', n_jobs = -1,  max_depth = None)\n",
    "rfc_sw.fit(X_train_sw, y_train_sw)\n",
    "print(cross_val_score(rfc_sw, X_test_sw, y_test_sw, cv=3, scoring = 'f1'))\n"
   ]
  },
  {
   "cell_type": "code",
   "execution_count": 135,
   "metadata": {
    "scrolled": true
   },
   "outputs": [
    {
     "data": {
      "text/plain": [
       "0.65917695"
      ]
     },
     "execution_count": 135,
     "metadata": {},
     "output_type": "execute_result"
    }
   ],
   "source": [
    "np.mean([0.65564629, 0.66600279, 0.65588177])"
   ]
  },
  {
   "cell_type": "code",
   "execution_count": 709,
   "metadata": {
    "collapsed": true
   },
   "outputs": [
    {
     "data": {
      "text/plain": [
       "[(0.0018883867079122405, 'watch'),\n",
       " (0.002402417322113523, 'first'),\n",
       " (0.002635694615647043, 'never'),\n",
       " (0.0026583637637896773, 'maybe'),\n",
       " (0.0026868319312578497, 'already'),\n",
       " (0.002795277378705344, 'place'),\n",
       " (0.0028650956881119604, 'need'),\n",
       " (0.002960796084421828, 'top'),\n",
       " (0.0030472925757544555, 'gt'),\n",
       " (0.00308114708821017, 'long'),\n",
       " (0.003081930128704121, 'might'),\n",
       " (0.0031708025007824185, 'friend'),\n",
       " (0.0032525027793922413, 'part'),\n",
       " (0.0032636007759553596, 'movie'),\n",
       " (0.003275628445189702, 'death'),\n",
       " (0.0032845304666912793, 'nice'),\n",
       " (0.0033365632859287775, 'mean'),\n",
       " (0.003342241123668507, 'time'),\n",
       " (0.0033748749688834435, 'story'),\n",
       " (0.0035139889205014676, 'deadpool'),\n",
       " (0.003541988478582283, 'though'),\n",
       " (0.0035899031855376328, 'year'),\n",
       " (0.0036078072348049895, 'list'),\n",
       " (0.0036233504965513703, 'dark'),\n",
       " (0.0036283238887267876, 'since'),\n",
       " (0.0036929324072138394, 'keep'),\n",
       " (0.003737762552958234, 'real'),\n",
       " (0.003762152477073564, 'big'),\n",
       " (0.003785650578403294, 'issue'),\n",
       " (0.0038191211255655015, 'harry'),\n",
       " (0.0038486393777802446, 'anything'),\n",
       " (0.00394363751788305, 'least'),\n",
       " (0.004070502187520661, 'else'),\n",
       " (0.004081122983786966, 'watching'),\n",
       " (0.004096172061302914, 'album'),\n",
       " (0.004107078723820379, 'go'),\n",
       " (0.004214314317418143, 'may'),\n",
       " (0.0042742817218076636, 'would'),\n",
       " (0.004288627430468292, 'find'),\n",
       " (0.004298093506985497, 'watched'),\n",
       " (0.004312966625263189, 'song'),\n",
       " (0.004336023389402419, 'point'),\n",
       " (0.004367405325475357, 'please'),\n",
       " (0.004408157144890573, 'star'),\n",
       " (0.004434892795095483, 'yet'),\n",
       " (0.004500377705070464, 'everyone'),\n",
       " (0.004539055654384981, 'seems'),\n",
       " (0.00458222367340104, 'much'),\n",
       " (0.004652705439433934, 'reason'),\n",
       " (0.004837851668556757, 'kanye'),\n",
       " (0.004880069250768628, 'sound'),\n",
       " (0.004885314897921683, 'without'),\n",
       " (0.004959239030184495, 'girl'),\n",
       " (0.005006537778360356, 'fan'),\n",
       " (0.005012075830075684, 'could'),\n",
       " (0.005116497173068689, 'back'),\n",
       " (0.005152510505408417, 'show'),\n",
       " (0.005197724241090752, 'next'),\n",
       " (0.0052408611612784275, 'shit'),\n",
       " (0.005272135416579856, 'book'),\n",
       " (0.0052915570760523065, 'another'),\n",
       " (0.005494887538776261, 'give'),\n",
       " (0.0055487595574087445, 'game'),\n",
       " (0.005577666513362256, 'got'),\n",
       " (0.0056032700363614985, 'interesting'),\n",
       " (0.005636680487279523, 'definitely'),\n",
       " (0.0058682753210054775, 'guy'),\n",
       " (0.005915038866151875, 'look'),\n",
       " (0.006051703626886272, 'thing'),\n",
       " (0.00605292154755775, 'around'),\n",
       " (0.006088141120489533, 'trying'),\n",
       " (0.006259145963060277, 'old'),\n",
       " (0.006275676746053675, 'everything'),\n",
       " (0.006355449078104979, 'done'),\n",
       " (0.006422623518763244, 'every'),\n",
       " (0.006457314021202579, 'second'),\n",
       " (0.006608091417984523, 'put'),\n",
       " (0.006663127416551097, 'kid'),\n",
       " (0.0068710112716475116, 'anyone'),\n",
       " (0.0069877853026290085, 'many'),\n",
       " (0.007004411189606829, 'fucking'),\n",
       " (0.007149193226053891, 'ever'),\n",
       " (0.007198221087587804, 'whole'),\n",
       " (0.0073651726542200355, 'guess'),\n",
       " (0.007370190602433523, 'comic'),\n",
       " (0.0075988109884910825, 'probably'),\n",
       " (0.007968052485208767, 'get'),\n",
       " (0.008055646052256192, 'always'),\n",
       " (0.008194954834565631, 'still'),\n",
       " (0.008317800043729756, 'series'),\n",
       " (0.008443096486534532, 'made'),\n",
       " (0.008513497662247438, 'favorite'),\n",
       " (0.008709715365335964, 'actually'),\n",
       " (0.009421152092793714, 'two'),\n",
       " (0.009801506109465749, 'fuck'),\n",
       " (0.010096357043289483, 'character'),\n",
       " (0.010306360158399601, 'something'),\n",
       " (0.010441187157313053, 'well'),\n",
       " (0.011260050046908235, 'lot'),\n",
       " (0.011635040412095765, 'even'),\n",
       " (0.012050905493950794, 'black'),\n",
       " (0.012141976369386721, 'someone'),\n",
       " (0.013213728113299348, 'nothing'),\n",
       " (0.013387351070838677, 'looking'),\n",
       " (0.014410188815604425, 'say'),\n",
       " (0.014540140664518014, 'enough'),\n",
       " (0.01507113287427963, 'hope'),\n",
       " (0.015596706345048292, 'see'),\n",
       " (0.018173779939756003, 'last'),\n",
       " (0.019356736129200698, 'question')]"
      ]
     },
     "execution_count": 709,
     "metadata": {},
     "output_type": "execute_result"
    }
   ],
   "source": [
    "sorted(list(zip(rfc_sw.feature_importances_, feats_ent)))"
   ]
  },
  {
   "cell_type": "code",
   "execution_count": 144,
   "metadata": {},
   "outputs": [
    {
     "data": {
      "text/plain": [
       "Text(0.5, 0, 'Frequency of Appearance')"
      ]
     },
     "execution_count": 144,
     "metadata": {},
     "output_type": "execute_result"
    },
    {
     "data": {
      "image/png": "[encoded data removed]",
      "text/plain": [
       "<Figure size 720x360 with 1 Axes>"
      ]
     },
     "metadata": {},
     "output_type": "display_data"
    }
   ],
   "source": [
    "sw_list = sorted(list(zip(rfc_sw.feature_importances_, feats_ent)),reverse = True)\n",
    "lstfeats_sw = []\n",
    "lst_vals_sw = []\n",
    "for i in sw_list:\n",
    "    lst_vals_sw.append(i[0])\n",
    "    lstfeats_sw.append(i[1])\n",
    "    if len(lstfeats_sw) == 15:\n",
    "        break\n",
    "\n",
    "fig, ax = plt.subplots(figsize = (10,5))\n",
    "plt.barh(lstfeats_sw, lst_vals_sw) \n",
    "plt.xticks(rotation=90, fontsize = 11)\n",
    "ax.set_title(\"Most Common Words for r/StarWars\")\n",
    "ax.set_ylabel('Words')\n",
    "ax.set_xlabel('Term Frequency - Inverse Document Frequency')\n",
    "\n"
   ]
  },
  {
   "cell_type": "code",
   "execution_count": 54,
   "metadata": {},
   "outputs": [
    {
     "data": {
      "text/plain": [
       "RandomForestClassifier(bootstrap=True, ccp_alpha=0.0, class_weight=None,\n",
       "                       criterion='gini', max_depth=None, max_features='sqrt',\n",
       "                       max_leaf_nodes=None, max_samples=None,\n",
       "                       min_impurity_decrease=0.0, min_impurity_split=None,\n",
       "                       min_samples_leaf=1, min_samples_split=2,\n",
       "                       min_weight_fraction_leaf=0.0, n_estimators=50, n_jobs=-1,\n",
       "                       oob_score=True, random_state=None, verbose=0,\n",
       "                       warm_start=False)"
      ]
     },
     "execution_count": 54,
     "metadata": {},
     "output_type": "execute_result"
    }
   ],
   "source": [
    "y_sw = dummiezed['Subreddit_starwars']\n",
    "rfc_sw_full =RandomForestClassifier(n_estimators=50, max_features='sqrt', n_jobs = -1,  max_depth = None, oob_score=True)\n",
    "rfc_sw_full.fit(X_ent, y_sw)\n"
   ]
  },
  {
   "cell_type": "code",
   "execution_count": 122,
   "metadata": {},
   "outputs": [
    {
     "name": "stdout",
     "output_type": "stream",
     "text": [
      "My recall for the star wars model is 0.49939061547836683 and my precision is 0.9588533541341654\n"
     ]
    },
    {
     "data": {
      "image/png": "[encoded data removed]",
      "text/plain": [
       "<Figure size 576x396 with 2 Axes>"
      ]
     },
     "metadata": {},
     "output_type": "display_data"
    }
   ],
   "source": [
    "from sklearn.metrics import confusion_matrix\n",
    "pred_sw = rfc_sw.predict(X_test_sw)\n",
    "# printpred_com)\n",
    "cm = confusion_matrix(y_test_sw, pred_sw)\n",
    "# tn, fp, fn, tp = cm\n",
    "\n",
    "plot_confusion_matrix(rfc_sw_full, X_test_sw, pred_sw, labels = [1,0], normalize = 'all', cmap = \"OrRd\")\n",
    "tn, fp, fn, tp = cm.ravel()\n",
    "recall = tp/(tp+fn)\n",
    "precision = tp/(tp+fp)\n",
    "\n",
    "print(f'My recall for the star wars model is {recall} and my precision is {precision}')"
   ]
  },
  {
   "cell_type": "markdown",
   "metadata": {},
   "source": [
    "## Create models fit to all text data to use predict"
   ]
  },
  {
   "cell_type": "code",
   "execution_count": 887,
   "metadata": {},
   "outputs": [
    {
     "data": {
      "text/plain": [
       "array([[0.98, 0.02]])"
      ]
     },
     "execution_count": 887,
     "metadata": {},
     "output_type": "execute_result"
    }
   ],
   "source": [
    "Test_strings = ['Little Witch Academia is the best anime ever written. I love to watch it at night on netflix. its just like harry potter for weebs']\n",
    "lsttest=piped(Test_strings)\n",
    "vectors = tfidf_vectorizer.transform(lsttest)\n",
    "vectors.shape\n",
    "rfc_anime_full.predict_proba(vectors)"
   ]
  },
  {
   "cell_type": "code",
   "execution_count": 169,
   "metadata": {},
   "outputs": [
    {
     "name": "stdout",
     "output_type": "stream",
     "text": [
      "[(array([[0.96, 0.04]]), 'Anime'), (array([[0.96, 0.04]]), 'Movies'), (array([[0.96, 0.04]]), 'Comic'), (array([[0.98, 0.02]]), 'Music'), (array([[0.15064935, 0.84935065]]), 'Star Wars'), (array([[0.94, 0.06]]), 'Harry Potter')]\n",
      "[(array([[0.82, 0.18]]), 'Anime'), (array([[0.56, 0.44]]), 'Movies'), (array([[0.96, 0.04]]), 'Comic'), (array([[0.94, 0.06]]), 'Music'), (array([[0.92, 0.08]]), 'Star Wars'), (array([[1., 0.]]), 'Harry Potter')]\n",
      "(array([1], dtype=uint8), 'Star Wars')\n"
     ]
    }
   ],
   "source": [
    "Test_string = ['Little Witch Academia is the best anime ever written. its just like harry potter for weebs']\n",
    "# X_ent = tfidf_vectorizer.fit_transform(dummiezed['Tokelems']).toarray()\n",
    "StarWarsstring = ['Did you ever hear the Tragedy of Darth Plagueis the wise? I thought not. Its not a story the Jedi would tell you. Its a Sith legend. Darth Plagueis was a Dark Lord of the Sith, so powerful and so wise he could use the Force to influence the midichlorians to create life... He had such a knowledge of the dark side that he could even keep the ones he cared about from dying. The dark side of the Force is a pathway to many abilities some consider to be unnatural. He became so powerful... the only thing he was afraid of was losing his power, which eventually, of course, he did. Unfortunately, he taught his apprentice everything he knew, then his apprentice killed him in his sleep. Its ironic he could save others from death, but not himself. - Sheev Palpatine']\n",
    "shrek = [\"I watched that scene, I Need a Hero recently. Jesus Christ, what perfection. I don't know what exactly it was, but that whole scene was like nothing I have ever seen in an movie before. It was far fetched but in a good way. The powerful voice of the Fairy Godmother, whenever she roars Hit It!, the start of one of the best scenes ever to grace movies. The transitions between Shrek and the huge gingerbread making their way to the castle and the Fairy Godmother singing was perfectly paced. A massive party inside the castle meanwhile the guards are doing their jobs to take down a huge piece of dough, Mongo screaming like a fucking dinosaur when he gets hit and starts kicking the gumdrop button back to them. The whole scene was well paced. It was fast, but balanced everything well. Amazing every single time.\"]\n",
    "\n",
    "def which_ent_sub(Test_strings):\n",
    "    '''\n",
    "    parameters\n",
    "    ------------------\n",
    "    Test_strings : string of text in a list format that you want to use the predictor on\n",
    "    \n",
    "    returns\n",
    "    -------------\n",
    "    list(zip(model_names, probs)): list of tuples containing the model names and their\n",
    "                                   respective false and true probabilities for being in that topic\n",
    "    '''\n",
    "    lsttest = piped(Test_strings)\n",
    "#     print(lsttest)\n",
    "    model_names = ['Anime', 'Movies', 'Comic', 'Music', 'Star Wars', 'Harry Potter']\n",
    "\n",
    "    vectors = tfidf_vectorizer.transform(lsttest)\n",
    "#     print(vectors.shape)\n",
    "    models_ent = [rfc_anime_full, rfc_movies_full, rfc_comic_full, rfc_music_full, rfc_sw_full, rfc_potter_full]\n",
    "    probs = []\n",
    "    preds = []\n",
    "    for i in models_ent:\n",
    "        probs.append(i.predict_proba(vectors))\n",
    "        preds.append(i.predict(vectors))\n",
    "    preds_models = (list(zip(preds, model_names)))\n",
    "    print(list(zip(probs, model_names)))\n",
    "    for i in preds_models:\n",
    "        if i[0][0]==1:\n",
    "            return i\n",
    "    \n",
    "    return (list(zip(probs, model_names)))\n",
    "\n",
    "res = which_ent_sub(StarWarsstring)\n",
    "shrekres = which_ent_sub(shrek)\n",
    "print(res)"
   ]
  },
  {
   "cell_type": "code",
   "execution_count": 163,
   "metadata": {},
   "outputs": [],
   "source": [
    "# below unneeded"
   ]
  },
  {
   "cell_type": "code",
   "execution_count": null,
   "metadata": {},
   "outputs": [],
   "source": [
    "meta_model_names = ['Gaming', 'Entertainment', 'Humor', 'Learning', 'News', 'Television', 'Lifestyle']\n",
    "tv_model_names = ['Community', 'Breaking Bad', 'Doctor Who','Game of Thrones', 'How I Met Your Mother', 'My Little Pony', 'Star Trek','The Walking Dead']\n",
    "humor_model_names = ['Advice Animals', 'Circlejerk', 'Facepalm', 'Funny','ImGoingToHellForThis', 'Jokes']\n",
    "gaming_model_names = ['Gaming', 'dota2', 'League of Legends', 'Minecraft', 'Pokemon', 'Skyrim','Starcraft', 'Team Fortress 2']\n",
    "learning_model_names = ['AskScience', 'AskHistorians', 'Explain Like im 5','Science', 'Space', 'Today I Learned', 'You Should Know']\n",
    "news_model_names = ['Conservative','Conspiracy', 'Libertarian', 'News', 'Offbeat', 'politics', 'truereddit', 'World News']\n",
    "entertainment_model_names = ['Anime', 'Movies', 'Comic Books', 'Harry Potter', 'Music', 'Star Wars']\n",
    "lifestyle_model_names = ['Drunk', 'Food', 'Frugal','Guns', 'Lifehacks', 'Motorcycle', 'ProgressPics', 'Sex']\n",
    "\n",
    "\n",
    "meta_models = [rfc_meta_gaming, rfc_meta_entertainment,rfc_meta_humor, rfc_meta_learn, rfc_meta_news, rfc_meta_tv, rfc_meta_life]\n",
    "tv_models = [rfc_community, rfc_breaking_bad, rfc_docwho,rfc_got,  rfc_himym, rfc_mlp, rfc_trek, rfc_twd]\n",
    "humor_models = [rfc_advani, rfc_jerk, rfc_facepalm, rfc_funny, rfc_hell, rfc_jokes]\n",
    "gaming_models = [rfc_gaming, rfc_dota, rfc_lol, rfc_mine, rfc_poke, rfc_skyrim, rfc_starcraft, rfc_tf2]\n",
    "learning_models = [rfc_askscience, rfc_askhist, rfc_eli5, rfc_science, rfc_space, rfc_til, rfc_ysk]\n",
    "news_models = [rfc_con, rfc_conspire, rfc_liber, rfc_news_sub, rfc_offbeat, rfc_poli, rfc_truereddit, rfc_worldnews]\n",
    "entertainment_models = [rfc_Anime, rfc_movies, rfc_comic, rfc_potter, rfc_music, rfc_sw]\n",
    "lifestyle_models = [rfc_drunk, rfc_food, rfc_frugal, rfc_guns, rfc_lifehacks, rfc_moto, rfc_progress, rfc_sex]"
   ]
  },
  {
   "cell_type": "markdown",
   "metadata": {},
   "source": [
    "# Extra work and EDA"
   ]
  },
  {
   "cell_type": "code",
   "execution_count": 944,
   "metadata": {},
   "outputs": [],
   "source": [
    "def piped2(arr):\n",
    "    arr = clean_urls(arr)\n",
    "    arr = base_clean_up(arr)\n",
    "    tokens = tokenizer(arr)\n",
    "    lems = lemmatization(tokens)\n",
    "    lst_final = []\n",
    "    for i in lems:\n",
    "        i = \" \".join(i)\n",
    "        lst_final.append(i)\n",
    "    return lems\n",
    "dummiezed['tokens'] = piped2(dummiezed['Text'].values)"
   ]
  },
  {
   "cell_type": "code",
   "execution_count": 945,
   "metadata": {},
   "outputs": [
    {
     "name": "stdout",
     "output_type": "stream",
     "text": [
      "17973\n"
     ]
    }
   ],
   "source": [
    "from collections import Counter\n",
    "results = Counter()\n",
    "dummiezed['tokens'].apply(results.update)\n",
    "# print(results)\n",
    "print(len(results))\n",
    "\n",
    "# set(['someone', 'ft.jgt', 'my', 'is', 'to', 'going', 'place', 'nickname'])"
   ]
  },
  {
   "cell_type": "code",
   "execution_count": 946,
   "metadata": {},
   "outputs": [
    {
     "data": {
      "text/plain": [
       "Counter({'see': 26930,\n",
       "         'whoop': 298,\n",
       "         'intergalactic': 50,\n",
       "         'alien': 4444,\n",
       "         'butt': 298,\n",
       "         'rogue': 449,\n",
       "         'anyone': 6703,\n",
       "         'anything': 7549,\n",
       "         '': 2721096,\n",
       "         'cinematographer': 199,\n",
       "         'ever': 10626,\n",
       "         'finally': 3442,\n",
       "         'changed': 1691,\n",
       "         'thanks': 5076,\n",
       "         'tom': 1095,\n",
       "         'cruise': 100,\n",
       "         'john': 2595,\n",
       "         'anderton': 150,\n",
       "         'kidnaps': 100,\n",
       "         'precog': 150,\n",
       "         'agatha': 100,\n",
       "         'pool': 498,\n",
       "         'mirroring': 50,\n",
       "         'kidnapping': 150,\n",
       "         'irony': 198,\n",
       "         'joined': 348,\n",
       "         'precrime': 50,\n",
       "         'incidence': 50,\n",
       "         'yet': 6175,\n",
       "         'resort': 149,\n",
       "         'afterwards': 448,\n",
       "         'order': 5534,\n",
       "         'prove': 149,\n",
       "         'system': 1198,\n",
       "         'worked': 1640,\n",
       "         'hard': 4848,\n",
       "         'develop': 348,\n",
       "         'wrong': 3143,\n",
       "         'movie': 30184,\n",
       "         'dear': 597,\n",
       "         'god': 5928,\n",
       "         'incredible': 2091,\n",
       "         'knew': 2595,\n",
       "         'thing': 21633,\n",
       "         'take': 2458,\n",
       "         'place': 6535,\n",
       "         'woman': 3595,\n",
       "         'become': 2390,\n",
       "         'infertile': 50,\n",
       "         'pregnant': 150,\n",
       "         'clive': 150,\n",
       "         'owen': 50,\n",
       "         'must': 3747,\n",
       "         'guide': 149,\n",
       "         'safety': 198,\n",
       "         'long': 6546,\n",
       "         'car': 2488,\n",
       "         'julianne': 50,\n",
       "         'moore': 545,\n",
       "         'shot': 5728,\n",
       "         'suck': 1858,\n",
       "         'part': 11894,\n",
       "         'got': 16468,\n",
       "         'spoiled': 548,\n",
       "         'shock': 446,\n",
       "         'happened': 3240,\n",
       "         'early': 2347,\n",
       "         'idea': 6027,\n",
       "         'would': 51022,\n",
       "         'every': 9772,\n",
       "         'performance': 3567,\n",
       "         'single': 2789,\n",
       "         'weak': 947,\n",
       "         'cinematography': 1047,\n",
       "         'greatest': 1637,\n",
       "         'honestly': 3106,\n",
       "         'lubezki': 100,\n",
       "         'revenant': 649,\n",
       "         'filmed': 300,\n",
       "         'incredibly': 1395,\n",
       "         'sucked': 450,\n",
       "         'theo': 50,\n",
       "         'navigating': 50,\n",
       "         'city': 2192,\n",
       "         'tracking': 200,\n",
       "         'overall': 1893,\n",
       "         'small': 2611,\n",
       "         'flaw': 749,\n",
       "         'may': 6360,\n",
       "         'subsequent': 199,\n",
       "         'watch': 13459,\n",
       "         'overshadowed': 100,\n",
       "         'everything': 7223,\n",
       "         'else': 6370,\n",
       "         'perfect': 2932,\n",
       "         '1010': 545,\n",
       "         'question': 5861,\n",
       "         'though': 12884,\n",
       "         'fish': 598,\n",
       "         'true': 2705,\n",
       "         'motif': 249,\n",
       "         'baby': 1348,\n",
       "         'survive': 550,\n",
       "         'confused': 1496,\n",
       "         'theater': 4778,\n",
       "         'absolutely': 4111,\n",
       "         'nothing': 5862,\n",
       "         'friend': 8755,\n",
       "         'told': 1844,\n",
       "         'basic': 898,\n",
       "         'plot': 3535,\n",
       "         'outline': 198,\n",
       "         'kid': 6126,\n",
       "         'anymore': 1897,\n",
       "         'distinctly': 50,\n",
       "         'thinking': 3535,\n",
       "         'sound': 8073,\n",
       "         'stupid': 1975,\n",
       "         'blown': 850,\n",
       "         'away': 5883,\n",
       "         'job': 5637,\n",
       "         'especially': 4883,\n",
       "         'showing': 2080,\n",
       "         'big': 6629,\n",
       "         'apocalyptic': 50,\n",
       "         'story': 13588,\n",
       "         'watching': 8564,\n",
       "         'piece': 2441,\n",
       "         'back': 14514,\n",
       "         '2007': 645,\n",
       "         'looked': 2445,\n",
       "         'watched': 7019,\n",
       "         'first': 24293,\n",
       "         '78': 249,\n",
       "         'fell': 748,\n",
       "         'keep': 7972,\n",
       "         'finding': 1682,\n",
       "         'personally': 2241,\n",
       "         'favorite': 9133,\n",
       "         'spielberg': 449,\n",
       "         'film': 4470,\n",
       "         'entire': 2641,\n",
       "         'camera': 1446,\n",
       "         'stay': 2395,\n",
       "         'inside': 2139,\n",
       "         'huge': 4178,\n",
       "         'effective': 348,\n",
       "         'bird': 500,\n",
       "         'eye': 4407,\n",
       "         'view': 1396,\n",
       "         'sweeping': 50,\n",
       "         'incoming': 200,\n",
       "         'limitation': 100,\n",
       "         'vehicle': 348,\n",
       "         'trapped': 299,\n",
       "         'gravity': 797,\n",
       "         'year': 16865,\n",
       "         'cemented': 200,\n",
       "         'alfonso': 100,\n",
       "         'cuar': 50,\n",
       "         'rip': 1640,\n",
       "         'george': 1164,\n",
       "         'gaynes': 50,\n",
       "         'wherever': 50,\n",
       "         'hope': 7718,\n",
       "         'podium': 100,\n",
       "         'size': 649,\n",
       "         'stand': 5329,\n",
       "         'front': 1543,\n",
       "         'truly': 1593,\n",
       "         'actor': 2218,\n",
       "         'enjoyed': 3584,\n",
       "         'minority': 249,\n",
       "         'report': 199,\n",
       "         'based': 3782,\n",
       "         'philip': 150,\n",
       "         'dick': 1671,\n",
       "         'blade': 548,\n",
       "         'runner': 549,\n",
       "         'scanner': 50,\n",
       "         'darkly': 50,\n",
       "         'total': 4667,\n",
       "         'recall': 598,\n",
       "         'adjustment': 50,\n",
       "         'bureau': 50,\n",
       "         'brilliant': 1168,\n",
       "         'writer': 1992,\n",
       "         'wolf': 3538,\n",
       "         'wall': 2291,\n",
       "         'street': 995,\n",
       "         'get': 29437,\n",
       "         'pumped': 400,\n",
       "         'bump': 50,\n",
       "         'company': 1044,\n",
       "         'benefit': 450,\n",
       "         'blue': 2494,\n",
       "         'valentine': 1078,\n",
       "         'cannibal': 50,\n",
       "         'holocaust': 150,\n",
       "         'surprise': 946,\n",
       "         'contempt': 100,\n",
       "         'cut': 2994,\n",
       "         'intentional': 249,\n",
       "         'side': 6161,\n",
       "         '98': 256,\n",
       "         'thats': 1297,\n",
       "         'impressive': 749,\n",
       "         'grew': 2005,\n",
       "         'police': 965,\n",
       "         'academy': 1713,\n",
       "         'steer': 50,\n",
       "         'clear': 1099,\n",
       "         'imdb': 698,\n",
       "         'page': 2587,\n",
       "         'entirely': 1045,\n",
       "         'tv': 1796,\n",
       "         'show': 18853,\n",
       "         'season': 6156,\n",
       "         'already': 9053,\n",
       "         'catching': 1293,\n",
       "         'number': 2694,\n",
       "         'episode': 5251,\n",
       "         'around': 7628,\n",
       "         'eternal': 1694,\n",
       "         'sunshine': 548,\n",
       "         'spotless': 249,\n",
       "         'mind': 5476,\n",
       "         'well': 19398,\n",
       "         'uhhh': 100,\n",
       "         'opinion': 3541,\n",
       "         'leo': 399,\n",
       "         'fake': 826,\n",
       "         'legend': 1396,\n",
       "         'bleep': 50,\n",
       "         'curse': 749,\n",
       "         'word': 2981,\n",
       "         'edited': 350,\n",
       "         'much': 23001,\n",
       "         'replacing': 346,\n",
       "         'ridiculous': 1191,\n",
       "         'dialogue': 916,\n",
       "         'version': 4440,\n",
       "         'happens': 1549,\n",
       "         'find': 10307,\n",
       "         'stranger': 500,\n",
       "         'alp': 150,\n",
       "         'time': 38655,\n",
       "         'voice': 4193,\n",
       "         'special': 2389,\n",
       "         'bluray': 649,\n",
       "         'talked': 998,\n",
       "         'board': 1145,\n",
       "         'one': 3883,\n",
       "         'tried': 2592,\n",
       "         'existence': 400,\n",
       "         'ennui': 50,\n",
       "         'cracked': 200,\n",
       "         'another': 8066,\n",
       "         'horrible': 1695,\n",
       "         'boss': 200,\n",
       "         'sequel': 3384,\n",
       "         'original': 4373,\n",
       "         'mean': 7795,\n",
       "         '_someone': 50,\n",
       "         'somewhere_': 50,\n",
       "         'think': 1541,\n",
       "         'pedophile': 50,\n",
       "         'rapist': 100,\n",
       "         'sander': 100,\n",
       "         'fan': 9040,\n",
       "         'bronies': 50,\n",
       "         'pineapple': 100,\n",
       "         'express': 200,\n",
       "         'fx': 50,\n",
       "         'casserole': 100,\n",
       "         'wow': 2985,\n",
       "         'actually': 12957,\n",
       "         'probably': 10514,\n",
       "         'forgetting': 399,\n",
       "         'sarah': 350,\n",
       "         'marshall': 249,\n",
       "         'meanit': 100,\n",
       "         'definitely': 6722,\n",
       "         'something': 17837,\n",
       "         'exists': 515,\n",
       "         'necessary': 847,\n",
       "         'shit': 9569,\n",
       "         'three': 4479,\n",
       "         'today': 2923,\n",
       "         'official': 1046,\n",
       "         'trailer': 3319,\n",
       "         'nice': 7169,\n",
       "         'choice': 2091,\n",
       "         'excellent': 1646,\n",
       "         'editing': 549,\n",
       "         'robot': 893,\n",
       "         'obey': 50,\n",
       "         'title': 4437,\n",
       "         'reveal': 498,\n",
       "         'whenever': 800,\n",
       "         'edits': 150,\n",
       "         'youtube': 699,\n",
       "         'download': 697,\n",
       "         'soon': 2752,\n",
       "         'asking': 1035,\n",
       "         'taken': 1313,\n",
       "         'copyright': 50,\n",
       "         'reason': 6726,\n",
       "         'free': 3497,\n",
       "         'promotion': 200,\n",
       "         'suicide': 744,\n",
       "         'squad': 645,\n",
       "         'rob': 697,\n",
       "         'zombie': 496,\n",
       "         'making': 4682,\n",
       "         'might': 9441,\n",
       "         'interested': 3362,\n",
       "         'wedding': 350,\n",
       "         'crasher': 100,\n",
       "         'genuine': 497,\n",
       "         'acting': 1413,\n",
       "         'loving': 896,\n",
       "         'hilarious': 1393,\n",
       "         '3': 13251,\n",
       "         'together': 4488,\n",
       "         'matt': 1147,\n",
       "         'damon': 199,\n",
       "         'rescued': 100,\n",
       "         'expense': 299,\n",
       "         'saving': 744,\n",
       "         'private': 543,\n",
       "         'ryan': 1645,\n",
       "         'interstellar': 549,\n",
       "         'martian': 1097,\n",
       "         'wonderful': 1396,\n",
       "         'last': 12797,\n",
       "         'put': 7422,\n",
       "         'top': 6115,\n",
       "         'ten': 946,\n",
       "         'scene': 3536,\n",
       "         'still': 18487,\n",
       "         'teary': 50,\n",
       "         'eyed': 246,\n",
       "         'rudy': 50,\n",
       "         'walter': 250,\n",
       "         'mitty': 200,\n",
       "         'uncanny': 1248,\n",
       "         'ablility': 50,\n",
       "         'appreciative': 100,\n",
       "         'excited': 3886,\n",
       "         'saturday': 400,\n",
       "         'morning': 769,\n",
       "         'always': 10370,\n",
       "         'kick': 1261,\n",
       "         'weekend': 1993,\n",
       "         'ferrell': 100,\n",
       "         'mark': 2445,\n",
       "         'wahlberg': 100,\n",
       "         'crash': 748,\n",
       "         'cocaine': 298,\n",
       "         'remainder': 100,\n",
       "         'two': 10821,\n",
       "         'way': 1594,\n",
       "         'temporarily': 100,\n",
       "         'pair': 550,\n",
       "         'constantly': 1161,\n",
       "         'touch': 1448,\n",
       "         'wipe': 200,\n",
       "         'nose': 646,\n",
       "         'done': 6581,\n",
       "         'massive': 1093,\n",
       "         'hit': 3392,\n",
       "         'notice': 1494,\n",
       "         '102': 299,\n",
       "         'smokey': 346,\n",
       "         'bandit': 150,\n",
       "         'jason': 574,\n",
       "         'bateman': 150,\n",
       "         'shame': 746,\n",
       "         'hb2': 100,\n",
       "         'band': 4372,\n",
       "         'called': 3828,\n",
       "         'cash': 549,\n",
       "         'grab': 598,\n",
       "         'could': 22647,\n",
       "         'enjoy': 4392,\n",
       "         'process': 1343,\n",
       "         'undergoes': 50,\n",
       "         'memory': 1753,\n",
       "         'exlover': 50,\n",
       "         'erased': 458,\n",
       "         'decides': 397,\n",
       "         'hide': 646,\n",
       "         'remote': 249,\n",
       "         'consciousness': 100,\n",
       "         'evade': 50,\n",
       "         'procedure': 50,\n",
       "         'everyone': 7780,\n",
       "         'immortal': 200,\n",
       "         'currency': 50,\n",
       "         'mulholland': 200,\n",
       "         'drive': 1047,\n",
       "         'wreck': 198,\n",
       "         'winding': 199,\n",
       "         'render': 50,\n",
       "         'amnesiac': 50,\n",
       "         'perky': 50,\n",
       "         'hollywoodhopeful': 50,\n",
       "         'search': 849,\n",
       "         'clue': 347,\n",
       "         'answer': 2343,\n",
       "         'across': 1437,\n",
       "         'angeles': 200,\n",
       "         'twisting': 50,\n",
       "         'venture': 100,\n",
       "         'beyond': 1496,\n",
       "         'dream': 2638,\n",
       "         'reality': 746,\n",
       "         'oldie': 200,\n",
       "         'goody': 99,\n",
       "         'british': 249,\n",
       "         'scify': 50,\n",
       "         'five': 1791,\n",
       "         'million': 2785,\n",
       "         'earth': 1543,\n",
       "         'made': 13074,\n",
       "         '60': 349,\n",
       "         'start': 2168,\n",
       "         'discovering': 250,\n",
       "         'strange': 1146,\n",
       "         'looking': 7824,\n",
       "         'ape': 600,\n",
       "         'skeleton': 50,\n",
       "         'old': 6390,\n",
       "         'mud': 50,\n",
       "         'excavated': 50,\n",
       "         'subway': 149,\n",
       "         'london': 797,\n",
       "         'appears': 943,\n",
       "         'spaceship': 100,\n",
       "         'harold': 300,\n",
       "         'maude': 200,\n",
       "         'restart': 50,\n",
       "         'finely': 50,\n",
       "         'adapted': 448,\n",
       "         'acted': 250,\n",
       "         'amazed': 300,\n",
       "         'subtlety': 100,\n",
       "         'role': 2041,\n",
       "         'pull': 1888,\n",
       "         'even': 23585,\n",
       "         'difficult': 699,\n",
       "         'master': 1345,\n",
       "         'deserves': 698,\n",
       "         'award': 1597,\n",
       "         'bringing': 645,\n",
       "         'quiet': 497,\n",
       "         'intensity': 100,\n",
       "         'memorable': 399,\n",
       "         'imagine': 3094,\n",
       "         'cast': 2763,\n",
       "         'harley': 349,\n",
       "         'quinn': 398,\n",
       "         'kidding': 500,\n",
       "         'wife': 1892,\n",
       "         'needed': 1645,\n",
       "         'r': 2488,\n",
       "         'rating': 1393,\n",
       "         'badly': 150,\n",
       "         'smith': 993,\n",
       "         'surprisingly': 598,\n",
       "         'groovy': 150,\n",
       "         'haunting': 200,\n",
       "         '1963': 150,\n",
       "         'innocent': 450,\n",
       "         '1961': 100,\n",
       "         'without': 5772,\n",
       "         '1960': 250,\n",
       "         'diaboliques': 50,\n",
       "         '1955': 100,\n",
       "         'dead': 4481,\n",
       "         'night': 3635,\n",
       "         '1945': 100,\n",
       "         'notebook': 299,\n",
       "         'superbowl': 99,\n",
       "         'sold': 1293,\n",
       "         'ticket': 2097,\n",
       "         'marion': 50,\n",
       "         'cotillard': 50,\n",
       "         'played': 2914,\n",
       "         'edith': 50,\n",
       "         'piaf': 100,\n",
       "         'vie': 150,\n",
       "         'rose': 749,\n",
       "         'inception': 707,\n",
       "         'heavily': 715,\n",
       "         'feature': 1447,\n",
       "         'song': 14373,\n",
       "         'quite': 5385,\n",
       "         'fit': 2821,\n",
       "         'statham': 50,\n",
       "         'like': 747,\n",
       "         'starred': 50,\n",
       "         'italian': 250,\n",
       "         'bank': 599,\n",
       "         'k6xwslvazio': 50,\n",
       "         'eta': 50,\n",
       "         'relationship': 1746,\n",
       "         'serbian': 50,\n",
       "         'fucked': 1048,\n",
       "         'laughable': 50,\n",
       "         'curious': 1543,\n",
       "         'fantasy': 1244,\n",
       "         'league': 940,\n",
       "         'xbox': 199,\n",
       "         'video': 3637,\n",
       "         'rental': 100,\n",
       "         'fall': 3478,\n",
       "         'within': 1295,\n",
       "         'somewhere': 996,\n",
       "         'itunes': 796,\n",
       "         'redbox': 149,\n",
       "         'intern': 200,\n",
       "         'week': 1442,\n",
       "         'rent': 50,\n",
       "         'creed': 250,\n",
       "         'criterion': 250,\n",
       "         'disney': 1249,\n",
       "         'oddly': 549,\n",
       "         'specific': 1097,\n",
       "         'coincidence': 448,\n",
       "         'andor': 948,\n",
       "         'example': 3042,\n",
       "         'rachel': 100,\n",
       "         'mcadams': 50,\n",
       "         'appeared': 698,\n",
       "         '2009': 498,\n",
       "         '2013': 696,\n",
       "         'romantic': 497,\n",
       "         'partner': 250,\n",
       "         'mysteriously': 100,\n",
       "         'travel': 1095,\n",
       "         'machine': 845,\n",
       "         'romance': 2343,\n",
       "         'traditional': 500,\n",
       "         'fiction': 697,\n",
       "         'talking': 3228,\n",
       "         'gene': 150,\n",
       "         'kelly': 1048,\n",
       "         'navy': 100,\n",
       "         'sailor': 198,\n",
       "         'multiple': 1014,\n",
       "         'musical': 696,\n",
       "         'pierce': 150,\n",
       "         'brosnan': 50,\n",
       "         'james': 4485,\n",
       "         'bond': 645,\n",
       "         'four': 2091,\n",
       "         'bruce': 1344,\n",
       "         'willis': 200,\n",
       "         'play': 4588,\n",
       "         'tough': 647,\n",
       "         'guymilitary': 50,\n",
       "         'exclude': 199,\n",
       "         'mikheil': 50,\n",
       "         'gelovani': 50,\n",
       "         'stalin': 50,\n",
       "         '13': 2537,\n",
       "         'soviet': 50,\n",
       "         'government': 349,\n",
       "         'mandate': 50,\n",
       "         'cedar': 100,\n",
       "         'rapid': 250,\n",
       "         'isiah': 50,\n",
       "         'whitlock': 150,\n",
       "         'jr': 150,\n",
       "         'ronald': 100,\n",
       "         'wilkes': 100,\n",
       "         'hbo': 350,\n",
       "         'series': 15022,\n",
       "         'wire': 799,\n",
       "         'clay': 200,\n",
       "         'davis': 298,\n",
       "         'open': 2341,\n",
       "         'interesting': 6492,\n",
       "         'home': 3238,\n",
       "         'someone': 7508,\n",
       "         'comment': 3089,\n",
       "         'portrays': 100,\n",
       "         'husband': 549,\n",
       "         'edward': 350,\n",
       "         'norton': 248,\n",
       "         'character': 9446,\n",
       "         'dual': 200,\n",
       "         'personality': 1046,\n",
       "         'primal': 50,\n",
       "         'fear': 2085,\n",
       "         'fight': 4886,\n",
       "         'club': 1348,\n",
       "         'hulk': 250,\n",
       "         'adult': 1341,\n",
       "         'meetsee': 50,\n",
       "         'younger': 449,\n",
       "         'monkey': 150,\n",
       "         'looper': 450,\n",
       "         'lie': 1692,\n",
       "         'released': 2536,\n",
       "         'september': 449,\n",
       "         'sending': 396,\n",
       "         'spends': 347,\n",
       "         'playing': 2170,\n",
       "         'unable': 449,\n",
       "         'catch': 1741,\n",
       "         'oscar': 1357,\n",
       "         'agreed': 300,\n",
       "         'wholeheartedly': 50,\n",
       "         'frankly': 450,\n",
       "         'disappointed': 1396,\n",
       "         'directed': 799,\n",
       "         'cuaron': 50,\n",
       "         'technically': 496,\n",
       "         'breathtaking': 150,\n",
       "         'spacestation': 50,\n",
       "         'hopping': 50,\n",
       "         'modern': 1195,\n",
       "         'survival': 150,\n",
       "         'child': 2152,\n",
       "         'hand': 4182,\n",
       "         'fictitious': 50,\n",
       "         'working': 2542,\n",
       "         'fantastic': 4036,\n",
       "         'premise': 894,\n",
       "         'work': 2437,\n",
       "         'seems': 7709,\n",
       "         'effortlessly': 100,\n",
       "         'saturate': 50,\n",
       "         'u': 6344,\n",
       "         'suggest': 1788,\n",
       "         'religious': 100,\n",
       "         'protester': 99,\n",
       "         'ringing': 99,\n",
       "         'ear': 718,\n",
       "         'family': 4377,\n",
       "         'portrait': 1100,\n",
       "         'room': 2469,\n",
       "         'left': 3635,\n",
       "         'ambiguous': 99,\n",
       "         'pin': 100,\n",
       "         'simple': 1345,\n",
       "         'live': 3556,\n",
       "         'prey': 100,\n",
       "         'upon': 1115,\n",
       "         'blind': 1194,\n",
       "         'desperation': 50,\n",
       "         'coin': 100,\n",
       "         'cinematically': 50,\n",
       "         'girl': 9076,\n",
       "         'waterworld': 50,\n",
       "         'presented': 496,\n",
       "         'symbol': 1248,\n",
       "         'acquire': 100,\n",
       "         'control': 1526,\n",
       "         'postapocalyptic': 148,\n",
       "         'realized': 1044,\n",
       "         'timeline': 496,\n",
       "         'zero': 1293,\n",
       "         'sense': 3787,\n",
       "         'intertwined': 100,\n",
       "         'event': 2694,\n",
       "         'bourne': 200,\n",
       "         'ultimatum': 150,\n",
       "         'directly': 645,\n",
       "         'supremacy': 50,\n",
       "         'presumably': 218,\n",
       "         '2004': 200,\n",
       "         'recently': 1998,\n",
       "         'confirm': 449,\n",
       "         'problem': 3736,\n",
       "         'begin': 1695,\n",
       "         'renner': 100,\n",
       "         'died': 2145,\n",
       "         '03': 50,\n",
       "         'age': 3101,\n",
       "         '25': 1184,\n",
       "         'entered': 50,\n",
       "         'outcome': 199,\n",
       "         'program': 637,\n",
       "         'either': 4782,\n",
       "         'poorly': 250,\n",
       "         'aged': 298,\n",
       "         '26': 794,\n",
       "         'experienceor': 50,\n",
       "         'rififi': 50,\n",
       "         'actual': 2320,\n",
       "         'heist': 299,\n",
       "         'tower': 738,\n",
       "         'enjoyable': 1072,\n",
       "         'say': 14324,\n",
       "         'ocean': 599,\n",
       "         'point': 9246,\n",
       "         'break': 2187,\n",
       "         'count': 2587,\n",
       "         '1': 16930,\n",
       "         'schindler': 349,\n",
       "         'list': 10265,\n",
       "         'fine': 1695,\n",
       "         'kurt': 500,\n",
       "         'russell': 248,\n",
       "         'matthew': 200,\n",
       "         'fox': 992,\n",
       "         'gave': 2519,\n",
       "         'turn': 3271,\n",
       "         'whole': 7413,\n",
       "         'go': 16694,\n",
       "         'history': 1939,\n",
       "         'rest': 2880,\n",
       "         'decent': 1296,\n",
       "         'cement': 50,\n",
       "         'forever': 1455,\n",
       "         'high': 4573,\n",
       "         'fidelity': 100,\n",
       "         'sergio': 200,\n",
       "         'leone': 200,\n",
       "         'kubrick': 699,\n",
       "         'hitchcock': 698,\n",
       "         'lumet': 150,\n",
       "         'tarkovsky': 399,\n",
       "         'perhaps': 1546,\n",
       "         'antonioni': 249,\n",
       "         'pretentious': 98,\n",
       "         'thread': 4607,\n",
       "         'diverse': 446,\n",
       "         'chabrol': 99,\n",
       "         'rohmer': 199,\n",
       "         'ozu': 249,\n",
       "         'tony': 596,\n",
       "         'scott': 1295,\n",
       "         'surprised': 2242,\n",
       "         'fateful': 50,\n",
       "         'schaudenfraude': 50,\n",
       "         'emotion': 1894,\n",
       "         'train': 1592,\n",
       "         'yor': 50,\n",
       "         'hunter': 2642,\n",
       "         'future': 3337,\n",
       "         'happening': 1494,\n",
       "         'act': 1794,\n",
       "         'lot': 16522,\n",
       "         'netflix': 1542,\n",
       "         'glad': 3338,\n",
       "         'second': 7297,\n",
       "         'unique': 699,\n",
       "         'least': 6358,\n",
       "         'meh': 947,\n",
       "         'twist': 1247,\n",
       "         'obvious': 2089,\n",
       "         '5': 7462,\n",
       "         'min': 200,\n",
       "         'guess': 5824,\n",
       "         'spring': 1445,\n",
       "         'extra': 1342,\n",
       "         'buck': 149,\n",
       "         'cho': 500,\n",
       "         'gt': 11418,\n",
       "         'oneoff': 99,\n",
       "         'gag': 397,\n",
       "         'anger': 400,\n",
       "         'punch': 997,\n",
       "         'schadenfreude': 50,\n",
       "         'german': 349,\n",
       "         'accent': 962,\n",
       "         'pain': 598,\n",
       "         'amuses': 50,\n",
       "         'hear': 4036,\n",
       "         'nihilist': 50,\n",
       "         'lebowski': 100,\n",
       "         'head': 4133,\n",
       "         'line': 4842,\n",
       "         'speaking': 848,\n",
       "         'flea': 50,\n",
       "         'raw': 597,\n",
       "         'written': 2090,\n",
       "         'felt': 4780,\n",
       "         'real': 6940,\n",
       "         'highly': 1292,\n",
       "         'recommended': 646,\n",
       "         'amazon': 349,\n",
       "         'queue': 50,\n",
       "         'western': 857,\n",
       "         'russel': 50,\n",
       "         'genrebending': 50,\n",
       "         'horror': 1844,\n",
       "         'excuse': 995,\n",
       "         'dont': 1496,\n",
       "         'need': 10584,\n",
       "         'backstory': 497,\n",
       "         'imo': 2193,\n",
       "         'scary': 449,\n",
       "         'action': 4624,\n",
       "         'classic': 2189,\n",
       "         'alone': 2293,\n",
       "         'enough': 6420,\n",
       "         'matter': 1991,\n",
       "         'win': 2094,\n",
       "         'animated': 1246,\n",
       "         'white': 6313,\n",
       "         'king': 2731,\n",
       "         'cross': 550,\n",
       "         'dumbledore': 7087,\n",
       "         'similar': 3438,\n",
       "         'sometimes': 1794,\n",
       "         'baumbach': 100,\n",
       "         'came': 4698,\n",
       "         'writing': 2790,\n",
       "         'directing': 399,\n",
       "         'aardman': 249,\n",
       "         'never': 12022,\n",
       "         'wallace': 298,\n",
       "         'gromit': 248,\n",
       "         'favourite': 2185,\n",
       "         'michael': 1993,\n",
       "         'caine': 200,\n",
       "         'fatherlike': 50,\n",
       "         'figure': 2041,\n",
       "         'christopher': 249,\n",
       "         'tdk': 99,\n",
       "         'trilogy': 1045,\n",
       "         'francis': 449,\n",
       "         'tegan': 50,\n",
       "         'sara': 150,\n",
       "         'believe': 4899,\n",
       "         'mentioned': 1791,\n",
       "         'thief': 100,\n",
       "         'fellowship': 150,\n",
       "         'ring': 746,\n",
       "         'opening': 2887,\n",
       "         'shire': 50,\n",
       "         'regrettably': 50,\n",
       "         'kept': 1393,\n",
       "         'information': 2494,\n",
       "         'added': 1196,\n",
       "         'hp': 622,\n",
       "         'since': 9289,\n",
       "         'book': 15899,\n",
       "         'finished': 2733,\n",
       "         'next': 7440,\n",
       "         'reread': 450,\n",
       "         'interjected': 100,\n",
       "         'throughout': 1347,\n",
       "         'aside': 1159,\n",
       "         'footnote': 200,\n",
       "         'etc': 3696,\n",
       "         'thought': 1731,\n",
       "         'annotated': 150,\n",
       "         'alice': 1243,\n",
       "         'wonderland': 895,\n",
       "         'illustrated': 395,\n",
       "         'sizeshape': 50,\n",
       "         'harry': 11849,\n",
       "         'potter': 3456,\n",
       "         'sorcerer': 199,\n",
       "         'stone': 1342,\n",
       "         'paragraph': 150,\n",
       "         'illustration': 149,\n",
       "         'empty': 496,\n",
       "         'designwise': 50,\n",
       "         'beautiful': 2592,\n",
       "         'wellthought': 50,\n",
       "         'revealed': 698,\n",
       "         'flow': 848,\n",
       "         'add': 3440,\n",
       "         'pulling': 794,\n",
       "         'tolkien': 50,\n",
       "         'putting': 1394,\n",
       "         'pottermore': 250,\n",
       "         'dhending': 50,\n",
       "         'appendix': 100,\n",
       "         'extensive': 150,\n",
       "         'tree': 998,\n",
       "         'main': 3931,\n",
       "         'chapter': 1045,\n",
       "         '27': 644,\n",
       "         'david': 1511,\n",
       "         'chapman': 100,\n",
       "         'murder': 1198,\n",
       "         'lennon': 200,\n",
       "         'guy': 12711,\n",
       "         'named': 3941,\n",
       "         'scrooged': 50,\n",
       "         'hendersons': 50,\n",
       "         'bulletin': 76,\n",
       "         'month': 4632,\n",
       "         'p': 1792,\n",
       "         'blew': 648,\n",
       "         '18': 1544,\n",
       "         'box': 2144,\n",
       "         'office': 1597,\n",
       "         'asleep': 199,\n",
       "         'couldnt': 199,\n",
       "         'engrossed': 50,\n",
       "         'genuinely': 750,\n",
       "         'cared': 350,\n",
       "         'relate': 345,\n",
       "         'personal': 1748,\n",
       "         'level': 3190,\n",
       "         'please': 7740,\n",
       "         'favor': 347,\n",
       "         '20': 3233,\n",
       "         'comedy': 2788,\n",
       "         'loved': 5455,\n",
       "         'pacing': 349,\n",
       "         'slow': 1648,\n",
       "         'finish': 1390,\n",
       "         'many': 8905,\n",
       "         'introduces': 299,\n",
       "         'antagonist': 298,\n",
       "         'give': 9988,\n",
       "         'load': 199,\n",
       "         'lead': 1547,\n",
       "         'development': 1043,\n",
       "         'ripley': 400,\n",
       "         'general': 2514,\n",
       "         'understanding': 796,\n",
       "         'android': 150,\n",
       "         'bishop': 100,\n",
       "         'recommend': 2937,\n",
       "         'seeing': 5582,\n",
       "         'metric': 50,\n",
       "         'happiness': 299,\n",
       "         'unit': 399,\n",
       "         'sadness': 350,\n",
       "         'unexpected': 297,\n",
       "         'considering': 1942,\n",
       "         'super': 4092,\n",
       "         'fast': 1241,\n",
       "         'energetic': 150,\n",
       "         'tempo': 149,\n",
       "         'nofx': 100,\n",
       "         'thatthe': 50,\n",
       "         'glide': 50,\n",
       "         'beat': 2600,\n",
       "         'sad': 2292,\n",
       "         'pop': 1547,\n",
       "         'punk': 1045,\n",
       "         'label': 400,\n",
       "         'properly': 299,\n",
       "         'worst': 1448,\n",
       "         'aired': 369,\n",
       "         'force': 6510,\n",
       "         'awakens': 2117,\n",
       "         'awfulall': 50,\n",
       "         'sloth': 150,\n",
       "         'dmv': 50,\n",
       "         'boom': 347,\n",
       "         'punchline': 50,\n",
       "         'joke': 1693,\n",
       "         'drove': 298,\n",
       "         'ground': 994,\n",
       "         'fiveminute': 50,\n",
       "         'slowly': 798,\n",
       "         'hate': 5931,\n",
       "         'zoo': 99,\n",
       "         'topic': 847,\n",
       "         'freak': 199,\n",
       "         'furry': 197,\n",
       "         'invite': 149,\n",
       "         'type': 1850,\n",
       "         'ra': 322,\n",
       "         'manage': 297,\n",
       "         'selected': 149,\n",
       "         'current': 1788,\n",
       "         'gatsby': 49,\n",
       "         'theme': 2537,\n",
       "         'instead': 6309,\n",
       "         'adaptation': 1390,\n",
       "         'ok': 2044,\n",
       "         'psyched': 50,\n",
       "         'badass': 2205,\n",
       "         'rated': 1342,\n",
       "         '43rd': 50,\n",
       "         'pffh': 50,\n",
       "         'crazy': 2940,\n",
       "         'hearing': 858,\n",
       "         '250': 548,\n",
       "         'source': 1756,\n",
       "         'solid': 1246,\n",
       "         'entertaining': 896,\n",
       "         'majority': 399,\n",
       "         'practically': 549,\n",
       "         'prestigious': 50,\n",
       "         'supposed': 2825,\n",
       "         'reflect': 150,\n",
       "         'audience': 1944,\n",
       "         'alright': 1290,\n",
       "         'dae': 100,\n",
       "         'critic': 650,\n",
       "         'stuck': 1245,\n",
       "         'referring': 279,\n",
       "         'deeper': 300,\n",
       "         'meaning': 1315,\n",
       "         ...})"
      ]
     },
     "execution_count": 946,
     "metadata": {},
     "output_type": "execute_result"
    }
   ],
   "source": [
    "results"
   ]
  },
  {
   "cell_type": "code",
   "execution_count": 953,
   "metadata": {},
   "outputs": [],
   "source": [
    "resies = results.most_common(20)\n",
    "resies = dict(resies)\n",
    "resies_mod = dict()\n",
    "for k, v in resies.items():\n",
    "    if v<200000:\n",
    "        resies_mod[k] = v"
   ]
  },
  {
   "cell_type": "code",
   "execution_count": 434,
   "metadata": {},
   "outputs": [
    {
     "data": {
      "text/plain": [
       "Counter({'news': 408716,\n",
       "         'lifestyle': 384494,\n",
       "         'learning': 271179,\n",
       "         'humor': 382197,\n",
       "         'entertainment': 379414,\n",
       "         'television': 321794,\n",
       "         'gaming': 578206})"
      ]
     },
     "execution_count": 434,
     "metadata": {},
     "output_type": "execute_result"
    }
   ],
   "source": [
    "(Counter(df['meta'].values))"
   ]
  },
  {
   "cell_type": "code",
   "execution_count": 958,
   "metadata": {},
   "outputs": [
    {
     "data": {
      "image/png": "[encoded data removed]",
      "text/plain": [
       "<Figure size 1440x720 with 1 Axes>"
      ]
     },
     "metadata": {},
     "output_type": "display_data"
    }
   ],
   "source": [
    "fig, ax = plt.subplots(figsize = (20,10))\n",
    "ax.bar(resies_mod.keys(), resies_mod.values())\n",
    "plt.xticks(rotation=45)\n",
    "plt.show()\n",
    "\n"
   ]
  },
  {
   "cell_type": "markdown",
   "metadata": {},
   "source": [
    "# Early EDA and Exploratory Graphs\n",
    "none of this was deemed valuable enough to use as a part of the models\n"
   ]
  },
  {
   "cell_type": "code",
   "execution_count": 145,
   "metadata": {},
   "outputs": [
    {
     "data": {
      "text/plain": [
       "Index(['Text', 'ID', 'meta', 'Time', 'Username', 'Upvotes', 'Downvotes',\n",
       "       'Author_link_karma', 'Author_Comment_Karma', 'Author_has_gold?',\n",
       "       'Subreddit_anime', 'Subreddit_comicbooks', 'Subreddit_harrypotter',\n",
       "       'Subreddit_movies', 'Subreddit_music', 'Subreddit_starwars',\n",
       "       'tokelems'],\n",
       "      dtype='object')"
      ]
     },
     "execution_count": 145,
     "metadata": {},
     "output_type": "execute_result"
    }
   ],
   "source": [
    "dummiezed.columns"
   ]
  },
  {
   "cell_type": "code",
   "execution_count": 194,
   "metadata": {},
   "outputs": [
    {
     "name": "stderr",
     "output_type": "stream",
     "text": [
      "/Users/JamesSkelton/opt/anaconda3/lib/python3.7/site-packages/numpy/lib/histograms.py:839: RuntimeWarning: invalid value encountered in greater_equal\n",
      "  keep = (tmp_a >= first_edge)\n",
      "/Users/JamesSkelton/opt/anaconda3/lib/python3.7/site-packages/numpy/lib/histograms.py:840: RuntimeWarning: invalid value encountered in less_equal\n",
      "  keep &= (tmp_a <= last_edge)\n"
     ]
    },
    {
     "data": {
      "text/plain": [
       "Text(0.5, 1.0, \"Histogram of users' link karma, removed outliers\")"
      ]
     },
     "execution_count": 194,
     "metadata": {},
     "output_type": "execute_result"
    },
    {
     "data": {
      "image/png": "[encoded data removed]",
      "text/plain": [
       "<Figure size 576x396 with 1 Axes>"
      ]
     },
     "metadata": {},
     "output_type": "display_data"
    }
   ],
   "source": [
    "fig, ax = plt.subplots()\n",
    "plt.hist(df.Author_link_karma, bins = 500)\n",
    "plt.ylim(0, 5000)\n",
    "plt.xlim(5,1000000)\n",
    "ax.set_xlabel('Author Link Karma')\n",
    "ax.set_ylabel('Counts')\n",
    "ax.set_title(\"Histogram of users' link karma, removed outliers\")"
   ]
  },
  {
   "cell_type": "code",
   "execution_count": 195,
   "metadata": {},
   "outputs": [
    {
     "data": {
      "text/plain": [
       "Text(0.5, 1.0, \"Histogram of users' link karma, yscale log\")"
      ]
     },
     "execution_count": 195,
     "metadata": {},
     "output_type": "execute_result"
    },
    {
     "data": {
      "image/png": "[encoded data removed]",
      "text/plain": [
       "<Figure size 576x396 with 1 Axes>"
      ]
     },
     "metadata": {},
     "output_type": "display_data"
    }
   ],
   "source": [
    "fig, ax = plt.subplots()\n",
    "plt.hist(df.Author_link_karma, bins = 500)\n",
    "# plt.ylim(0, 5000)\n",
    "# plt.xlim(5,1000000)\n",
    "\n",
    "ax.set_yscale('log')\n",
    "\n",
    "ax.set_xlabel('Author Link Karma')\n",
    "ax.set_ylabel('Counts')\n",
    "ax.set_title(\"Histogram of users' link karma, yscale log\")"
   ]
  },
  {
   "cell_type": "code",
   "execution_count": 160,
   "metadata": {},
   "outputs": [
    {
     "data": {
      "text/plain": [
       "Text(0.5, 1.0, \"Histogram of users' link karma, outliers removed yscale log\")"
      ]
     },
     "execution_count": 160,
     "metadata": {},
     "output_type": "execute_result"
    },
    {
     "data": {
      "image/png": "[encoded data removed]",
      "text/plain": [
       "<Figure size 432x288 with 1 Axes>"
      ]
     },
     "metadata": {},
     "output_type": "display_data"
    }
   ],
   "source": [
    "fig, ax = plt.subplots()\n",
    "plt.hist(df.Author_link_karma, bins = 3000)\n",
    "# plt.ylim()\n",
    "plt.xlim(1,300000)\n",
    "\n",
    "ax.set_yscale('log')\n",
    "\n",
    "ax.set_xlabel('Author Link Karma')\n",
    "ax.set_ylabel('Counts')\n",
    "ax.set_title(\"Histogram of users' link karma, outliers removed yscale log\")"
   ]
  },
  {
   "cell_type": "code",
   "execution_count": 204,
   "metadata": {},
   "outputs": [
    {
     "data": {
      "text/plain": [
       "Text(0.5, 1.0, \"Histogram of users' comment karma, removed outliers\")"
      ]
     },
     "execution_count": 204,
     "metadata": {},
     "output_type": "execute_result"
    },
    {
     "data": {
      "image/png": "[encoded data removed]",
      "text/plain": [
       "<Figure size 576x396 with 1 Axes>"
      ]
     },
     "metadata": {},
     "output_type": "display_data"
    }
   ],
   "source": [
    "fig, ax = plt.subplots()\n",
    "plt.hist(df.Author_Comment_Karma, bins = 500)\n",
    "# plt.ylim(0, 5000)\n",
    "plt.xlim(1,1000000)\n",
    "\n",
    "ax.set_yscale('log')\n",
    "ax.set_xlabel('Author Comment Karma')\n",
    "ax.set_ylabel('Counts')\n",
    "ax.set_title(\"Histogram of users' comment karma, removed outliers\")"
   ]
  },
  {
   "cell_type": "code",
   "execution_count": 207,
   "metadata": {},
   "outputs": [
    {
     "data": {
      "text/plain": [
       "(0, 1500000)"
      ]
     },
     "execution_count": 207,
     "metadata": {},
     "output_type": "execute_result"
    },
    {
     "data": {
      "image/png": "[encoded data removed]",
      "text/plain": [
       "<Figure size 576x396 with 1 Axes>"
      ]
     },
     "metadata": {},
     "output_type": "display_data"
    }
   ],
   "source": [
    "fig, ax = plt.subplots()\n",
    "\n",
    "plt.scatter(df_test.Author_link_karma, df_test.Author_Comment_Karma)\n",
    "\n",
    "# ax.set_yscale('')\n",
    "\n",
    "ax.set_ylim(0, 1000000)\n",
    "ax.set_xlim(0, 1500000)"
   ]
  },
  {
   "cell_type": "code",
   "execution_count": 192,
   "metadata": {},
   "outputs": [
    {
     "data": {
      "text/plain": [
       "Text(0.5, 1.0, 'Histogram of posts per hour of day')"
      ]
     },
     "execution_count": 192,
     "metadata": {},
     "output_type": "execute_result"
    },
    {
     "data": {
      "image/png": "[encoded data removed]",
      "text/plain": [
       "<Figure size 576x396 with 1 Axes>"
      ]
     },
     "metadata": {},
     "output_type": "display_data"
    }
   ],
   "source": [
    "fig, ax = plt.subplots()\n",
    "\n",
    "plt.hist(df.Time.dt.hour, bins = 24)\n",
    "plt.style.use('seaborn')\n",
    "ax.set_ylabel('Counts of posts')\n",
    "ax.set_xlabel('Hour of day')\n",
    "ax.set_title('Histogram of posts per hour of day')"
   ]
  },
  {
   "cell_type": "code",
   "execution_count": 126,
   "metadata": {},
   "outputs": [
    {
     "ename": "AttributeError",
     "evalue": "'list' object has no attribute 'unique'",
     "output_type": "error",
     "traceback": [
      "\u001b[0;31m---------------------------------------------------------------------------\u001b[0m",
      "\u001b[0;31mAttributeError\u001b[0m                            Traceback (most recent call last)",
      "\u001b[0;32m<ipython-input-126-5502bce2bf08>\u001b[0m in \u001b[0;36m<module>\u001b[0;34m\u001b[0m\n\u001b[1;32m      3\u001b[0m \u001b[0mwords\u001b[0m \u001b[0;34m=\u001b[0m \u001b[0mdummiezed\u001b[0m\u001b[0;34m[\u001b[0m\u001b[0;34m'Text'\u001b[0m\u001b[0;34m]\u001b[0m\u001b[0;34m.\u001b[0m\u001b[0mstr\u001b[0m\u001b[0;34m.\u001b[0m\u001b[0mlower\u001b[0m\u001b[0;34m(\u001b[0m\u001b[0;34m)\u001b[0m\u001b[0;34m.\u001b[0m\u001b[0mstr\u001b[0m\u001b[0;34m.\u001b[0m\u001b[0mfindall\u001b[0m\u001b[0;34m(\u001b[0m\u001b[0;34m\"\\w+\"\u001b[0m\u001b[0;34m)\u001b[0m\u001b[0;34m\u001b[0m\u001b[0;34m\u001b[0m\u001b[0m\n\u001b[1;32m      4\u001b[0m \u001b[0mwords\u001b[0m \u001b[0;34m=\u001b[0m \u001b[0mlist\u001b[0m\u001b[0;34m(\u001b[0m\u001b[0mitertools\u001b[0m\u001b[0;34m.\u001b[0m\u001b[0mchain\u001b[0m\u001b[0;34m(\u001b[0m\u001b[0mwords\u001b[0m\u001b[0;34m)\u001b[0m\u001b[0;34m)\u001b[0m\u001b[0;34m\u001b[0m\u001b[0;34m\u001b[0m\u001b[0m\n\u001b[0;32m----> 5\u001b[0;31m \u001b[0munique\u001b[0m \u001b[0;34m=\u001b[0m \u001b[0mwords\u001b[0m\u001b[0;34m.\u001b[0m\u001b[0munique\u001b[0m\u001b[0;34m(\u001b[0m\u001b[0;34m)\u001b[0m\u001b[0;34m\u001b[0m\u001b[0;34m\u001b[0m\u001b[0m\n\u001b[0m\u001b[1;32m      6\u001b[0m \u001b[0mprint\u001b[0m\u001b[0;34m(\u001b[0m\u001b[0munique\u001b[0m\u001b[0;34m)\u001b[0m\u001b[0;34m\u001b[0m\u001b[0;34m\u001b[0m\u001b[0m\n",
      "\u001b[0;31mAttributeError\u001b[0m: 'list' object has no attribute 'unique'"
     ]
    }
   ],
   "source": [
    "import itertools\n",
    "\n",
    "words = dummiezed['Text'].str.lower().str.findall(\"\\w+\")\n",
    "words = list(itertools.chain(words))\n",
    "unique = words.unique()\n",
    "print(unique)"
   ]
  },
  {
   "cell_type": "code",
   "execution_count": null,
   "metadata": {},
   "outputs": [],
   "source": []
  }
 ],
 "metadata": {
  "kernelspec": {
   "display_name": "Python 3",
   "language": "python",
   "name": "python3"
  },
  "language_info": {
   "codemirror_mode": {
    "name": "ipython",
    "version": 3
   },
   "file_extension": ".py",
   "mimetype": "text/x-python",
   "name": "python",
   "nbconvert_exporter": "python",
   "pygments_lexer": "ipython3",
   "version": "3.7.6"
  }
 },
 "nbformat": 4,
 "nbformat_minor": 2
}
