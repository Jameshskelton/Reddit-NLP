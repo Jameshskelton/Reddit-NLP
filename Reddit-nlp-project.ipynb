{
 "cells": [
  {
   "cell_type": "code",
   "execution_count": 879,
   "metadata": {
    "scrolled": true
   },
   "outputs": [
    {
     "ename": "ModuleNotFoundError",
     "evalue": "No module named 'cv2'",
     "output_type": "error",
     "traceback": [
      "\u001b[0;31m---------------------------------------------------------------------------\u001b[0m",
      "\u001b[0;31mModuleNotFoundError\u001b[0m                       Traceback (most recent call last)",
      "\u001b[0;32m<ipython-input-879-876975bfeacd>\u001b[0m in \u001b[0;36m<module>\u001b[0;34m\u001b[0m\n\u001b[1;32m     14\u001b[0m \u001b[0mlemmatizer\u001b[0m \u001b[0;34m=\u001b[0m \u001b[0mWordNetLemmatizer\u001b[0m\u001b[0;34m(\u001b[0m\u001b[0;34m)\u001b[0m\u001b[0;34m\u001b[0m\u001b[0;34m\u001b[0m\u001b[0m\n\u001b[1;32m     15\u001b[0m \u001b[0;32mimport\u001b[0m \u001b[0mstring\u001b[0m\u001b[0;34m\u001b[0m\u001b[0;34m\u001b[0m\u001b[0m\n\u001b[0;32m---> 16\u001b[0;31m \u001b[0;32mimport\u001b[0m \u001b[0mcv2\u001b[0m\u001b[0;34m\u001b[0m\u001b[0;34m\u001b[0m\u001b[0m\n\u001b[0m\u001b[1;32m     17\u001b[0m \u001b[0;34m\u001b[0m\u001b[0m\n\u001b[1;32m     18\u001b[0m \u001b[0;34m\u001b[0m\u001b[0m\n",
      "\u001b[0;31mModuleNotFoundError\u001b[0m: No module named 'cv2'"
     ]
    }
   ],
   "source": [
    "import pandas as pd\n",
    "import numpy as np\n",
    "import glob\n",
    "import os\n",
    "from os import listdir\n",
    "from os.path import isfile, join\n",
    "import matplotlib.pyplot as plt\n",
    "from datetime import datetime as dt\n",
    "import unidecode\n",
    "from sklearn.feature_extraction.text import CountVectorizer, TfidfVectorizer\n",
    "from sklearn.pipeline import Pipeline, make_pipeline, FeatureUnion, make_union\n",
    "from sklearn.multiclass import OneVsRestClassifier\n",
    "from nltk.stem import WordNetLemmatizer \n",
    "lemmatizer = WordNetLemmatizer()\n",
    "import string\n",
    "import cv2\n",
    "\n",
    "\n",
    "import re\n",
    "import pickle\n",
    "\n",
    "from nltk.tokenize import sent_tokenize\n",
    "from nltk.tokenize import word_tokenize\n",
    "from nltk.corpus import stopwords\n",
    "from nltk.stem.porter import PorterStemmer\n",
    "from nltk.stem.snowball import SnowballStemmer\n",
    "from nltk.stem import WordNetLemmatizer \n",
    "\n",
    "from sklearn.model_selection import cross_val_score,train_test_split,GridSearchCV\n",
    "from sklearn.svm import SVC\n",
    "from sklearn.metrics import plot_roc_curve, f1_score, plot_confusion_matrix\n",
    "\n",
    "from sklearn.preprocessing import StandardScaler\n",
    "from sklearn.model_selection import StratifiedShuffleSplit\n",
    "from matplotlib.colors import Normalize\n",
    "\n",
    "from sklearn.naive_bayes import MultinomialNB\n",
    "from sklearn.ensemble import RandomForestClassifier,BaggingClassifier,ExtraTreesClassifier\n",
    "from sklearn.tree import DecisionTreeClassifier\n",
    "\n",
    "from scipy.sparse import hstack\n",
    "from scipy.special import logit, expit\n",
    "\n",
    "# from my_nmf import NMF\n",
    "# from helpers import build_text_vectorizer, hand_label_topics, analyze_article\n",
    "\n",
    "plt.style.use('seaborn')\n",
    "# os.chdir(\"data\")"
   ]
  },
  {
   "cell_type": "code",
   "execution_count": 2,
   "metadata": {},
   "outputs": [],
   "source": [
    "file = 'data/comments.csv'\n",
    "df = pd.read_csv(file, names = ['Text', 'ID', 'Subreddit', 'meta', 'Time', 'Username', 'Upvotes', 'Downvotes', 'Author_link_karma', 'Author_Comment_Karma','Author_has_gold?'], parse_dates =True, encoding = 'utf-8')\n"
   ]
  },
  {
   "cell_type": "code",
   "execution_count": null,
   "metadata": {},
   "outputs": [],
   "source": []
  },
  {
   "cell_type": "code",
   "execution_count": 516,
   "metadata": {},
   "outputs": [],
   "source": [
    "df = df.dropna(axis =0)"
   ]
  },
  {
   "cell_type": "markdown",
   "metadata": {},
   "source": [
    "# make meta dataframes"
   ]
  },
  {
   "cell_type": "code",
   "execution_count": 479,
   "metadata": {
    "scrolled": true
   },
   "outputs": [],
   "source": [
    "df_entertainment = df.dropna(axis =0).loc[df['meta']== 'entertainment']\n",
    "# df_entertainment.Text\n",
    "df"
   ]
  },
  {
   "cell_type": "code",
   "execution_count": 488,
   "metadata": {},
   "outputs": [],
   "source": [
    "df_news = df.dropna(axis =0).loc[df['meta']== 'news']\n"
   ]
  },
  {
   "cell_type": "code",
   "execution_count": 624,
   "metadata": {},
   "outputs": [],
   "source": [
    "df_lifestyle = df.dropna(axis =0).loc[df['meta']== 'lifestyle']\n"
   ]
  },
  {
   "cell_type": "code",
   "execution_count": 489,
   "metadata": {},
   "outputs": [],
   "source": [
    "df_learning = df.dropna(axis =0).loc[df['meta']== 'learning']\n"
   ]
  },
  {
   "cell_type": "code",
   "execution_count": 490,
   "metadata": {},
   "outputs": [],
   "source": [
    "df_humor = df.dropna(axis =0).loc[df['meta']== 'humor']\n",
    "df_humor.shape"
   ]
  },
  {
   "cell_type": "code",
   "execution_count": 491,
   "metadata": {},
   "outputs": [],
   "source": [
    "df_television = df.dropna(axis =0).loc[df['meta']== 'television']\n",
    "df_television.shape"
   ]
  },
  {
   "cell_type": "code",
   "execution_count": 492,
   "metadata": {},
   "outputs": [],
   "source": [
    "df_gaming = df.dropna(axis =0).loc[df['meta']== 'gaming']\n",
    "df_gaming.shape"
   ]
  },
  {
   "cell_type": "markdown",
   "metadata": {},
   "source": [
    "# Proper Pipeline, no alaska"
   ]
  },
  {
   "cell_type": "code",
   "execution_count": null,
   "metadata": {},
   "outputs": [],
   "source": []
  },
  {
   "cell_type": "code",
   "execution_count": 160,
   "metadata": {},
   "outputs": [],
   "source": [
    "def clean_urls(array):\n",
    "    lst = []\n",
    "    for string in array:\n",
    "#         remove url strings\n",
    "        if string > re.sub(r'(https|http)? : \\/\\/(\\w|\\.|\\/|\\?|\\=|\\&|\\%)*\\b', '', string, flags=re.MULTILINE):\n",
    "            string = re.sub(r'(https|http)? : \\/\\/(\\w|\\.|\\/|\\?|\\=|\\&|\\%)*\\b', '', string, flags=re.MULTILINE)\n",
    "#           remove extra youtube v's\n",
    "            string = re.sub(r'v = () ', '', string, flags = re.MULTILINE)\n",
    "            lst.append(string)\n",
    "        else: \n",
    "            string = re.sub(r'(https|http)?:\\/\\/(\\w|\\.|\\/|\\?|\\=|\\&|\\%)*\\b', '', string, flags=re.MULTILINE)\n",
    "            lst.append(string)\n",
    "    return lst\n",
    "# test\n",
    "# tokelems = clean_urls(df_entertainment.Text.values)\n",
    "# cleaned_urls\n",
    "# type(cleaned_urls[1])"
   ]
  },
  {
   "cell_type": "code",
   "execution_count": 665,
   "metadata": {},
   "outputs": [
    {
     "name": "stdout",
     "output_type": "stream",
     "text": [
      "['james ran forward from the https    youtubecom v asfhabjf v  666 32 ']\n"
     ]
    }
   ],
   "source": [
    "punctuations = '''.!=-()[]{};:\"|\\<>/?@#$%^&*_~'''\n",
    "replace = '{}'.format('\\n')\n",
    "lst = []\n",
    "\n",
    "test_strings = ['James ran ForWard from the https://  !!! $ %   youtube.com v asfhabjf v asvjdakbfakdfasdfbasdfadfsasfadga %666^^ 32$']\n",
    "test_strings2 = df_entertainment.Text.values[:2]\n",
    "# print(test_strings2)\n",
    "\n",
    "def base_clean_up(strings):\n",
    "    new_strings = [] \n",
    "    for i in strings:\n",
    "#         lower the strings\n",
    "        i = i.lower()\n",
    "#         convert strings to unicode\n",
    "        i = unidecode.unidecode(i)\n",
    "#         remove extra spaces\n",
    "        i = re.sub(\" +\", \" \", i)\n",
    "        no_punct = \"\"\n",
    "        for word in i.split():\n",
    "#             remove any individual letters or extra spaces\n",
    "            word = re.sub(r'[^\\w\\s]','',word)\n",
    "            \n",
    "            if len(word) > 20:\n",
    "                word = \"\"\n",
    "            no_punct += f'{word} '\n",
    "        new_strings.append(no_punct)\n",
    "#         print(no_punct)\n",
    "    return new_strings\n",
    "\n",
    "\n",
    "\n",
    "# # test check\n",
    "clean_test = base_clean_up(test_strings)\n",
    "print(clean_test)\n",
    "# check using df\n",
    "# tokelems = base_clean_up(tokelems)  \n",
    "# base_clean_up1\n",
    "# clean_test"
   ]
  },
  {
   "cell_type": "code",
   "execution_count": 640,
   "metadata": {},
   "outputs": [
    {
     "name": "stdout",
     "output_type": "stream",
     "text": [
      "6255\n",
      "6595\n"
     ]
    }
   ],
   "source": [
    "s_stop = set(stopwords.words())\n",
    "print(len(s_stop))\n",
    "new_stops = ['politics', 'libertarian', 'worldnews', 'offbeat', 'news',\n",
    "       'truereddit', 'conspiracy', 'conservative', 'frugal',\n",
    "       'motorcycles', 'sex', 'drunk', 'food', 'lifehacks', 'guns',\n",
    "       'progresspics', 'askscience', 'science', 'explainlikeimfive',\n",
    "       'askhistorians', 'youshouldknow', 'todayilearned', 'space',\n",
    "       'circlejerk', 'facepalm', 'jokes', 'adviceanimals', 'funny',\n",
    "       'imgoingtohellforthis', 'movies', 'harrypotter', 'music', 'anime',\n",
    "       'comicbooks', 'starwars', 'doctorwho', 'community', 'breakingbad',\n",
    "       'thewalkingdead', 'startrek', 'mylittlepony', 'gameofthrones',\n",
    "       'himym', 'tf2', 'dota2', 'leagueoflegends', 'minecraft', 'pokemon',\n",
    "       'gaming', 'skyrim', 'starcraft','nt','like', 'really', '2015ref',\n",
    "        'publisherspage190ref','volume9', 'issue2','005', '1671', '2015', \n",
    "        'jpgthumbemerg', 'jpgthumbrightth', 'logo', 'page7','logo.png','2015.ref', \n",
    "        'nameleaf200kcit','ref', '005.jpgthumbrightth', 'whose', 'kind','png', 'jpg', \n",
    "        'wiktionaryzero', 'wiktionaryzero0', 'wiktionaryzero0', 'articlesquantum','0supsup', \n",
    "        '0refcit', '1-3', 'redirectzero', '.', ',', 'nameleaf200k2cit', 'wiktionari', 'namecarb01cit','-',\n",
    "        'filezero', 'mvaramvarxmvari', 'page98','datemfyes1915228', 'year1989ref', '1671.jpgthumbemerg', \n",
    "        'refimprovedatemay','ligatureligatur','amazing', 'awesome', 'bad', 'best', 'better', 'bit', \n",
    "        'character', 'cool', 'day', 'end', 'episode', 'feel', 'film', 'going', 'good', 'great', 'know', \n",
    "        'life', 'little', 'll', 'looks', 'love', 'make', 'man', 'music', 'new', 'people', 'pretty', 'read', \n",
    "        'right', 'saw', 'scene', 'seen', 'sure', 'think', 'thought', 'want', 'wars', 'way', 'come', 'jpg','10',\n",
    "        '11','12', 'amp', 'days', 'edit', 'far', 'gets', 'fun', 'getting','let', 'later', 'makes', 'men', 'na',\n",
    "        'oh', 'op', 'post', 'reddit', 'said', 'remember', 'sorry', 'start', 'started', 'stop', 'tell', 'stuff',\n",
    "        'took', 'try','use', 'used', 'wait', 'wanted', 'week','went', 'yeah', 'yes', 'work', 'world', \n",
    "        'pppc1expiry2144', 'wiktionary','wiktionary0', 'n','improvedateoctob','baiknya', \n",
    "        'berkali', 'kali', 'kurangnya', 'mata', 'olah', 'onların', 'printr', 'sekurang', 'setidak', 'tama', 'tidaknya', 'δι', 'арбаң', 'арсалаң', 'афташ', 'бай', 'бале', 'баски', 'батыр', 'баҳри', 'болои', 'бүгжең', 'бұтыр', 'валекин', 'вақте', 'вой', 'вуҷуди', 'гар', 'гарчанде', 'далаң', 'даме', 'ербелең', 'жалт', 'жұлт', 'карда', 'кошки', 'куя', 'күңгір', 'кӣ', 'магар', 'майлаш', 'митың', 'модоме', 'нияти', 'онан', 'оре', 'паһ', 'рӯи', 'салаң', 'сар', 'сұлаң', 'сұрт', 'тарбаң', 'тразе', 'ту', 'тыржың', 'тұрс', 'хом', 'хуб', 'чаро', 'чи', 'чун', 'чунон', 'шарте', 'шұңқ', 'ыржың', 'қадар', 'қайқаң', 'қалт', 'қаңғыр', 'қаңқ', 'қош', 'қызараң', 'құйқаң', 'құлт', 'құңқ', 'ұрс', 'ҳай', 'ҳамин', 'ҳатто', 'ҳо', 'ҳол', 'ҳолате', 'әттеген', 'ӯим', 'अक', 'अग', 'अझ', 'अन', 'अर', 'आजक', 'आत', 'आद', 'आफ', 'आय', 'ईक', 'उद', 'उनक', 'उनल', 'उह', 'एउट', 'एन', 'कog', 'कत', 'कम', 'कस', 'कसर', 'कह', 'गत', 'गय', 'गर', 'चम', 'छन', 'जत', 'जबक', 'जस', 'जसक', 'जसब', 'जसम', 'जसल', 'जह', 'तत', 'तथ', 'तदन', 'तप', 'तवम', 'नज', 'नत', 'नभन', 'नय', 'पक', 'पछ', 'पन', 'पय', 'पर', 'पष', 'पह', 'बन', 'बर', 'भएक', 'भय', 'भव', 'मल', 'यत', 'यथ', 'यद', 'यप', 'यसक', 'यसपछ', 'यसब', 'यसर', 'यह', 'रण', 'रत', 'रमश', 'रह', 'लस', 'वर', 'सक', 'सट', 'सध', 'सपछ', 'सब', 'सम', 'सर', 'सह', 'हन', 'हर', 'हरण', 'ἀλλ']\n",
    "for i in new_stops:\n",
    "    s_stop.add(i)\n",
    "    \n",
    "print(len(s_stop))"
   ]
  },
  {
   "cell_type": "code",
   "execution_count": 163,
   "metadata": {},
   "outputs": [],
   "source": [
    "def tokenizer(strings):\n",
    "        lst = []\n",
    "        for i in strings:\n",
    "            tokens = [word for word in i.split(\" \") if word not in s_stop]\n",
    "            lst.append(tokens)\n",
    "        return lst\n",
    "\n",
    "# # test tokenizer \n",
    "tokelems = tokenizer(tokelems)\n",
    "# print(test_tokes)\n",
    "#     lst.append(no_punct)\n",
    "# df_entertainment.Text = lst"
   ]
  },
  {
   "cell_type": "code",
   "execution_count": 164,
   "metadata": {},
   "outputs": [],
   "source": [
    "def lemmatization(tokens):\n",
    "#     for i in tokens:\n",
    "    \n",
    "    lems = [[lemmatizer.lemmatize(word) for word in sent] for sent in tokens]\n",
    "    return lems\n",
    "tokelems = lemmatization(tokelems)\n"
   ]
  },
  {
   "cell_type": "markdown",
   "metadata": {},
   "source": [
    "# Pipeline"
   ]
  },
  {
   "cell_type": "code",
   "execution_count": 495,
   "metadata": {},
   "outputs": [],
   "source": [
    "def piped(arr):\n",
    "    arr = clean_urls(arr)\n",
    "    arr = base_clean_up(arr)\n",
    "    tokens = tokenizer(arr)\n",
    "    lems = lemmatization(tokens)\n",
    "    lst_final = []\n",
    "    for i in lems:\n",
    "        i = \" \".join(i)\n",
    "        lst_final.append(i)\n",
    "    return lst_final"
   ]
  },
  {
   "cell_type": "markdown",
   "metadata": {},
   "source": [
    "# add 'tokelems' to individual dataframes"
   ]
  },
  {
   "cell_type": "code",
   "execution_count": 740,
   "metadata": {},
   "outputs": [],
   "source": [
    "df['tokelems'] = piped(df.Text.values)"
   ]
  },
  {
   "cell_type": "code",
   "execution_count": 657,
   "metadata": {},
   "outputs": [],
   "source": [
    "df_news['tokelems'] = piped(df_news.Text.values)"
   ]
  },
  {
   "cell_type": "code",
   "execution_count": 658,
   "metadata": {},
   "outputs": [],
   "source": [
    "df_humor['tokelems'] = piped(df_humor.Text.values)"
   ]
  },
  {
   "cell_type": "code",
   "execution_count": 659,
   "metadata": {},
   "outputs": [],
   "source": [
    "df_lifestyle['tokelems'] = piped(df_lifestyle.Text.values)"
   ]
  },
  {
   "cell_type": "code",
   "execution_count": 660,
   "metadata": {},
   "outputs": [],
   "source": [
    "df_television['tokelems'] = piped(df_television.Text.values)"
   ]
  },
  {
   "cell_type": "code",
   "execution_count": 661,
   "metadata": {},
   "outputs": [],
   "source": [
    "df_entertainment['tokelems'] = piped(df_entertainment.Text.values)"
   ]
  },
  {
   "cell_type": "code",
   "execution_count": 662,
   "metadata": {},
   "outputs": [],
   "source": [
    "df_gaming['tokelems'] = piped(df_gaming.Text.values)"
   ]
  },
  {
   "cell_type": "code",
   "execution_count": 663,
   "metadata": {},
   "outputs": [],
   "source": [
    "df_learning['tokelems'] = piped(df_learning.Text.values)"
   ]
  },
  {
   "cell_type": "markdown",
   "metadata": {},
   "source": [
    "### create samples if you want to test on smaller data set quickly"
   ]
  },
  {
   "cell_type": "code",
   "execution_count": null,
   "metadata": {},
   "outputs": [],
   "source": [
    "x_meta = tfidf_vectorizer.fit_transform(df['tokelems']).toarray()\n",
    "rfc_"
   ]
  },
  {
   "cell_type": "markdown",
   "metadata": {},
   "source": []
  },
  {
   "cell_type": "code",
   "execution_count": null,
   "metadata": {
    "scrolled": true
   },
   "outputs": [],
   "source": []
  },
  {
   "cell_type": "markdown",
   "metadata": {},
   "source": [
    "# predict meta"
   ]
  },
  {
   "cell_type": "code",
   "execution_count": 541,
   "metadata": {},
   "outputs": [],
   "source": [
    "tfidf_vectorizer = TfidfVectorizer(max_df=0.965, min_df=.015, stop_words=new_stops)"
   ]
  },
  {
   "cell_type": "code",
   "execution_count": 741,
   "metadata": {},
   "outputs": [],
   "source": [
    "x_meta = tfidf_vectorizer.fit_transform(df['tokelems']).toarray()\n",
    "feats_meta = tfidf_vectorizer.get_feature_names()"
   ]
  },
  {
   "cell_type": "markdown",
   "metadata": {},
   "source": [
    "# Gaming"
   ]
  },
  {
   "cell_type": "code",
   "execution_count": 753,
   "metadata": {},
   "outputs": [],
   "source": [
    "y_meta_gaming = df['meta_gaming']\n",
    "X_train_gaming, X_test_gaming, y_train_gaming, y_test_gaming = train_test_split(x_meta, y_meta_gaming, test_size=0.20)"
   ]
  },
  {
   "cell_type": "code",
   "execution_count": 754,
   "metadata": {
    "scrolled": true
   },
   "outputs": [
    {
     "data": {
      "text/plain": [
       "0.8509824279517096"
      ]
     },
     "execution_count": 754,
     "metadata": {},
     "output_type": "execute_result"
    }
   ],
   "source": [
    "rfc_meta_gaming = RandomForestClassifier(n_estimators=50, max_features='log2', n_jobs = -1,  max_depth = None, oob_score=True)\n",
    "rfc_meta_gaming.fit(X_train_gaming, y_train_gaming)\n",
    "rfc_meta_gaming.oob_score_"
   ]
  },
  {
   "cell_type": "code",
   "execution_count": 743,
   "metadata": {
    "collapsed": true
   },
   "outputs": [
    {
     "data": {
      "text/plain": [
       "[(0.004821735781949641, 'job'),\n",
       " (0.004916527852914273, 'different'),\n",
       " (0.005197629893645958, 'looking'),\n",
       " (0.005675798671240562, 'else'),\n",
       " (0.005820072484920765, 'enough'),\n",
       " (0.005916655564534491, 'everyone'),\n",
       " (0.005917101647419786, 'may'),\n",
       " (0.005961421373314505, 'hard'),\n",
       " (0.00599621051269973, 'might'),\n",
       " (0.006007647242206605, 'big'),\n",
       " (0.006010326189663184, 'everything'),\n",
       " (0.006016681875743121, 'least'),\n",
       " (0.006104713968043671, 'reason'),\n",
       " (0.006106251737369379, 'fucking'),\n",
       " (0.00613422755312064, 'money'),\n",
       " (0.006262395351390746, 'long'),\n",
       " (0.006306329573052639, 'question'),\n",
       " (0.006340428164238054, 'seems'),\n",
       " (0.006412704954393561, 'anything'),\n",
       " (0.006594792737060608, 'done'),\n",
       " (0.006816220042122501, 'part'),\n",
       " (0.006881787983247647, 'place'),\n",
       " (0.006903715758037396, 'point'),\n",
       " (0.006942352935306974, 'friend'),\n",
       " (0.006952623616763545, 'idea'),\n",
       " (0.007097864833453234, 'two'),\n",
       " (0.007122975601190701, 'old'),\n",
       " (0.007190178024250177, 'another'),\n",
       " (0.007241748906244446, 'without'),\n",
       " (0.0072693272678401475, 'keep'),\n",
       " (0.007434321292649668, 'ever'),\n",
       " (0.007520243627979612, 'put'),\n",
       " (0.007693653995170958, 'problem'),\n",
       " (0.007790976603970862, 'change'),\n",
       " (0.007860181979333582, 'mean'),\n",
       " (0.008012891447281487, 'fuck'),\n",
       " (0.008128282408805221, 'anyone'),\n",
       " (0.008403629843780779, 'last'),\n",
       " (0.008414346206230806, 'help'),\n",
       " (0.008569605958787412, 'already'),\n",
       " (0.008686907195853206, 'guy'),\n",
       " (0.008721505403854338, 'probably'),\n",
       " (0.008734882754720293, 'maybe'),\n",
       " (0.008801079512067218, 'around'),\n",
       " (0.00911021595379169, 'many'),\n",
       " (0.009356711892500282, 'away'),\n",
       " (0.009523724274223795, 'look'),\n",
       " (0.009546869784887502, 'give'),\n",
       " (0.009827801906152659, 'say'),\n",
       " (0.009839683024276215, 'find'),\n",
       " (0.010038810577111512, 'gt'),\n",
       " (0.01035971940110856, 'since'),\n",
       " (0.010484882048074367, 'every'),\n",
       " (0.010544207881164657, 'made'),\n",
       " (0.010607041103333274, 'though'),\n",
       " (0.010646400080089383, 'shit'),\n",
       " (0.01102540743891437, 'actually'),\n",
       " (0.01144231293765364, 'always'),\n",
       " (0.011484379156302273, 'someone'),\n",
       " (0.011770826570243568, 'first'),\n",
       " (0.01183202574037836, 'lot'),\n",
       " (0.012041336289301445, 'something'),\n",
       " (0.012195826188272637, 'year'),\n",
       " (0.012229507673097705, 'never'),\n",
       " (0.012473255038273453, 'nice'),\n",
       " (0.01248312445231377, 'show'),\n",
       " (0.01279099716082635, 'thing'),\n",
       " (0.012847824425158009, 'much'),\n",
       " (0.012948851145507787, 'need'),\n",
       " (0.013010685324609746, 'could'),\n",
       " (0.013861190707581572, 'got'),\n",
       " (0.01479833089947388, 'back'),\n",
       " (0.014835871491652452, 'well'),\n",
       " (0.014865093109148448, 'go'),\n",
       " (0.015441570783612557, 'see'),\n",
       " (0.015977101823159166, 'still'),\n",
       " (0.017336174409186337, 'even'),\n",
       " (0.019712510339976785, 'time'),\n",
       " (0.02114358447095893, 'would'),\n",
       " (0.022095283885723096, 'get'),\n",
       " (0.06178929824540444, 'play'),\n",
       " (0.17397060603869133, 'game')]"
      ]
     },
     "execution_count": 743,
     "metadata": {},
     "output_type": "execute_result"
    }
   ],
   "source": [
    "sorted(list(zip(rfc_meta_gaming.feature_importances_, feats_meta)))"
   ]
  },
  {
   "cell_type": "code",
   "execution_count": 756,
   "metadata": {},
   "outputs": [
    {
     "name": "stdout",
     "output_type": "stream",
     "text": [
      "[0.85015678 0.84970109 0.85098171]\n"
     ]
    }
   ],
   "source": [
    "print(cross_val_score(rfc_meta_gaming, X_test_gaming, y_test_gaming, cv=3))"
   ]
  },
  {
   "cell_type": "markdown",
   "metadata": {},
   "source": [
    "### Gaming visualization"
   ]
  },
  {
   "cell_type": "code",
   "execution_count": 796,
   "metadata": {},
   "outputs": [],
   "source": [
    "from sklearn.metrics import confusion_matrix, f1_score, roc_curve, accuracy_score, precision_score, recall_score\n",
    "def plot_confusion_matrix(cm, classes,\n",
    "                          normalize=False,\n",
    "                          title='Confusion matrix',\n",
    "                          cmap=plt.cm.Blues):\n",
    "    \"\"\"\n",
    "    This function prints and plots the confusion matrix.\n",
    "    Normalization can be applied by setting `normalize=True`.\n",
    "    \"\"\"\n",
    "    if normalize:\n",
    "        cm = cm.astype('float') / cm.sum(axis=1)[:, np.newaxis]\n",
    "        print(\"Normalized confusion matrix\")\n",
    "    else:\n",
    "        print('Confusion matrix, without normalization')\n",
    "\n",
    "    print(cm)\n",
    "\n",
    "    plt.imshow(cm, interpolation='nearest', cmap=cmap)\n",
    "    plt.title(title)\n",
    "    plt.colorbar()\n",
    "    tick_marks = np.arange(len(classes))\n",
    "    plt.xticks(tick_marks, classes, rotation=45)\n",
    "    plt.yticks(tick_marks, classes)\n",
    "\n",
    "    fmt = '.2f' if normalize else 'd'\n",
    "    thresh = cm.max() / 2.\n",
    "    for i, j in itertools.product(range(cm.shape[0]), range(cm.shape[1])):\n",
    "        plt.text(j, i, format(cm[i, j], fmt),\n",
    "                 horizontalalignment=\"center\",\n",
    "                 color=\"white\" if cm[i, j] > thresh else \"black\")\n",
    "\n",
    "    plt.tight_layout()\n",
    "    plt.ylabel('True label')\n",
    "    plt.xlabel('Predicted label')\n"
   ]
  },
  {
   "cell_type": "code",
   "execution_count": 797,
   "metadata": {},
   "outputs": [
    {
     "name": "stdout",
     "output_type": "stream",
     "text": [
      "Model precision 0.9108964167787698\n",
      "Model recall 0.3424583214558295\n"
     ]
    }
   ],
   "source": [
    "# Create prediction array.\n",
    "preds_gaming = rfc_meta_gaming.predict(X_test_gaming)\n",
    "\n",
    "# Use the sklearn confusion matrix class to create a confusion matrix, call the variable \"cm\"\n",
    "# so it works with the last line of this cell\n",
    "cm = confusion_matrix(y_test_gaming, preds_gaming)\n",
    "\n",
    "#Print the accuracy_score and f1 score\n",
    "print(\"Model precision {}\".format(precision_score(y_test_gaming, preds_gaming)))\n",
    "print(\"Model recall {}\".format(recall_score(y_test_gaming, preds_gaming)))\n",
    "\n"
   ]
  },
  {
   "cell_type": "code",
   "execution_count": 793,
   "metadata": {},
   "outputs": [
    {
     "data": {
      "text/plain": [
       "array([[388930,   3643],\n",
       "       [ 71507,  37242]])"
      ]
     },
     "execution_count": 793,
     "metadata": {},
     "output_type": "execute_result"
    }
   ],
   "source": [
    "cm"
   ]
  },
  {
   "cell_type": "markdown",
   "metadata": {},
   "source": [
    "# Entertainment"
   ]
  },
  {
   "cell_type": "code",
   "execution_count": 757,
   "metadata": {},
   "outputs": [],
   "source": [
    "y_meta_ent = df['meta_entertainment']\n",
    "X_train_ent, X_test_ent, y_train_ent, y_test_ent = train_test_split(x_meta, y_meta_ent, test_size=0.20)"
   ]
  },
  {
   "cell_type": "code",
   "execution_count": 758,
   "metadata": {},
   "outputs": [
    {
     "data": {
      "text/plain": [
       "0.9010111769537228"
      ]
     },
     "execution_count": 758,
     "metadata": {},
     "output_type": "execute_result"
    }
   ],
   "source": [
    "y_meta_ent = df['meta_entertainment']\n",
    "rfc_meta_entertainment = RandomForestClassifier(n_estimators=50, max_features='log2', n_jobs = -1,  max_depth = None, oob_score=True)\n",
    "rfc_meta_entertainment.fit(X_train_ent, y_train_ent)\n",
    "rfc_meta_entertainment.oob_score_"
   ]
  },
  {
   "cell_type": "code",
   "execution_count": 745,
   "metadata": {
    "collapsed": true
   },
   "outputs": [
    {
     "data": {
      "text/plain": [
       "[(0.005930525304617422, 'problem'),\n",
       " (0.006371317020606162, 'play'),\n",
       " (0.006442130362635647, 'change'),\n",
       " (0.007017786444899626, 'job'),\n",
       " (0.0070554470629204495, 'long'),\n",
       " (0.00719647886759506, 'away'),\n",
       " (0.00728787175290564, 'money'),\n",
       " (0.00732500631930878, 'hard'),\n",
       " (0.007368499987234982, 'fuck'),\n",
       " (0.007509878888094168, 'idea'),\n",
       " (0.007761846070007444, 'may'),\n",
       " (0.007886884947200648, 'without'),\n",
       " (0.007995558511062307, 'around'),\n",
       " (0.008000182239407556, 'different'),\n",
       " (0.008119551269328382, 'place'),\n",
       " (0.008131210252243677, 'else'),\n",
       " (0.008250175905493816, 'old'),\n",
       " (0.008456029946277642, 'big'),\n",
       " (0.00856879133704029, 'mean'),\n",
       " (0.008614184749385849, 'reason'),\n",
       " (0.008691682299100856, 'question'),\n",
       " (0.008736704853308713, 'help'),\n",
       " (0.008773718916311202, 'anything'),\n",
       " (0.008777671745503902, 'least'),\n",
       " (0.00904655893590092, 'keep'),\n",
       " (0.009059598434601654, 'fucking'),\n",
       " (0.009123742411800324, 'everyone'),\n",
       " (0.009269185355861416, 'done'),\n",
       " (0.009539981164741605, 'anyone'),\n",
       " (0.0095589889543771, 'friend'),\n",
       " (0.009572746795390795, 'enough'),\n",
       " (0.009598354475103307, 'nice'),\n",
       " (0.009769265306837251, 'seems'),\n",
       " (0.009830958935137581, 'might'),\n",
       " (0.009904127826648037, 'looking'),\n",
       " (0.009926562255291635, 'put'),\n",
       " (0.009985087113924231, 'game'),\n",
       " (0.010006208427061392, 'someone'),\n",
       " (0.01025687813720282, 'maybe'),\n",
       " (0.010772583044139607, 'everything'),\n",
       " (0.010777292510414488, 'give'),\n",
       " (0.01092142900770213, 'another'),\n",
       " (0.010984246457073698, 'gt'),\n",
       " (0.011110705154790847, 'already'),\n",
       " (0.011338144517236328, 'need'),\n",
       " (0.011405487333498643, 'point'),\n",
       " (0.011453634248574287, 'look'),\n",
       " (0.011466545613426218, 'part'),\n",
       " (0.01154793645777771, 'many'),\n",
       " (0.011773290111677225, 'since'),\n",
       " (0.01178927185724044, 'shit'),\n",
       " (0.011914950827482224, 'find'),\n",
       " (0.011928940547088557, 'ever'),\n",
       " (0.01193814157362497, 'made'),\n",
       " (0.01200154503737582, 'every'),\n",
       " (0.012506563985108455, 'probably'),\n",
       " (0.012634927366867046, 'last'),\n",
       " (0.013228162987412452, 'guy'),\n",
       " (0.01342548425902077, 'always'),\n",
       " (0.013460031578268628, 'never'),\n",
       " (0.013872656105723693, 'though'),\n",
       " (0.013916634824774413, 'two'),\n",
       " (0.014183217127873057, 'actually'),\n",
       " (0.015093725489622916, 'show'),\n",
       " (0.015944383458873022, 'lot'),\n",
       " (0.01594731483165028, 'go'),\n",
       " (0.01658694151958599, 'say'),\n",
       " (0.0166925604675007, 'something'),\n",
       " (0.01692222600105549, 'year'),\n",
       " (0.017548896283444484, 'well'),\n",
       " (0.017752419484102496, 'back'),\n",
       " (0.01798249116177308, 'still'),\n",
       " (0.01925430211374091, 'got'),\n",
       " (0.020332603332548178, 'first'),\n",
       " (0.02043493158473803, 'even'),\n",
       " (0.020745415947865404, 'see'),\n",
       " (0.020882816036263328, 'thing'),\n",
       " (0.021032803832392366, 'could'),\n",
       " (0.021168015305959687, 'get'),\n",
       " (0.02221918926037369, 'much'),\n",
       " (0.03102451447128197, 'time'),\n",
       " (0.03136524730068597, 'would')]"
      ]
     },
     "execution_count": 745,
     "metadata": {},
     "output_type": "execute_result"
    }
   ],
   "source": [
    "sorted(list(zip(rfc_meta_entertainment.feature_importances_, feats_meta)))"
   ]
  },
  {
   "cell_type": "code",
   "execution_count": 784,
   "metadata": {},
   "outputs": [
    {
     "name": "stdout",
     "output_type": "stream",
     "text": [
      "[0.90195562 0.90166779 0.90127284]\n"
     ]
    }
   ],
   "source": [
    "print(cross_val_score(rfc_meta_entertainment, X_test_ent, y_test_ent, cv=3))"
   ]
  },
  {
   "cell_type": "code",
   "execution_count": 798,
   "metadata": {},
   "outputs": [
    {
     "name": "stdout",
     "output_type": "stream",
     "text": [
      "Model precision 0.9300137768155875\n",
      "Model recall 0.3316628765546478\n"
     ]
    }
   ],
   "source": [
    "# Create prediction array.\n",
    "preds_ent = rfc_meta_entertainment.predict(X_test_ent)\n",
    "\n",
    "# Use the sklearn confusion matrix class to create a confusion matrix, call the variable \"cm\"\n",
    "# so it works with the last line of this cell\n",
    "cm_ent = confusion_matrix(y_test_ent, preds_ent)\n",
    "tn, fp, fn, tp = cm\n",
    "cm_ent = np.array([tp, ])\n",
    "array([[388930,   3643],\n",
    "       [ 71507,  37242]])\n",
    "\n",
    "#Print the accuracy_score and f1 score\n",
    "print(\"Model precision {}\".format(precision_score(y_test_ent, preds_ent)))\n",
    "print(\"Model recall {}\".format(recall_score(y_test_ent, preds_ent)))\n"
   ]
  },
  {
   "cell_type": "code",
   "execution_count": null,
   "metadata": {},
   "outputs": [],
   "source": [
    "from sklearn.metrics import plot_confusion_matrix\n",
    "plot_confusion_matrix()"
   ]
  },
  {
   "cell_type": "markdown",
   "metadata": {},
   "source": [
    "# Humor"
   ]
  },
  {
   "cell_type": "code",
   "execution_count": 760,
   "metadata": {},
   "outputs": [],
   "source": [
    "y_meta_humor = df['meta_humor']\n",
    "X_train_hum, X_test_hum, y_train_hum, y_test_hum = train_test_split(x_meta, y_meta_humor, test_size=0.20)"
   ]
  },
  {
   "cell_type": "code",
   "execution_count": 761,
   "metadata": {},
   "outputs": [
    {
     "data": {
      "text/plain": [
       "0.8847411866730298"
      ]
     },
     "execution_count": 761,
     "metadata": {},
     "output_type": "execute_result"
    }
   ],
   "source": [
    "# y_meta_humor = df['meta_humor']\n",
    "rfc_meta_humor = RandomForestClassifier(n_estimators=50, max_features='log2', n_jobs = -1,  max_depth = None, oob_score=True)\n",
    "rfc_meta_humor.fit(X_train_hum, y_train_hum)\n",
    "rfc_meta_humor.oob_score_"
   ]
  },
  {
   "cell_type": "code",
   "execution_count": 747,
   "metadata": {
    "collapsed": true
   },
   "outputs": [
    {
     "data": {
      "text/plain": [
       "[(0.006096559845993284, 'problem'),\n",
       " (0.006336960679442734, 'change'),\n",
       " (0.00639269898568565, 'play'),\n",
       " (0.006775760318966552, 'job'),\n",
       " (0.007080255360804618, 'money'),\n",
       " (0.007159294522834042, 'hard'),\n",
       " (0.007303450080398889, 'away'),\n",
       " (0.007388139970983847, 'fuck'),\n",
       " (0.007633718556378671, 'idea'),\n",
       " (0.007707077976850657, 'without'),\n",
       " (0.007932302188838997, 'long'),\n",
       " (0.008021164906320643, 'around'),\n",
       " (0.00809819768239004, 'different'),\n",
       " (0.008161279587386822, 'may'),\n",
       " (0.00834842555021433, 'old'),\n",
       " (0.008443848696818938, 'else'),\n",
       " (0.008449400191289893, 'reason'),\n",
       " (0.00854939821987684, 'question'),\n",
       " (0.008600286920369267, 'place'),\n",
       " (0.008688792606695696, 'help'),\n",
       " (0.008692806454596462, 'big'),\n",
       " (0.008885328905603482, 'mean'),\n",
       " (0.008895956751250883, 'least'),\n",
       " (0.008965804581678656, 'fucking'),\n",
       " (0.008966842456210065, 'anything'),\n",
       " (0.009113084025941829, 'everyone'),\n",
       " (0.009170995123228208, 'someone'),\n",
       " (0.009379703062023839, 'keep'),\n",
       " (0.009503364496642594, 'nice'),\n",
       " (0.009530046150632097, 'done'),\n",
       " (0.009537330646865658, 'enough'),\n",
       " (0.009552526246648782, 'game'),\n",
       " (0.009589084748107558, 'anyone'),\n",
       " (0.009690712887739856, 'friend'),\n",
       " (0.009769068595291213, 'maybe'),\n",
       " (0.009829615003483689, 'seems'),\n",
       " (0.009925997628205903, 'put'),\n",
       " (0.009992667833962967, 'looking'),\n",
       " (0.010025377943391521, 'might'),\n",
       " (0.01032463207802833, 'already'),\n",
       " (0.010558108288450796, 'give'),\n",
       " (0.010704714116516004, 'need'),\n",
       " (0.010829734691933535, 'everything'),\n",
       " (0.01101129594815274, 'another'),\n",
       " (0.011199876964547445, 'gt'),\n",
       " (0.011248461827546626, 'point'),\n",
       " (0.011429397479803347, 'many'),\n",
       " (0.011615569595017436, 'since'),\n",
       " (0.01162942726107378, 'part'),\n",
       " (0.011805166924113474, 'find'),\n",
       " (0.01185413516288301, 'made'),\n",
       " (0.011922101603368297, 'every'),\n",
       " (0.011969667272940588, 'shit'),\n",
       " (0.011995969306323427, 'last'),\n",
       " (0.01203319010520896, 'look'),\n",
       " (0.012783772107417287, 'ever'),\n",
       " (0.013027528944957602, 'probably'),\n",
       " (0.01357617942906951, 'never'),\n",
       " (0.013598165306125459, 'guy'),\n",
       " (0.013627254010383675, 'two'),\n",
       " (0.013729661623008076, 'always'),\n",
       " (0.013935053211052107, 'actually'),\n",
       " (0.01426441479479943, 'though'),\n",
       " (0.015266117938754301, 'show'),\n",
       " (0.015647384341500738, 'go'),\n",
       " (0.015946302807613884, 'something'),\n",
       " (0.016198047284124113, 'year'),\n",
       " (0.016673212543378686, 'lot'),\n",
       " (0.01683513375963634, 'say'),\n",
       " (0.01706764167520539, 'well'),\n",
       " (0.01797288311893642, 'back'),\n",
       " (0.018029375323601934, 'still'),\n",
       " (0.019540248287524504, 'got'),\n",
       " (0.019630490878921807, 'see'),\n",
       " (0.01978759927488644, 'first'),\n",
       " (0.020691393404600928, 'thing'),\n",
       " (0.020727332526104324, 'even'),\n",
       " (0.021012909255681087, 'could'),\n",
       " (0.021823394851923077, 'get'),\n",
       " (0.022593132273804765, 'much'),\n",
       " (0.03075979978906406, 'time'),\n",
       " (0.030940796221970383, 'would')]"
      ]
     },
     "execution_count": 747,
     "metadata": {},
     "output_type": "execute_result"
    }
   ],
   "source": [
    "sorted(list(zip(rfc_meta_humor.feature_importances_, feats_meta)))"
   ]
  },
  {
   "cell_type": "code",
   "execution_count": 762,
   "metadata": {},
   "outputs": [
    {
     "name": "stdout",
     "output_type": "stream",
     "text": [
      "[0.88469732 0.88534891 0.88479238]\n"
     ]
    }
   ],
   "source": [
    "print(cross_val_score(rfc_meta_humor, X_test_hum, y_test_hum, cv=3))"
   ]
  },
  {
   "cell_type": "markdown",
   "metadata": {},
   "source": [
    "# Learning"
   ]
  },
  {
   "cell_type": "code",
   "execution_count": 765,
   "metadata": {},
   "outputs": [],
   "source": [
    "y_meta_learn = df['meta_learning']\n",
    "X_train_learn, X_test_learn, y_train_learn, y_test_learn = train_test_split(x_meta, y_meta_learn, test_size=0.20)"
   ]
  },
  {
   "cell_type": "code",
   "execution_count": 767,
   "metadata": {},
   "outputs": [
    {
     "data": {
      "text/plain": [
       "(2005287,)"
      ]
     },
     "execution_count": 767,
     "metadata": {},
     "output_type": "execute_result"
    }
   ],
   "source": [
    "y_train_learn.shape"
   ]
  },
  {
   "cell_type": "code",
   "execution_count": 770,
   "metadata": {},
   "outputs": [
    {
     "data": {
      "text/plain": [
       "0.9445500818586068"
      ]
     },
     "execution_count": 770,
     "metadata": {},
     "output_type": "execute_result"
    }
   ],
   "source": [
    "# y_meta_learn = df['meta_learning']\n",
    "rfc_meta_learn = RandomForestClassifier(n_estimators=50, max_features='log2', n_jobs = -1,  max_depth = None, oob_score=True)\n",
    "rfc_meta_learn.fit(X_train_learn, y_train_learn)\n",
    "rfc_meta_learn.oob_score_"
   ]
  },
  {
   "cell_type": "code",
   "execution_count": 749,
   "metadata": {
    "collapsed": true
   },
   "outputs": [
    {
     "data": {
      "text/plain": [
       "[(0.006096559845993284, 'problem'),\n",
       " (0.006336960679442734, 'change'),\n",
       " (0.00639269898568565, 'play'),\n",
       " (0.006775760318966552, 'job'),\n",
       " (0.007080255360804618, 'money'),\n",
       " (0.007159294522834042, 'hard'),\n",
       " (0.007303450080398889, 'away'),\n",
       " (0.007388139970983847, 'fuck'),\n",
       " (0.007633718556378671, 'idea'),\n",
       " (0.007707077976850657, 'without'),\n",
       " (0.007932302188838997, 'long'),\n",
       " (0.008021164906320643, 'around'),\n",
       " (0.00809819768239004, 'different'),\n",
       " (0.008161279587386822, 'may'),\n",
       " (0.00834842555021433, 'old'),\n",
       " (0.008443848696818938, 'else'),\n",
       " (0.008449400191289893, 'reason'),\n",
       " (0.00854939821987684, 'question'),\n",
       " (0.008600286920369267, 'place'),\n",
       " (0.008688792606695696, 'help'),\n",
       " (0.008692806454596462, 'big'),\n",
       " (0.008885328905603482, 'mean'),\n",
       " (0.008895956751250883, 'least'),\n",
       " (0.008965804581678656, 'fucking'),\n",
       " (0.008966842456210065, 'anything'),\n",
       " (0.009113084025941829, 'everyone'),\n",
       " (0.009170995123228208, 'someone'),\n",
       " (0.009379703062023839, 'keep'),\n",
       " (0.009503364496642594, 'nice'),\n",
       " (0.009530046150632097, 'done'),\n",
       " (0.009537330646865658, 'enough'),\n",
       " (0.009552526246648782, 'game'),\n",
       " (0.009589084748107558, 'anyone'),\n",
       " (0.009690712887739856, 'friend'),\n",
       " (0.009769068595291213, 'maybe'),\n",
       " (0.009829615003483689, 'seems'),\n",
       " (0.009925997628205903, 'put'),\n",
       " (0.009992667833962967, 'looking'),\n",
       " (0.010025377943391521, 'might'),\n",
       " (0.01032463207802833, 'already'),\n",
       " (0.010558108288450796, 'give'),\n",
       " (0.010704714116516004, 'need'),\n",
       " (0.010829734691933535, 'everything'),\n",
       " (0.01101129594815274, 'another'),\n",
       " (0.011199876964547445, 'gt'),\n",
       " (0.011248461827546626, 'point'),\n",
       " (0.011429397479803347, 'many'),\n",
       " (0.011615569595017436, 'since'),\n",
       " (0.01162942726107378, 'part'),\n",
       " (0.011805166924113474, 'find'),\n",
       " (0.01185413516288301, 'made'),\n",
       " (0.011922101603368297, 'every'),\n",
       " (0.011969667272940588, 'shit'),\n",
       " (0.011995969306323427, 'last'),\n",
       " (0.01203319010520896, 'look'),\n",
       " (0.012783772107417287, 'ever'),\n",
       " (0.013027528944957602, 'probably'),\n",
       " (0.01357617942906951, 'never'),\n",
       " (0.013598165306125459, 'guy'),\n",
       " (0.013627254010383675, 'two'),\n",
       " (0.013729661623008076, 'always'),\n",
       " (0.013935053211052107, 'actually'),\n",
       " (0.01426441479479943, 'though'),\n",
       " (0.015266117938754301, 'show'),\n",
       " (0.015647384341500738, 'go'),\n",
       " (0.015946302807613884, 'something'),\n",
       " (0.016198047284124113, 'year'),\n",
       " (0.016673212543378686, 'lot'),\n",
       " (0.01683513375963634, 'say'),\n",
       " (0.01706764167520539, 'well'),\n",
       " (0.01797288311893642, 'back'),\n",
       " (0.018029375323601934, 'still'),\n",
       " (0.019540248287524504, 'got'),\n",
       " (0.019630490878921807, 'see'),\n",
       " (0.01978759927488644, 'first'),\n",
       " (0.020691393404600928, 'thing'),\n",
       " (0.020727332526104324, 'even'),\n",
       " (0.021012909255681087, 'could'),\n",
       " (0.021823394851923077, 'get'),\n",
       " (0.022593132273804765, 'much'),\n",
       " (0.03075979978906406, 'time'),\n",
       " (0.030940796221970383, 'would')]"
      ]
     },
     "execution_count": 749,
     "metadata": {},
     "output_type": "execute_result"
    }
   ],
   "source": [
    "sorted(list(zip(rfc_meta_humor.feature_importances_, feats_meta)))"
   ]
  },
  {
   "cell_type": "code",
   "execution_count": 776,
   "metadata": {},
   "outputs": [
    {
     "name": "stdout",
     "output_type": "stream",
     "text": [
      "[0.94390454 0.94380247 0.94416751]\n"
     ]
    }
   ],
   "source": [
    "print(cross_val_score(rfc_meta_learn, X_test_learn, y_test_learn, cv=3))"
   ]
  },
  {
   "cell_type": "markdown",
   "metadata": {},
   "source": [
    "# News"
   ]
  },
  {
   "cell_type": "code",
   "execution_count": 771,
   "metadata": {},
   "outputs": [],
   "source": [
    "y_meta_news = df['meta_news']\n",
    "X_train_news, X_test_news, y_train_news, y_test_news = train_test_split(x_meta, y_meta_news, test_size=0.20)"
   ]
  },
  {
   "cell_type": "code",
   "execution_count": 772,
   "metadata": {},
   "outputs": [
    {
     "data": {
      "text/plain": [
       "0.9077194436507093"
      ]
     },
     "execution_count": 772,
     "metadata": {},
     "output_type": "execute_result"
    }
   ],
   "source": [
    "# y_meta_news = df['meta_news']\n",
    "rfc_meta_news = RandomForestClassifier(n_estimators=50, max_features='log2', n_jobs = -1,  max_depth = None, oob_score=True)\n",
    "rfc_meta_news.fit(X_train_news, y_train_news)\n",
    "rfc_meta_news.oob_score_"
   ]
  },
  {
   "cell_type": "code",
   "execution_count": 751,
   "metadata": {
    "collapsed": true
   },
   "outputs": [
    {
     "data": {
      "text/plain": [
       "[(0.0044202799958007345, 'friend'),\n",
       " (0.004947082330848768, 'looking'),\n",
       " (0.004976859074104878, 'nice'),\n",
       " (0.005011064006277879, 'play'),\n",
       " (0.0059904905527886744, 'question'),\n",
       " (0.0068191451561053365, 'different'),\n",
       " (0.006881297204158495, 'else'),\n",
       " (0.00701375961271807, 'hard'),\n",
       " (0.0076963793428480205, 'maybe'),\n",
       " (0.007702635824951783, 'done'),\n",
       " (0.007905399319956968, 'show'),\n",
       " (0.00800817621328952, 'least'),\n",
       " (0.008092876267103474, 'place'),\n",
       " (0.008268207677164352, 'old'),\n",
       " (0.008350915685344651, 'away'),\n",
       " (0.008402886364404963, 'everything'),\n",
       " (0.00858731718757263, 'last'),\n",
       " (0.008675577579811564, 'though'),\n",
       " (0.00869165024814813, 'part'),\n",
       " (0.008878726056654008, 'enough'),\n",
       " (0.008956948665876222, 'fucking'),\n",
       " (0.009005241704992836, 'look'),\n",
       " (0.009175609575318922, 'change'),\n",
       " (0.009223054551267361, 'already'),\n",
       " (0.009246168572271726, 'long'),\n",
       " (0.009259034309127221, 'made'),\n",
       " (0.009522795733815238, 'reason'),\n",
       " (0.0096398389995773, 'might'),\n",
       " (0.009646720320064783, 'fuck'),\n",
       " (0.009705379383467517, 'everyone'),\n",
       " (0.009705397822781568, 'find'),\n",
       " (0.009923858865032983, 'put'),\n",
       " (0.009958855129977458, 'help'),\n",
       " (0.010092837732676036, 'idea'),\n",
       " (0.010134431861987828, 'probably'),\n",
       " (0.010134934861474076, 'may'),\n",
       " (0.01016762006238372, 'two'),\n",
       " (0.01038320014650219, 'since'),\n",
       " (0.010497674534956982, 'without'),\n",
       " (0.010532129152472753, 'keep'),\n",
       " (0.010577674292831327, 'job'),\n",
       " (0.010620682800562163, 'shit'),\n",
       " (0.010665727629569159, 'anyone'),\n",
       " (0.010864827394063283, 'seems'),\n",
       " (0.010895391635609047, 'big'),\n",
       " (0.011082388460765806, 'game'),\n",
       " (0.011172628254102668, 'got'),\n",
       " (0.01119202817706221, 'ever'),\n",
       " (0.011217032351623055, 'problem'),\n",
       " (0.011265528848531941, 'give'),\n",
       " (0.011306495643694948, 'never'),\n",
       " (0.011358080183651557, 'always'),\n",
       " (0.011505927582776665, 'around'),\n",
       " (0.011705613409229902, 'another'),\n",
       " (0.012397735889046602, 'anything'),\n",
       " (0.012398815986479858, 'mean'),\n",
       " (0.012420927224485527, 'first'),\n",
       " (0.01258500544035809, 'lot'),\n",
       " (0.012610809682775273, 'back'),\n",
       " (0.012639565521017184, 'many'),\n",
       " (0.01316163771029175, 'point'),\n",
       " (0.013190788413701263, 'something'),\n",
       " (0.013259714382173056, 'every'),\n",
       " (0.013428416819686033, 'guy'),\n",
       " (0.013612074355397049, 'actually'),\n",
       " (0.013832923899721713, 'still'),\n",
       " (0.015238067336500936, 'someone'),\n",
       " (0.017683323243763118, 'much'),\n",
       " (0.017863437423215885, 'say'),\n",
       " (0.018051712654588874, 'need'),\n",
       " (0.0188720664500357, 'well'),\n",
       " (0.018977378040358553, 'time'),\n",
       " (0.019471475581788137, 'go'),\n",
       " (0.019631254318085472, 'year'),\n",
       " (0.01970762477942865, 'even'),\n",
       " (0.019950755312176036, 'thing'),\n",
       " (0.020126111584934377, 'see'),\n",
       " (0.022187198822558582, 'could'),\n",
       " (0.026808171662065866, 'get'),\n",
       " (0.027005435259737167, 'money'),\n",
       " (0.032497765612954095, 'would'),\n",
       " (0.034727322242523756, 'gt')]"
      ]
     },
     "execution_count": 751,
     "metadata": {},
     "output_type": "execute_result"
    }
   ],
   "source": [
    "sorted(list(zip(rfc_meta_news.feature_importances_, feats_meta)))"
   ]
  },
  {
   "cell_type": "code",
   "execution_count": 777,
   "metadata": {},
   "outputs": [
    {
     "name": "stdout",
     "output_type": "stream",
     "text": [
      "[0.90713191 0.90745451 0.90732285]\n"
     ]
    }
   ],
   "source": [
    "print(cross_val_score(rfc_meta_news, X_test_news, y_test_news, cv=3))"
   ]
  },
  {
   "cell_type": "markdown",
   "metadata": {},
   "source": [
    "# TV"
   ]
  },
  {
   "cell_type": "code",
   "execution_count": 775,
   "metadata": {},
   "outputs": [],
   "source": [
    "y_meta_tv = df['meta_television']\n",
    "X_train_tv, X_test_tv, y_train_tv, y_test_tv = train_test_split(x_meta, y_meta_tv, test_size=0.20)"
   ]
  },
  {
   "cell_type": "code",
   "execution_count": 778,
   "metadata": {
    "scrolled": true
   },
   "outputs": [
    {
     "data": {
      "text/plain": [
       "0.9224350429639249"
      ]
     },
     "execution_count": 778,
     "metadata": {},
     "output_type": "execute_result"
    }
   ],
   "source": [
    "# y_meta_tv = df['meta_television']\n",
    "rfc_meta_tv = RandomForestClassifier(n_estimators=50, max_features='log2', n_jobs = -1,  max_depth = None, oob_score=True)\n",
    "rfc_meta_tv.fit(X_train_tv, y_train_tv)\n",
    "rfc_meta_tv.oob_score_"
   ]
  },
  {
   "cell_type": "code",
   "execution_count": null,
   "metadata": {},
   "outputs": [],
   "source": [
    "sorted(list(zip(rfc_meta_tv.feature_importances_, feats_meta)))"
   ]
  },
  {
   "cell_type": "code",
   "execution_count": 779,
   "metadata": {},
   "outputs": [
    {
     "name": "stdout",
     "output_type": "stream",
     "text": [
      "[0.92307968 0.92302537 0.92257057]\n"
     ]
    }
   ],
   "source": [
    "print(cross_val_score(rfc_meta_tv, X_test_tv, y_test_tv, cv=3))"
   ]
  },
  {
   "cell_type": "markdown",
   "metadata": {},
   "source": [
    "# Lifestyle"
   ]
  },
  {
   "cell_type": "code",
   "execution_count": 781,
   "metadata": {},
   "outputs": [],
   "source": [
    "y_meta_life = df['meta_lifestyle']\n",
    "X_train_life, X_test_life, y_train_life, y_test_life = train_test_split(x_meta, y_meta_life, test_size=0.20)"
   ]
  },
  {
   "cell_type": "code",
   "execution_count": 782,
   "metadata": {},
   "outputs": [
    {
     "data": {
      "text/plain": [
       "0.9133395868022881"
      ]
     },
     "execution_count": 782,
     "metadata": {},
     "output_type": "execute_result"
    }
   ],
   "source": [
    "y_meta_life = df['meta_lifestyle']\n",
    "rfc_meta_life = RandomForestClassifier(n_estimators=50, max_features='log2', n_jobs = -1,  max_depth = None, oob_score=True)\n",
    "rfc_meta_life.fit(X_train_life, y_train_life)\n",
    "rfc_meta_life.oob_score_"
   ]
  },
  {
   "cell_type": "code",
   "execution_count": null,
   "metadata": {},
   "outputs": [],
   "source": [
    "sorted(list(zip(rfc_meta_life.feature_importances_, feats_meta)))"
   ]
  },
  {
   "cell_type": "code",
   "execution_count": 783,
   "metadata": {},
   "outputs": [
    {
     "name": "stdout",
     "output_type": "stream",
     "text": [
      "[0.91324174 0.91198454 0.91307366]\n"
     ]
    }
   ],
   "source": [
    "print(cross_val_score(rfc_meta_life, X_test_life, y_test_life, cv=3))"
   ]
  },
  {
   "cell_type": "code",
   "execution_count": null,
   "metadata": {},
   "outputs": [],
   "source": [
    "meta_model_names = ['Gaming', 'Entertainment', 'Humor', 'Learning', 'News', 'Television', 'Lifestyle']\n",
    "meta_models = [rfc_meta_gaming, rfc_meta_entertainment,rfc_meta_humor, rfc_meta_learn, rfc_meta_news, rfc_meta_tv, rfc_meta_life]"
   ]
  },
  {
   "cell_type": "markdown",
   "metadata": {},
   "source": [
    "# predict meta\n"
   ]
  },
  {
   "cell_type": "code",
   "execution_count": null,
   "metadata": {},
   "outputs": [],
   "source": [
    "x_meta = tfidf_vectorizer.fit_transform(df['tokelems']).toarray()"
   ]
  },
  {
   "cell_type": "code",
   "execution_count": 814,
   "metadata": {},
   "outputs": [
    {
     "data": {
      "text/plain": [
       "[(array([[0.82636327, 0.17363673]]), 'Gaming'),\n",
       " (array([[0.7880882, 0.2119118]]), 'Entertainment'),\n",
       " (array([[0.88546995, 0.11453005]]), 'Humor'),\n",
       " (array([[0.90545273, 0.09454727]]), 'Learning'),\n",
       " (array([[0.90928748, 0.09071252]]), 'News'),\n",
       " (array([[0.79710595, 0.20289405]]), 'Television'),\n",
       " (array([[0.8924007, 0.1075993]]), 'Lifestyle')]"
      ]
     },
     "execution_count": 814,
     "metadata": {},
     "output_type": "execute_result"
    }
   ],
   "source": [
    "game_string = ['Gears of war and halo were my childhood. i loved playing those games on the xbox more than anything. everyday my brothers and i would play together. we beat the campaign']\n",
    "anime_strings = ['Little Witch Academia is the best anime ever written. its just like harry potter for weebs']\n",
    "politic_string = ['i am still not sure if bernie sanders is the candidate for me. clinton and other more typical democrats really tend to speak more to me than those on the far left. furthermore, i dont like the idea of socialism']\n",
    "random_string = ['Little Witch Academia is a great show. i love watching it with my family and it is so much better than harry potter ever was. when i get home to watch this anime with my family, i truly feel like it is an surreal experience. other anime and movies and cartoons cannot compare']\n",
    "def predict_meta(test_strings):\n",
    "    test_strings = clean_urls(Test_strings)\n",
    "    test_strings = base_clean_up(test_strings)\n",
    "    test_strings = tokenizer(test_strings)\n",
    "    test_strings = lemmatization(test_strings)\n",
    "    lsttest =[]\n",
    "    for i in test_strings:\n",
    "        i = \" \".join(i)\n",
    "        lsttest.append(i)\n",
    "    \n",
    "    vectors = tfidf_vectorizer.transform(lsttest).toarray()\n",
    "    meta_model_names = ['Gaming', 'Entertainment', 'Humor', 'Learning', 'News', 'Television', 'Lifestyle']\n",
    "    meta_models = [rfc_meta_gaming, rfc_meta_entertainment,rfc_meta_humor, rfc_meta_learn, rfc_meta_news, rfc_meta_tv, rfc_meta_life]    \n",
    "\n",
    "    probs = []\n",
    "    for i in meta_models:\n",
    "        probs.append(i.predict_proba(vectors))\n",
    "    return (list(zip(probs, meta_model_names)))\n",
    "predict_meta(politic_string)"
   ]
  },
  {
   "cell_type": "markdown",
   "metadata": {},
   "source": [
    "Instantiate vectorizer"
   ]
  },
  {
   "cell_type": "code",
   "execution_count": 808,
   "metadata": {},
   "outputs": [
    {
     "data": {
      "text/plain": [
       "array(['movies', 'harrypotter', 'music', 'anime', 'comicbooks',\n",
       "       'starwars'], dtype=object)"
      ]
     },
     "execution_count": 808,
     "metadata": {},
     "output_type": "execute_result"
    }
   ],
   "source": [
    "df_entertainment.Subreddit.unique()"
   ]
  },
  {
   "cell_type": "markdown",
   "metadata": {},
   "source": [
    "# Testing the entertainment column"
   ]
  },
  {
   "cell_type": "markdown",
   "metadata": {},
   "source": [
    "### Entertainment"
   ]
  },
  {
   "cell_type": "code",
   "execution_count": 888,
   "metadata": {},
   "outputs": [
    {
     "data": {
      "text/html": [
       "<div>\n",
       "<style scoped>\n",
       "    .dataframe tbody tr th:only-of-type {\n",
       "        vertical-align: middle;\n",
       "    }\n",
       "\n",
       "    .dataframe tbody tr th {\n",
       "        vertical-align: top;\n",
       "    }\n",
       "\n",
       "    .dataframe thead th {\n",
       "        text-align: right;\n",
       "    }\n",
       "</style>\n",
       "<table border=\"1\" class=\"dataframe\">\n",
       "  <thead>\n",
       "    <tr style=\"text-align: right;\">\n",
       "      <th></th>\n",
       "      <th>Text</th>\n",
       "      <th>ID</th>\n",
       "      <th>meta</th>\n",
       "      <th>Time</th>\n",
       "      <th>Username</th>\n",
       "      <th>Upvotes</th>\n",
       "      <th>Downvotes</th>\n",
       "      <th>Author_link_karma</th>\n",
       "      <th>Author_Comment_Karma</th>\n",
       "      <th>Author_has_gold?</th>\n",
       "      <th>Tokelems</th>\n",
       "      <th>Subreddit_anime</th>\n",
       "      <th>Subreddit_comicbooks</th>\n",
       "      <th>Subreddit_harrypotter</th>\n",
       "      <th>Subreddit_movies</th>\n",
       "      <th>Subreddit_music</th>\n",
       "      <th>Subreddit_starwars</th>\n",
       "    </tr>\n",
       "  </thead>\n",
       "  <tbody>\n",
       "    <tr>\n",
       "      <th>1446458</th>\n",
       "      <td>i can not wait to see him whoop some intergala...</td>\n",
       "      <td>d02nuw8</td>\n",
       "      <td>entertainment</td>\n",
       "      <td>1.455673e+09</td>\n",
       "      <td>cmonster1697</td>\n",
       "      <td>1.0</td>\n",
       "      <td>0.0</td>\n",
       "      <td>488.0</td>\n",
       "      <td>8426.0</td>\n",
       "      <td>0.0</td>\n",
       "      <td>wait see whoop intergalactic alien butt rogue ...</td>\n",
       "      <td>0</td>\n",
       "      <td>0</td>\n",
       "      <td>0</td>\n",
       "      <td>1</td>\n",
       "      <td>0</td>\n",
       "      <td>0</td>\n",
       "    </tr>\n",
       "    <tr>\n",
       "      <th>1446459</th>\n",
       "      <td>amazing cinematographer. one of the best to ev...</td>\n",
       "      <td>d02q51i</td>\n",
       "      <td>entertainment</td>\n",
       "      <td>1.455676e+09</td>\n",
       "      <td>BrodoFagginsIsMyName</td>\n",
       "      <td>1.0</td>\n",
       "      <td>0.0</td>\n",
       "      <td>1.0</td>\n",
       "      <td>457.0</td>\n",
       "      <td>0.0</td>\n",
       "      <td>amazing cinematographer best ever</td>\n",
       "      <td>0</td>\n",
       "      <td>0</td>\n",
       "      <td>0</td>\n",
       "      <td>1</td>\n",
       "      <td>0</td>\n",
       "      <td>0</td>\n",
       "    </tr>\n",
       "    <tr>\n",
       "      <th>1446463</th>\n",
       "      <td>you 've finally had your life changed .</td>\n",
       "      <td>d02uuym</td>\n",
       "      <td>entertainment</td>\n",
       "      <td>1.455684e+09</td>\n",
       "      <td>BrodoFagginsIsMyName</td>\n",
       "      <td>3.0</td>\n",
       "      <td>0.0</td>\n",
       "      <td>1.0</td>\n",
       "      <td>457.0</td>\n",
       "      <td>0.0</td>\n",
       "      <td>finally life changed</td>\n",
       "      <td>0</td>\n",
       "      <td>0</td>\n",
       "      <td>0</td>\n",
       "      <td>1</td>\n",
       "      <td>0</td>\n",
       "      <td>0</td>\n",
       "    </tr>\n",
       "    <tr>\n",
       "      <th>1446464</th>\n",
       "      <td>that is awesome ! thanks !</td>\n",
       "      <td>d02ftgc</td>\n",
       "      <td>entertainment</td>\n",
       "      <td>1.455661e+09</td>\n",
       "      <td>JeopardyThis</td>\n",
       "      <td>3.0</td>\n",
       "      <td>0.0</td>\n",
       "      <td>1.0</td>\n",
       "      <td>-7.0</td>\n",
       "      <td>0.0</td>\n",
       "      <td>awesome  thanks</td>\n",
       "      <td>0</td>\n",
       "      <td>0</td>\n",
       "      <td>0</td>\n",
       "      <td>1</td>\n",
       "      <td>0</td>\n",
       "      <td>0</td>\n",
       "    </tr>\n",
       "    <tr>\n",
       "      <th>1446465</th>\n",
       "      <td>that tom cruise 's character , john anderton ,...</td>\n",
       "      <td>465qz3</td>\n",
       "      <td>entertainment</td>\n",
       "      <td>1.455672e+09</td>\n",
       "      <td>tangowhiskey33</td>\n",
       "      <td>16.0</td>\n",
       "      <td>0.0</td>\n",
       "      <td>7346.0</td>\n",
       "      <td>6138.0</td>\n",
       "      <td>0.0</td>\n",
       "      <td>tom cruise character  john anderton  kidnaps p...</td>\n",
       "      <td>0</td>\n",
       "      <td>0</td>\n",
       "      <td>0</td>\n",
       "      <td>1</td>\n",
       "      <td>0</td>\n",
       "      <td>0</td>\n",
       "    </tr>\n",
       "    <tr>\n",
       "      <th>...</th>\n",
       "      <td>...</td>\n",
       "      <td>...</td>\n",
       "      <td>...</td>\n",
       "      <td>...</td>\n",
       "      <td>...</td>\n",
       "      <td>...</td>\n",
       "      <td>...</td>\n",
       "      <td>...</td>\n",
       "      <td>...</td>\n",
       "      <td>...</td>\n",
       "      <td>...</td>\n",
       "      <td>...</td>\n",
       "      <td>...</td>\n",
       "      <td>...</td>\n",
       "      <td>...</td>\n",
       "      <td>...</td>\n",
       "      <td>...</td>\n",
       "    </tr>\n",
       "    <tr>\n",
       "      <th>1826308</th>\n",
       "      <td>i love it ! ! !</td>\n",
       "      <td>d026lj4</td>\n",
       "      <td>entertainment</td>\n",
       "      <td>1.455648e+09</td>\n",
       "      <td>elbowsss</td>\n",
       "      <td>2.0</td>\n",
       "      <td>0.0</td>\n",
       "      <td>2212.0</td>\n",
       "      <td>8637.0</td>\n",
       "      <td>1.0</td>\n",
       "      <td>love</td>\n",
       "      <td>0</td>\n",
       "      <td>0</td>\n",
       "      <td>1</td>\n",
       "      <td>0</td>\n",
       "      <td>0</td>\n",
       "      <td>0</td>\n",
       "    </tr>\n",
       "    <tr>\n",
       "      <th>1826309</th>\n",
       "      <td>you are the type of ra i hope i can be if i ma...</td>\n",
       "      <td>d02qfaf</td>\n",
       "      <td>entertainment</td>\n",
       "      <td>1.455677e+09</td>\n",
       "      <td>DEP61</td>\n",
       "      <td>2.0</td>\n",
       "      <td>0.0</td>\n",
       "      <td>5581.0</td>\n",
       "      <td>13488.0</td>\n",
       "      <td>0.0</td>\n",
       "      <td>type ra hope manage get selected  current ra g...</td>\n",
       "      <td>0</td>\n",
       "      <td>0</td>\n",
       "      <td>1</td>\n",
       "      <td>0</td>\n",
       "      <td>0</td>\n",
       "      <td>0</td>\n",
       "    </tr>\n",
       "    <tr>\n",
       "      <th>1826310</th>\n",
       "      <td>this was my bulletin board for the month too :...</td>\n",
       "      <td>d02rem2</td>\n",
       "      <td>entertainment</td>\n",
       "      <td>1.455678e+09</td>\n",
       "      <td>laneebird</td>\n",
       "      <td>2.0</td>\n",
       "      <td>0.0</td>\n",
       "      <td>43.0</td>\n",
       "      <td>8.0</td>\n",
       "      <td>0.0</td>\n",
       "      <td>bulletin board month  p</td>\n",
       "      <td>0</td>\n",
       "      <td>0</td>\n",
       "      <td>1</td>\n",
       "      <td>0</td>\n",
       "      <td>0</td>\n",
       "      <td>0</td>\n",
       "    </tr>\n",
       "    <tr>\n",
       "      <th>1826311</th>\n",
       "      <td>that 's so excellent ! i would be so pleased t...</td>\n",
       "      <td>d02ecuj</td>\n",
       "      <td>entertainment</td>\n",
       "      <td>1.455659e+09</td>\n",
       "      <td>GoodniteMush</td>\n",
       "      <td>1.0</td>\n",
       "      <td>0.0</td>\n",
       "      <td>1.0</td>\n",
       "      <td>681.0</td>\n",
       "      <td>0.0</td>\n",
       "      <td>excellent  would pleased find first day great ...</td>\n",
       "      <td>0</td>\n",
       "      <td>0</td>\n",
       "      <td>1</td>\n",
       "      <td>0</td>\n",
       "      <td>0</td>\n",
       "      <td>0</td>\n",
       "    </tr>\n",
       "    <tr>\n",
       "      <th>1826312</th>\n",
       "      <td>when i was an ra , my favorite bulletin board ...</td>\n",
       "      <td>d02w08k</td>\n",
       "      <td>entertainment</td>\n",
       "      <td>1.455687e+09</td>\n",
       "      <td>billclintonsbunghole</td>\n",
       "      <td>1.0</td>\n",
       "      <td>0.0</td>\n",
       "      <td>11.0</td>\n",
       "      <td>1156.0</td>\n",
       "      <td>0.0</td>\n",
       "      <td>ra  favorite bulletin board ever  university h...</td>\n",
       "      <td>0</td>\n",
       "      <td>0</td>\n",
       "      <td>1</td>\n",
       "      <td>0</td>\n",
       "      <td>0</td>\n",
       "      <td>0</td>\n",
       "    </tr>\n",
       "  </tbody>\n",
       "</table>\n",
       "<p>357672 rows × 17 columns</p>\n",
       "</div>"
      ],
      "text/plain": [
       "                                                      Text       ID  \\\n",
       "1446458  i can not wait to see him whoop some intergala...  d02nuw8   \n",
       "1446459  amazing cinematographer. one of the best to ev...  d02q51i   \n",
       "1446463            you 've finally had your life changed .  d02uuym   \n",
       "1446464                         that is awesome ! thanks !  d02ftgc   \n",
       "1446465  that tom cruise 's character , john anderton ,...   465qz3   \n",
       "...                                                    ...      ...   \n",
       "1826308                                    i love it ! ! !  d026lj4   \n",
       "1826309  you are the type of ra i hope i can be if i ma...  d02qfaf   \n",
       "1826310  this was my bulletin board for the month too :...  d02rem2   \n",
       "1826311  that 's so excellent ! i would be so pleased t...  d02ecuj   \n",
       "1826312  when i was an ra , my favorite bulletin board ...  d02w08k   \n",
       "\n",
       "                  meta          Time              Username  Upvotes  \\\n",
       "1446458  entertainment  1.455673e+09          cmonster1697      1.0   \n",
       "1446459  entertainment  1.455676e+09  BrodoFagginsIsMyName      1.0   \n",
       "1446463  entertainment  1.455684e+09  BrodoFagginsIsMyName      3.0   \n",
       "1446464  entertainment  1.455661e+09          JeopardyThis      3.0   \n",
       "1446465  entertainment  1.455672e+09        tangowhiskey33     16.0   \n",
       "...                ...           ...                   ...      ...   \n",
       "1826308  entertainment  1.455648e+09              elbowsss      2.0   \n",
       "1826309  entertainment  1.455677e+09                 DEP61      2.0   \n",
       "1826310  entertainment  1.455678e+09             laneebird      2.0   \n",
       "1826311  entertainment  1.455659e+09          GoodniteMush      1.0   \n",
       "1826312  entertainment  1.455687e+09  billclintonsbunghole      1.0   \n",
       "\n",
       "         Downvotes  Author_link_karma  Author_Comment_Karma  Author_has_gold?  \\\n",
       "1446458        0.0              488.0                8426.0               0.0   \n",
       "1446459        0.0                1.0                 457.0               0.0   \n",
       "1446463        0.0                1.0                 457.0               0.0   \n",
       "1446464        0.0                1.0                  -7.0               0.0   \n",
       "1446465        0.0             7346.0                6138.0               0.0   \n",
       "...            ...                ...                   ...               ...   \n",
       "1826308        0.0             2212.0                8637.0               1.0   \n",
       "1826309        0.0             5581.0               13488.0               0.0   \n",
       "1826310        0.0               43.0                   8.0               0.0   \n",
       "1826311        0.0                1.0                 681.0               0.0   \n",
       "1826312        0.0               11.0                1156.0               0.0   \n",
       "\n",
       "                                                  Tokelems  Subreddit_anime  \\\n",
       "1446458  wait see whoop intergalactic alien butt rogue ...                0   \n",
       "1446459                amazing cinematographer best ever                  0   \n",
       "1446463                             finally life changed                  0   \n",
       "1446464                                  awesome  thanks                  0   \n",
       "1446465  tom cruise character  john anderton  kidnaps p...                0   \n",
       "...                                                    ...              ...   \n",
       "1826308                                           love                    0   \n",
       "1826309  type ra hope manage get selected  current ra g...                0   \n",
       "1826310                           bulletin board month  p                 0   \n",
       "1826311  excellent  would pleased find first day great ...                0   \n",
       "1826312  ra  favorite bulletin board ever  university h...                0   \n",
       "\n",
       "         Subreddit_comicbooks  Subreddit_harrypotter  Subreddit_movies  \\\n",
       "1446458                     0                      0                 1   \n",
       "1446459                     0                      0                 1   \n",
       "1446463                     0                      0                 1   \n",
       "1446464                     0                      0                 1   \n",
       "1446465                     0                      0                 1   \n",
       "...                       ...                    ...               ...   \n",
       "1826308                     0                      1                 0   \n",
       "1826309                     0                      1                 0   \n",
       "1826310                     0                      1                 0   \n",
       "1826311                     0                      1                 0   \n",
       "1826312                     0                      1                 0   \n",
       "\n",
       "         Subreddit_music  Subreddit_starwars  \n",
       "1446458                0                   0  \n",
       "1446459                0                   0  \n",
       "1446463                0                   0  \n",
       "1446464                0                   0  \n",
       "1446465                0                   0  \n",
       "...                  ...                 ...  \n",
       "1826308                0                   0  \n",
       "1826309                0                   0  \n",
       "1826310                0                   0  \n",
       "1826311                0                   0  \n",
       "1826312                0                   0  \n",
       "\n",
       "[357672 rows x 17 columns]"
      ]
     },
     "execution_count": 888,
     "metadata": {},
     "output_type": "execute_result"
    }
   ],
   "source": [
    "dummiezed"
   ]
  },
  {
   "cell_type": "markdown",
   "metadata": {},
   "source": [
    "## Entertainment"
   ]
  },
  {
   "cell_type": "code",
   "execution_count": 848,
   "metadata": {},
   "outputs": [],
   "source": [
    "X_ent = tfidf_vectorizer.fit_transform(dummiezed['Tokelems']).toarray()\n",
    "feats_ent = tfidf_vectorizer.get_feature_names()"
   ]
  },
  {
   "cell_type": "markdown",
   "metadata": {},
   "source": [
    "### Anime"
   ]
  },
  {
   "cell_type": "code",
   "execution_count": 824,
   "metadata": {},
   "outputs": [],
   "source": [
    "y_anime = dummiezed['Subreddit_anime']\n",
    "X_train_anime, X_test_anime, y_train_anime, y_test_anime = train_test_split(X_ent, y_anime, test_size=0.20)"
   ]
  },
  {
   "cell_type": "code",
   "execution_count": 853,
   "metadata": {},
   "outputs": [
    {
     "name": "stdout",
     "output_type": "stream",
     "text": [
      "(286137, 110) (71535, 110) (286137,) (71535,)\n",
      "(357672, 160)\n"
     ]
    }
   ],
   "source": [
    "print(X_train_anime.shape, X_test_anime.shape, y_train_anime.shape, y_test_anime.shape)\n",
    "print(X_ent.shape)"
   ]
  },
  {
   "cell_type": "code",
   "execution_count": 827,
   "metadata": {},
   "outputs": [
    {
     "name": "stdout",
     "output_type": "stream",
     "text": [
      "[0.69593079 0.6987774  0.69154282]\n"
     ]
    }
   ],
   "source": [
    "rfc_anime =RandomForestClassifier(n_estimators=50, max_features='log2', n_jobs = -1,  max_depth = None)\n",
    "rfc_anime.fit(X_train_anime, y_train_anime)\n",
    "\n",
    "print(cross_val_score(rfc_anime, X_test_anime, y_test_anime, cv=3, scoring = 'f1'))\n"
   ]
  },
  {
   "cell_type": "code",
   "execution_count": 926,
   "metadata": {},
   "outputs": [
    {
     "name": "stdout",
     "output_type": "stream",
     "text": [
      "Normalized confusion matrix\n",
      "[[0.99428031 0.00571969]\n",
      " [0.29810471 0.70189529]]\n"
     ]
    },
    {
     "data": {
      "text/plain": [
       "array([268227,   1543,  26204,  61698])"
      ]
     },
     "execution_count": 926,
     "metadata": {},
     "output_type": "execute_result"
    },
    {
     "data": {
      "image/png": "[encoded data removed]",
      "text/plain": [
       "<Figure size 576x396 with 2 Axes>"
      ]
     },
     "metadata": {},
     "output_type": "display_data"
    }
   ],
   "source": [
    "import itertools\n",
    "pred = rfc_anime_full.predict(X_ent)\n",
    "cm = confusion_matrix(y_anime, pred)\n",
    "# tn, fp, fn, tp = cm\n",
    "\n",
    "plot_confusion_matrix(cm, [\"Not in Anime\", \"Anime\"], normalize = 'all', cmap = \"OrRd\")\n",
    "cm.ravel()"
   ]
  },
  {
   "cell_type": "code",
   "execution_count": 828,
   "metadata": {
    "collapsed": true
   },
   "outputs": [
    {
     "data": {
      "text/plain": [
       "[(0.0019259397482239524, 'would'),\n",
       " (0.001936017634228288, 'least'),\n",
       " (0.002470192397232392, 'watch'),\n",
       " (0.002532240486803361, 'ever'),\n",
       " (0.002547761063435647, 'series'),\n",
       " (0.0025504744281263474, 'first'),\n",
       " (0.0025610307061039116, 'without'),\n",
       " (0.0026262961771151934, 'favorite'),\n",
       " (0.002656172822848171, 'watched'),\n",
       " (0.0026658907350136356, 'show'),\n",
       " (0.0027046193951050183, 'nice'),\n",
       " (0.0027279573921246626, 'dark'),\n",
       " (0.0027356562358888544, 'movie'),\n",
       " (0.002737399811209283, 'find'),\n",
       " (0.002776696475035548, 'though'),\n",
       " (0.0027795679941952202, 'kid'),\n",
       " (0.002817705283690343, 'friend'),\n",
       " (0.0028571892663975273, 'story'),\n",
       " (0.002857867868980416, 'around'),\n",
       " (0.002896965776452426, 'big'),\n",
       " (0.0029352875519486144, 'death'),\n",
       " (0.002986692922835178, 'deadpool'),\n",
       " (0.0030444346908095987, 'fan'),\n",
       " (0.003066157556095549, 'seems'),\n",
       " (0.003191121946110235, 'real'),\n",
       " (0.003203857522168424, 'issue'),\n",
       " (0.0032107977325530157, 'next'),\n",
       " (0.003226640623959252, 'keep'),\n",
       " (0.0032403919811429495, 'go'),\n",
       " (0.003280296560173956, 'give'),\n",
       " (0.003334043511221811, 'back'),\n",
       " (0.003344040054075968, 'watching'),\n",
       " (0.0033779041573571028, 'could'),\n",
       " (0.003440165742102539, 'enough'),\n",
       " (0.003476377208557049, 'place'),\n",
       " (0.0034767526980012033, 'never'),\n",
       " (0.003488323809379112, 'gt'),\n",
       " (0.0034988433528484546, 'yet'),\n",
       " (0.0035028351025605366, 'harry'),\n",
       " (0.003625581366789881, 'girl'),\n",
       " (0.0036261222880620975, 'since'),\n",
       " (0.0036721059648417453, 'need'),\n",
       " (0.003674492246467849, 'year'),\n",
       " (0.0036744935748827135, 'shit'),\n",
       " (0.0037098840087680805, 'got'),\n",
       " (0.003718177859698454, 'book'),\n",
       " (0.0037548406042848294, 'put'),\n",
       " (0.0037651470315630165, 'old'),\n",
       " (0.0038782374344869595, 'probably'),\n",
       " (0.003931153308531876, 'much'),\n",
       " (0.00406972588346562, 'character'),\n",
       " (0.004115801290632489, 'everything'),\n",
       " (0.004139714421788078, 'time'),\n",
       " (0.0041899010927428735, 'point'),\n",
       " (0.004271202143804253, 'part'),\n",
       " (0.004283153720820407, 'whole'),\n",
       " (0.004298032650509297, 'trying'),\n",
       " (0.004404415597838648, 'another'),\n",
       " (0.004461568468431608, 'game'),\n",
       " (0.0045232446572152476, 'song'),\n",
       " (0.00458839470793433, 'actually'),\n",
       " (0.004628485124277869, 'might'),\n",
       " (0.004730043848709367, 'long'),\n",
       " (0.004748255266318711, 'black'),\n",
       " (0.004811626997092016, 'anything'),\n",
       " (0.004846641059853688, 'look'),\n",
       " (0.004902701084723804, 'album'),\n",
       " (0.0049088204390199145, 'everyone'),\n",
       " (0.004912848616655363, 'star'),\n",
       " (0.0049231988519167665, 'else'),\n",
       " (0.00501870022829196, 'top'),\n",
       " (0.0050767413427233905, 'every'),\n",
       " (0.005142150195065099, 'get'),\n",
       " (0.005145351108172364, 'please'),\n",
       " (0.0052684043827842635, 'thing'),\n",
       " (0.005314334096133054, 'already'),\n",
       " (0.00545269257226608, 'reason'),\n",
       " (0.005496662029219564, 'maybe'),\n",
       " (0.005574534223336846, 'interesting'),\n",
       " (0.005621465572844211, 'kanye'),\n",
       " (0.005843437154372234, 'made'),\n",
       " (0.005908996768911512, 'two'),\n",
       " (0.005938679524121769, 'guess'),\n",
       " (0.005982511158379964, 'always'),\n",
       " (0.00606858260119942, 'mean'),\n",
       " (0.006163108303783883, 'still'),\n",
       " (0.006189049492575626, 'even'),\n",
       " (0.00648730867966694, 'looking'),\n",
       " (0.006646063054144312, 'may'),\n",
       " (0.006761702305771781, 'sound'),\n",
       " (0.006803632826566249, 'second'),\n",
       " (0.00709468774595003, 'well'),\n",
       " (0.007216188647826742, 'question'),\n",
       " (0.007342213448976484, 'something'),\n",
       " (0.0073628644287902665, 'fucking'),\n",
       " (0.00783871899636334, 'see'),\n",
       " (0.007882954283106473, 'hope'),\n",
       " (0.008349778232678436, 'definitely'),\n",
       " (0.008453888577278435, 'nothing'),\n",
       " (0.008814221802434068, 'guy'),\n",
       " (0.009056416094384996, 'say'),\n",
       " (0.009944317728938947, 'comic'),\n",
       " (0.012075057671498022, 'lot'),\n",
       " (0.012666571686352372, 'many'),\n",
       " (0.013281571151639106, 'last'),\n",
       " (0.01745773790031401, 'list'),\n",
       " (0.021516557296430473, 'done'),\n",
       " (0.02379882239363364, 'someone'),\n",
       " (0.044111812505805884, 'fuck'),\n",
       " (0.11888892261193763, 'anyone')]"
      ]
     },
     "execution_count": 828,
     "metadata": {},
     "output_type": "execute_result"
    }
   ],
   "source": [
    "sorted(list(zip(rfc_Anime.feature_importances_, feats_ent)))"
   ]
  },
  {
   "cell_type": "code",
   "execution_count": 877,
   "metadata": {},
   "outputs": [
    {
     "data": {
      "text/plain": [
       "True"
      ]
     },
     "execution_count": 877,
     "metadata": {},
     "output_type": "execute_result"
    }
   ],
   "source": [
    "rfc_anime_full =RandomForestClassifier(n_estimators=50, max_features='sqrt', n_jobs = -1,  max_depth = None, oob_score=True)\n",
    "rfc_anime_full.fit(X_ent, y_anime)\n",
    "rfc_anime_full.oob_score"
   ]
  },
  {
   "cell_type": "markdown",
   "metadata": {},
   "source": [
    "### Movies"
   ]
  },
  {
   "cell_type": "code",
   "execution_count": 829,
   "metadata": {},
   "outputs": [],
   "source": [
    "y_mov = dummiezed['Subreddit_movies']\n",
    "X_train_mov, X_test_mov, y_train_mov, y_test_mov = train_test_split(X_ent, y_mov, test_size=0.20)"
   ]
  },
  {
   "cell_type": "code",
   "execution_count": 830,
   "metadata": {},
   "outputs": [
    {
     "name": "stdout",
     "output_type": "stream",
     "text": [
      "[0.70454768 0.7005036  0.70818893]\n"
     ]
    }
   ],
   "source": [
    "rfc_movies =RandomForestClassifier(n_estimators=50, max_features='log2', n_jobs = -1,  max_depth = None)\n",
    "rfc_movies.fit(X_train_mov, y_train_mov)\n",
    "print(cross_val_score(rfc_movies, X_test_mov, y_test_mov, cv=3, scoring = 'f1'))\n"
   ]
  },
  {
   "cell_type": "code",
   "execution_count": 705,
   "metadata": {
    "collapsed": true
   },
   "outputs": [
    {
     "data": {
      "text/plain": [
       "[(0.001403620912998328, 'series'),\n",
       " (0.001740921831805964, 'issue'),\n",
       " (0.0017828802796314334, 'top'),\n",
       " (0.0018521068027143354, 'list'),\n",
       " (0.0019430307683401407, 'friend'),\n",
       " (0.0020692656790906026, 'real'),\n",
       " (0.002258643705692588, 'give'),\n",
       " (0.0022642912100589705, 'big'),\n",
       " (0.0022818999334947966, 'would'),\n",
       " (0.002336700935434691, 'much'),\n",
       " (0.0023508334783137776, 'may'),\n",
       " (0.002380124708112273, 'time'),\n",
       " (0.0024404382579959407, 'find'),\n",
       " (0.0025315895616330863, 'first'),\n",
       " (0.0025508657214500124, 'least'),\n",
       " (0.0026181776352309093, 'show'),\n",
       " (0.002635806209294967, 'watched'),\n",
       " (0.0026367112722521903, 'yet'),\n",
       " (0.002681907217847862, 'next'),\n",
       " (0.002686716251632627, 'might'),\n",
       " (0.002760740035037937, 'though'),\n",
       " (0.002764829910514407, 'maybe'),\n",
       " (0.0028028283570627087, 'gt'),\n",
       " (0.0028508705739682906, 'got'),\n",
       " (0.002915616057085029, 'since'),\n",
       " (0.0029720502734763765, 'watching'),\n",
       " (0.002996291475283599, 'part'),\n",
       " (0.003029434595458059, 'without'),\n",
       " (0.0030326606546654936, 'around'),\n",
       " (0.0030694244245975384, 'place'),\n",
       " (0.0030902523942503085, 'fan'),\n",
       " (0.0031199342477141556, 'watch'),\n",
       " (0.003204053567328179, 'long'),\n",
       " (0.0032339857602436965, 'keep'),\n",
       " (0.0032406351506765936, 'everything'),\n",
       " (0.0033177622321657824, 'go'),\n",
       " (0.003463573413540947, 'whole'),\n",
       " (0.0035231249436157457, 'interesting'),\n",
       " (0.0035290224185215895, 'back'),\n",
       " (0.003557318577274815, 'favorite'),\n",
       " (0.003569864114919038, 'girl'),\n",
       " (0.0035984062565038145, 'death'),\n",
       " (0.0036973155077542554, 'black'),\n",
       " (0.003707848601615337, 'anything'),\n",
       " (0.0037366278754752146, 'character'),\n",
       " (0.003884707374267363, 'sound'),\n",
       " (0.0039149676262095565, 'deadpool'),\n",
       " (0.003940443785280304, 'movie'),\n",
       " (0.0039420380872245255, 'put'),\n",
       " (0.004098705336014404, 'already'),\n",
       " (0.00416260448248734, 'get'),\n",
       " (0.004208493204671256, 'thing'),\n",
       " (0.004387456898731605, 'shit'),\n",
       " (0.004389612060272002, 'seems'),\n",
       " (0.004519770001238742, 'kanye'),\n",
       " (0.004541742965698038, 'song'),\n",
       " (0.00457365037205011, 'need'),\n",
       " (0.004597769921860601, 'actually'),\n",
       " (0.004608775416907889, 'star'),\n",
       " (0.004688119454053658, 'year'),\n",
       " (0.004697501524826054, 'nice'),\n",
       " (0.004706622816921516, 'could'),\n",
       " (0.004775749366301901, 'guess'),\n",
       " (0.004808397793611896, 'dark'),\n",
       " (0.004809047123912515, 'never'),\n",
       " (0.0048585585484184745, 'harry'),\n",
       " (0.004860186981206516, 'probably'),\n",
       " (0.0049391482331134825, 'always'),\n",
       " (0.004959021791692249, 'game'),\n",
       " (0.00507038052356067, 'done'),\n",
       " (0.005105173126900136, 'old'),\n",
       " (0.005210921312809931, 'mean'),\n",
       " (0.005375884266161678, 'reason'),\n",
       " (0.005429217686264063, 'another'),\n",
       " (0.005576542175789977, 'else'),\n",
       " (0.005776445555165198, 'album'),\n",
       " (0.00577946927487652, 'made'),\n",
       " (0.0057796775348344775, 'enough'),\n",
       " (0.005911499710613835, 'fucking'),\n",
       " (0.0060095129310540184, 'look'),\n",
       " (0.006057443554252307, 'every'),\n",
       " (0.006415809893352723, 'book'),\n",
       " (0.0064313226632758316, 'well'),\n",
       " (0.006461138609095984, 'please'),\n",
       " (0.0064951573748664735, 'ever'),\n",
       " (0.0067347541271923815, 'trying'),\n",
       " (0.006943389815730019, 'second'),\n",
       " (0.006981976432903804, 'story'),\n",
       " (0.0073216136163464125, 'say'),\n",
       " (0.007331661744039094, 'definitely'),\n",
       " (0.00758713335825254, 'still'),\n",
       " (0.007616801618317106, 'even'),\n",
       " (0.0077105572248575, 'comic'),\n",
       " (0.007835774723043814, 'nothing'),\n",
       " (0.007865675738220099, 'looking'),\n",
       " (0.008101439597680758, 'everyone'),\n",
       " (0.008231887728410525, 'two'),\n",
       " (0.008325271794647508, 'see'),\n",
       " (0.00900047147770297, 'point'),\n",
       " (0.009028334979270523, 'something'),\n",
       " (0.009270932673097042, 'fuck'),\n",
       " (0.009417578039416674, 'many'),\n",
       " (0.00983571430265739, 'hope'),\n",
       " (0.010408158505899106, 'last'),\n",
       " (0.010435806507479448, 'question'),\n",
       " (0.01119557349181769, 'lot'),\n",
       " (0.01289087004211573, 'anyone'),\n",
       " (0.013117226147396245, 'kid'),\n",
       " (0.058344408373348484, 'guy'),\n",
       " (0.12171192103839724, 'someone')]"
      ]
     },
     "execution_count": 705,
     "metadata": {},
     "output_type": "execute_result"
    }
   ],
   "source": [
    "sorted(list(zip(rfc_movies.feature_importances_, feats_ent)))"
   ]
  },
  {
   "cell_type": "code",
   "execution_count": 876,
   "metadata": {},
   "outputs": [
    {
     "data": {
      "text/plain": [
       "True"
      ]
     },
     "execution_count": 876,
     "metadata": {},
     "output_type": "execute_result"
    }
   ],
   "source": [
    "rfc_movies_full =RandomForestClassifier(n_estimators=50, max_features='sqrt', n_jobs = -1,  max_depth = None, oob_score=True)\n",
    "rfc_movies_full.fit(X_ent, y_mov)\n",
    "rfc_movies_full.oob_score"
   ]
  },
  {
   "cell_type": "code",
   "execution_count": 925,
   "metadata": {},
   "outputs": [
    {
     "name": "stdout",
     "output_type": "stream",
     "text": [
      "Normalized confusion matrix\n",
      "[[0.98410128 0.01589872]\n",
      " [0.28561848 0.71438152]]\n"
     ]
    },
    {
     "data": {
      "text/plain": [
       "array([259539,   4193,  26831,  67109])"
      ]
     },
     "execution_count": 925,
     "metadata": {},
     "output_type": "execute_result"
    },
    {
     "data": {
      "image/png": "[encoded data removed]",
      "text/plain": [
       "<Figure size 576x396 with 2 Axes>"
      ]
     },
     "metadata": {},
     "output_type": "display_data"
    }
   ],
   "source": [
    "pred = rfc_movies_full.predict(X_ent)\n",
    "cm = confusion_matrix(y_mov, pred)\n",
    "# tn, fp, fn, tp = cm\n",
    "\n",
    "plot_confusion_matrix(cm, ['Not in Movies', 'In Movies'], normalize = 'all', cmap = \"OrRd\")\n",
    "cm.ravel()"
   ]
  },
  {
   "cell_type": "markdown",
   "metadata": {},
   "source": [
    "### Potter"
   ]
  },
  {
   "cell_type": "code",
   "execution_count": 831,
   "metadata": {},
   "outputs": [],
   "source": [
    "y_potter = dummiezed['Subreddit_harrypotter']\n",
    "X_train_pot, X_test_pot, y_train_pot, y_test_pot = train_test_split(X_ent, y_potter, test_size=0.20)"
   ]
  },
  {
   "cell_type": "code",
   "execution_count": 834,
   "metadata": {},
   "outputs": [
    {
     "name": "stdout",
     "output_type": "stream",
     "text": [
      "[0.71890475 0.69332532 0.72976921]\n"
     ]
    }
   ],
   "source": [
    "rfc_potter =RandomForestClassifier(n_estimators=50, max_features='log2', n_jobs = -1,  max_depth = None)\n",
    "rfc_potter.fit(X_train_pot, y_train_pot)\n",
    "print(cross_val_score(rfc_potter, X_test_pot, y_test_pot, cv=3, scoring = 'f1'))\n"
   ]
  },
  {
   "cell_type": "code",
   "execution_count": 706,
   "metadata": {
    "collapsed": true
   },
   "outputs": [
    {
     "data": {
      "text/plain": [
       "[(0.0010064522848316282, 'list'),\n",
       " (0.001191741697643826, 'story'),\n",
       " (0.0012519985819260317, 'everyone'),\n",
       " (0.0013048960463962673, 'never'),\n",
       " (0.0014473555336534086, 'album'),\n",
       " (0.0014596371375291582, 'real'),\n",
       " (0.0016130201268077884, 'nice'),\n",
       " (0.0017582170872400909, 'need'),\n",
       " (0.0018951102238570704, 'put'),\n",
       " (0.0019201720873810186, 'point'),\n",
       " (0.001984889231058927, 'maybe'),\n",
       " (0.002074880947950682, 'dark'),\n",
       " (0.0021415284536143537, 'series'),\n",
       " (0.0021508783514040584, 'song'),\n",
       " (0.0022351072581855967, 'back'),\n",
       " (0.002311627441452775, 'show'),\n",
       " (0.0023219156774763588, 'top'),\n",
       " (0.0023739304020602174, 'much'),\n",
       " (0.0024644471439370665, 'friend'),\n",
       " (0.002509970343186848, 'go'),\n",
       " (0.002564249806861119, 'kanye'),\n",
       " (0.0027026256581880186, 'could'),\n",
       " (0.002741427522284395, 'anything'),\n",
       " (0.002749279961636737, 'already'),\n",
       " (0.0027723874099916256, 'give'),\n",
       " (0.0027774070955964986, 'anyone'),\n",
       " (0.0028636059392667303, 'deadpool'),\n",
       " (0.0028842687440024926, 'long'),\n",
       " (0.002962971370891851, 'first'),\n",
       " (0.002974157680924267, 'next'),\n",
       " (0.0030276895246670755, 'keep'),\n",
       " (0.0030441157609482432, 'issue'),\n",
       " (0.003052779452314405, 'old'),\n",
       " (0.00305899875178443, 'fuck'),\n",
       " (0.0030720826996439017, 'got'),\n",
       " (0.0032610608054922776, 'girl'),\n",
       " (0.0033012046583471076, 'probably'),\n",
       " (0.0033451231606011806, 'ever'),\n",
       " (0.003387800284088688, 'since'),\n",
       " (0.0035128312281502354, 'gt'),\n",
       " (0.00354810262581617, 'guy'),\n",
       " (0.003562398361572346, 'comic'),\n",
       " (0.0036230216108750447, 'least'),\n",
       " (0.00366830124630599, 'around'),\n",
       " (0.003842118703070036, 'book'),\n",
       " (0.003957785700305599, 'find'),\n",
       " (0.003960596295557213, 'kid'),\n",
       " (0.004067021835670004, 'death'),\n",
       " (0.004089061426157441, 'may'),\n",
       " (0.004117373804959239, 'fan'),\n",
       " (0.004212093796317279, 'please'),\n",
       " (0.004319997024046925, 'big'),\n",
       " (0.004444032191124693, 'else'),\n",
       " (0.004471446776509054, 'watched'),\n",
       " (0.004540841321942909, 'actually'),\n",
       " (0.004634943434847628, 'character'),\n",
       " (0.004720062745665063, 'part'),\n",
       " (0.004759875226876671, 'yet'),\n",
       " (0.004857261169162992, 'everything'),\n",
       " (0.005091345072908121, 'thing'),\n",
       " (0.005136620521448594, 'watch'),\n",
       " (0.005248998664882984, 'reason'),\n",
       " (0.005282420718429311, 'without'),\n",
       " (0.005347245097029844, 'seems'),\n",
       " (0.005358390011478405, 'get'),\n",
       " (0.0053933521997633635, 'place'),\n",
       " (0.005522322075240588, 'interesting'),\n",
       " (0.00556802004428412, 'though'),\n",
       " (0.00559485631883359, 'favorite'),\n",
       " (0.005817670522788965, 'looking'),\n",
       " (0.00583766461473256, 'movie'),\n",
       " (0.00598648717142917, 'made'),\n",
       " (0.006006666399009495, 'whole'),\n",
       " (0.006033733116683545, 'still'),\n",
       " (0.006034692665699733, 'hope'),\n",
       " (0.0060803717797397175, 'mean'),\n",
       " (0.006080675046444488, 'well'),\n",
       " (0.0061180724192824885, 'look'),\n",
       " (0.006146023720974835, 'harry'),\n",
       " (0.006152033264927255, 'star'),\n",
       " (0.006238748439195941, 'time'),\n",
       " (0.0063378808907657395, 'game'),\n",
       " (0.006350944059570928, 'year'),\n",
       " (0.006486668829164651, 'enough'),\n",
       " (0.006944644826010696, 'done'),\n",
       " (0.006985039238397366, 'black'),\n",
       " (0.007409446609713981, 'another'),\n",
       " (0.007822577427595824, 'guess'),\n",
       " (0.008079579167830902, 'trying'),\n",
       " (0.008671313086302005, 'fucking'),\n",
       " (0.008776691599742563, 'many'),\n",
       " (0.008788753460613976, 'every'),\n",
       " (0.009006863363836916, 'something'),\n",
       " (0.009019678588794086, 'sound'),\n",
       " (0.009248546610744713, 'watching'),\n",
       " (0.009616565606422423, 'second'),\n",
       " (0.009689324210592869, 'would'),\n",
       " (0.009995256082716198, 'two'),\n",
       " (0.010205453392648953, 'always'),\n",
       " (0.010703640867434359, 'see'),\n",
       " (0.010850360864171864, 'shit'),\n",
       " (0.011470817223673596, 'someone'),\n",
       " (0.011664495293826514, 'lot'),\n",
       " (0.01246558507189196, 'question'),\n",
       " (0.01273005745229575, 'last'),\n",
       " (0.014654733693812103, 'say'),\n",
       " (0.015345160457227556, 'nothing'),\n",
       " (0.01676149817399487, 'even'),\n",
       " (0.03152696535276946, 'definitely'),\n",
       " (0.11686484152896297, 'might')]"
      ]
     },
     "execution_count": 706,
     "metadata": {},
     "output_type": "execute_result"
    }
   ],
   "source": [
    "sorted(list(zip(rfc_potter.feature_importances_, feats_ent)))"
   ]
  },
  {
   "cell_type": "code",
   "execution_count": 875,
   "metadata": {},
   "outputs": [
    {
     "data": {
      "text/plain": [
       "True"
      ]
     },
     "execution_count": 875,
     "metadata": {},
     "output_type": "execute_result"
    }
   ],
   "source": [
    "rfc_potter_full =RandomForestClassifier(n_estimators=50, max_features='sqrt', n_jobs = -1,  max_depth = None, oob_score=True)\n",
    "rfc_potter_full.fit(X_ent, y_potter)\n",
    "rfc_potter_full.oob_score"
   ]
  },
  {
   "cell_type": "code",
   "execution_count": 927,
   "metadata": {},
   "outputs": [
    {
     "name": "stdout",
     "output_type": "stream",
     "text": [
      "Normalized confusion matrix\n",
      "[[0.99861673 0.00138327]\n",
      " [0.30885489 0.69114511]]\n"
     ]
    },
    {
     "data": {
      "text/plain": [
       "array([324867,    450,   9993,  22362])"
      ]
     },
     "execution_count": 927,
     "metadata": {},
     "output_type": "execute_result"
    },
    {
     "data": {
      "image/png": "[encoded data removed]",
      "text/plain": [
       "<Figure size 576x396 with 2 Axes>"
      ]
     },
     "metadata": {},
     "output_type": "display_data"
    }
   ],
   "source": [
    "pred = rfc_potter_full.predict(X_ent)\n",
    "cm = confusion_matrix(y_potter, pred)\n",
    "# tn, fp, fn, tp = cm\n",
    "\n",
    "plot_confusion_matrix(cm, ['Not in Harry Potter', 'In Harry Potter'], normalize = 'all', cmap = \"OrRd\")\n",
    "cm.ravel()"
   ]
  },
  {
   "cell_type": "markdown",
   "metadata": {},
   "source": [
    "### comic books"
   ]
  },
  {
   "cell_type": "code",
   "execution_count": 835,
   "metadata": {},
   "outputs": [],
   "source": [
    "y_comic = dummiezed['Subreddit_comicbooks']\n",
    "X_train_com, X_test_com, y_train_com, y_test_com = train_test_split(X_ent, y_comic, test_size=0.20)"
   ]
  },
  {
   "cell_type": "code",
   "execution_count": 836,
   "metadata": {},
   "outputs": [
    {
     "name": "stdout",
     "output_type": "stream",
     "text": [
      "[0.72643424 0.73239437 0.71590909]\n"
     ]
    }
   ],
   "source": [
    "rfc_comic =RandomForestClassifier(n_estimators=50, max_features='log2', n_jobs = -1,  max_depth = None)\n",
    "rfc_comic.fit(X_train_com, y_train_com)\n",
    "\n",
    "print(cross_val_score(rfc_comic, X_test_com, y_test_com, cv=3, scoring = 'f1'))\n"
   ]
  },
  {
   "cell_type": "code",
   "execution_count": 707,
   "metadata": {
    "collapsed": true
   },
   "outputs": [
    {
     "data": {
      "text/plain": [
       "[(0.0012170337219487588, 'would'),\n",
       " (0.0013550025024346198, 'never'),\n",
       " (0.0017424600992424952, 'list'),\n",
       " (0.0018737175432099232, 'big'),\n",
       " (0.0019003686381861846, 'series'),\n",
       " (0.0019152049682429327, 'probably'),\n",
       " (0.0019550527753089213, 'maybe'),\n",
       " (0.0019907311581425064, 'part'),\n",
       " (0.002027455147597035, 'kid'),\n",
       " (0.002093679529584445, 'album'),\n",
       " (0.0020990125818565837, 'yet'),\n",
       " (0.0021387900388655655, 'watch'),\n",
       " (0.0022118718088710238, 'nice'),\n",
       " (0.0022120910694897987, 'though'),\n",
       " (0.002288285173213727, 'ever'),\n",
       " (0.0023298895857071606, 'got'),\n",
       " (0.0023380893521212005, 'give'),\n",
       " (0.0023617267953468936, 'without'),\n",
       " (0.0024200433513344327, 'anything'),\n",
       " (0.00250663126398992, 'back'),\n",
       " (0.0025307400529045515, 'find'),\n",
       " (0.0025352134672711767, 'show'),\n",
       " (0.00258656880738727, 'song'),\n",
       " (0.0026711160511910035, 'interesting'),\n",
       " (0.002695756342292675, 'friend'),\n",
       " (0.0027547735860618127, 'place'),\n",
       " (0.002797028555604432, 'favorite'),\n",
       " (0.002900678309771316, 'issue'),\n",
       " (0.002975049104328138, 'thing'),\n",
       " (0.002994217452096707, 'time'),\n",
       " (0.0029996764985866274, 'whole'),\n",
       " (0.0030986296849736653, 'dark'),\n",
       " (0.003120932456055081, 'seems'),\n",
       " (0.0031788228910004227, 'around'),\n",
       " (0.0033108478092361425, 'watching'),\n",
       " (0.0034044509933623683, 'story'),\n",
       " (0.0034443126932302624, 'mean'),\n",
       " (0.0034501235392141384, 'point'),\n",
       " (0.0035148185684192473, 'might'),\n",
       " (0.003565271133226512, 'trying'),\n",
       " (0.0036163951296942936, 'already'),\n",
       " (0.003688051050389149, 'go'),\n",
       " (0.003738270262680488, 'could'),\n",
       " (0.00375197389406506, 'second'),\n",
       " (0.0038263173105960602, 'fan'),\n",
       " (0.00384740294719229, 'first'),\n",
       " (0.0038639735975839517, 'everything'),\n",
       " (0.003867616436826102, 'may'),\n",
       " (0.003944900041967712, 'since'),\n",
       " (0.0040045402041384405, 'put'),\n",
       " (0.004043018250167665, 'gt'),\n",
       " (0.004182534394322822, 'actually'),\n",
       " (0.004263331412429167, 'harry'),\n",
       " (0.0042648271656280205, 'deadpool'),\n",
       " (0.0042926908119419885, 'always'),\n",
       " (0.004300848208222617, 'girl'),\n",
       " (0.004309610371445942, 'sound'),\n",
       " (0.004334618871111394, 'star'),\n",
       " (0.0043918971121390035, 'next'),\n",
       " (0.004439666802729104, 'get'),\n",
       " (0.004481582051585974, 'watched'),\n",
       " (0.00454161647329827, 'guy'),\n",
       " (0.004597116891817942, 'black'),\n",
       " (0.00462567006745476, 'even'),\n",
       " (0.004831794932824039, 'fuck'),\n",
       " (0.004848830911312207, 'shit'),\n",
       " (0.004884234382451236, 'character'),\n",
       " (0.005191974614600909, 'death'),\n",
       " (0.005230224544387029, 'old'),\n",
       " (0.005253774322054522, 'long'),\n",
       " (0.005427679558925903, 'every'),\n",
       " (0.005594509780698975, 'please'),\n",
       " (0.005635604289078892, 'anyone'),\n",
       " (0.005721236139782615, 'top'),\n",
       " (0.005813215688578364, 'movie'),\n",
       " (0.005881075237636618, 'real'),\n",
       " (0.005951014006084281, 'kanye'),\n",
       " (0.005974739220020059, 'much'),\n",
       " (0.00601345564621978, 'fucking'),\n",
       " (0.006083528494347787, 'game'),\n",
       " (0.006329638382824898, 'least'),\n",
       " (0.006352734444353882, 'comic'),\n",
       " (0.006488131383259171, 'guess'),\n",
       " (0.00657446330824007, 'reason'),\n",
       " (0.007277774142104663, 'done'),\n",
       " (0.007319468554887999, 'enough'),\n",
       " (0.007336915221535451, 'look'),\n",
       " (0.007347134584033125, 'something'),\n",
       " (0.007402752072682589, 'book'),\n",
       " (0.00766227203227869, 'another'),\n",
       " (0.007911236131116176, 'well'),\n",
       " (0.007951417278991043, 'see'),\n",
       " (0.008122477015059571, 'hope'),\n",
       " (0.008148158390533573, 'made'),\n",
       " (0.00838274312657026, 'two'),\n",
       " (0.008554484512388159, 'nothing'),\n",
       " (0.008655116892221664, 'keep'),\n",
       " (0.009301066552074255, 'looking'),\n",
       " (0.009433613655974515, 'still'),\n",
       " (0.00948980211466733, 'question'),\n",
       " (0.00949986707617609, 'say'),\n",
       " (0.011388703177453456, 'many'),\n",
       " (0.011623824105848248, 'someone'),\n",
       " (0.013111318435495525, 'last'),\n",
       " (0.013176822824914057, 'lot'),\n",
       " (0.01988495079197221, 'year'),\n",
       " (0.03325224699053677, 'definitely'),\n",
       " (0.034520641578308815, 'everyone'),\n",
       " (0.05972763610381697, 'need'),\n",
       " (0.0919225240711356, 'else')]"
      ]
     },
     "execution_count": 707,
     "metadata": {},
     "output_type": "execute_result"
    }
   ],
   "source": [
    "sorted(list(zip(rfc_comic.feature_importances_, feats_ent)))"
   ]
  },
  {
   "cell_type": "code",
   "execution_count": 874,
   "metadata": {},
   "outputs": [
    {
     "data": {
      "text/plain": [
       "True"
      ]
     },
     "execution_count": 874,
     "metadata": {},
     "output_type": "execute_result"
    }
   ],
   "source": [
    "rfc_comic_full =RandomForestClassifier(n_estimators=50, max_features='sqrt', n_jobs = -1,  max_depth = None, oob_score=True)\n",
    "rfc_comic_full.fit(X_ent, y_comic)\n",
    "rfc_comic_full.oob_score"
   ]
  },
  {
   "cell_type": "code",
   "execution_count": 928,
   "metadata": {},
   "outputs": [
    {
     "name": "stdout",
     "output_type": "stream",
     "text": [
      "Normalized confusion matrix\n",
      "[[0.99439481 0.00560519]\n",
      " [0.25995853 0.74004147]]\n"
     ]
    },
    {
     "data": {
      "text/plain": [
       "array([305316,   1721,  13163,  37472])"
      ]
     },
     "execution_count": 928,
     "metadata": {},
     "output_type": "execute_result"
    },
    {
     "data": {
      "image/png": "[encoded data removed]",
      "text/plain": [
       "<Figure size 576x396 with 2 Axes>"
      ]
     },
     "metadata": {},
     "output_type": "display_data"
    }
   ],
   "source": [
    "pred = rfc_comic_full.predict(X_ent)\n",
    "cm = confusion_matrix(y_comic, pred)\n",
    "# tn, fp, fn, tp = cm\n",
    "\n",
    "plot_confusion_matrix(cm, ['Not in Comicbooks', 'In Comicbooks'], normalize = 'all', cmap = \"OrRd\")\n",
    "cm.ravel()"
   ]
  },
  {
   "cell_type": "markdown",
   "metadata": {},
   "source": [
    "### music"
   ]
  },
  {
   "cell_type": "code",
   "execution_count": 837,
   "metadata": {},
   "outputs": [],
   "source": [
    "y_music = dummiezed['Subreddit_music']\n",
    "X_train_mus, X_test_mus, y_train_mus, y_test_mus = train_test_split(X_ent, y_music, test_size=0.20)"
   ]
  },
  {
   "cell_type": "code",
   "execution_count": 838,
   "metadata": {},
   "outputs": [
    {
     "name": "stdout",
     "output_type": "stream",
     "text": [
      "[0.74276123 0.73242437 0.73285045]\n"
     ]
    }
   ],
   "source": [
    "rfc_music =RandomForestClassifier(n_estimators=50, max_features='log2', n_jobs = -1,  max_depth = None)\n",
    "rfc_music.fit(X_train_mus, y_train_mus)\n",
    "print(cross_val_score(rfc_music, X_test_mus, y_test_mus, cv=3, scoring = 'f1'))\n"
   ]
  },
  {
   "cell_type": "code",
   "execution_count": 708,
   "metadata": {
    "collapsed": true
   },
   "outputs": [
    {
     "data": {
      "text/plain": [
       "[(0.0017869163757743608, 'issue'),\n",
       " (0.0018700984616704423, 'top'),\n",
       " (0.0019801809156709286, 'series'),\n",
       " (0.0020735984555039625, 'list'),\n",
       " (0.0021285680893642755, 'friend'),\n",
       " (0.0022958046568867076, 'may'),\n",
       " (0.0023011086866430715, 'first'),\n",
       " (0.002319113946736228, 'real'),\n",
       " (0.002376778560513889, 'big'),\n",
       " (0.002390879864008463, 'time'),\n",
       " (0.002404518520484652, 'would'),\n",
       " (0.0024353435515287684, 'give'),\n",
       " (0.0024754134769212153, 'much'),\n",
       " (0.0024874856637312685, 'show'),\n",
       " (0.0025006641891809206, 'yet'),\n",
       " (0.002547022288130402, 'watched'),\n",
       " (0.0026434666726064754, 'might'),\n",
       " (0.0026490942952888084, 'find'),\n",
       " (0.0027187831170608022, 'next'),\n",
       " (0.002792284325880172, 'gt'),\n",
       " (0.0028034032330933587, 'though'),\n",
       " (0.002874444558065364, 'watch'),\n",
       " (0.0029066912555255893, 'least'),\n",
       " (0.0029286737214296098, 'part'),\n",
       " (0.0029849229542135342, 'long'),\n",
       " (0.0030236149422129786, 'since'),\n",
       " (0.0030460755248866976, 'maybe'),\n",
       " (0.003056483334509296, 'got'),\n",
       " (0.003222443943801604, 'watching'),\n",
       " (0.0032273355187298508, 'fan'),\n",
       " (0.0032671985194706486, 'place'),\n",
       " (0.0032696902484265124, 'around'),\n",
       " (0.0033406645852265943, 'girl'),\n",
       " (0.0034095430149444893, 'keep'),\n",
       " (0.0034113860543094994, 'anything'),\n",
       " (0.0034840859393670404, 'whole'),\n",
       " (0.0035349410730450997, 'go'),\n",
       " (0.003536470372131881, 'black'),\n",
       " (0.0035440307410322257, 'without'),\n",
       " (0.00359408828421184, 'character'),\n",
       " (0.0036071943004478873, 'death'),\n",
       " (0.0037411758620643997, 'back'),\n",
       " (0.003757606021002139, 'everything'),\n",
       " (0.0037990194278594808, 'sound'),\n",
       " (0.0038281325107680027, 'deadpool'),\n",
       " (0.003887398969548701, 'movie'),\n",
       " (0.003914190273227799, 'already'),\n",
       " (0.003918421013230086, 'interesting'),\n",
       " (0.003964506742434296, 'favorite'),\n",
       " (0.003997241828307114, 'get'),\n",
       " (0.00404231412427267, 'kanye'),\n",
       " (0.004133259038049102, 'thing'),\n",
       " (0.00413825505157974, 'put'),\n",
       " (0.0042995538264433905, 'shit'),\n",
       " (0.0043507473821142876, 'seems'),\n",
       " (0.00436495897296037, 'never'),\n",
       " (0.004487668992821106, 'song'),\n",
       " (0.00452730906080024, 'harry'),\n",
       " (0.00452787304762639, 'dark'),\n",
       " (0.004734896228091704, 'actually'),\n",
       " (0.004770098087203242, 'need'),\n",
       " (0.004797608111289632, 'nice'),\n",
       " (0.0048323940163543105, 'star'),\n",
       " (0.004881624294783594, 'mean'),\n",
       " (0.004886780813509997, 'done'),\n",
       " (0.004898032428709076, 'guess'),\n",
       " (0.004907535197643827, 'always'),\n",
       " (0.004917502702402543, 'probably'),\n",
       " (0.00492537359692133, 'year'),\n",
       " (0.005139298521774355, 'old'),\n",
       " (0.005280505751882562, 'could'),\n",
       " (0.005339042047115539, 'else'),\n",
       " (0.0053657218485286574, 'game'),\n",
       " (0.005399040965637306, 'reason'),\n",
       " (0.005540939785034561, 'enough'),\n",
       " (0.005724618237699798, 'look'),\n",
       " (0.0057311823370887185, 'another'),\n",
       " (0.006103023513560742, 'made'),\n",
       " (0.006179493617449377, 'every'),\n",
       " (0.006248121229820294, 'fucking'),\n",
       " (0.006268866205967535, 'well'),\n",
       " (0.006355172908202884, 'second'),\n",
       " (0.006376700808028293, 'album'),\n",
       " (0.006496723389722971, 'definitely'),\n",
       " (0.0065697890530749615, 'trying'),\n",
       " (0.006659555046808183, 'ever'),\n",
       " (0.006804418453054418, 'story'),\n",
       " (0.006865504637992018, 'book'),\n",
       " (0.006949271779037185, 'please'),\n",
       " (0.007261019904919765, 'comic'),\n",
       " (0.007399193248749146, 'nothing'),\n",
       " (0.007663332933381368, 'everyone'),\n",
       " (0.007796191472692927, 'still'),\n",
       " (0.00784994346780753, 'looking'),\n",
       " (0.007930073277348966, 'even'),\n",
       " (0.008050138564709167, 'say'),\n",
       " (0.008141662956206474, 'two'),\n",
       " (0.008142071982929293, 'see'),\n",
       " (0.008313257067445515, 'something'),\n",
       " (0.00874865766017639, 'fuck'),\n",
       " (0.009028059454136103, 'point'),\n",
       " (0.009825749019545298, 'hope'),\n",
       " (0.009940774564056523, 'many'),\n",
       " (0.010675550212071483, 'question'),\n",
       " (0.011015114805081976, 'lot'),\n",
       " (0.011443993002350432, 'last'),\n",
       " (0.013076938030280726, 'kid'),\n",
       " (0.013327028822936243, 'anyone'),\n",
       " (0.05583836164736258, 'guy'),\n",
       " (0.11432546181707441, 'someone')]"
      ]
     },
     "execution_count": 708,
     "metadata": {},
     "output_type": "execute_result"
    }
   ],
   "source": [
    "sorted(list(zip(rfc_music.feature_importances_, feats_ent)))"
   ]
  },
  {
   "cell_type": "code",
   "execution_count": 873,
   "metadata": {},
   "outputs": [
    {
     "data": {
      "text/plain": [
       "RandomForestClassifier(bootstrap=True, ccp_alpha=0.0, class_weight=None,\n",
       "                       criterion='gini', max_depth=None, max_features='sqrt',\n",
       "                       max_leaf_nodes=None, max_samples=None,\n",
       "                       min_impurity_decrease=0.0, min_impurity_split=None,\n",
       "                       min_samples_leaf=1, min_samples_split=2,\n",
       "                       min_weight_fraction_leaf=0.0, n_estimators=50, n_jobs=-1,\n",
       "                       oob_score=True, random_state=None, verbose=0,\n",
       "                       warm_start=False)"
      ]
     },
     "execution_count": 873,
     "metadata": {},
     "output_type": "execute_result"
    }
   ],
   "source": [
    "rfc_music_full =RandomForestClassifier(n_estimators=50, max_features='sqrt', n_jobs = -1,  max_depth = None, oob_score=True)\n",
    "rfc_music_full.fit(X_ent, y_music)"
   ]
  },
  {
   "cell_type": "code",
   "execution_count": 929,
   "metadata": {},
   "outputs": [
    {
     "name": "stdout",
     "output_type": "stream",
     "text": [
      "Normalized confusion matrix\n",
      "[[0.99681302 0.00318698]\n",
      " [0.26505098 0.73494902]]\n"
     ]
    },
    {
     "data": {
      "text/plain": [
       "array([313715,   1003,  11385,  31569])"
      ]
     },
     "execution_count": 929,
     "metadata": {},
     "output_type": "execute_result"
    },
    {
     "data": {
      "image/png": "[encoded data removed]",
      "text/plain": [
       "<Figure size 576x396 with 2 Axes>"
      ]
     },
     "metadata": {},
     "output_type": "display_data"
    }
   ],
   "source": [
    "pred = rfc_music_full.predict(X_ent)\n",
    "cm = confusion_matrix(y_music, pred)\n",
    "# tn, fp, fn, tp = cm\n",
    "\n",
    "plot_confusion_matrix(cm, ['Not in Music', 'In Music'], normalize = 'all', cmap = \"OrRd\")\n",
    "cm.ravel()"
   ]
  },
  {
   "cell_type": "markdown",
   "metadata": {},
   "source": [
    "### Star Wars"
   ]
  },
  {
   "cell_type": "code",
   "execution_count": 839,
   "metadata": {},
   "outputs": [],
   "source": [
    "y_sw = dummiezed['Subreddit_starwars']\n",
    "X_train_sw, X_test_sw, y_train_sw, y_test_sw = train_test_split(X_ent, y_sw, test_size=0.20)"
   ]
  },
  {
   "cell_type": "code",
   "execution_count": 841,
   "metadata": {},
   "outputs": [
    {
     "name": "stdout",
     "output_type": "stream",
     "text": [
      "[0.55235658 0.57070279 0.55206329]\n"
     ]
    }
   ],
   "source": [
    "rfc_sw =RandomForestClassifier(n_estimators=50, max_features='sqrt', n_jobs = -1,  max_depth = None)\n",
    "rfc_sw.fit(X_train_sw, y_train_sw)\n",
    "print(cross_val_score(rfc_sw, X_test_sw, y_test_sw, cv=3, scoring = 'f1'))\n"
   ]
  },
  {
   "cell_type": "code",
   "execution_count": 709,
   "metadata": {
    "collapsed": true
   },
   "outputs": [
    {
     "data": {
      "text/plain": [
       "[(0.0018883867079122405, 'watch'),\n",
       " (0.002402417322113523, 'first'),\n",
       " (0.002635694615647043, 'never'),\n",
       " (0.0026583637637896773, 'maybe'),\n",
       " (0.0026868319312578497, 'already'),\n",
       " (0.002795277378705344, 'place'),\n",
       " (0.0028650956881119604, 'need'),\n",
       " (0.002960796084421828, 'top'),\n",
       " (0.0030472925757544555, 'gt'),\n",
       " (0.00308114708821017, 'long'),\n",
       " (0.003081930128704121, 'might'),\n",
       " (0.0031708025007824185, 'friend'),\n",
       " (0.0032525027793922413, 'part'),\n",
       " (0.0032636007759553596, 'movie'),\n",
       " (0.003275628445189702, 'death'),\n",
       " (0.0032845304666912793, 'nice'),\n",
       " (0.0033365632859287775, 'mean'),\n",
       " (0.003342241123668507, 'time'),\n",
       " (0.0033748749688834435, 'story'),\n",
       " (0.0035139889205014676, 'deadpool'),\n",
       " (0.003541988478582283, 'though'),\n",
       " (0.0035899031855376328, 'year'),\n",
       " (0.0036078072348049895, 'list'),\n",
       " (0.0036233504965513703, 'dark'),\n",
       " (0.0036283238887267876, 'since'),\n",
       " (0.0036929324072138394, 'keep'),\n",
       " (0.003737762552958234, 'real'),\n",
       " (0.003762152477073564, 'big'),\n",
       " (0.003785650578403294, 'issue'),\n",
       " (0.0038191211255655015, 'harry'),\n",
       " (0.0038486393777802446, 'anything'),\n",
       " (0.00394363751788305, 'least'),\n",
       " (0.004070502187520661, 'else'),\n",
       " (0.004081122983786966, 'watching'),\n",
       " (0.004096172061302914, 'album'),\n",
       " (0.004107078723820379, 'go'),\n",
       " (0.004214314317418143, 'may'),\n",
       " (0.0042742817218076636, 'would'),\n",
       " (0.004288627430468292, 'find'),\n",
       " (0.004298093506985497, 'watched'),\n",
       " (0.004312966625263189, 'song'),\n",
       " (0.004336023389402419, 'point'),\n",
       " (0.004367405325475357, 'please'),\n",
       " (0.004408157144890573, 'star'),\n",
       " (0.004434892795095483, 'yet'),\n",
       " (0.004500377705070464, 'everyone'),\n",
       " (0.004539055654384981, 'seems'),\n",
       " (0.00458222367340104, 'much'),\n",
       " (0.004652705439433934, 'reason'),\n",
       " (0.004837851668556757, 'kanye'),\n",
       " (0.004880069250768628, 'sound'),\n",
       " (0.004885314897921683, 'without'),\n",
       " (0.004959239030184495, 'girl'),\n",
       " (0.005006537778360356, 'fan'),\n",
       " (0.005012075830075684, 'could'),\n",
       " (0.005116497173068689, 'back'),\n",
       " (0.005152510505408417, 'show'),\n",
       " (0.005197724241090752, 'next'),\n",
       " (0.0052408611612784275, 'shit'),\n",
       " (0.005272135416579856, 'book'),\n",
       " (0.0052915570760523065, 'another'),\n",
       " (0.005494887538776261, 'give'),\n",
       " (0.0055487595574087445, 'game'),\n",
       " (0.005577666513362256, 'got'),\n",
       " (0.0056032700363614985, 'interesting'),\n",
       " (0.005636680487279523, 'definitely'),\n",
       " (0.0058682753210054775, 'guy'),\n",
       " (0.005915038866151875, 'look'),\n",
       " (0.006051703626886272, 'thing'),\n",
       " (0.00605292154755775, 'around'),\n",
       " (0.006088141120489533, 'trying'),\n",
       " (0.006259145963060277, 'old'),\n",
       " (0.006275676746053675, 'everything'),\n",
       " (0.006355449078104979, 'done'),\n",
       " (0.006422623518763244, 'every'),\n",
       " (0.006457314021202579, 'second'),\n",
       " (0.006608091417984523, 'put'),\n",
       " (0.006663127416551097, 'kid'),\n",
       " (0.0068710112716475116, 'anyone'),\n",
       " (0.0069877853026290085, 'many'),\n",
       " (0.007004411189606829, 'fucking'),\n",
       " (0.007149193226053891, 'ever'),\n",
       " (0.007198221087587804, 'whole'),\n",
       " (0.0073651726542200355, 'guess'),\n",
       " (0.007370190602433523, 'comic'),\n",
       " (0.0075988109884910825, 'probably'),\n",
       " (0.007968052485208767, 'get'),\n",
       " (0.008055646052256192, 'always'),\n",
       " (0.008194954834565631, 'still'),\n",
       " (0.008317800043729756, 'series'),\n",
       " (0.008443096486534532, 'made'),\n",
       " (0.008513497662247438, 'favorite'),\n",
       " (0.008709715365335964, 'actually'),\n",
       " (0.009421152092793714, 'two'),\n",
       " (0.009801506109465749, 'fuck'),\n",
       " (0.010096357043289483, 'character'),\n",
       " (0.010306360158399601, 'something'),\n",
       " (0.010441187157313053, 'well'),\n",
       " (0.011260050046908235, 'lot'),\n",
       " (0.011635040412095765, 'even'),\n",
       " (0.012050905493950794, 'black'),\n",
       " (0.012141976369386721, 'someone'),\n",
       " (0.013213728113299348, 'nothing'),\n",
       " (0.013387351070838677, 'looking'),\n",
       " (0.014410188815604425, 'say'),\n",
       " (0.014540140664518014, 'enough'),\n",
       " (0.01507113287427963, 'hope'),\n",
       " (0.015596706345048292, 'see'),\n",
       " (0.018173779939756003, 'last'),\n",
       " (0.019356736129200698, 'question')]"
      ]
     },
     "execution_count": 709,
     "metadata": {},
     "output_type": "execute_result"
    }
   ],
   "source": [
    "sorted(list(zip(rfc_sw.feature_importances_, feats_ent)))"
   ]
  },
  {
   "cell_type": "code",
   "execution_count": 872,
   "metadata": {},
   "outputs": [
    {
     "data": {
      "text/plain": [
       "RandomForestClassifier(bootstrap=True, ccp_alpha=0.0, class_weight=None,\n",
       "                       criterion='gini', max_depth=None, max_features='sqrt',\n",
       "                       max_leaf_nodes=None, max_samples=None,\n",
       "                       min_impurity_decrease=0.0, min_impurity_split=None,\n",
       "                       min_samples_leaf=1, min_samples_split=2,\n",
       "                       min_weight_fraction_leaf=0.0, n_estimators=50, n_jobs=-1,\n",
       "                       oob_score=True, random_state=None, verbose=0,\n",
       "                       warm_start=False)"
      ]
     },
     "execution_count": 872,
     "metadata": {},
     "output_type": "execute_result"
    }
   ],
   "source": [
    "y_sw = dummiezed['Subreddit_starwars']\n",
    "rfc_sw_full =RandomForestClassifier(n_estimators=50, max_features='sqrt', n_jobs = -1,  max_depth = None, oob_score=True)\n",
    "rfc_sw_full.fit(X_ent, y_sw)\n"
   ]
  },
  {
   "cell_type": "code",
   "execution_count": 930,
   "metadata": {},
   "outputs": [
    {
     "name": "stdout",
     "output_type": "stream",
     "text": [
      "Normalized confusion matrix\n",
      "[[0.90514365 0.09485635]\n",
      " [0.99653117 0.00346883]]\n"
     ]
    },
    {
     "data": {
      "text/plain": [
       "array([284865,  29853,  42805,    149])"
      ]
     },
     "execution_count": 930,
     "metadata": {},
     "output_type": "execute_result"
    },
    {
     "data": {
      "image/png": "[encoded data removed]",
      "text/plain": [
       "<Figure size 576x396 with 2 Axes>"
      ]
     },
     "metadata": {},
     "output_type": "display_data"
    }
   ],
   "source": [
    "pred = rfc_sw_full.predict(X_ent)\n",
    "cm = confusion_matrix(y_sw, pred)\n",
    "# tn, fp, fn, tp = cm\n",
    "\n",
    "plot_confusion_matrix(cm, ['Not in Star Wars', 'In Star Wars'], normalize = 'all', cmap = \"OrRd\")\n",
    "cm.ravel()"
   ]
  },
  {
   "cell_type": "markdown",
   "metadata": {},
   "source": [
    "## Create models fit to all text data to use predict"
   ]
  },
  {
   "cell_type": "code",
   "execution_count": 887,
   "metadata": {},
   "outputs": [
    {
     "data": {
      "text/plain": [
       "array([[0.98, 0.02]])"
      ]
     },
     "execution_count": 887,
     "metadata": {},
     "output_type": "execute_result"
    }
   ],
   "source": [
    "Test_strings = ['Little Witch Academia is the best anime ever written. I love to watch it at night on netflix. its just like harry potter for weebs']\n",
    "lsttest=piped(Test_strings)\n",
    "vectors = tfidf_vectorizer.transform(lsttest)\n",
    "vectors.shape\n",
    "rfc_anime_full.predict_proba(vectors)"
   ]
  },
  {
   "cell_type": "code",
   "execution_count": 939,
   "metadata": {},
   "outputs": [
    {
     "name": "stdout",
     "output_type": "stream",
     "text": [
      "['witch academia ever written harry potter weebs ']\n",
      "(1, 160)\n"
     ]
    },
    {
     "data": {
      "text/plain": [
       "(array([1], dtype=uint8), 'Harry Potter')"
      ]
     },
     "execution_count": 939,
     "metadata": {},
     "output_type": "execute_result"
    }
   ],
   "source": [
    "Test_string = ['Little Witch Academia is the best anime ever written. its just like harry potter for weebs']\n",
    "# X_ent = tfidf_vectorizer.fit_transform(dummiezed['Tokelems']).toarray()\n",
    "StarWarsstring = ['Did you ever hear the Tragedy of Darth Plagueis the wise? I thought not. Its not a story the Jedi would tell you. Its a Sith legend. Darth Plagueis was a Dark Lord of the Sith, so powerful and so wise he could use the Force to influence the midichlorians to create life... He had such a knowledge of the dark side that he could even keep the ones he cared about from dying. The dark side of the Force is a pathway to many abilities some consider to be unnatural. He became so powerful... the only thing he was afraid of was losing his power, which eventually, of course, he did. Unfortunately, he taught his apprentice everything he knew, then his apprentice killed him in his sleep. Its ironic he could save others from death, but not himself. - Sheev Palpatine']\n",
    "\n",
    "def which_ent_sub(Test_strings):\n",
    "    '''\n",
    "    parameters\n",
    "    ------------------\n",
    "    Test_strings : string of text in a list format that you want to use the predictor on\n",
    "    \n",
    "    returns\n",
    "    -------------\n",
    "    list(zip(model_names, probs)): list of tuples containing the model names and their\n",
    "                                   respective false and true probabilities for being in that topic\n",
    "    '''\n",
    "    lsttest = piped(Test_strings)\n",
    "    print(lsttest)\n",
    "    model_names = ['Anime', 'Movies', 'Comic', 'Music', 'Star Wars', 'Harry Potter']\n",
    "\n",
    "    vectors = tfidf_vectorizer.transform(lsttest)\n",
    "    print(vectors.shape)\n",
    "    models_ent = [rfc_anime_full, rfc_movies_full, rfc_comic_full, rfc_music_full, rfc_sw_full, rfc_potter_full]\n",
    "    probs = []\n",
    "    preds = []\n",
    "    for i in models_ent:\n",
    "        probs.append(i.predict_proba(vectors))\n",
    "        preds.append(i.predict(vectors))\n",
    "    preds_models = (list(zip(preds, model_names)))\n",
    "    for i in preds_models:\n",
    "        if i[0][0]==1:\n",
    "            return i\n",
    "    \n",
    "\n",
    "    return (list(zip(probs, model_names)))\n",
    "\n",
    "res = which_ent_sub(Test_string)\n",
    "res"
   ]
  },
  {
   "cell_type": "code",
   "execution_count": 935,
   "metadata": {},
   "outputs": [
    {
     "data": {
      "text/html": [
       "<div>\n",
       "<style scoped>\n",
       "    .dataframe tbody tr th:only-of-type {\n",
       "        vertical-align: middle;\n",
       "    }\n",
       "\n",
       "    .dataframe tbody tr th {\n",
       "        vertical-align: top;\n",
       "    }\n",
       "\n",
       "    .dataframe thead th {\n",
       "        text-align: right;\n",
       "    }\n",
       "</style>\n",
       "<table border=\"1\" class=\"dataframe\">\n",
       "  <thead>\n",
       "    <tr style=\"text-align: right;\">\n",
       "      <th></th>\n",
       "      <th>Text</th>\n",
       "      <th>ID</th>\n",
       "      <th>Subreddit</th>\n",
       "      <th>meta</th>\n",
       "      <th>Time</th>\n",
       "      <th>Username</th>\n",
       "      <th>Upvotes</th>\n",
       "      <th>Downvotes</th>\n",
       "      <th>Author_link_karma</th>\n",
       "      <th>Author_Comment_Karma</th>\n",
       "      <th>Author_has_gold?</th>\n",
       "      <th>tokelems</th>\n",
       "    </tr>\n",
       "  </thead>\n",
       "  <tbody>\n",
       "    <tr>\n",
       "      <th>1446810</th>\n",
       "      <td>he died for our spins.. .</td>\n",
       "      <td>d02mzs9</td>\n",
       "      <td>starwars</td>\n",
       "      <td>entertainment</td>\n",
       "      <td>1.455672e+09</td>\n",
       "      <td>roccoshapiro</td>\n",
       "      <td>1.0</td>\n",
       "      <td>0.0</td>\n",
       "      <td>7303.0</td>\n",
       "      <td>2180.0</td>\n",
       "      <td>0.0</td>\n",
       "      <td>died spin</td>\n",
       "    </tr>\n",
       "    <tr>\n",
       "      <th>1446822</th>\n",
       "      <td>i do n't think he necessarily knows that has a...</td>\n",
       "      <td>d02qghe</td>\n",
       "      <td>starwars</td>\n",
       "      <td>entertainment</td>\n",
       "      <td>1.455677e+09</td>\n",
       "      <td>p3wp3wkachu</td>\n",
       "      <td>4.0</td>\n",
       "      <td>0.0</td>\n",
       "      <td>1.0</td>\n",
       "      <td>242.0</td>\n",
       "      <td>0.0</td>\n",
       "      <td>necessarily know connection luke though interp...</td>\n",
       "    </tr>\n",
       "    <tr>\n",
       "      <th>1446824</th>\n",
       "      <td>both times i saw it , it seemed to me that mea...</td>\n",
       "      <td>d02skyc</td>\n",
       "      <td>starwars</td>\n",
       "      <td>entertainment</td>\n",
       "      <td>1.455680e+09</td>\n",
       "      <td>Friendly_B</td>\n",
       "      <td>1.0</td>\n",
       "      <td>0.0</td>\n",
       "      <td>234.0</td>\n",
       "      <td>2865.0</td>\n",
       "      <td>0.0</td>\n",
       "      <td>time  seemed meant island  child true would me...</td>\n",
       "    </tr>\n",
       "    <tr>\n",
       "      <th>1446829</th>\n",
       "      <td>the tie fighters flying over was a nice touch ...</td>\n",
       "      <td>d02kdfr</td>\n",
       "      <td>starwars</td>\n",
       "      <td>entertainment</td>\n",
       "      <td>1.455668e+09</td>\n",
       "      <td>ltsmiles</td>\n",
       "      <td>1.0</td>\n",
       "      <td>0.0</td>\n",
       "      <td>53952.0</td>\n",
       "      <td>20152.0</td>\n",
       "      <td>0.0</td>\n",
       "      <td>tie fighter flying nice touch  well done</td>\n",
       "    </tr>\n",
       "    <tr>\n",
       "      <th>1446837</th>\n",
       "      <td>they sure did . https : //youtu.be/qds6re-3hgo</td>\n",
       "      <td>d01oq0x</td>\n",
       "      <td>starwars</td>\n",
       "      <td>entertainment</td>\n",
       "      <td>1.455608e+09</td>\n",
       "      <td>cyborgcommando0</td>\n",
       "      <td>1.0</td>\n",
       "      <td>0.0</td>\n",
       "      <td>63181.0</td>\n",
       "      <td>66452.0</td>\n",
       "      <td>1.0</td>\n",
       "      <td>3hgo</td>\n",
       "    </tr>\n",
       "    <tr>\n",
       "      <th>...</th>\n",
       "      <td>...</td>\n",
       "      <td>...</td>\n",
       "      <td>...</td>\n",
       "      <td>...</td>\n",
       "      <td>...</td>\n",
       "      <td>...</td>\n",
       "      <td>...</td>\n",
       "      <td>...</td>\n",
       "      <td>...</td>\n",
       "      <td>...</td>\n",
       "      <td>...</td>\n",
       "      <td>...</td>\n",
       "    </tr>\n",
       "    <tr>\n",
       "      <th>1825076</th>\n",
       "      <td>[ rogwa wodrata ] ( http : //starwars.wikia.co...</td>\n",
       "      <td>d01ydig</td>\n",
       "      <td>starwars</td>\n",
       "      <td>entertainment</td>\n",
       "      <td>1.455637e+09</td>\n",
       "      <td>Blackfire853</td>\n",
       "      <td>3.0</td>\n",
       "      <td>0.0</td>\n",
       "      <td>20445.0</td>\n",
       "      <td>32571.0</td>\n",
       "      <td>0.0</td>\n",
       "      <td>rogwa wodrata     infact female</td>\n",
       "    </tr>\n",
       "    <tr>\n",
       "      <th>1825077</th>\n",
       "      <td>apparently that is [ rogwa ] ( http : //starwa...</td>\n",
       "      <td>d01y9tz</td>\n",
       "      <td>starwars</td>\n",
       "      <td>entertainment</td>\n",
       "      <td>1.455637e+09</td>\n",
       "      <td>Vaxis7</td>\n",
       "      <td>2.0</td>\n",
       "      <td>0.0</td>\n",
       "      <td>1.0</td>\n",
       "      <td>42095.0</td>\n",
       "      <td>0.0</td>\n",
       "      <td>apparently  rogwa</td>\n",
       "    </tr>\n",
       "    <tr>\n",
       "      <th>1825100</th>\n",
       "      <td>[ it 's not going to last very long. ] ( https...</td>\n",
       "      <td>d01k2ik</td>\n",
       "      <td>starwars</td>\n",
       "      <td>entertainment</td>\n",
       "      <td>1.455597e+09</td>\n",
       "      <td>TrueMarksmens</td>\n",
       "      <td>10.0</td>\n",
       "      <td>0.0</td>\n",
       "      <td>552.0</td>\n",
       "      <td>14734.0</td>\n",
       "      <td>0.0</td>\n",
       "      <td>last long</td>\n",
       "    </tr>\n",
       "    <tr>\n",
       "      <th>1825101</th>\n",
       "      <td>there are pipe dreams and then there 's a drug...</td>\n",
       "      <td>d01k07s</td>\n",
       "      <td>starwars</td>\n",
       "      <td>entertainment</td>\n",
       "      <td>1.455597e+09</td>\n",
       "      <td>ARTIFICIAL_SAPIENCE</td>\n",
       "      <td>6.0</td>\n",
       "      <td>0.0</td>\n",
       "      <td>2.0</td>\n",
       "      <td>132422.0</td>\n",
       "      <td>1.0</td>\n",
       "      <td>pipe dream induced coma</td>\n",
       "    </tr>\n",
       "    <tr>\n",
       "      <th>1825102</th>\n",
       "      <td>i would hope they 'd rework some of the contro...</td>\n",
       "      <td>d01kchc</td>\n",
       "      <td>starwars</td>\n",
       "      <td>entertainment</td>\n",
       "      <td>1.455598e+09</td>\n",
       "      <td>HellrosePlace</td>\n",
       "      <td>1.0</td>\n",
       "      <td>0.0</td>\n",
       "      <td>554.0</td>\n",
       "      <td>2539.0</td>\n",
       "      <td>0.0</td>\n",
       "      <td>would hope rework control well  combat worked ...</td>\n",
       "    </tr>\n",
       "  </tbody>\n",
       "</table>\n",
       "<p>49886 rows × 12 columns</p>\n",
       "</div>"
      ],
      "text/plain": [
       "                                                      Text       ID Subreddit  \\\n",
       "1446810                          he died for our spins.. .  d02mzs9  starwars   \n",
       "1446822  i do n't think he necessarily knows that has a...  d02qghe  starwars   \n",
       "1446824  both times i saw it , it seemed to me that mea...  d02skyc  starwars   \n",
       "1446829  the tie fighters flying over was a nice touch ...  d02kdfr  starwars   \n",
       "1446837     they sure did . https : //youtu.be/qds6re-3hgo  d01oq0x  starwars   \n",
       "...                                                    ...      ...       ...   \n",
       "1825076  [ rogwa wodrata ] ( http : //starwars.wikia.co...  d01ydig  starwars   \n",
       "1825077  apparently that is [ rogwa ] ( http : //starwa...  d01y9tz  starwars   \n",
       "1825100  [ it 's not going to last very long. ] ( https...  d01k2ik  starwars   \n",
       "1825101  there are pipe dreams and then there 's a drug...  d01k07s  starwars   \n",
       "1825102  i would hope they 'd rework some of the contro...  d01kchc  starwars   \n",
       "\n",
       "                  meta          Time             Username  Upvotes  Downvotes  \\\n",
       "1446810  entertainment  1.455672e+09         roccoshapiro      1.0        0.0   \n",
       "1446822  entertainment  1.455677e+09          p3wp3wkachu      4.0        0.0   \n",
       "1446824  entertainment  1.455680e+09           Friendly_B      1.0        0.0   \n",
       "1446829  entertainment  1.455668e+09             ltsmiles      1.0        0.0   \n",
       "1446837  entertainment  1.455608e+09      cyborgcommando0      1.0        0.0   \n",
       "...                ...           ...                  ...      ...        ...   \n",
       "1825076  entertainment  1.455637e+09         Blackfire853      3.0        0.0   \n",
       "1825077  entertainment  1.455637e+09               Vaxis7      2.0        0.0   \n",
       "1825100  entertainment  1.455597e+09        TrueMarksmens     10.0        0.0   \n",
       "1825101  entertainment  1.455597e+09  ARTIFICIAL_SAPIENCE      6.0        0.0   \n",
       "1825102  entertainment  1.455598e+09        HellrosePlace      1.0        0.0   \n",
       "\n",
       "         Author_link_karma  Author_Comment_Karma  Author_has_gold?  \\\n",
       "1446810             7303.0                2180.0               0.0   \n",
       "1446822                1.0                 242.0               0.0   \n",
       "1446824              234.0                2865.0               0.0   \n",
       "1446829            53952.0               20152.0               0.0   \n",
       "1446837            63181.0               66452.0               1.0   \n",
       "...                    ...                   ...               ...   \n",
       "1825076            20445.0               32571.0               0.0   \n",
       "1825077                1.0               42095.0               0.0   \n",
       "1825100              552.0               14734.0               0.0   \n",
       "1825101                2.0              132422.0               1.0   \n",
       "1825102              554.0                2539.0               0.0   \n",
       "\n",
       "                                                  tokelems  \n",
       "1446810                                        died spin    \n",
       "1446822  necessarily know connection luke though interp...  \n",
       "1446824  time  seemed meant island  child true would me...  \n",
       "1446829         tie fighter flying nice touch  well done    \n",
       "1446837                                              3hgo   \n",
       "...                                                    ...  \n",
       "1825076                   rogwa wodrata     infact female   \n",
       "1825077                             apparently  rogwa       \n",
       "1825100                                     last long       \n",
       "1825101                          pipe dream induced coma    \n",
       "1825102  would hope rework control well  combat worked ...  \n",
       "\n",
       "[49886 rows x 12 columns]"
      ]
     },
     "execution_count": 935,
     "metadata": {},
     "output_type": "execute_result"
    }
   ],
   "source": [
    "df_entertainment.loc[df['Subreddit'] == 'starwars']"
   ]
  },
  {
   "cell_type": "code",
   "execution_count": null,
   "metadata": {},
   "outputs": [],
   "source": [
    "meta_model_names = ['Gaming', 'Entertainment', 'Humor', 'Learning', 'News', 'Television', 'Lifestyle']\n",
    "tv_model_names = ['Community', 'Breaking Bad', 'Doctor Who','Game of Thrones', 'How I Met Your Mother', 'My Little Pony', 'Star Trek','The Walking Dead']\n",
    "humor_model_names = ['Advice Animals', 'Circlejerk', 'Facepalm', 'Funny','ImGoingToHellForThis', 'Jokes']\n",
    "gaming_model_names = ['Gaming', 'dota2', 'League of Legends', 'Minecraft', 'Pokemon', 'Skyrim','Starcraft', 'Team Fortress 2']\n",
    "learning_model_names = ['AskScience', 'AskHistorians', 'Explain Like im 5','Science', 'Space', 'Today I Learned', 'You Should Know']\n",
    "news_model_names = ['Conservative','Conspiracy', 'Libertarian', 'News', 'Offbeat', 'politics', 'truereddit', 'World News']\n",
    "entertainment_model_names = ['Anime', 'Movies', 'Comic Books', 'Harry Potter', 'Music', 'Star Wars']\n",
    "lifestyle_model_names = ['Drunk', 'Food', 'Frugal','Guns', 'Lifehacks', 'Motorcycle', 'ProgressPics', 'Sex']\n",
    "\n",
    "\n",
    "meta_models = [rfc_meta_gaming, rfc_meta_entertainment,rfc_meta_humor, rfc_meta_learn, rfc_meta_news, rfc_meta_tv, rfc_meta_life]\n",
    "tv_models = [rfc_community, rfc_breaking_bad, rfc_docwho,rfc_got,  rfc_himym, rfc_mlp, rfc_trek, rfc_twd]\n",
    "humor_models = [rfc_advani, rfc_jerk, rfc_facepalm, rfc_funny, rfc_hell, rfc_jokes]\n",
    "gaming_models = [rfc_gaming, rfc_dota, rfc_lol, rfc_mine, rfc_poke, rfc_skyrim, rfc_starcraft, rfc_tf2]\n",
    "learning_models = [rfc_askscience, rfc_askhist, rfc_eli5, rfc_science, rfc_space, rfc_til, rfc_ysk]\n",
    "news_models = [rfc_con, rfc_conspire, rfc_liber, rfc_news_sub, rfc_offbeat, rfc_poli, rfc_truereddit, rfc_worldnews]\n",
    "entertainment_models = [rfc_Anime, rfc_movies, rfc_comic, rfc_potter, rfc_music, rfc_sw]\n",
    "lifestyle_models = [rfc_drunk, rfc_food, rfc_frugal, rfc_guns, rfc_lifehacks, rfc_moto, rfc_progress, rfc_sex]"
   ]
  },
  {
   "cell_type": "code",
   "execution_count": 816,
   "metadata": {},
   "outputs": [],
   "source": [
    "X_ent = tfidf_vectorizer.fit_transform(df_entertainment['tokelems']).toarray()\n"
   ]
  },
  {
   "cell_type": "code",
   "execution_count": 818,
   "metadata": {},
   "outputs": [
    {
     "data": {
      "text/plain": [
       "(357672, 110)"
      ]
     },
     "execution_count": 818,
     "metadata": {},
     "output_type": "execute_result"
    }
   ],
   "source": [
    "X_ent.shape"
   ]
  },
  {
   "cell_type": "code",
   "execution_count": 271,
   "metadata": {
    "collapsed": true
   },
   "outputs": [
    {
     "data": {
      "text/plain": [
       "[('wanted', 0.0015095779329750236),\n",
       " ('yet', 0.0016172635948470946),\n",
       " ('use', 0.0018259751811389256),\n",
       " ('trying', 0.0019082351514213547),\n",
       " ('question', 0.0019259397482239524),\n",
       " ('getting', 0.001936017634228288),\n",
       " ('seems', 0.00213940147124929),\n",
       " ('top', 0.0023144481523114037),\n",
       " ('said', 0.0024239926127573594),\n",
       " ('place', 0.002470192397232392),\n",
       " ('dark', 0.002532240486803361),\n",
       " ('may', 0.002547761063435647),\n",
       " ('else', 0.0025504744281263474),\n",
       " ('put', 0.0025610307061039116),\n",
       " ('stuff', 0.0026122491152872325),\n",
       " ('done', 0.0026262961771151934),\n",
       " ('since', 0.0026490269958241593),\n",
       " ('please', 0.002656172822848171),\n",
       " ('without', 0.002662140866728492),\n",
       " ('week', 0.002664197415827794),\n",
       " ('mean', 0.0026658907350136356),\n",
       " ('kid', 0.0027046193951050183),\n",
       " ('big', 0.0027279573921246626),\n",
       " ('hope', 0.0027356562358888544),\n",
       " ('edit', 0.002737399811209283),\n",
       " ('whole', 0.0027460484928819346),\n",
       " ('nothing', 0.002776696475035548),\n",
       " ('game', 0.0027795679941952202),\n",
       " ('enough', 0.002817705283690343),\n",
       " ('next', 0.0028571892663975273),\n",
       " ('anyone', 0.002857867868980416),\n",
       " ('around', 0.002896965776452426),\n",
       " ('black', 0.0029352875519486144),\n",
       " ('bit', 0.002986692922835178),\n",
       " ('definitely', 0.0030444346908095987),\n",
       " ('many', 0.003066157556095549),\n",
       " ('saw', 0.0030983678027554397),\n",
       " ('looking', 0.003191121946110235),\n",
       " ('fuck', 0.003203857522168424),\n",
       " ('keep', 0.0032107977325530157),\n",
       " ('fun', 0.003226640623959252),\n",
       " ('fan', 0.0032403919811429495),\n",
       " ('everything', 0.003280296560173956),\n",
       " ('anything', 0.003334043511221811),\n",
       " ('sound', 0.00334265326863752),\n",
       " ('point', 0.003344040054075968),\n",
       " ('better', 0.0033779041573571028),\n",
       " ('second', 0.003412481121019108),\n",
       " ('cool', 0.003440165742102539),\n",
       " ('let', 0.003476377208557049),\n",
       " ('kanye', 0.0034767526980012033),\n",
       " ('favorite', 0.003488323809379112),\n",
       " ('real', 0.0034988433528484546),\n",
       " ('find', 0.0035028351025605366),\n",
       " ('two', 0.0035226241872304996),\n",
       " ('everyone', 0.003625581366789881),\n",
       " ('might', 0.0036261222880620975),\n",
       " ('song', 0.003669058259024151),\n",
       " ('issue', 0.0036721059648417453),\n",
       " ('read', 0.003674492246467849),\n",
       " ('maybe', 0.0036744935748827135),\n",
       " ('far', 0.0037098840087680805),\n",
       " ('back', 0.003718177859698454),\n",
       " ('long', 0.0037548406042848294),\n",
       " ('last', 0.0037651470315630165),\n",
       " ('wait', 0.0038704793769234217),\n",
       " ('little', 0.0038782374344869595),\n",
       " ('interesting', 0.003931153308531876),\n",
       " ('start', 0.0039657568663108355),\n",
       " ('try', 0.004011476951620062),\n",
       " ('bad', 0.00406972588346562),\n",
       " ('death', 0.004115801290632489),\n",
       " ('oh', 0.004139714421788078),\n",
       " ('story', 0.004151098796919655),\n",
       " ('list', 0.0041899010927428735),\n",
       " ('least', 0.004271202143804253),\n",
       " ('probably', 0.004283153720820407),\n",
       " ('part', 0.004298032650509297),\n",
       " ('someone', 0.00430192366404287),\n",
       " ('amazing', 0.004404415597838648),\n",
       " ('though', 0.00441526860331254),\n",
       " ('ever', 0.004461568468431608),\n",
       " ('say', 0.004473399371609283),\n",
       " ('music', 0.0045232446572152476),\n",
       " ('actually', 0.00458839470793433),\n",
       " ('harry', 0.004628485124277869),\n",
       " ('work', 0.004672869424770313),\n",
       " ('star', 0.004684614571830106),\n",
       " ('give', 0.004730043848709367),\n",
       " ('right', 0.004746534255274767),\n",
       " ('awesome', 0.004748255266318711),\n",
       " ('world', 0.004766028349619521),\n",
       " ('thought', 0.004804969202914837),\n",
       " ('another', 0.004811626997092016),\n",
       " ('go', 0.004846641059853688),\n",
       " ('album', 0.004902701084723804),\n",
       " ('deadpool', 0.0049088204390199145),\n",
       " ('never', 0.004912848616655363),\n",
       " ('comic', 0.0049231988519167665),\n",
       " ('old', 0.00501870022829196),\n",
       " ('way', 0.005046338456654687),\n",
       " ('day', 0.0050767413427233905),\n",
       " ('every', 0.005142150195065099),\n",
       " ('life', 0.005145351108172364),\n",
       " ('nice', 0.0052684043827842635),\n",
       " ('already', 0.005314334096133054),\n",
       " ('sure', 0.005359098635875943),\n",
       " ('seen', 0.00536069048714629),\n",
       " ('shit', 0.0054241191778549545),\n",
       " ('lot', 0.00545269257226608),\n",
       " ('guess', 0.005496662029219564),\n",
       " ('friend', 0.005574534223336846),\n",
       " ('fucking', 0.005621465572844211),\n",
       " ('war', 0.005797731046200798),\n",
       " ('well', 0.005822567762324756),\n",
       " ('got', 0.005843437154372234),\n",
       " ('people', 0.005908996768911512),\n",
       " ('feel', 0.005938679524121769),\n",
       " ('always', 0.005982511158379964),\n",
       " ('guy', 0.00606858260119942),\n",
       " ('year', 0.0060874182203535234),\n",
       " ('new', 0.006163108303783883),\n",
       " ('could', 0.006189049492575626),\n",
       " ('still', 0.0062554322286741335),\n",
       " ('scene', 0.006335657876477794),\n",
       " ('going', 0.00648730867966694),\n",
       " ('gt', 0.006646063054144312),\n",
       " ('watch', 0.006757369766074669),\n",
       " ('need', 0.006761702305771781),\n",
       " ('made', 0.006803632826566249),\n",
       " ('reason', 0.006916586744497718),\n",
       " ('pretty', 0.00709468774595003),\n",
       " ('think', 0.007097462167687845),\n",
       " ('look', 0.007216188647826742),\n",
       " ('something', 0.007272662592586498),\n",
       " ('much', 0.007342213448976484),\n",
       " ('even', 0.0073628644287902665),\n",
       " ('thing', 0.007775613381833132),\n",
       " ('make', 0.00783871899636334),\n",
       " ('watched', 0.00787708317630658),\n",
       " ('first', 0.007882954283106473),\n",
       " ('book', 0.008349778232678436),\n",
       " ('know', 0.008453888577278435),\n",
       " ('series', 0.008570552007937776),\n",
       " ('film', 0.008814221802434068),\n",
       " ('love', 0.009056416094384996),\n",
       " ('see', 0.009144159896265588),\n",
       " ('best', 0.009944317728938947),\n",
       " ('watching', 0.010305898817585318),\n",
       " ('time', 0.011338985738541396),\n",
       " ('would', 0.011459445842707736),\n",
       " ('good', 0.012075057671498022),\n",
       " ('great', 0.012666571686352372),\n",
       " ('get', 0.013281571151639106),\n",
       " ('girl', 0.01745773790031401),\n",
       " ('character', 0.021516557296430473),\n",
       " ('movie', 0.02379882239363364),\n",
       " ('show', 0.035478936060439364),\n",
       " ('episode', 0.044111812505805884),\n",
       " ('anime', 0.11888892261193763)]"
      ]
     },
     "execution_count": 271,
     "metadata": {},
     "output_type": "execute_result"
    }
   ],
   "source": [
    "anime_feat_importances = list(zip(feats, rfc_Anime.feature_importances_))\n",
    "anime_feat_importances\n",
    "Sort_Tuple(anime_feat_importances)"
   ]
  },
  {
   "cell_type": "code",
   "execution_count": 273,
   "metadata": {
    "scrolled": true
   },
   "outputs": [
    {
     "data": {
      "text/plain": [
       "[('may', 0.001403620912998328),\n",
       " ('whole', 0.0016491691553770398),\n",
       " ('fuck', 0.001740921831805964),\n",
       " ('old', 0.0017828802796314334),\n",
       " ('girl', 0.0018521068027143354),\n",
       " ('enough', 0.0019430307683401407),\n",
       " ('trying', 0.002054276925624185),\n",
       " ('looking', 0.0020692656790906026),\n",
       " ('everything', 0.002258643705692588),\n",
       " ('around', 0.0022642912100589705),\n",
       " ('question', 0.0022818999334947966),\n",
       " ('stuff', 0.002298676551723636),\n",
       " ('seems', 0.0023205925720921772),\n",
       " ('interesting', 0.002336700935434691),\n",
       " ('gt', 0.0023508334783137776),\n",
       " ('oh', 0.002380124708112273),\n",
       " ('edit', 0.0024404382579959407),\n",
       " ('wanted', 0.0024650289855849385),\n",
       " ('reason', 0.002481847357606721),\n",
       " ('top', 0.002495940690944012),\n",
       " ('else', 0.0025315895616330863),\n",
       " ('sound', 0.002546938375876005),\n",
       " ('getting', 0.0025508657214500124),\n",
       " ('without', 0.002602859211740182),\n",
       " ('mean', 0.0026181776352309093),\n",
       " ('please', 0.002635806209294967),\n",
       " ('real', 0.0026367112722521903),\n",
       " ('keep', 0.002681907217847862),\n",
       " ('harry', 0.002686716251632627),\n",
       " ('week', 0.002700465149628814),\n",
       " ('nothing', 0.002760740035037937),\n",
       " ('guess', 0.002764829910514407),\n",
       " ('favorite', 0.0028028283570627087),\n",
       " ('said', 0.002819907393515344),\n",
       " ('yet', 0.0028422709355668267),\n",
       " ('far', 0.0028508705739682906),\n",
       " ('might', 0.002915616057085029),\n",
       " ('start', 0.002961361879326235),\n",
       " ('point', 0.0029720502734763765),\n",
       " ('least', 0.002996291475283599),\n",
       " ('put', 0.003029434595458059),\n",
       " ('anyone', 0.0030326606546654936),\n",
       " ('let', 0.0030694244245975384),\n",
       " ('definitely', 0.0030902523942503085),\n",
       " ('since', 0.00311615401830098),\n",
       " ('place', 0.0031199342477141556),\n",
       " ('give', 0.003204053567328179),\n",
       " ('someone', 0.0032273403441932563),\n",
       " ('fun', 0.0032339857602436965),\n",
       " ('death', 0.0032406351506765936),\n",
       " ('fan', 0.0033177622321657824),\n",
       " ('use', 0.003333040806936069),\n",
       " ('work', 0.0034308051699279054),\n",
       " ('probably', 0.003463573413540947),\n",
       " ('friend', 0.0035231249436157457),\n",
       " ('anything', 0.0035290224185215895),\n",
       " ('done', 0.003557318577274815),\n",
       " ('everyone', 0.003569864114919038),\n",
       " ('black', 0.0035984062565038145),\n",
       " ('watching', 0.003694084255511108),\n",
       " ('awesome', 0.0036973155077542554),\n",
       " ('another', 0.003707848601615337),\n",
       " ('right', 0.003714805500071335),\n",
       " ('bad', 0.0037366278754752146),\n",
       " ('though', 0.003780746451848406),\n",
       " ('need', 0.003884707374267363),\n",
       " ('watched', 0.003896337550891459),\n",
       " ('bit', 0.0039149676262095565),\n",
       " ('hope', 0.003940443785280304),\n",
       " ('long', 0.0039420380872245255),\n",
       " ('try', 0.004000556926607331),\n",
       " ('already', 0.004098705336014404),\n",
       " ('every', 0.00416260448248734),\n",
       " ('two', 0.004162921597400793),\n",
       " ('nice', 0.004208493204671256),\n",
       " ('second', 0.004226991898196945),\n",
       " ('shit', 0.00423637239675465),\n",
       " ('maybe', 0.004387456898731605),\n",
       " ('many', 0.004389612060272002),\n",
       " ('song', 0.004394730920140045),\n",
       " ('fucking', 0.004519770001238742),\n",
       " ('music', 0.004541742965698038),\n",
       " ('issue', 0.00457365037205011),\n",
       " ('actually', 0.004597769921860601),\n",
       " ('never', 0.004608775416907889),\n",
       " ('story', 0.004623527244899086),\n",
       " ('thought', 0.004684012895461294),\n",
       " ('read', 0.004688119454053658),\n",
       " ('kid', 0.004697501524826054),\n",
       " ('better', 0.004706622816921516),\n",
       " ('feel', 0.004775749366301901),\n",
       " ('big', 0.004808397793611896),\n",
       " ('kanye', 0.004809047123912515),\n",
       " ('find', 0.0048585585484184745),\n",
       " ('little', 0.004860186981206516),\n",
       " ('sure', 0.0049232533416988114),\n",
       " ('always', 0.0049391482331134825),\n",
       " ('ever', 0.004959021791692249),\n",
       " ('character', 0.00507038052356067),\n",
       " ('last', 0.005105173126900136),\n",
       " ('guy', 0.005210921312809931),\n",
       " ('lot', 0.005375884266161678),\n",
       " ('amazing', 0.005429217686264063),\n",
       " ('wait', 0.005434658228269831),\n",
       " ('something', 0.005499215266705135),\n",
       " ('world', 0.005575361629291096),\n",
       " ('comic', 0.005576542175789977),\n",
       " ('album', 0.005776445555165198),\n",
       " ('got', 0.00577946927487652),\n",
       " ('cool', 0.0057796775348344775),\n",
       " ('way', 0.005801001825224313),\n",
       " ('even', 0.005911499710613835),\n",
       " ('say', 0.005957631602768273),\n",
       " ('show', 0.005963242496485853),\n",
       " ('go', 0.0060095129310540184),\n",
       " ('series', 0.006020697552106218),\n",
       " ('day', 0.006057443554252307),\n",
       " ('back', 0.006415809893352723),\n",
       " ('pretty', 0.0064313226632758316),\n",
       " ('life', 0.006461138609095984),\n",
       " ('dark', 0.0064951573748664735),\n",
       " ('thing', 0.006508666441447703),\n",
       " ('war', 0.006541960300606625),\n",
       " ('star', 0.006684346836985981),\n",
       " ('part', 0.0067347541271923815),\n",
       " ('made', 0.006943389815730019),\n",
       " ('seen', 0.006955952862586961),\n",
       " ('year', 0.006980374180909532),\n",
       " ('next', 0.006981976432903804),\n",
       " ('still', 0.007032108240096046),\n",
       " ('love', 0.0073216136163464125),\n",
       " ('book', 0.007331661744039094),\n",
       " ('new', 0.00758713335825254),\n",
       " ('could', 0.007616801618317106),\n",
       " ('best', 0.0077105572248575),\n",
       " ('know', 0.007835774723043814),\n",
       " ('going', 0.007865675738220099),\n",
       " ('think', 0.008044373694715546),\n",
       " ('well', 0.008092139784346),\n",
       " ('deadpool', 0.008101439597680758),\n",
       " ('people', 0.008231887728410525),\n",
       " ('make', 0.008325271794647508),\n",
       " ('list', 0.00900047147770297),\n",
       " ('much', 0.009028334979270523),\n",
       " ('episode', 0.009270932673097042),\n",
       " ('great', 0.009417578039416674),\n",
       " ('first', 0.00983571430265739),\n",
       " ('see', 0.010344767831511727),\n",
       " ('get', 0.010408158505899106),\n",
       " ('look', 0.010435806507479448),\n",
       " ('watch', 0.01097271948108488),\n",
       " ('good', 0.01119557349181769),\n",
       " ('would', 0.012112479733704431),\n",
       " ('anime', 0.01289087004211573),\n",
       " ('game', 0.013117226147396245),\n",
       " ('saw', 0.01330530119315082),\n",
       " ('time', 0.023485602927376687),\n",
       " ('scene', 0.026767757137320443),\n",
       " ('film', 0.058344408373348484),\n",
       " ('movie', 0.12171192103839724)]"
      ]
     },
     "execution_count": 273,
     "metadata": {},
     "output_type": "execute_result"
    }
   ],
   "source": [
    "movies_feat_importances = list(zip(feats, rfc_movies.feature_importances_))\n",
    "Sort_Tuple(movies_feat_importances)"
   ]
  },
  {
   "cell_type": "code",
   "execution_count": 334,
   "metadata": {
    "scrolled": true
   },
   "outputs": [
    {
     "data": {
      "text/plain": [
       "[('girl', 0.0010064522848316282),\n",
       " ('watching', 0.0011212279073816124),\n",
       " ('next', 0.001191741697643826),\n",
       " ('wait', 0.0012108164455115406),\n",
       " ('deadpool', 0.0012519985819260317),\n",
       " ('song', 0.0012856061723545754),\n",
       " ('war', 0.0012946835012646034),\n",
       " ('kanye', 0.0013048960463962673),\n",
       " ('album', 0.0014473555336534086),\n",
       " ('looking', 0.0014596371375291582),\n",
       " ('kid', 0.0016130201268077884),\n",
       " ('star', 0.001706822857040336),\n",
       " ('issue', 0.0017582170872400909),\n",
       " ('without', 0.0017700979740110324),\n",
       " ('long', 0.0018951102238570704),\n",
       " ('list', 0.0019201720873810186),\n",
       " ('second', 0.0019552313172118392),\n",
       " ('guess', 0.001984889231058927),\n",
       " ('big', 0.002074880947950682),\n",
       " ('may', 0.0021415284536143537),\n",
       " ('music', 0.0021508783514040584),\n",
       " ('trying', 0.0021578909339079917),\n",
       " ('anything', 0.0022351072581855967),\n",
       " ('scene', 0.002306383897168459),\n",
       " ('mean', 0.002311627441452775),\n",
       " ('old', 0.0023219156774763588),\n",
       " ('interesting', 0.0023739304020602174),\n",
       " ('start', 0.0023987586109842753),\n",
       " ('two', 0.0024317297082650344),\n",
       " ('enough', 0.0024644471439370665),\n",
       " ('watched', 0.002471771631887211),\n",
       " ('watch', 0.0024835574643270824),\n",
       " ('fan', 0.002509970343186848),\n",
       " ('fucking', 0.002564249806861119),\n",
       " ('top', 0.0026870632034153106),\n",
       " ('better', 0.0027026256581880186),\n",
       " ('another', 0.002741427522284395),\n",
       " ('already', 0.002749279961636737),\n",
       " ('everything', 0.0027723874099916256),\n",
       " ('anime', 0.0027774070955964986),\n",
       " ('saw', 0.002841305997633379),\n",
       " ('bit', 0.0028636059392667303),\n",
       " ('give', 0.0028842687440024926),\n",
       " ('else', 0.002962971370891851),\n",
       " ('keep', 0.002974157680924267),\n",
       " ('stuff', 0.002997339201659126),\n",
       " ('fun', 0.0030276895246670755),\n",
       " ('fuck', 0.0030441157609482432),\n",
       " ('last', 0.003052779452314405),\n",
       " ('episode', 0.00305899875178443),\n",
       " ('far', 0.0030720826996439017),\n",
       " ('yet', 0.0030816620981090966),\n",
       " ('story', 0.0031636411188918855),\n",
       " ('everyone', 0.0032610608054922776),\n",
       " ('week', 0.003263350211633681),\n",
       " ('use', 0.0032827811506994336),\n",
       " ('little', 0.0033012046583471076),\n",
       " ('dark', 0.0033451231606011806),\n",
       " ('might', 0.003387800284088688),\n",
       " ('favorite', 0.0035128312281502354),\n",
       " ('seems', 0.0035453983358149452),\n",
       " ('film', 0.00354810262581617),\n",
       " ('best', 0.003562398361572346),\n",
       " ('getting', 0.0036230216108750447),\n",
       " ('anyone', 0.00366830124630599),\n",
       " ('sure', 0.0038377677975311077),\n",
       " ('back', 0.003842118703070036),\n",
       " ('since', 0.003892853120900547),\n",
       " ('edit', 0.003957785700305599),\n",
       " ('game', 0.003960596295557213),\n",
       " ('black', 0.004067021835670004),\n",
       " ('gt', 0.004089061426157441),\n",
       " ('definitely', 0.004117373804959239),\n",
       " ('sound', 0.004118510706729296),\n",
       " ('life', 0.004212093796317279),\n",
       " ('try', 0.004278503494097469),\n",
       " ('wanted', 0.004301202251258744),\n",
       " ('shit', 0.004304020500198205),\n",
       " ('around', 0.004319997024046925),\n",
       " ('series', 0.004373583282245217),\n",
       " ('whole', 0.004378773303859118),\n",
       " ('comic', 0.004444032191124693),\n",
       " ('please', 0.004471446776509054),\n",
       " ('someone', 0.004507614585634881),\n",
       " ('actually', 0.004540841321942909),\n",
       " ('show', 0.004589519079334043),\n",
       " ('bad', 0.004634943434847628),\n",
       " ('least', 0.004720062745665063),\n",
       " ('real', 0.004759875226876671),\n",
       " ('death', 0.004857261169162992),\n",
       " ('nice', 0.005091345072908121),\n",
       " ('place', 0.005136620521448594),\n",
       " ('lot', 0.005248998664882984),\n",
       " ('world', 0.005267638304236142),\n",
       " ('put', 0.005282420718429311),\n",
       " ('many', 0.005347245097029844),\n",
       " ('said', 0.005349654526690773),\n",
       " ('every', 0.005358390011478405),\n",
       " ('let', 0.0053933521997633635),\n",
       " ('friend', 0.005522322075240588),\n",
       " ('nothing', 0.00556802004428412),\n",
       " ('done', 0.00559485631883359),\n",
       " ('going', 0.005817670522788965),\n",
       " ('hope', 0.00583766461473256),\n",
       " ('got', 0.00598648717142917),\n",
       " ('probably', 0.006006666399009495),\n",
       " ('new', 0.006033733116683545),\n",
       " ('first', 0.006034692665699733),\n",
       " ('guy', 0.0060803717797397175),\n",
       " ('pretty', 0.006080675046444488),\n",
       " ('go', 0.0061180724192824885),\n",
       " ('find', 0.006146023720974835),\n",
       " ('never', 0.006152033264927255),\n",
       " ('oh', 0.006238748439195941),\n",
       " ('ever', 0.0063378808907657395),\n",
       " ('read', 0.006350944059570928),\n",
       " ('cool', 0.006486668829164651),\n",
       " ('right', 0.006487470527616977),\n",
       " ('though', 0.0065181053429444824),\n",
       " ('reason', 0.006537550203904096),\n",
       " ('year', 0.006809924956777469),\n",
       " ('character', 0.006944644826010696),\n",
       " ('awesome', 0.006985039238397366),\n",
       " ('something', 0.007377638671257073),\n",
       " ('amazing', 0.007409446609713981),\n",
       " ('still', 0.007699206442688829),\n",
       " ('feel', 0.007822577427595824),\n",
       " ('well', 0.00784001192131467),\n",
       " ('say', 0.00787512878554366),\n",
       " ('part', 0.008079579167830902),\n",
       " ('see', 0.0082096134789061),\n",
       " ('way', 0.008309737115325235),\n",
       " ('work', 0.00836077131941619),\n",
       " ('even', 0.008671313086302005),\n",
       " ('great', 0.008776691599742563),\n",
       " ('day', 0.008788753460613976),\n",
       " ('seen', 0.008947274077086549),\n",
       " ('much', 0.009006863363836916),\n",
       " ('need', 0.009019678588794086),\n",
       " ('thing', 0.009024645266753733),\n",
       " ('point', 0.009248546610744713),\n",
       " ('made', 0.009616565606422423),\n",
       " ('question', 0.009689324210592869),\n",
       " ('people', 0.009995256082716198),\n",
       " ('thought', 0.010106196456914424),\n",
       " ('always', 0.010205453392648953),\n",
       " ('time', 0.010645263136736041),\n",
       " ('make', 0.010703640867434359),\n",
       " ('maybe', 0.010850360864171864),\n",
       " ('movie', 0.011470817223673596),\n",
       " ('good', 0.011664495293826514),\n",
       " ('look', 0.01246558507189196),\n",
       " ('get', 0.01273005745229575),\n",
       " ('love', 0.014654733693812103),\n",
       " ('know', 0.015345160457227556),\n",
       " ('could', 0.01676149817399487),\n",
       " ('think', 0.028849536789971014),\n",
       " ('would', 0.030325193028165786),\n",
       " ('book', 0.03152696535276946),\n",
       " ('harry', 0.11686484152896297)]"
      ]
     },
     "execution_count": 334,
     "metadata": {},
     "output_type": "execute_result"
    }
   ],
   "source": [
    "potter_feat_importances = list(zip(feats, rfc_potter.feature_importances_))\n",
    "Sort_Tuple(potter_feat_importances)"
   ]
  },
  {
   "cell_type": "code",
   "execution_count": 335,
   "metadata": {
    "scrolled": true
   },
   "outputs": [
    {
     "data": {
      "text/plain": [
       "[('question', 0.0012170337219487588),\n",
       " ('trying', 0.0012848969483462435),\n",
       " ('kanye', 0.0013550025024346198),\n",
       " ('reason', 0.001451035805086672),\n",
       " ('use', 0.0015397762383011283),\n",
       " ('watched', 0.001664165256506852),\n",
       " ('whole', 0.0017135108298280196),\n",
       " ('girl', 0.0017424600992424952),\n",
       " ('around', 0.0018737175432099232),\n",
       " ('may', 0.0019003686381861846),\n",
       " ('little', 0.0019152049682429327),\n",
       " ('guess', 0.0019550527753089213),\n",
       " ('least', 0.0019907311581425064),\n",
       " ('game', 0.002027455147597035),\n",
       " ('album', 0.002093679529584445),\n",
       " ('real', 0.0020990125818565837),\n",
       " ('place', 0.0021387900388655655),\n",
       " ('kid', 0.0022118718088710238),\n",
       " ('nothing', 0.0022120910694897987),\n",
       " ('dark', 0.002288285173213727),\n",
       " ('watching', 0.0023280958132198683),\n",
       " ('far', 0.0023298895857071606),\n",
       " ('everything', 0.0023380893521212005),\n",
       " ('said', 0.0023537400971738675),\n",
       " ('put', 0.0023617267953468936),\n",
       " ('another', 0.0024200433513344327),\n",
       " ('anything', 0.00250663126398992),\n",
       " ('edit', 0.0025307400529045515),\n",
       " ('mean', 0.0025352134672711767),\n",
       " ('music', 0.00258656880738727),\n",
       " ('friend', 0.0026711160511910035),\n",
       " ('enough', 0.002695756342292675),\n",
       " ('let', 0.0027547735860618127),\n",
       " ('song', 0.0027959991549115974),\n",
       " ('done', 0.002797028555604432),\n",
       " ('try', 0.0028797755670387382),\n",
       " ('fuck', 0.002900678309771316),\n",
       " ('since', 0.002970302497761086),\n",
       " ('nice', 0.002975049104328138),\n",
       " ('oh', 0.002994217452096707),\n",
       " ('probably', 0.0029996764985866274),\n",
       " ('top', 0.0030529270879747134),\n",
       " ('big', 0.0030986296849736653),\n",
       " ('many', 0.003120932456055081),\n",
       " ('someone', 0.0031748983325709545),\n",
       " ('anyone', 0.0031788228910004227),\n",
       " ('world', 0.0032370324584280875),\n",
       " ('wanted', 0.0032716547659032928),\n",
       " ('start', 0.003289706012379936),\n",
       " ('point', 0.0033108478092361425),\n",
       " ('next', 0.0034044509933623683),\n",
       " ('guy', 0.0034443126932302624),\n",
       " ('list', 0.0034501235392141384),\n",
       " ('harry', 0.0035148185684192473),\n",
       " ('shit', 0.0035359691511293095),\n",
       " ('saw', 0.0035599222408581248),\n",
       " ('part', 0.003565271133226512),\n",
       " ('already', 0.0036163951296942936),\n",
       " ('thought', 0.0036376745163358448),\n",
       " ('fan', 0.003688051050389149),\n",
       " ('two', 0.0037021246943331576),\n",
       " ('better', 0.003738270262680488),\n",
       " ('without', 0.0037385744621019745),\n",
       " ('made', 0.00375197389406506),\n",
       " ('definitely', 0.0038263173105960602),\n",
       " ('else', 0.00384740294719229),\n",
       " ('death', 0.0038639735975839517),\n",
       " ('gt', 0.003867616436826102),\n",
       " ('watch', 0.003910534281367411),\n",
       " ('seems', 0.003919717208723309),\n",
       " ('might', 0.003944900041967712),\n",
       " ('right', 0.003953176835242708),\n",
       " ('scene', 0.003969647232056344),\n",
       " ('long', 0.0040045402041384405),\n",
       " ('favorite', 0.004043018250167665),\n",
       " ('actually', 0.004182534394322822),\n",
       " ('find', 0.004263331412429167),\n",
       " ('bit', 0.0042648271656280205),\n",
       " ('always', 0.0042926908119419885),\n",
       " ('everyone', 0.004300848208222617),\n",
       " ('need', 0.004309610371445942),\n",
       " ('yet', 0.004315081685202618),\n",
       " ('never', 0.004334618871111394),\n",
       " ('keep', 0.0043918971121390035),\n",
       " ('every', 0.004439666802729104),\n",
       " ('something', 0.004468006977804436),\n",
       " ('please', 0.004481582051585974),\n",
       " ('wait', 0.004483801726515549),\n",
       " ('film', 0.00454161647329827),\n",
       " ('work', 0.0045773552720637205),\n",
       " ('awesome', 0.004597116891817942),\n",
       " ('could', 0.00462567006745476),\n",
       " ('though', 0.004636643285305846),\n",
       " ('seen', 0.004666794289269665),\n",
       " ('episode', 0.004831794932824039),\n",
       " ('week', 0.004848740139075822),\n",
       " ('maybe', 0.004848830911312207),\n",
       " ('show', 0.004863225266709757),\n",
       " ('bad', 0.004884234382451236),\n",
       " ('star', 0.005122429722416631),\n",
       " ('black', 0.005191974614600909),\n",
       " ('last', 0.005230224544387029),\n",
       " ('give', 0.005253774322054522),\n",
       " ('war', 0.005258469150198315),\n",
       " ('day', 0.005427679558925903),\n",
       " ('sure', 0.005514578776368618),\n",
       " ('life', 0.005594509780698975),\n",
       " ('anime', 0.005635604289078892),\n",
       " ('old', 0.005721236139782615),\n",
       " ('second', 0.005800898808035527),\n",
       " ('hope', 0.005813215688578364),\n",
       " ('looking', 0.005881075237636618),\n",
       " ('fucking', 0.005951014006084281),\n",
       " ('interesting', 0.005974739220020059),\n",
       " ('even', 0.00601345564621978),\n",
       " ('ever', 0.006083528494347787),\n",
       " ('getting', 0.006329638382824898),\n",
       " ('best', 0.006352734444353882),\n",
       " ('feel', 0.006488131383259171),\n",
       " ('lot', 0.00657446330824007),\n",
       " ('year', 0.006622863587988124),\n",
       " ('say', 0.006841489962549986),\n",
       " ('think', 0.007210808875299381),\n",
       " ('still', 0.00725762538689234),\n",
       " ('character', 0.007277774142104663),\n",
       " ('cool', 0.007319468554887999),\n",
       " ('go', 0.007336915221535451),\n",
       " ('much', 0.007347134584033125),\n",
       " ('back', 0.007402752072682589),\n",
       " ('amazing', 0.00766227203227869),\n",
       " ('well', 0.007805329769101733),\n",
       " ('pretty', 0.007911236131116176),\n",
       " ('make', 0.007951417278991043),\n",
       " ('stuff', 0.007964952712096218),\n",
       " ('thing', 0.007980492743321872),\n",
       " ('first', 0.008122477015059571),\n",
       " ('got', 0.008148158390533573),\n",
       " ('people', 0.00838274312657026),\n",
       " ('story', 0.008502878702015916),\n",
       " ('know', 0.008554484512388159),\n",
       " ('fun', 0.008655116892221664),\n",
       " ('way', 0.008887574994886967),\n",
       " ('going', 0.009301066552074255),\n",
       " ('new', 0.009433613655974515),\n",
       " ('look', 0.00948980211466733),\n",
       " ('love', 0.00949986707617609),\n",
       " ('see', 0.009607682081481989),\n",
       " ('sound', 0.01042464142092043),\n",
       " ('time', 0.010878298531116182),\n",
       " ('great', 0.011388703177453456),\n",
       " ('movie', 0.011623824105848248),\n",
       " ('would', 0.012681903348973829),\n",
       " ('get', 0.013111318435495525),\n",
       " ('good', 0.013176822824914057),\n",
       " ('series', 0.014631113716015404),\n",
       " ('read', 0.01988495079197221),\n",
       " ('book', 0.03325224699053677),\n",
       " ('deadpool', 0.034520641578308815),\n",
       " ('issue', 0.05972763610381697),\n",
       " ('comic', 0.0919225240711356)]"
      ]
     },
     "execution_count": 335,
     "metadata": {},
     "output_type": "execute_result"
    }
   ],
   "source": [
    "comic_feat_importances = list(zip(feats, rfc_comic.feature_importances_))\n",
    "Sort_Tuple(comic_feat_importances)"
   ]
  },
  {
   "cell_type": "code",
   "execution_count": 336,
   "metadata": {
    "collapsed": true
   },
   "outputs": [
    {
     "data": {
      "text/plain": [
       "[('whole', 0.001658746004623978),\n",
       " ('fuck', 0.0017869163757743608),\n",
       " ('old', 0.0018700984616704423),\n",
       " ('may', 0.0019801809156709286),\n",
       " ('trying', 0.0020020094910338185),\n",
       " ('girl', 0.0020735984555039625),\n",
       " ('enough', 0.0021285680893642755),\n",
       " ('seems', 0.002292970643555627),\n",
       " ('gt', 0.0022958046568867076),\n",
       " ('else', 0.0023011086866430715),\n",
       " ('looking', 0.002319113946736228),\n",
       " ('stuff', 0.002326963145763608),\n",
       " ('wanted', 0.002332423692806541),\n",
       " ('around', 0.002376778560513889),\n",
       " ('oh', 0.002390879864008463),\n",
       " ('question', 0.002404518520484652),\n",
       " ('without', 0.002412903605235169),\n",
       " ('everything', 0.0024353435515287684),\n",
       " ('interesting', 0.0024754134769212153),\n",
       " ('mean', 0.0024874856637312685),\n",
       " ('real', 0.0025006641891809206),\n",
       " ('week', 0.002516338964761949),\n",
       " ('please', 0.002547022288130402),\n",
       " ('sound', 0.0025601916994657707),\n",
       " ('said', 0.0025912615306651022),\n",
       " ('harry', 0.0026434666726064754),\n",
       " ('edit', 0.0026490942952888084),\n",
       " ('reason', 0.002675777732554554),\n",
       " ('keep', 0.0027187831170608022),\n",
       " ('yet', 0.002756480268770339),\n",
       " ('since', 0.0027883714350958335),\n",
       " ('favorite', 0.002792284325880172),\n",
       " ('nothing', 0.0028034032330933587),\n",
       " ('place', 0.002874444558065364),\n",
       " ('getting', 0.0029066912555255893),\n",
       " ('least', 0.0029286737214296098),\n",
       " ('top', 0.002936465996944067),\n",
       " ('give', 0.0029849229542135342),\n",
       " ('might', 0.0030236149422129786),\n",
       " ('use', 0.0030376667160071356),\n",
       " ('start', 0.0030442978399821846),\n",
       " ('guess', 0.0030460755248866976),\n",
       " ('far', 0.003056483334509296),\n",
       " ('someone', 0.0031752647817832975),\n",
       " ('point', 0.003222443943801604),\n",
       " ('definitely', 0.0032273355187298508),\n",
       " ('let', 0.0032671985194706486),\n",
       " ('anyone', 0.0032696902484265124),\n",
       " ('everyone', 0.0033406645852265943),\n",
       " ('fun', 0.0034095430149444893),\n",
       " ('another', 0.0034113860543094994),\n",
       " ('though', 0.003461528087933769),\n",
       " ('probably', 0.0034840859393670404),\n",
       " ('fan', 0.0035349410730450997),\n",
       " ('awesome', 0.003536470372131881),\n",
       " ('put', 0.0035440307410322257),\n",
       " ('bad', 0.00359408828421184),\n",
       " ('black', 0.0036071943004478873),\n",
       " ('work', 0.0037038825751485077),\n",
       " ('anything', 0.0037411758620643997),\n",
       " ('death', 0.003757606021002139),\n",
       " ('watching', 0.0037673800216386282),\n",
       " ('need', 0.0037990194278594808),\n",
       " ('bit', 0.0038281325107680027),\n",
       " ('hope', 0.003887398969548701),\n",
       " ('right', 0.003904281078179458),\n",
       " ('already', 0.003914190273227799),\n",
       " ('friend', 0.003918421013230086),\n",
       " ('try', 0.0039265790660410775),\n",
       " ('done', 0.003964506742434296),\n",
       " ('every', 0.003997241828307114),\n",
       " ('fucking', 0.00404231412427267),\n",
       " ('nice', 0.004133259038049102),\n",
       " ('long', 0.00413825505157974),\n",
       " ('watched', 0.004208428640708751),\n",
       " ('maybe', 0.0042995538264433905),\n",
       " ('second', 0.0043465734212971),\n",
       " ('many', 0.0043507473821142876),\n",
       " ('kanye', 0.00436495897296037),\n",
       " ('music', 0.004487668992821106),\n",
       " ('two', 0.004512468682681186),\n",
       " ('shit', 0.0045223461704975414),\n",
       " ('find', 0.00452730906080024),\n",
       " ('big', 0.00452787304762639),\n",
       " ('song', 0.004621108356119842),\n",
       " ('actually', 0.004734896228091704),\n",
       " ('issue', 0.004770098087203242),\n",
       " ('sure', 0.004795566243975808),\n",
       " ('kid', 0.004797608111289632),\n",
       " ('never', 0.0048323940163543105),\n",
       " ('guy', 0.004881624294783594),\n",
       " ('character', 0.004886780813509997),\n",
       " ('feel', 0.004898032428709076),\n",
       " ('always', 0.004907535197643827),\n",
       " ('little', 0.004917502702402543),\n",
       " ('read', 0.00492537359692133),\n",
       " ('thought', 0.0050336420109547315),\n",
       " ('story', 0.0050952516299019165),\n",
       " ('last', 0.005139298521774355),\n",
       " ('better', 0.005280505751882562),\n",
       " ('comic', 0.005339042047115539),\n",
       " ('ever', 0.0053657218485286574),\n",
       " ('wait', 0.005387430338864919),\n",
       " ('lot', 0.005399040965637306),\n",
       " ('something', 0.005451389574300805),\n",
       " ('cool', 0.005540939785034561),\n",
       " ('way', 0.0056005570936496765),\n",
       " ('world', 0.0057107705607939065),\n",
       " ('go', 0.005724618237699798),\n",
       " ('amazing', 0.0057311823370887185),\n",
       " ('say', 0.005963994301772837),\n",
       " ('got', 0.006103023513560742),\n",
       " ('day', 0.006179493617449377),\n",
       " ('even', 0.006248121229820294),\n",
       " ('pretty', 0.006268866205967535),\n",
       " ('series', 0.006285029083304086),\n",
       " ('made', 0.006355172908202884),\n",
       " ('album', 0.006376700808028293),\n",
       " ('star', 0.006454282937352968),\n",
       " ('book', 0.006496723389722971),\n",
       " ('show', 0.006502950480719633),\n",
       " ('part', 0.0065697890530749615),\n",
       " ('dark', 0.006659555046808183),\n",
       " ('next', 0.006804418453054418),\n",
       " ('thing', 0.006820641143033134),\n",
       " ('back', 0.006865504637992018),\n",
       " ('war', 0.006911851871963198),\n",
       " ('life', 0.006949271779037185),\n",
       " ('year', 0.007046962671886746),\n",
       " ('best', 0.007261019904919765),\n",
       " ('know', 0.007399193248749146),\n",
       " ('still', 0.0074084228692229415),\n",
       " ('deadpool', 0.007663332933381368),\n",
       " ('new', 0.007796191472692927),\n",
       " ('going', 0.00784994346780753),\n",
       " ('seen', 0.007887313187153865),\n",
       " ('could', 0.007930073277348966),\n",
       " ('love', 0.008050138564709167),\n",
       " ('people', 0.008141662956206474),\n",
       " ('make', 0.008142071982929293),\n",
       " ('well', 0.008210850007396865),\n",
       " ('think', 0.008230584761701073),\n",
       " ('much', 0.008313257067445515),\n",
       " ('episode', 0.00874865766017639),\n",
       " ('list', 0.009028059454136103),\n",
       " ('first', 0.009825749019545298),\n",
       " ('great', 0.009940774564056523),\n",
       " ('look', 0.010675550212071483),\n",
       " ('good', 0.011015114805081976),\n",
       " ('watch', 0.011339646672199982),\n",
       " ('get', 0.011443993002350432),\n",
       " ('see', 0.011495906490236567),\n",
       " ('would', 0.012404337195603361),\n",
       " ('game', 0.013076938030280726),\n",
       " ('saw', 0.013135962642421301),\n",
       " ('anime', 0.013327028822936243),\n",
       " ('time', 0.02336826209514136),\n",
       " ('scene', 0.026704136583724856),\n",
       " ('film', 0.05583836164736258),\n",
       " ('movie', 0.11432546181707441)]"
      ]
     },
     "execution_count": 336,
     "metadata": {},
     "output_type": "execute_result"
    }
   ],
   "source": [
    "music_feat_importances = list(zip(feats, rfc_music.feature_importances_))\n",
    "Sort_Tuple(music_feat_importances)"
   ]
  },
  {
   "cell_type": "code",
   "execution_count": 337,
   "metadata": {
    "collapsed": true
   },
   "outputs": [
    {
     "data": {
      "text/plain": [
       "[('may', 0.0013492673494798636),\n",
       " ('fuck', 0.0018311777633957071),\n",
       " ('looking', 0.0018620745504932016),\n",
       " ('whole', 0.0019317388796537746),\n",
       " ('trying', 0.001953965194708815),\n",
       " ('everything', 0.0019869440469235024),\n",
       " ('enough', 0.0020708533116176337),\n",
       " ('old', 0.0021204819271644234),\n",
       " ('question', 0.0021982569143176377),\n",
       " ('week', 0.0022177956847730766),\n",
       " ('girl', 0.0022196714598355137),\n",
       " ('stuff', 0.0023921217540892156),\n",
       " ('real', 0.0024031757008816535),\n",
       " ('around', 0.002426484149950083),\n",
       " ('oh', 0.002441302639949137),\n",
       " ('edit', 0.002462199880336833),\n",
       " ('seems', 0.0024632020253085346),\n",
       " ('without', 0.0024778864786829703),\n",
       " ('interesting', 0.002485048908431802),\n",
       " ('reason', 0.0024924251013973657),\n",
       " ('sound', 0.0025426499945913126),\n",
       " ('mean', 0.0025485514232312604),\n",
       " ('getting', 0.002564927623657437),\n",
       " ('else', 0.0026431364671207587),\n",
       " ('wanted', 0.0026578534479224686),\n",
       " ('gt', 0.0026887401635715346),\n",
       " ('please', 0.00274470965968375),\n",
       " ('harry', 0.002762644458811812),\n",
       " ('top', 0.0028303261667828135),\n",
       " ('guess', 0.0028475680213824557),\n",
       " ('nothing', 0.002885854524648223),\n",
       " ('keep', 0.002903152871397441),\n",
       " ('far', 0.0029177768606628656),\n",
       " ('yet', 0.0029227782321393204),\n",
       " ('least', 0.002942248702116171),\n",
       " ('said', 0.0029522110362025663),\n",
       " ('place', 0.002964477423178055),\n",
       " ('favorite', 0.0030016345504402546),\n",
       " ('start', 0.0030110385699380167),\n",
       " ('point', 0.0030533826478718554),\n",
       " ('fun', 0.0031315013524545964),\n",
       " ('might', 0.0031512129383897),\n",
       " ('since', 0.00315330667645316),\n",
       " ('everyone', 0.00317794330212734),\n",
       " ('definitely', 0.0032020700943621986),\n",
       " ('another', 0.003208845589809068),\n",
       " ('death', 0.0032676235375513215),\n",
       " ('put', 0.0032862320354996363),\n",
       " ('use', 0.0032904525634818676),\n",
       " ('let', 0.0033028108996488842),\n",
       " ('someone', 0.0033719705631825663),\n",
       " ('give', 0.003402284061855994),\n",
       " ('fan', 0.0034399521660478855),\n",
       " ('bad', 0.0035013882513831485),\n",
       " ('bit', 0.0035843324800182612),\n",
       " ('anything', 0.0035991983147537943),\n",
       " ('watching', 0.0036356326139751604),\n",
       " ('black', 0.0036486039412469),\n",
       " ('friend', 0.003680415020155659),\n",
       " ('though', 0.003725694187792599),\n",
       " ('anyone', 0.003771119105312698),\n",
       " ('try', 0.0037753079290397205),\n",
       " ('done', 0.0037868419103740656),\n",
       " ('work', 0.0038068608229204215),\n",
       " ('need', 0.0038097368317109824),\n",
       " ('every', 0.003841841424041858),\n",
       " ('long', 0.0038644062057285656),\n",
       " ('right', 0.00386652658680888),\n",
       " ('awesome', 0.003870354480815437),\n",
       " ('already', 0.00389033039595713),\n",
       " ('probably', 0.003918755540861612),\n",
       " ('hope', 0.003932469284134675),\n",
       " ('maybe', 0.004223541060290533),\n",
       " ('watched', 0.004238567825163286),\n",
       " ('second', 0.004286353116320215),\n",
       " ('song', 0.0043819006722991246),\n",
       " ('shit', 0.004421985399656699),\n",
       " ('two', 0.004433811243296939),\n",
       " ('big', 0.004484336625337412),\n",
       " ('never', 0.004571802480948453),\n",
       " ('kanye', 0.0045802048396384396),\n",
       " ('nice', 0.0046212568341478365),\n",
       " ('find', 0.0046740877425367165),\n",
       " ('kid', 0.004728015736741744),\n",
       " ('many', 0.004762508450047736),\n",
       " ('fucking', 0.004803865334554444),\n",
       " ('music', 0.004816590049967636),\n",
       " ('better', 0.004876703325167541),\n",
       " ('thought', 0.004889555240221542),\n",
       " ('little', 0.004895000838913968),\n",
       " ('story', 0.004927373835766122),\n",
       " ('always', 0.004979444318649065),\n",
       " ('sure', 0.004987891452569578),\n",
       " ('lot', 0.005048085515613151),\n",
       " ('actually', 0.0050500543909349745),\n",
       " ('read', 0.005053494280537129),\n",
       " ('amazing', 0.0050899946706122814),\n",
       " ('feel', 0.005124885367273117),\n",
       " ('comic', 0.0051363268764655),\n",
       " ('wait', 0.00513788474352839),\n",
       " ('guy', 0.00514220543958678),\n",
       " ('ever', 0.0051606331478045615),\n",
       " ('character', 0.005275084473352807),\n",
       " ('last', 0.005276127647587997),\n",
       " ('issue', 0.005518695210983214),\n",
       " ('day', 0.005544338772796293),\n",
       " ('say', 0.0056088677340511515),\n",
       " ('cool', 0.005663996816525038),\n",
       " ('something', 0.0056825666682608885),\n",
       " ('series', 0.0056895814588801994),\n",
       " ('go', 0.005708162230918444),\n",
       " ('way', 0.005746626083595331),\n",
       " ('pretty', 0.005821826084543024),\n",
       " ('world', 0.005969780607105124),\n",
       " ('album', 0.0060088451725840205),\n",
       " ('even', 0.006183076001949033),\n",
       " ('got', 0.006243972150153964),\n",
       " ('star', 0.0063224262150215985),\n",
       " ('back', 0.006458281493143401),\n",
       " ('show', 0.006468017182489971),\n",
       " ('book', 0.006493460934415485),\n",
       " ('part', 0.006553743008077778),\n",
       " ('year', 0.006612740586019231),\n",
       " ('life', 0.006621281620605432),\n",
       " ('next', 0.006662796150018651),\n",
       " ('dark', 0.00671069299445703),\n",
       " ('thing', 0.006740208661735969),\n",
       " ('made', 0.006751912440441075),\n",
       " ('war', 0.006813033102995303),\n",
       " ('still', 0.007030425751458027),\n",
       " ('new', 0.007474332996367926),\n",
       " ('seen', 0.0075592092383455056),\n",
       " ('going', 0.007609858502272204),\n",
       " ('well', 0.007729959231809326),\n",
       " ('could', 0.007750301027610882),\n",
       " ('make', 0.007856439732620452),\n",
       " ('love', 0.007877166580887942),\n",
       " ('know', 0.007925355167723809),\n",
       " ('deadpool', 0.007954097504555913),\n",
       " ('best', 0.008149386244567297),\n",
       " ('think', 0.008405197715687965),\n",
       " ('people', 0.008581808317579258),\n",
       " ('episode', 0.008679116534105443),\n",
       " ('much', 0.00883462514738598),\n",
       " ('list', 0.008897257599784946),\n",
       " ('great', 0.009663868035471493),\n",
       " ('first', 0.009675627068756291),\n",
       " ('get', 0.010847173723533568),\n",
       " ('look', 0.010897565023862832),\n",
       " ('see', 0.011243599920409242),\n",
       " ('watch', 0.011427469326549802),\n",
       " ('good', 0.011646653509526204),\n",
       " ('would', 0.012417228363803266),\n",
       " ('game', 0.013330174492150515),\n",
       " ('anime', 0.013529901544264191),\n",
       " ('saw', 0.014482193172657474),\n",
       " ('time', 0.02214847237320669),\n",
       " ('scene', 0.027013922924055536),\n",
       " ('film', 0.055087342184146085),\n",
       " ('movie', 0.11552801101290862)]"
      ]
     },
     "execution_count": 337,
     "metadata": {},
     "output_type": "execute_result"
    }
   ],
   "source": [
    "sw_feat_importances = list(zip(feats, rfc_sw.feature_importances_))\n",
    "Sort_Tuple(sw_feat_importances)"
   ]
  },
  {
   "cell_type": "code",
   "execution_count": 404,
   "metadata": {},
   "outputs": [
    {
     "data": {
      "text/plain": [
       "array([0], dtype=uint8)"
      ]
     },
     "execution_count": 404,
     "metadata": {},
     "output_type": "execute_result"
    }
   ],
   "source": [
    "x_test = tfidf_vectorizer.transform(lsttest)\n",
    "x_test\n",
    "rfc_sw.predict(x_test)"
   ]
  },
  {
   "cell_type": "code",
   "execution_count": 376,
   "metadata": {},
   "outputs": [
    {
     "name": "stdout",
     "output_type": "stream",
     "text": [
      "(10040, 158)\n",
      "(300000, 158)\n"
     ]
    }
   ],
   "source": []
  },
  {
   "cell_type": "code",
   "execution_count": 397,
   "metadata": {},
   "outputs": [
    {
     "data": {
      "text/plain": [
       "<bound method BaseEstimator.get_params of RandomForestClassifier(bootstrap=True, ccp_alpha=0.0, class_weight=None,\n",
       "                       criterion='gini', max_depth=None, max_features='log2',\n",
       "                       max_leaf_nodes=None, max_samples=None,\n",
       "                       min_impurity_decrease=0.0, min_impurity_split=None,\n",
       "                       min_samples_leaf=1, min_samples_split=2,\n",
       "                       min_weight_fraction_leaf=0.0, n_estimators=50, n_jobs=-1,\n",
       "                       oob_score=True, random_state=None, verbose=0,\n",
       "                       warm_start=False)>"
      ]
     },
     "execution_count": 397,
     "metadata": {},
     "output_type": "execute_result"
    }
   ],
   "source": [
    "rfc_sw.get_params"
   ]
  },
  {
   "cell_type": "code",
   "execution_count": 217,
   "metadata": {},
   "outputs": [
    {
     "ename": "KeyboardInterrupt",
     "evalue": "",
     "output_type": "error",
     "traceback": [
      "\u001b[0;31m---------------------------------------------------------------------------\u001b[0m",
      "\u001b[0;31mKeyboardInterrupt\u001b[0m                         Traceback (most recent call last)",
      "\u001b[0;32m<ipython-input-217-de21f5bf3928>\u001b[0m in \u001b[0;36m<module>\u001b[0;34m\u001b[0m\n\u001b[1;32m      5\u001b[0m              'max_features': ['auto', 'sqrt', 'log2']}\n\u001b[1;32m      6\u001b[0m \u001b[0mclf\u001b[0m \u001b[0;34m=\u001b[0m \u001b[0mGridSearchCV\u001b[0m\u001b[0;34m(\u001b[0m\u001b[0mRandomForestClassifier\u001b[0m\u001b[0;34m(\u001b[0m\u001b[0;34m)\u001b[0m\u001b[0;34m,\u001b[0m \u001b[0mparam_grid\u001b[0m \u001b[0;34m=\u001b[0m \u001b[0mparameters\u001b[0m\u001b[0;34m,\u001b[0m \u001b[0mcv\u001b[0m\u001b[0;34m=\u001b[0m\u001b[0;36m10\u001b[0m\u001b[0;34m,\u001b[0m \u001b[0mn_jobs\u001b[0m\u001b[0;34m=\u001b[0m\u001b[0;34m-\u001b[0m\u001b[0;36m1\u001b[0m\u001b[0;34m,\u001b[0m \u001b[0mscoring\u001b[0m \u001b[0;34m=\u001b[0m \u001b[0;34m'f1'\u001b[0m\u001b[0;34m)\u001b[0m\u001b[0;34m\u001b[0m\u001b[0;34m\u001b[0m\u001b[0m\n\u001b[0;32m----> 7\u001b[0;31m \u001b[0mclf\u001b[0m\u001b[0;34m.\u001b[0m\u001b[0mfit\u001b[0m\u001b[0;34m(\u001b[0m\u001b[0mX\u001b[0m\u001b[0;34m,\u001b[0m \u001b[0my\u001b[0m\u001b[0;34m)\u001b[0m\u001b[0;34m\u001b[0m\u001b[0;34m\u001b[0m\u001b[0m\n\u001b[0m\u001b[1;32m      8\u001b[0m \u001b[0mprint\u001b[0m\u001b[0;34m(\u001b[0m\u001b[0;34m'f1 Score: {:.3}'\u001b[0m\u001b[0;34m.\u001b[0m\u001b[0mformat\u001b[0m\u001b[0;34m(\u001b[0m\u001b[0mclf\u001b[0m\u001b[0;34m.\u001b[0m\u001b[0mscore\u001b[0m\u001b[0;34m(\u001b[0m\u001b[0mX\u001b[0m\u001b[0;34m,\u001b[0m\u001b[0my\u001b[0m\u001b[0;34m)\u001b[0m\u001b[0;34m)\u001b[0m\u001b[0;34m)\u001b[0m\u001b[0;34m\u001b[0m\u001b[0;34m\u001b[0m\u001b[0m\n\u001b[1;32m      9\u001b[0m \u001b[0mprint\u001b[0m\u001b[0;34m(\u001b[0m\u001b[0mclf\u001b[0m\u001b[0;34m.\u001b[0m\u001b[0mbest_params_\u001b[0m\u001b[0;34m)\u001b[0m\u001b[0;34m\u001b[0m\u001b[0;34m\u001b[0m\u001b[0m\n",
      "\u001b[0;32m~/opt/anaconda3/lib/python3.7/site-packages/sklearn/model_selection/_search.py\u001b[0m in \u001b[0;36mfit\u001b[0;34m(self, X, y, groups, **fit_params)\u001b[0m\n\u001b[1;32m    708\u001b[0m                 \u001b[0;32mreturn\u001b[0m \u001b[0mresults\u001b[0m\u001b[0;34m\u001b[0m\u001b[0;34m\u001b[0m\u001b[0m\n\u001b[1;32m    709\u001b[0m \u001b[0;34m\u001b[0m\u001b[0m\n\u001b[0;32m--> 710\u001b[0;31m             \u001b[0mself\u001b[0m\u001b[0;34m.\u001b[0m\u001b[0m_run_search\u001b[0m\u001b[0;34m(\u001b[0m\u001b[0mevaluate_candidates\u001b[0m\u001b[0;34m)\u001b[0m\u001b[0;34m\u001b[0m\u001b[0;34m\u001b[0m\u001b[0m\n\u001b[0m\u001b[1;32m    711\u001b[0m \u001b[0;34m\u001b[0m\u001b[0m\n\u001b[1;32m    712\u001b[0m         \u001b[0;31m# For multi-metric evaluation, store the best_index_, best_params_ and\u001b[0m\u001b[0;34m\u001b[0m\u001b[0;34m\u001b[0m\u001b[0;34m\u001b[0m\u001b[0m\n",
      "\u001b[0;32m~/opt/anaconda3/lib/python3.7/site-packages/sklearn/model_selection/_search.py\u001b[0m in \u001b[0;36m_run_search\u001b[0;34m(self, evaluate_candidates)\u001b[0m\n\u001b[1;32m   1149\u001b[0m     \u001b[0;32mdef\u001b[0m \u001b[0m_run_search\u001b[0m\u001b[0;34m(\u001b[0m\u001b[0mself\u001b[0m\u001b[0;34m,\u001b[0m \u001b[0mevaluate_candidates\u001b[0m\u001b[0;34m)\u001b[0m\u001b[0;34m:\u001b[0m\u001b[0;34m\u001b[0m\u001b[0;34m\u001b[0m\u001b[0m\n\u001b[1;32m   1150\u001b[0m         \u001b[0;34m\"\"\"Search all candidates in param_grid\"\"\"\u001b[0m\u001b[0;34m\u001b[0m\u001b[0;34m\u001b[0m\u001b[0m\n\u001b[0;32m-> 1151\u001b[0;31m         \u001b[0mevaluate_candidates\u001b[0m\u001b[0;34m(\u001b[0m\u001b[0mParameterGrid\u001b[0m\u001b[0;34m(\u001b[0m\u001b[0mself\u001b[0m\u001b[0;34m.\u001b[0m\u001b[0mparam_grid\u001b[0m\u001b[0;34m)\u001b[0m\u001b[0;34m)\u001b[0m\u001b[0;34m\u001b[0m\u001b[0;34m\u001b[0m\u001b[0m\n\u001b[0m\u001b[1;32m   1152\u001b[0m \u001b[0;34m\u001b[0m\u001b[0m\n\u001b[1;32m   1153\u001b[0m \u001b[0;34m\u001b[0m\u001b[0m\n",
      "\u001b[0;32m~/opt/anaconda3/lib/python3.7/site-packages/sklearn/model_selection/_search.py\u001b[0m in \u001b[0;36mevaluate_candidates\u001b[0;34m(candidate_params)\u001b[0m\n\u001b[1;32m    687\u001b[0m                                \u001b[0;32mfor\u001b[0m \u001b[0mparameters\u001b[0m\u001b[0;34m,\u001b[0m \u001b[0;34m(\u001b[0m\u001b[0mtrain\u001b[0m\u001b[0;34m,\u001b[0m \u001b[0mtest\u001b[0m\u001b[0;34m)\u001b[0m\u001b[0;34m\u001b[0m\u001b[0;34m\u001b[0m\u001b[0m\n\u001b[1;32m    688\u001b[0m                                in product(candidate_params,\n\u001b[0;32m--> 689\u001b[0;31m                                           cv.split(X, y, groups)))\n\u001b[0m\u001b[1;32m    690\u001b[0m \u001b[0;34m\u001b[0m\u001b[0m\n\u001b[1;32m    691\u001b[0m                 \u001b[0;32mif\u001b[0m \u001b[0mlen\u001b[0m\u001b[0;34m(\u001b[0m\u001b[0mout\u001b[0m\u001b[0;34m)\u001b[0m \u001b[0;34m<\u001b[0m \u001b[0;36m1\u001b[0m\u001b[0;34m:\u001b[0m\u001b[0;34m\u001b[0m\u001b[0;34m\u001b[0m\u001b[0m\n",
      "\u001b[0;32m~/opt/anaconda3/lib/python3.7/site-packages/joblib/parallel.py\u001b[0m in \u001b[0;36m__call__\u001b[0;34m(self, iterable)\u001b[0m\n\u001b[1;32m   1015\u001b[0m \u001b[0;34m\u001b[0m\u001b[0m\n\u001b[1;32m   1016\u001b[0m             \u001b[0;32mwith\u001b[0m \u001b[0mself\u001b[0m\u001b[0;34m.\u001b[0m\u001b[0m_backend\u001b[0m\u001b[0;34m.\u001b[0m\u001b[0mretrieval_context\u001b[0m\u001b[0;34m(\u001b[0m\u001b[0;34m)\u001b[0m\u001b[0;34m:\u001b[0m\u001b[0;34m\u001b[0m\u001b[0;34m\u001b[0m\u001b[0m\n\u001b[0;32m-> 1017\u001b[0;31m                 \u001b[0mself\u001b[0m\u001b[0;34m.\u001b[0m\u001b[0mretrieve\u001b[0m\u001b[0;34m(\u001b[0m\u001b[0;34m)\u001b[0m\u001b[0;34m\u001b[0m\u001b[0;34m\u001b[0m\u001b[0m\n\u001b[0m\u001b[1;32m   1018\u001b[0m             \u001b[0;31m# Make sure that we get a last message telling us we are done\u001b[0m\u001b[0;34m\u001b[0m\u001b[0;34m\u001b[0m\u001b[0;34m\u001b[0m\u001b[0m\n\u001b[1;32m   1019\u001b[0m             \u001b[0melapsed_time\u001b[0m \u001b[0;34m=\u001b[0m \u001b[0mtime\u001b[0m\u001b[0;34m.\u001b[0m\u001b[0mtime\u001b[0m\u001b[0;34m(\u001b[0m\u001b[0;34m)\u001b[0m \u001b[0;34m-\u001b[0m \u001b[0mself\u001b[0m\u001b[0;34m.\u001b[0m\u001b[0m_start_time\u001b[0m\u001b[0;34m\u001b[0m\u001b[0;34m\u001b[0m\u001b[0m\n",
      "\u001b[0;32m~/opt/anaconda3/lib/python3.7/site-packages/joblib/parallel.py\u001b[0m in \u001b[0;36mretrieve\u001b[0;34m(self)\u001b[0m\n\u001b[1;32m    907\u001b[0m             \u001b[0;32mtry\u001b[0m\u001b[0;34m:\u001b[0m\u001b[0;34m\u001b[0m\u001b[0;34m\u001b[0m\u001b[0m\n\u001b[1;32m    908\u001b[0m                 \u001b[0;32mif\u001b[0m \u001b[0mgetattr\u001b[0m\u001b[0;34m(\u001b[0m\u001b[0mself\u001b[0m\u001b[0;34m.\u001b[0m\u001b[0m_backend\u001b[0m\u001b[0;34m,\u001b[0m \u001b[0;34m'supports_timeout'\u001b[0m\u001b[0;34m,\u001b[0m \u001b[0;32mFalse\u001b[0m\u001b[0;34m)\u001b[0m\u001b[0;34m:\u001b[0m\u001b[0;34m\u001b[0m\u001b[0;34m\u001b[0m\u001b[0m\n\u001b[0;32m--> 909\u001b[0;31m                     \u001b[0mself\u001b[0m\u001b[0;34m.\u001b[0m\u001b[0m_output\u001b[0m\u001b[0;34m.\u001b[0m\u001b[0mextend\u001b[0m\u001b[0;34m(\u001b[0m\u001b[0mjob\u001b[0m\u001b[0;34m.\u001b[0m\u001b[0mget\u001b[0m\u001b[0;34m(\u001b[0m\u001b[0mtimeout\u001b[0m\u001b[0;34m=\u001b[0m\u001b[0mself\u001b[0m\u001b[0;34m.\u001b[0m\u001b[0mtimeout\u001b[0m\u001b[0;34m)\u001b[0m\u001b[0;34m)\u001b[0m\u001b[0;34m\u001b[0m\u001b[0;34m\u001b[0m\u001b[0m\n\u001b[0m\u001b[1;32m    910\u001b[0m                 \u001b[0;32melse\u001b[0m\u001b[0;34m:\u001b[0m\u001b[0;34m\u001b[0m\u001b[0;34m\u001b[0m\u001b[0m\n\u001b[1;32m    911\u001b[0m                     \u001b[0mself\u001b[0m\u001b[0;34m.\u001b[0m\u001b[0m_output\u001b[0m\u001b[0;34m.\u001b[0m\u001b[0mextend\u001b[0m\u001b[0;34m(\u001b[0m\u001b[0mjob\u001b[0m\u001b[0;34m.\u001b[0m\u001b[0mget\u001b[0m\u001b[0;34m(\u001b[0m\u001b[0;34m)\u001b[0m\u001b[0;34m)\u001b[0m\u001b[0;34m\u001b[0m\u001b[0;34m\u001b[0m\u001b[0m\n",
      "\u001b[0;32m~/opt/anaconda3/lib/python3.7/site-packages/joblib/_parallel_backends.py\u001b[0m in \u001b[0;36mwrap_future_result\u001b[0;34m(future, timeout)\u001b[0m\n\u001b[1;32m    560\u001b[0m         AsyncResults.get from multiprocessing.\"\"\"\n\u001b[1;32m    561\u001b[0m         \u001b[0;32mtry\u001b[0m\u001b[0;34m:\u001b[0m\u001b[0;34m\u001b[0m\u001b[0;34m\u001b[0m\u001b[0m\n\u001b[0;32m--> 562\u001b[0;31m             \u001b[0;32mreturn\u001b[0m \u001b[0mfuture\u001b[0m\u001b[0;34m.\u001b[0m\u001b[0mresult\u001b[0m\u001b[0;34m(\u001b[0m\u001b[0mtimeout\u001b[0m\u001b[0;34m=\u001b[0m\u001b[0mtimeout\u001b[0m\u001b[0;34m)\u001b[0m\u001b[0;34m\u001b[0m\u001b[0;34m\u001b[0m\u001b[0m\n\u001b[0m\u001b[1;32m    563\u001b[0m         \u001b[0;32mexcept\u001b[0m \u001b[0mLokyTimeoutError\u001b[0m\u001b[0;34m:\u001b[0m\u001b[0;34m\u001b[0m\u001b[0;34m\u001b[0m\u001b[0m\n\u001b[1;32m    564\u001b[0m             \u001b[0;32mraise\u001b[0m \u001b[0mTimeoutError\u001b[0m\u001b[0;34m(\u001b[0m\u001b[0;34m)\u001b[0m\u001b[0;34m\u001b[0m\u001b[0;34m\u001b[0m\u001b[0m\n",
      "\u001b[0;32m~/opt/anaconda3/lib/python3.7/concurrent/futures/_base.py\u001b[0m in \u001b[0;36mresult\u001b[0;34m(self, timeout)\u001b[0m\n\u001b[1;32m    428\u001b[0m                 \u001b[0;32mreturn\u001b[0m \u001b[0mself\u001b[0m\u001b[0;34m.\u001b[0m\u001b[0m__get_result\u001b[0m\u001b[0;34m(\u001b[0m\u001b[0;34m)\u001b[0m\u001b[0;34m\u001b[0m\u001b[0;34m\u001b[0m\u001b[0m\n\u001b[1;32m    429\u001b[0m \u001b[0;34m\u001b[0m\u001b[0m\n\u001b[0;32m--> 430\u001b[0;31m             \u001b[0mself\u001b[0m\u001b[0;34m.\u001b[0m\u001b[0m_condition\u001b[0m\u001b[0;34m.\u001b[0m\u001b[0mwait\u001b[0m\u001b[0;34m(\u001b[0m\u001b[0mtimeout\u001b[0m\u001b[0;34m)\u001b[0m\u001b[0;34m\u001b[0m\u001b[0;34m\u001b[0m\u001b[0m\n\u001b[0m\u001b[1;32m    431\u001b[0m \u001b[0;34m\u001b[0m\u001b[0m\n\u001b[1;32m    432\u001b[0m             \u001b[0;32mif\u001b[0m \u001b[0mself\u001b[0m\u001b[0;34m.\u001b[0m\u001b[0m_state\u001b[0m \u001b[0;32min\u001b[0m \u001b[0;34m[\u001b[0m\u001b[0mCANCELLED\u001b[0m\u001b[0;34m,\u001b[0m \u001b[0mCANCELLED_AND_NOTIFIED\u001b[0m\u001b[0;34m]\u001b[0m\u001b[0;34m:\u001b[0m\u001b[0;34m\u001b[0m\u001b[0;34m\u001b[0m\u001b[0m\n",
      "\u001b[0;32m~/opt/anaconda3/lib/python3.7/threading.py\u001b[0m in \u001b[0;36mwait\u001b[0;34m(self, timeout)\u001b[0m\n\u001b[1;32m    294\u001b[0m         \u001b[0;32mtry\u001b[0m\u001b[0;34m:\u001b[0m    \u001b[0;31m# restore state no matter what (e.g., KeyboardInterrupt)\u001b[0m\u001b[0;34m\u001b[0m\u001b[0;34m\u001b[0m\u001b[0m\n\u001b[1;32m    295\u001b[0m             \u001b[0;32mif\u001b[0m \u001b[0mtimeout\u001b[0m \u001b[0;32mis\u001b[0m \u001b[0;32mNone\u001b[0m\u001b[0;34m:\u001b[0m\u001b[0;34m\u001b[0m\u001b[0;34m\u001b[0m\u001b[0m\n\u001b[0;32m--> 296\u001b[0;31m                 \u001b[0mwaiter\u001b[0m\u001b[0;34m.\u001b[0m\u001b[0macquire\u001b[0m\u001b[0;34m(\u001b[0m\u001b[0;34m)\u001b[0m\u001b[0;34m\u001b[0m\u001b[0;34m\u001b[0m\u001b[0m\n\u001b[0m\u001b[1;32m    297\u001b[0m                 \u001b[0mgotit\u001b[0m \u001b[0;34m=\u001b[0m \u001b[0;32mTrue\u001b[0m\u001b[0;34m\u001b[0m\u001b[0;34m\u001b[0m\u001b[0m\n\u001b[1;32m    298\u001b[0m             \u001b[0;32melse\u001b[0m\u001b[0;34m:\u001b[0m\u001b[0;34m\u001b[0m\u001b[0;34m\u001b[0m\u001b[0m\n",
      "\u001b[0;31mKeyboardInterrupt\u001b[0m: "
     ]
    }
   ],
   "source": [
    "depth_param = [1,2,3,4,5,6,7,8,9,10,11,12,None]\n",
    "num_samples_param = np.arange(5,95,10)\n",
    "parameters = {'max_depth' : depth_param,\n",
    "             'min_samples_leaf' : num_samples_param,\n",
    "             'max_features': ['auto', 'sqrt', 'log2']}\n",
    "clf = GridSearchCV(RandomForestClassifier(), param_grid = parameters, cv=5, n_jobs=-1, scoring = 'f1')\n",
    "clf.fit(X, y)\n",
    "print('f1 Score: {:.3}'.format(clf.score(X,y)))\n",
    "print(clf.best_params_)\n"
   ]
  },
  {
   "cell_type": "code",
   "execution_count": 211,
   "metadata": {},
   "outputs": [
    {
     "name": "stderr",
     "output_type": "stream",
     "text": [
      "/Users/JamesSkelton/opt/anaconda3/lib/python3.7/site-packages/sklearn/ensemble/_forest.py:523: UserWarning: Some inputs do not have OOB scores. This probably means too few trees were used to compute any reliable oob estimates.\n",
      "  warn(\"Some inputs do not have OOB scores. \"\n",
      "/Users/JamesSkelton/opt/anaconda3/lib/python3.7/site-packages/sklearn/ensemble/_forest.py:528: RuntimeWarning: invalid value encountered in true_divide\n",
      "  predictions[k].sum(axis=1)[:, np.newaxis])\n",
      "/Users/JamesSkelton/opt/anaconda3/lib/python3.7/site-packages/sklearn/ensemble/_forest.py:523: UserWarning: Some inputs do not have OOB scores. This probably means too few trees were used to compute any reliable oob estimates.\n",
      "  warn(\"Some inputs do not have OOB scores. \"\n",
      "/Users/JamesSkelton/opt/anaconda3/lib/python3.7/site-packages/sklearn/ensemble/_forest.py:528: RuntimeWarning: invalid value encountered in true_divide\n",
      "  predictions[k].sum(axis=1)[:, np.newaxis])\n",
      "/Users/JamesSkelton/opt/anaconda3/lib/python3.7/site-packages/sklearn/ensemble/_forest.py:523: UserWarning: Some inputs do not have OOB scores. This probably means too few trees were used to compute any reliable oob estimates.\n",
      "  warn(\"Some inputs do not have OOB scores. \"\n",
      "/Users/JamesSkelton/opt/anaconda3/lib/python3.7/site-packages/sklearn/ensemble/_forest.py:528: RuntimeWarning: invalid value encountered in true_divide\n",
      "  predictions[k].sum(axis=1)[:, np.newaxis])\n"
     ]
    },
    {
     "ename": "KeyboardInterrupt",
     "evalue": "",
     "output_type": "error",
     "traceback": [
      "\u001b[0;31m---------------------------------------------------------------------------\u001b[0m",
      "\u001b[0;31mKeyboardInterrupt\u001b[0m                         Traceback (most recent call last)",
      "\u001b[0;32m<ipython-input-211-9a45f631859e>\u001b[0m in \u001b[0;36m<module>\u001b[0;34m\u001b[0m\n\u001b[1;32m      8\u001b[0m }\n\u001b[1;32m      9\u001b[0m \u001b[0mCV_rfc\u001b[0m \u001b[0;34m=\u001b[0m \u001b[0mGridSearchCV\u001b[0m\u001b[0;34m(\u001b[0m\u001b[0mestimator\u001b[0m\u001b[0;34m=\u001b[0m\u001b[0mrfc\u001b[0m\u001b[0;34m,\u001b[0m \u001b[0mparam_grid\u001b[0m\u001b[0;34m=\u001b[0m\u001b[0mparam_grid\u001b[0m\u001b[0;34m,\u001b[0m \u001b[0mcv\u001b[0m\u001b[0;34m=\u001b[0m \u001b[0;36m5\u001b[0m\u001b[0;34m)\u001b[0m\u001b[0;34m\u001b[0m\u001b[0;34m\u001b[0m\u001b[0m\n\u001b[0;32m---> 10\u001b[0;31m \u001b[0mCV_rfc\u001b[0m\u001b[0;34m.\u001b[0m\u001b[0mfit\u001b[0m\u001b[0;34m(\u001b[0m\u001b[0mX\u001b[0m\u001b[0;34m,\u001b[0m \u001b[0my\u001b[0m\u001b[0;34m)\u001b[0m\u001b[0;34m\u001b[0m\u001b[0;34m\u001b[0m\u001b[0m\n\u001b[0m\u001b[1;32m     11\u001b[0m \u001b[0mprint\u001b[0m\u001b[0;34m(\u001b[0m\u001b[0mCV_rfc\u001b[0m\u001b[0;34m.\u001b[0m\u001b[0mbest_params_\u001b[0m\u001b[0;34m)\u001b[0m\u001b[0;34m\u001b[0m\u001b[0;34m\u001b[0m\u001b[0m\n",
      "\u001b[0;32m~/opt/anaconda3/lib/python3.7/site-packages/sklearn/model_selection/_search.py\u001b[0m in \u001b[0;36mfit\u001b[0;34m(self, X, y, groups, **fit_params)\u001b[0m\n\u001b[1;32m    708\u001b[0m                 \u001b[0;32mreturn\u001b[0m \u001b[0mresults\u001b[0m\u001b[0;34m\u001b[0m\u001b[0;34m\u001b[0m\u001b[0m\n\u001b[1;32m    709\u001b[0m \u001b[0;34m\u001b[0m\u001b[0m\n\u001b[0;32m--> 710\u001b[0;31m             \u001b[0mself\u001b[0m\u001b[0;34m.\u001b[0m\u001b[0m_run_search\u001b[0m\u001b[0;34m(\u001b[0m\u001b[0mevaluate_candidates\u001b[0m\u001b[0;34m)\u001b[0m\u001b[0;34m\u001b[0m\u001b[0;34m\u001b[0m\u001b[0m\n\u001b[0m\u001b[1;32m    711\u001b[0m \u001b[0;34m\u001b[0m\u001b[0m\n\u001b[1;32m    712\u001b[0m         \u001b[0;31m# For multi-metric evaluation, store the best_index_, best_params_ and\u001b[0m\u001b[0;34m\u001b[0m\u001b[0;34m\u001b[0m\u001b[0;34m\u001b[0m\u001b[0m\n",
      "\u001b[0;32m~/opt/anaconda3/lib/python3.7/site-packages/sklearn/model_selection/_search.py\u001b[0m in \u001b[0;36m_run_search\u001b[0;34m(self, evaluate_candidates)\u001b[0m\n\u001b[1;32m   1149\u001b[0m     \u001b[0;32mdef\u001b[0m \u001b[0m_run_search\u001b[0m\u001b[0;34m(\u001b[0m\u001b[0mself\u001b[0m\u001b[0;34m,\u001b[0m \u001b[0mevaluate_candidates\u001b[0m\u001b[0;34m)\u001b[0m\u001b[0;34m:\u001b[0m\u001b[0;34m\u001b[0m\u001b[0;34m\u001b[0m\u001b[0m\n\u001b[1;32m   1150\u001b[0m         \u001b[0;34m\"\"\"Search all candidates in param_grid\"\"\"\u001b[0m\u001b[0;34m\u001b[0m\u001b[0;34m\u001b[0m\u001b[0m\n\u001b[0;32m-> 1151\u001b[0;31m         \u001b[0mevaluate_candidates\u001b[0m\u001b[0;34m(\u001b[0m\u001b[0mParameterGrid\u001b[0m\u001b[0;34m(\u001b[0m\u001b[0mself\u001b[0m\u001b[0;34m.\u001b[0m\u001b[0mparam_grid\u001b[0m\u001b[0;34m)\u001b[0m\u001b[0;34m)\u001b[0m\u001b[0;34m\u001b[0m\u001b[0;34m\u001b[0m\u001b[0m\n\u001b[0m\u001b[1;32m   1152\u001b[0m \u001b[0;34m\u001b[0m\u001b[0m\n\u001b[1;32m   1153\u001b[0m \u001b[0;34m\u001b[0m\u001b[0m\n",
      "\u001b[0;32m~/opt/anaconda3/lib/python3.7/site-packages/sklearn/model_selection/_search.py\u001b[0m in \u001b[0;36mevaluate_candidates\u001b[0;34m(candidate_params)\u001b[0m\n\u001b[1;32m    687\u001b[0m                                \u001b[0;32mfor\u001b[0m \u001b[0mparameters\u001b[0m\u001b[0;34m,\u001b[0m \u001b[0;34m(\u001b[0m\u001b[0mtrain\u001b[0m\u001b[0;34m,\u001b[0m \u001b[0mtest\u001b[0m\u001b[0;34m)\u001b[0m\u001b[0;34m\u001b[0m\u001b[0;34m\u001b[0m\u001b[0m\n\u001b[1;32m    688\u001b[0m                                in product(candidate_params,\n\u001b[0;32m--> 689\u001b[0;31m                                           cv.split(X, y, groups)))\n\u001b[0m\u001b[1;32m    690\u001b[0m \u001b[0;34m\u001b[0m\u001b[0m\n\u001b[1;32m    691\u001b[0m                 \u001b[0;32mif\u001b[0m \u001b[0mlen\u001b[0m\u001b[0;34m(\u001b[0m\u001b[0mout\u001b[0m\u001b[0;34m)\u001b[0m \u001b[0;34m<\u001b[0m \u001b[0;36m1\u001b[0m\u001b[0;34m:\u001b[0m\u001b[0;34m\u001b[0m\u001b[0;34m\u001b[0m\u001b[0m\n",
      "\u001b[0;32m~/opt/anaconda3/lib/python3.7/site-packages/joblib/parallel.py\u001b[0m in \u001b[0;36m__call__\u001b[0;34m(self, iterable)\u001b[0m\n\u001b[1;32m   1005\u001b[0m                 \u001b[0mself\u001b[0m\u001b[0;34m.\u001b[0m\u001b[0m_iterating\u001b[0m \u001b[0;34m=\u001b[0m \u001b[0mself\u001b[0m\u001b[0;34m.\u001b[0m\u001b[0m_original_iterator\u001b[0m \u001b[0;32mis\u001b[0m \u001b[0;32mnot\u001b[0m \u001b[0;32mNone\u001b[0m\u001b[0;34m\u001b[0m\u001b[0;34m\u001b[0m\u001b[0m\n\u001b[1;32m   1006\u001b[0m \u001b[0;34m\u001b[0m\u001b[0m\n\u001b[0;32m-> 1007\u001b[0;31m             \u001b[0;32mwhile\u001b[0m \u001b[0mself\u001b[0m\u001b[0;34m.\u001b[0m\u001b[0mdispatch_one_batch\u001b[0m\u001b[0;34m(\u001b[0m\u001b[0miterator\u001b[0m\u001b[0;34m)\u001b[0m\u001b[0;34m:\u001b[0m\u001b[0;34m\u001b[0m\u001b[0;34m\u001b[0m\u001b[0m\n\u001b[0m\u001b[1;32m   1008\u001b[0m                 \u001b[0;32mpass\u001b[0m\u001b[0;34m\u001b[0m\u001b[0;34m\u001b[0m\u001b[0m\n\u001b[1;32m   1009\u001b[0m \u001b[0;34m\u001b[0m\u001b[0m\n",
      "\u001b[0;32m~/opt/anaconda3/lib/python3.7/site-packages/joblib/parallel.py\u001b[0m in \u001b[0;36mdispatch_one_batch\u001b[0;34m(self, iterator)\u001b[0m\n\u001b[1;32m    833\u001b[0m                 \u001b[0;32mreturn\u001b[0m \u001b[0;32mFalse\u001b[0m\u001b[0;34m\u001b[0m\u001b[0;34m\u001b[0m\u001b[0m\n\u001b[1;32m    834\u001b[0m             \u001b[0;32melse\u001b[0m\u001b[0;34m:\u001b[0m\u001b[0;34m\u001b[0m\u001b[0;34m\u001b[0m\u001b[0m\n\u001b[0;32m--> 835\u001b[0;31m                 \u001b[0mself\u001b[0m\u001b[0;34m.\u001b[0m\u001b[0m_dispatch\u001b[0m\u001b[0;34m(\u001b[0m\u001b[0mtasks\u001b[0m\u001b[0;34m)\u001b[0m\u001b[0;34m\u001b[0m\u001b[0;34m\u001b[0m\u001b[0m\n\u001b[0m\u001b[1;32m    836\u001b[0m                 \u001b[0;32mreturn\u001b[0m \u001b[0;32mTrue\u001b[0m\u001b[0;34m\u001b[0m\u001b[0;34m\u001b[0m\u001b[0m\n\u001b[1;32m    837\u001b[0m \u001b[0;34m\u001b[0m\u001b[0m\n",
      "\u001b[0;32m~/opt/anaconda3/lib/python3.7/site-packages/joblib/parallel.py\u001b[0m in \u001b[0;36m_dispatch\u001b[0;34m(self, batch)\u001b[0m\n\u001b[1;32m    752\u001b[0m         \u001b[0;32mwith\u001b[0m \u001b[0mself\u001b[0m\u001b[0;34m.\u001b[0m\u001b[0m_lock\u001b[0m\u001b[0;34m:\u001b[0m\u001b[0;34m\u001b[0m\u001b[0;34m\u001b[0m\u001b[0m\n\u001b[1;32m    753\u001b[0m             \u001b[0mjob_idx\u001b[0m \u001b[0;34m=\u001b[0m \u001b[0mlen\u001b[0m\u001b[0;34m(\u001b[0m\u001b[0mself\u001b[0m\u001b[0;34m.\u001b[0m\u001b[0m_jobs\u001b[0m\u001b[0;34m)\u001b[0m\u001b[0;34m\u001b[0m\u001b[0;34m\u001b[0m\u001b[0m\n\u001b[0;32m--> 754\u001b[0;31m             \u001b[0mjob\u001b[0m \u001b[0;34m=\u001b[0m \u001b[0mself\u001b[0m\u001b[0;34m.\u001b[0m\u001b[0m_backend\u001b[0m\u001b[0;34m.\u001b[0m\u001b[0mapply_async\u001b[0m\u001b[0;34m(\u001b[0m\u001b[0mbatch\u001b[0m\u001b[0;34m,\u001b[0m \u001b[0mcallback\u001b[0m\u001b[0;34m=\u001b[0m\u001b[0mcb\u001b[0m\u001b[0;34m)\u001b[0m\u001b[0;34m\u001b[0m\u001b[0;34m\u001b[0m\u001b[0m\n\u001b[0m\u001b[1;32m    755\u001b[0m             \u001b[0;31m# A job can complete so quickly than its callback is\u001b[0m\u001b[0;34m\u001b[0m\u001b[0;34m\u001b[0m\u001b[0;34m\u001b[0m\u001b[0m\n\u001b[1;32m    756\u001b[0m             \u001b[0;31m# called before we get here, causing self._jobs to\u001b[0m\u001b[0;34m\u001b[0m\u001b[0;34m\u001b[0m\u001b[0;34m\u001b[0m\u001b[0m\n",
      "\u001b[0;32m~/opt/anaconda3/lib/python3.7/site-packages/joblib/_parallel_backends.py\u001b[0m in \u001b[0;36mapply_async\u001b[0;34m(self, func, callback)\u001b[0m\n\u001b[1;32m    207\u001b[0m     \u001b[0;32mdef\u001b[0m \u001b[0mapply_async\u001b[0m\u001b[0;34m(\u001b[0m\u001b[0mself\u001b[0m\u001b[0;34m,\u001b[0m \u001b[0mfunc\u001b[0m\u001b[0;34m,\u001b[0m \u001b[0mcallback\u001b[0m\u001b[0;34m=\u001b[0m\u001b[0;32mNone\u001b[0m\u001b[0;34m)\u001b[0m\u001b[0;34m:\u001b[0m\u001b[0;34m\u001b[0m\u001b[0;34m\u001b[0m\u001b[0m\n\u001b[1;32m    208\u001b[0m         \u001b[0;34m\"\"\"Schedule a func to be run\"\"\"\u001b[0m\u001b[0;34m\u001b[0m\u001b[0;34m\u001b[0m\u001b[0m\n\u001b[0;32m--> 209\u001b[0;31m         \u001b[0mresult\u001b[0m \u001b[0;34m=\u001b[0m \u001b[0mImmediateResult\u001b[0m\u001b[0;34m(\u001b[0m\u001b[0mfunc\u001b[0m\u001b[0;34m)\u001b[0m\u001b[0;34m\u001b[0m\u001b[0;34m\u001b[0m\u001b[0m\n\u001b[0m\u001b[1;32m    210\u001b[0m         \u001b[0;32mif\u001b[0m \u001b[0mcallback\u001b[0m\u001b[0;34m:\u001b[0m\u001b[0;34m\u001b[0m\u001b[0;34m\u001b[0m\u001b[0m\n\u001b[1;32m    211\u001b[0m             \u001b[0mcallback\u001b[0m\u001b[0;34m(\u001b[0m\u001b[0mresult\u001b[0m\u001b[0;34m)\u001b[0m\u001b[0;34m\u001b[0m\u001b[0;34m\u001b[0m\u001b[0m\n",
      "\u001b[0;32m~/opt/anaconda3/lib/python3.7/site-packages/joblib/_parallel_backends.py\u001b[0m in \u001b[0;36m__init__\u001b[0;34m(self, batch)\u001b[0m\n\u001b[1;32m    588\u001b[0m         \u001b[0;31m# Don't delay the application, to avoid keeping the input\u001b[0m\u001b[0;34m\u001b[0m\u001b[0;34m\u001b[0m\u001b[0;34m\u001b[0m\u001b[0m\n\u001b[1;32m    589\u001b[0m         \u001b[0;31m# arguments in memory\u001b[0m\u001b[0;34m\u001b[0m\u001b[0;34m\u001b[0m\u001b[0;34m\u001b[0m\u001b[0m\n\u001b[0;32m--> 590\u001b[0;31m         \u001b[0mself\u001b[0m\u001b[0;34m.\u001b[0m\u001b[0mresults\u001b[0m \u001b[0;34m=\u001b[0m \u001b[0mbatch\u001b[0m\u001b[0;34m(\u001b[0m\u001b[0;34m)\u001b[0m\u001b[0;34m\u001b[0m\u001b[0;34m\u001b[0m\u001b[0m\n\u001b[0m\u001b[1;32m    591\u001b[0m \u001b[0;34m\u001b[0m\u001b[0m\n\u001b[1;32m    592\u001b[0m     \u001b[0;32mdef\u001b[0m \u001b[0mget\u001b[0m\u001b[0;34m(\u001b[0m\u001b[0mself\u001b[0m\u001b[0;34m)\u001b[0m\u001b[0;34m:\u001b[0m\u001b[0;34m\u001b[0m\u001b[0;34m\u001b[0m\u001b[0m\n",
      "\u001b[0;32m~/opt/anaconda3/lib/python3.7/site-packages/joblib/parallel.py\u001b[0m in \u001b[0;36m__call__\u001b[0;34m(self)\u001b[0m\n\u001b[1;32m    254\u001b[0m         \u001b[0;32mwith\u001b[0m \u001b[0mparallel_backend\u001b[0m\u001b[0;34m(\u001b[0m\u001b[0mself\u001b[0m\u001b[0;34m.\u001b[0m\u001b[0m_backend\u001b[0m\u001b[0;34m,\u001b[0m \u001b[0mn_jobs\u001b[0m\u001b[0;34m=\u001b[0m\u001b[0mself\u001b[0m\u001b[0;34m.\u001b[0m\u001b[0m_n_jobs\u001b[0m\u001b[0;34m)\u001b[0m\u001b[0;34m:\u001b[0m\u001b[0;34m\u001b[0m\u001b[0;34m\u001b[0m\u001b[0m\n\u001b[1;32m    255\u001b[0m             return [func(*args, **kwargs)\n\u001b[0;32m--> 256\u001b[0;31m                     for func, args, kwargs in self.items]\n\u001b[0m\u001b[1;32m    257\u001b[0m \u001b[0;34m\u001b[0m\u001b[0m\n\u001b[1;32m    258\u001b[0m     \u001b[0;32mdef\u001b[0m \u001b[0m__len__\u001b[0m\u001b[0;34m(\u001b[0m\u001b[0mself\u001b[0m\u001b[0;34m)\u001b[0m\u001b[0;34m:\u001b[0m\u001b[0;34m\u001b[0m\u001b[0;34m\u001b[0m\u001b[0m\n",
      "\u001b[0;32m~/opt/anaconda3/lib/python3.7/site-packages/joblib/parallel.py\u001b[0m in \u001b[0;36m<listcomp>\u001b[0;34m(.0)\u001b[0m\n\u001b[1;32m    254\u001b[0m         \u001b[0;32mwith\u001b[0m \u001b[0mparallel_backend\u001b[0m\u001b[0;34m(\u001b[0m\u001b[0mself\u001b[0m\u001b[0;34m.\u001b[0m\u001b[0m_backend\u001b[0m\u001b[0;34m,\u001b[0m \u001b[0mn_jobs\u001b[0m\u001b[0;34m=\u001b[0m\u001b[0mself\u001b[0m\u001b[0;34m.\u001b[0m\u001b[0m_n_jobs\u001b[0m\u001b[0;34m)\u001b[0m\u001b[0;34m:\u001b[0m\u001b[0;34m\u001b[0m\u001b[0;34m\u001b[0m\u001b[0m\n\u001b[1;32m    255\u001b[0m             return [func(*args, **kwargs)\n\u001b[0;32m--> 256\u001b[0;31m                     for func, args, kwargs in self.items]\n\u001b[0m\u001b[1;32m    257\u001b[0m \u001b[0;34m\u001b[0m\u001b[0m\n\u001b[1;32m    258\u001b[0m     \u001b[0;32mdef\u001b[0m \u001b[0m__len__\u001b[0m\u001b[0;34m(\u001b[0m\u001b[0mself\u001b[0m\u001b[0;34m)\u001b[0m\u001b[0;34m:\u001b[0m\u001b[0;34m\u001b[0m\u001b[0;34m\u001b[0m\u001b[0m\n",
      "\u001b[0;32m~/opt/anaconda3/lib/python3.7/site-packages/sklearn/model_selection/_validation.py\u001b[0m in \u001b[0;36m_fit_and_score\u001b[0;34m(estimator, X, y, scorer, train, test, verbose, parameters, fit_params, return_train_score, return_parameters, return_n_test_samples, return_times, return_estimator, error_score)\u001b[0m\n\u001b[1;32m    513\u001b[0m             \u001b[0mestimator\u001b[0m\u001b[0;34m.\u001b[0m\u001b[0mfit\u001b[0m\u001b[0;34m(\u001b[0m\u001b[0mX_train\u001b[0m\u001b[0;34m,\u001b[0m \u001b[0;34m**\u001b[0m\u001b[0mfit_params\u001b[0m\u001b[0;34m)\u001b[0m\u001b[0;34m\u001b[0m\u001b[0;34m\u001b[0m\u001b[0m\n\u001b[1;32m    514\u001b[0m         \u001b[0;32melse\u001b[0m\u001b[0;34m:\u001b[0m\u001b[0;34m\u001b[0m\u001b[0;34m\u001b[0m\u001b[0m\n\u001b[0;32m--> 515\u001b[0;31m             \u001b[0mestimator\u001b[0m\u001b[0;34m.\u001b[0m\u001b[0mfit\u001b[0m\u001b[0;34m(\u001b[0m\u001b[0mX_train\u001b[0m\u001b[0;34m,\u001b[0m \u001b[0my_train\u001b[0m\u001b[0;34m,\u001b[0m \u001b[0;34m**\u001b[0m\u001b[0mfit_params\u001b[0m\u001b[0;34m)\u001b[0m\u001b[0;34m\u001b[0m\u001b[0;34m\u001b[0m\u001b[0m\n\u001b[0m\u001b[1;32m    516\u001b[0m \u001b[0;34m\u001b[0m\u001b[0m\n\u001b[1;32m    517\u001b[0m     \u001b[0;32mexcept\u001b[0m \u001b[0mException\u001b[0m \u001b[0;32mas\u001b[0m \u001b[0me\u001b[0m\u001b[0;34m:\u001b[0m\u001b[0;34m\u001b[0m\u001b[0;34m\u001b[0m\u001b[0m\n",
      "\u001b[0;32m~/opt/anaconda3/lib/python3.7/site-packages/sklearn/ensemble/_forest.py\u001b[0m in \u001b[0;36mfit\u001b[0;34m(self, X, y, sample_weight)\u001b[0m\n\u001b[1;32m    381\u001b[0m                     \u001b[0mverbose\u001b[0m\u001b[0;34m=\u001b[0m\u001b[0mself\u001b[0m\u001b[0;34m.\u001b[0m\u001b[0mverbose\u001b[0m\u001b[0;34m,\u001b[0m \u001b[0mclass_weight\u001b[0m\u001b[0;34m=\u001b[0m\u001b[0mself\u001b[0m\u001b[0;34m.\u001b[0m\u001b[0mclass_weight\u001b[0m\u001b[0;34m,\u001b[0m\u001b[0;34m\u001b[0m\u001b[0;34m\u001b[0m\u001b[0m\n\u001b[1;32m    382\u001b[0m                     n_samples_bootstrap=n_samples_bootstrap)\n\u001b[0;32m--> 383\u001b[0;31m                 for i, t in enumerate(trees))\n\u001b[0m\u001b[1;32m    384\u001b[0m \u001b[0;34m\u001b[0m\u001b[0m\n\u001b[1;32m    385\u001b[0m             \u001b[0;31m# Collect newly grown trees\u001b[0m\u001b[0;34m\u001b[0m\u001b[0;34m\u001b[0m\u001b[0;34m\u001b[0m\u001b[0m\n",
      "\u001b[0;32m~/opt/anaconda3/lib/python3.7/site-packages/joblib/parallel.py\u001b[0m in \u001b[0;36m__call__\u001b[0;34m(self, iterable)\u001b[0m\n\u001b[1;32m   1005\u001b[0m                 \u001b[0mself\u001b[0m\u001b[0;34m.\u001b[0m\u001b[0m_iterating\u001b[0m \u001b[0;34m=\u001b[0m \u001b[0mself\u001b[0m\u001b[0;34m.\u001b[0m\u001b[0m_original_iterator\u001b[0m \u001b[0;32mis\u001b[0m \u001b[0;32mnot\u001b[0m \u001b[0;32mNone\u001b[0m\u001b[0;34m\u001b[0m\u001b[0;34m\u001b[0m\u001b[0m\n\u001b[1;32m   1006\u001b[0m \u001b[0;34m\u001b[0m\u001b[0m\n\u001b[0;32m-> 1007\u001b[0;31m             \u001b[0;32mwhile\u001b[0m \u001b[0mself\u001b[0m\u001b[0;34m.\u001b[0m\u001b[0mdispatch_one_batch\u001b[0m\u001b[0;34m(\u001b[0m\u001b[0miterator\u001b[0m\u001b[0;34m)\u001b[0m\u001b[0;34m:\u001b[0m\u001b[0;34m\u001b[0m\u001b[0;34m\u001b[0m\u001b[0m\n\u001b[0m\u001b[1;32m   1008\u001b[0m                 \u001b[0;32mpass\u001b[0m\u001b[0;34m\u001b[0m\u001b[0;34m\u001b[0m\u001b[0m\n\u001b[1;32m   1009\u001b[0m \u001b[0;34m\u001b[0m\u001b[0m\n",
      "\u001b[0;32m~/opt/anaconda3/lib/python3.7/site-packages/joblib/parallel.py\u001b[0m in \u001b[0;36mdispatch_one_batch\u001b[0;34m(self, iterator)\u001b[0m\n\u001b[1;32m    833\u001b[0m                 \u001b[0;32mreturn\u001b[0m \u001b[0;32mFalse\u001b[0m\u001b[0;34m\u001b[0m\u001b[0;34m\u001b[0m\u001b[0m\n\u001b[1;32m    834\u001b[0m             \u001b[0;32melse\u001b[0m\u001b[0;34m:\u001b[0m\u001b[0;34m\u001b[0m\u001b[0;34m\u001b[0m\u001b[0m\n\u001b[0;32m--> 835\u001b[0;31m                 \u001b[0mself\u001b[0m\u001b[0;34m.\u001b[0m\u001b[0m_dispatch\u001b[0m\u001b[0;34m(\u001b[0m\u001b[0mtasks\u001b[0m\u001b[0;34m)\u001b[0m\u001b[0;34m\u001b[0m\u001b[0;34m\u001b[0m\u001b[0m\n\u001b[0m\u001b[1;32m    836\u001b[0m                 \u001b[0;32mreturn\u001b[0m \u001b[0;32mTrue\u001b[0m\u001b[0;34m\u001b[0m\u001b[0;34m\u001b[0m\u001b[0m\n\u001b[1;32m    837\u001b[0m \u001b[0;34m\u001b[0m\u001b[0m\n",
      "\u001b[0;32m~/opt/anaconda3/lib/python3.7/site-packages/joblib/parallel.py\u001b[0m in \u001b[0;36m_dispatch\u001b[0;34m(self, batch)\u001b[0m\n\u001b[1;32m    752\u001b[0m         \u001b[0;32mwith\u001b[0m \u001b[0mself\u001b[0m\u001b[0;34m.\u001b[0m\u001b[0m_lock\u001b[0m\u001b[0;34m:\u001b[0m\u001b[0;34m\u001b[0m\u001b[0;34m\u001b[0m\u001b[0m\n\u001b[1;32m    753\u001b[0m             \u001b[0mjob_idx\u001b[0m \u001b[0;34m=\u001b[0m \u001b[0mlen\u001b[0m\u001b[0;34m(\u001b[0m\u001b[0mself\u001b[0m\u001b[0;34m.\u001b[0m\u001b[0m_jobs\u001b[0m\u001b[0;34m)\u001b[0m\u001b[0;34m\u001b[0m\u001b[0;34m\u001b[0m\u001b[0m\n\u001b[0;32m--> 754\u001b[0;31m             \u001b[0mjob\u001b[0m \u001b[0;34m=\u001b[0m \u001b[0mself\u001b[0m\u001b[0;34m.\u001b[0m\u001b[0m_backend\u001b[0m\u001b[0;34m.\u001b[0m\u001b[0mapply_async\u001b[0m\u001b[0;34m(\u001b[0m\u001b[0mbatch\u001b[0m\u001b[0;34m,\u001b[0m \u001b[0mcallback\u001b[0m\u001b[0;34m=\u001b[0m\u001b[0mcb\u001b[0m\u001b[0;34m)\u001b[0m\u001b[0;34m\u001b[0m\u001b[0;34m\u001b[0m\u001b[0m\n\u001b[0m\u001b[1;32m    755\u001b[0m             \u001b[0;31m# A job can complete so quickly than its callback is\u001b[0m\u001b[0;34m\u001b[0m\u001b[0;34m\u001b[0m\u001b[0;34m\u001b[0m\u001b[0m\n\u001b[1;32m    756\u001b[0m             \u001b[0;31m# called before we get here, causing self._jobs to\u001b[0m\u001b[0;34m\u001b[0m\u001b[0;34m\u001b[0m\u001b[0;34m\u001b[0m\u001b[0m\n",
      "\u001b[0;32m~/opt/anaconda3/lib/python3.7/site-packages/joblib/_parallel_backends.py\u001b[0m in \u001b[0;36mapply_async\u001b[0;34m(self, func, callback)\u001b[0m\n\u001b[1;32m    207\u001b[0m     \u001b[0;32mdef\u001b[0m \u001b[0mapply_async\u001b[0m\u001b[0;34m(\u001b[0m\u001b[0mself\u001b[0m\u001b[0;34m,\u001b[0m \u001b[0mfunc\u001b[0m\u001b[0;34m,\u001b[0m \u001b[0mcallback\u001b[0m\u001b[0;34m=\u001b[0m\u001b[0;32mNone\u001b[0m\u001b[0;34m)\u001b[0m\u001b[0;34m:\u001b[0m\u001b[0;34m\u001b[0m\u001b[0;34m\u001b[0m\u001b[0m\n\u001b[1;32m    208\u001b[0m         \u001b[0;34m\"\"\"Schedule a func to be run\"\"\"\u001b[0m\u001b[0;34m\u001b[0m\u001b[0;34m\u001b[0m\u001b[0m\n\u001b[0;32m--> 209\u001b[0;31m         \u001b[0mresult\u001b[0m \u001b[0;34m=\u001b[0m \u001b[0mImmediateResult\u001b[0m\u001b[0;34m(\u001b[0m\u001b[0mfunc\u001b[0m\u001b[0;34m)\u001b[0m\u001b[0;34m\u001b[0m\u001b[0;34m\u001b[0m\u001b[0m\n\u001b[0m\u001b[1;32m    210\u001b[0m         \u001b[0;32mif\u001b[0m \u001b[0mcallback\u001b[0m\u001b[0;34m:\u001b[0m\u001b[0;34m\u001b[0m\u001b[0;34m\u001b[0m\u001b[0m\n\u001b[1;32m    211\u001b[0m             \u001b[0mcallback\u001b[0m\u001b[0;34m(\u001b[0m\u001b[0mresult\u001b[0m\u001b[0;34m)\u001b[0m\u001b[0;34m\u001b[0m\u001b[0;34m\u001b[0m\u001b[0m\n",
      "\u001b[0;32m~/opt/anaconda3/lib/python3.7/site-packages/joblib/_parallel_backends.py\u001b[0m in \u001b[0;36m__init__\u001b[0;34m(self, batch)\u001b[0m\n\u001b[1;32m    588\u001b[0m         \u001b[0;31m# Don't delay the application, to avoid keeping the input\u001b[0m\u001b[0;34m\u001b[0m\u001b[0;34m\u001b[0m\u001b[0;34m\u001b[0m\u001b[0m\n\u001b[1;32m    589\u001b[0m         \u001b[0;31m# arguments in memory\u001b[0m\u001b[0;34m\u001b[0m\u001b[0;34m\u001b[0m\u001b[0;34m\u001b[0m\u001b[0m\n\u001b[0;32m--> 590\u001b[0;31m         \u001b[0mself\u001b[0m\u001b[0;34m.\u001b[0m\u001b[0mresults\u001b[0m \u001b[0;34m=\u001b[0m \u001b[0mbatch\u001b[0m\u001b[0;34m(\u001b[0m\u001b[0;34m)\u001b[0m\u001b[0;34m\u001b[0m\u001b[0;34m\u001b[0m\u001b[0m\n\u001b[0m\u001b[1;32m    591\u001b[0m \u001b[0;34m\u001b[0m\u001b[0m\n\u001b[1;32m    592\u001b[0m     \u001b[0;32mdef\u001b[0m \u001b[0mget\u001b[0m\u001b[0;34m(\u001b[0m\u001b[0mself\u001b[0m\u001b[0;34m)\u001b[0m\u001b[0;34m:\u001b[0m\u001b[0;34m\u001b[0m\u001b[0;34m\u001b[0m\u001b[0m\n",
      "\u001b[0;32m~/opt/anaconda3/lib/python3.7/site-packages/joblib/parallel.py\u001b[0m in \u001b[0;36m__call__\u001b[0;34m(self)\u001b[0m\n\u001b[1;32m    254\u001b[0m         \u001b[0;32mwith\u001b[0m \u001b[0mparallel_backend\u001b[0m\u001b[0;34m(\u001b[0m\u001b[0mself\u001b[0m\u001b[0;34m.\u001b[0m\u001b[0m_backend\u001b[0m\u001b[0;34m,\u001b[0m \u001b[0mn_jobs\u001b[0m\u001b[0;34m=\u001b[0m\u001b[0mself\u001b[0m\u001b[0;34m.\u001b[0m\u001b[0m_n_jobs\u001b[0m\u001b[0;34m)\u001b[0m\u001b[0;34m:\u001b[0m\u001b[0;34m\u001b[0m\u001b[0;34m\u001b[0m\u001b[0m\n\u001b[1;32m    255\u001b[0m             return [func(*args, **kwargs)\n\u001b[0;32m--> 256\u001b[0;31m                     for func, args, kwargs in self.items]\n\u001b[0m\u001b[1;32m    257\u001b[0m \u001b[0;34m\u001b[0m\u001b[0m\n\u001b[1;32m    258\u001b[0m     \u001b[0;32mdef\u001b[0m \u001b[0m__len__\u001b[0m\u001b[0;34m(\u001b[0m\u001b[0mself\u001b[0m\u001b[0;34m)\u001b[0m\u001b[0;34m:\u001b[0m\u001b[0;34m\u001b[0m\u001b[0;34m\u001b[0m\u001b[0m\n",
      "\u001b[0;32m~/opt/anaconda3/lib/python3.7/site-packages/joblib/parallel.py\u001b[0m in \u001b[0;36m<listcomp>\u001b[0;34m(.0)\u001b[0m\n\u001b[1;32m    254\u001b[0m         \u001b[0;32mwith\u001b[0m \u001b[0mparallel_backend\u001b[0m\u001b[0;34m(\u001b[0m\u001b[0mself\u001b[0m\u001b[0;34m.\u001b[0m\u001b[0m_backend\u001b[0m\u001b[0;34m,\u001b[0m \u001b[0mn_jobs\u001b[0m\u001b[0;34m=\u001b[0m\u001b[0mself\u001b[0m\u001b[0;34m.\u001b[0m\u001b[0m_n_jobs\u001b[0m\u001b[0;34m)\u001b[0m\u001b[0;34m:\u001b[0m\u001b[0;34m\u001b[0m\u001b[0;34m\u001b[0m\u001b[0m\n\u001b[1;32m    255\u001b[0m             return [func(*args, **kwargs)\n\u001b[0;32m--> 256\u001b[0;31m                     for func, args, kwargs in self.items]\n\u001b[0m\u001b[1;32m    257\u001b[0m \u001b[0;34m\u001b[0m\u001b[0m\n\u001b[1;32m    258\u001b[0m     \u001b[0;32mdef\u001b[0m \u001b[0m__len__\u001b[0m\u001b[0;34m(\u001b[0m\u001b[0mself\u001b[0m\u001b[0;34m)\u001b[0m\u001b[0;34m:\u001b[0m\u001b[0;34m\u001b[0m\u001b[0;34m\u001b[0m\u001b[0m\n",
      "\u001b[0;32m~/opt/anaconda3/lib/python3.7/site-packages/sklearn/ensemble/_forest.py\u001b[0m in \u001b[0;36m_parallel_build_trees\u001b[0;34m(tree, forest, X, y, sample_weight, tree_idx, n_trees, verbose, class_weight, n_samples_bootstrap)\u001b[0m\n\u001b[1;32m    163\u001b[0m             \u001b[0mcurr_sample_weight\u001b[0m \u001b[0;34m*=\u001b[0m \u001b[0mcompute_sample_weight\u001b[0m\u001b[0;34m(\u001b[0m\u001b[0;34m'balanced'\u001b[0m\u001b[0;34m,\u001b[0m \u001b[0my\u001b[0m\u001b[0;34m,\u001b[0m \u001b[0mindices\u001b[0m\u001b[0;34m)\u001b[0m\u001b[0;34m\u001b[0m\u001b[0;34m\u001b[0m\u001b[0m\n\u001b[1;32m    164\u001b[0m \u001b[0;34m\u001b[0m\u001b[0m\n\u001b[0;32m--> 165\u001b[0;31m         \u001b[0mtree\u001b[0m\u001b[0;34m.\u001b[0m\u001b[0mfit\u001b[0m\u001b[0;34m(\u001b[0m\u001b[0mX\u001b[0m\u001b[0;34m,\u001b[0m \u001b[0my\u001b[0m\u001b[0;34m,\u001b[0m \u001b[0msample_weight\u001b[0m\u001b[0;34m=\u001b[0m\u001b[0mcurr_sample_weight\u001b[0m\u001b[0;34m,\u001b[0m \u001b[0mcheck_input\u001b[0m\u001b[0;34m=\u001b[0m\u001b[0;32mFalse\u001b[0m\u001b[0;34m)\u001b[0m\u001b[0;34m\u001b[0m\u001b[0;34m\u001b[0m\u001b[0m\n\u001b[0m\u001b[1;32m    166\u001b[0m     \u001b[0;32melse\u001b[0m\u001b[0;34m:\u001b[0m\u001b[0;34m\u001b[0m\u001b[0;34m\u001b[0m\u001b[0m\n\u001b[1;32m    167\u001b[0m         \u001b[0mtree\u001b[0m\u001b[0;34m.\u001b[0m\u001b[0mfit\u001b[0m\u001b[0;34m(\u001b[0m\u001b[0mX\u001b[0m\u001b[0;34m,\u001b[0m \u001b[0my\u001b[0m\u001b[0;34m,\u001b[0m \u001b[0msample_weight\u001b[0m\u001b[0;34m=\u001b[0m\u001b[0msample_weight\u001b[0m\u001b[0;34m,\u001b[0m \u001b[0mcheck_input\u001b[0m\u001b[0;34m=\u001b[0m\u001b[0;32mFalse\u001b[0m\u001b[0;34m)\u001b[0m\u001b[0;34m\u001b[0m\u001b[0;34m\u001b[0m\u001b[0m\n",
      "\u001b[0;32m~/opt/anaconda3/lib/python3.7/site-packages/sklearn/tree/_classes.py\u001b[0m in \u001b[0;36mfit\u001b[0;34m(self, X, y, sample_weight, check_input, X_idx_sorted)\u001b[0m\n\u001b[1;32m    875\u001b[0m             \u001b[0msample_weight\u001b[0m\u001b[0;34m=\u001b[0m\u001b[0msample_weight\u001b[0m\u001b[0;34m,\u001b[0m\u001b[0;34m\u001b[0m\u001b[0;34m\u001b[0m\u001b[0m\n\u001b[1;32m    876\u001b[0m             \u001b[0mcheck_input\u001b[0m\u001b[0;34m=\u001b[0m\u001b[0mcheck_input\u001b[0m\u001b[0;34m,\u001b[0m\u001b[0;34m\u001b[0m\u001b[0;34m\u001b[0m\u001b[0m\n\u001b[0;32m--> 877\u001b[0;31m             X_idx_sorted=X_idx_sorted)\n\u001b[0m\u001b[1;32m    878\u001b[0m         \u001b[0;32mreturn\u001b[0m \u001b[0mself\u001b[0m\u001b[0;34m\u001b[0m\u001b[0;34m\u001b[0m\u001b[0m\n\u001b[1;32m    879\u001b[0m \u001b[0;34m\u001b[0m\u001b[0m\n",
      "\u001b[0;32m~/opt/anaconda3/lib/python3.7/site-packages/sklearn/tree/_classes.py\u001b[0m in \u001b[0;36mfit\u001b[0;34m(self, X, y, sample_weight, check_input, X_idx_sorted)\u001b[0m\n\u001b[1;32m    183\u001b[0m             \u001b[0;32mfor\u001b[0m \u001b[0mk\u001b[0m \u001b[0;32min\u001b[0m \u001b[0mrange\u001b[0m\u001b[0;34m(\u001b[0m\u001b[0mself\u001b[0m\u001b[0;34m.\u001b[0m\u001b[0mn_outputs_\u001b[0m\u001b[0;34m)\u001b[0m\u001b[0;34m:\u001b[0m\u001b[0;34m\u001b[0m\u001b[0;34m\u001b[0m\u001b[0m\n\u001b[1;32m    184\u001b[0m                 classes_k, y_encoded[:, k] = np.unique(y[:, k],\n\u001b[0;32m--> 185\u001b[0;31m                                                        return_inverse=True)\n\u001b[0m\u001b[1;32m    186\u001b[0m                 \u001b[0mself\u001b[0m\u001b[0;34m.\u001b[0m\u001b[0mclasses_\u001b[0m\u001b[0;34m.\u001b[0m\u001b[0mappend\u001b[0m\u001b[0;34m(\u001b[0m\u001b[0mclasses_k\u001b[0m\u001b[0;34m)\u001b[0m\u001b[0;34m\u001b[0m\u001b[0;34m\u001b[0m\u001b[0m\n\u001b[1;32m    187\u001b[0m                 \u001b[0mself\u001b[0m\u001b[0;34m.\u001b[0m\u001b[0mn_classes_\u001b[0m\u001b[0;34m.\u001b[0m\u001b[0mappend\u001b[0m\u001b[0;34m(\u001b[0m\u001b[0mclasses_k\u001b[0m\u001b[0;34m.\u001b[0m\u001b[0mshape\u001b[0m\u001b[0;34m[\u001b[0m\u001b[0;36m0\u001b[0m\u001b[0;34m]\u001b[0m\u001b[0;34m)\u001b[0m\u001b[0;34m\u001b[0m\u001b[0;34m\u001b[0m\u001b[0m\n",
      "\u001b[0;32m<__array_function__ internals>\u001b[0m in \u001b[0;36munique\u001b[0;34m(*args, **kwargs)\u001b[0m\n",
      "\u001b[0;32m~/opt/anaconda3/lib/python3.7/site-packages/numpy/lib/arraysetops.py\u001b[0m in \u001b[0;36munique\u001b[0;34m(ar, return_index, return_inverse, return_counts, axis)\u001b[0m\n\u001b[1;32m    261\u001b[0m     \u001b[0mar\u001b[0m \u001b[0;34m=\u001b[0m \u001b[0mnp\u001b[0m\u001b[0;34m.\u001b[0m\u001b[0masanyarray\u001b[0m\u001b[0;34m(\u001b[0m\u001b[0mar\u001b[0m\u001b[0;34m)\u001b[0m\u001b[0;34m\u001b[0m\u001b[0;34m\u001b[0m\u001b[0m\n\u001b[1;32m    262\u001b[0m     \u001b[0;32mif\u001b[0m \u001b[0maxis\u001b[0m \u001b[0;32mis\u001b[0m \u001b[0;32mNone\u001b[0m\u001b[0;34m:\u001b[0m\u001b[0;34m\u001b[0m\u001b[0;34m\u001b[0m\u001b[0m\n\u001b[0;32m--> 263\u001b[0;31m         \u001b[0mret\u001b[0m \u001b[0;34m=\u001b[0m \u001b[0m_unique1d\u001b[0m\u001b[0;34m(\u001b[0m\u001b[0mar\u001b[0m\u001b[0;34m,\u001b[0m \u001b[0mreturn_index\u001b[0m\u001b[0;34m,\u001b[0m \u001b[0mreturn_inverse\u001b[0m\u001b[0;34m,\u001b[0m \u001b[0mreturn_counts\u001b[0m\u001b[0;34m)\u001b[0m\u001b[0;34m\u001b[0m\u001b[0;34m\u001b[0m\u001b[0m\n\u001b[0m\u001b[1;32m    264\u001b[0m         \u001b[0;32mreturn\u001b[0m \u001b[0m_unpack_tuple\u001b[0m\u001b[0;34m(\u001b[0m\u001b[0mret\u001b[0m\u001b[0;34m)\u001b[0m\u001b[0;34m\u001b[0m\u001b[0;34m\u001b[0m\u001b[0m\n\u001b[1;32m    265\u001b[0m \u001b[0;34m\u001b[0m\u001b[0m\n",
      "\u001b[0;32m~/opt/anaconda3/lib/python3.7/site-packages/numpy/lib/arraysetops.py\u001b[0m in \u001b[0;36m_unique1d\u001b[0;34m(ar, return_index, return_inverse, return_counts)\u001b[0m\n\u001b[1;32m    306\u001b[0m \u001b[0;34m\u001b[0m\u001b[0m\n\u001b[1;32m    307\u001b[0m     \u001b[0;32mif\u001b[0m \u001b[0moptional_indices\u001b[0m\u001b[0;34m:\u001b[0m\u001b[0;34m\u001b[0m\u001b[0;34m\u001b[0m\u001b[0m\n\u001b[0;32m--> 308\u001b[0;31m         \u001b[0mperm\u001b[0m \u001b[0;34m=\u001b[0m \u001b[0mar\u001b[0m\u001b[0;34m.\u001b[0m\u001b[0margsort\u001b[0m\u001b[0;34m(\u001b[0m\u001b[0mkind\u001b[0m\u001b[0;34m=\u001b[0m\u001b[0;34m'mergesort'\u001b[0m \u001b[0;32mif\u001b[0m \u001b[0mreturn_index\u001b[0m \u001b[0;32melse\u001b[0m \u001b[0;34m'quicksort'\u001b[0m\u001b[0;34m)\u001b[0m\u001b[0;34m\u001b[0m\u001b[0;34m\u001b[0m\u001b[0m\n\u001b[0m\u001b[1;32m    309\u001b[0m         \u001b[0maux\u001b[0m \u001b[0;34m=\u001b[0m \u001b[0mar\u001b[0m\u001b[0;34m[\u001b[0m\u001b[0mperm\u001b[0m\u001b[0;34m]\u001b[0m\u001b[0;34m\u001b[0m\u001b[0;34m\u001b[0m\u001b[0m\n\u001b[1;32m    310\u001b[0m     \u001b[0;32melse\u001b[0m\u001b[0;34m:\u001b[0m\u001b[0;34m\u001b[0m\u001b[0;34m\u001b[0m\u001b[0m\n",
      "\u001b[0;31mKeyboardInterrupt\u001b[0m: "
     ]
    }
   ],
   "source": [
    "param_grid = { \n",
    "    'n_estimators': [30,40,50, 60],\n",
    "#     'max_features': ['auto', 'sqrt', 'log2'],\n",
    "    'max_depth': [5,10,20,30, None],\n",
    "    'min_samples_leaf':[1,2,3,4,5],\n",
    "#     'min_impurity_split' :[10**-7, 10**-6, 10**-5, 0],\n",
    "    'max_leaf_nodes' : [10,100,None]\n",
    "}\n",
    "CV_rfc = GridSearchCV(estimator=rfc, param_grid=param_grid, cv= 5)\n",
    "CV_rfc.fit(X, y)\n",
    "print(CV_rfc.best_params_)"
   ]
  },
  {
   "cell_type": "code",
   "execution_count": null,
   "metadata": {},
   "outputs": [],
   "source": []
  },
  {
   "cell_type": "markdown",
   "metadata": {},
   "source": []
  },
  {
   "cell_type": "code",
   "execution_count": null,
   "metadata": {},
   "outputs": [],
   "source": []
  },
  {
   "cell_type": "code",
   "execution_count": null,
   "metadata": {},
   "outputs": [],
   "source": [
    "\n"
   ]
  },
  {
   "cell_type": "code",
   "execution_count": 183,
   "metadata": {},
   "outputs": [
    {
     "data": {
      "text/plain": [
       "['accuracy',\n",
       " 'adjusted_mutual_info_score',\n",
       " 'adjusted_rand_score',\n",
       " 'average_precision',\n",
       " 'balanced_accuracy',\n",
       " 'completeness_score',\n",
       " 'explained_variance',\n",
       " 'f1',\n",
       " 'f1_macro',\n",
       " 'f1_micro',\n",
       " 'f1_samples',\n",
       " 'f1_weighted',\n",
       " 'fowlkes_mallows_score',\n",
       " 'homogeneity_score',\n",
       " 'jaccard',\n",
       " 'jaccard_macro',\n",
       " 'jaccard_micro',\n",
       " 'jaccard_samples',\n",
       " 'jaccard_weighted',\n",
       " 'max_error',\n",
       " 'mutual_info_score',\n",
       " 'neg_brier_score',\n",
       " 'neg_log_loss',\n",
       " 'neg_mean_absolute_error',\n",
       " 'neg_mean_gamma_deviance',\n",
       " 'neg_mean_poisson_deviance',\n",
       " 'neg_mean_squared_error',\n",
       " 'neg_mean_squared_log_error',\n",
       " 'neg_median_absolute_error',\n",
       " 'neg_root_mean_squared_error',\n",
       " 'normalized_mutual_info_score',\n",
       " 'precision',\n",
       " 'precision_macro',\n",
       " 'precision_micro',\n",
       " 'precision_samples',\n",
       " 'precision_weighted',\n",
       " 'r2',\n",
       " 'recall',\n",
       " 'recall_macro',\n",
       " 'recall_micro',\n",
       " 'recall_samples',\n",
       " 'recall_weighted',\n",
       " 'roc_auc',\n",
       " 'roc_auc_ovo',\n",
       " 'roc_auc_ovo_weighted',\n",
       " 'roc_auc_ovr',\n",
       " 'roc_auc_ovr_weighted',\n",
       " 'v_measure_score']"
      ]
     },
     "execution_count": 183,
     "metadata": {},
     "output_type": "execute_result"
    }
   ],
   "source": [
    "import sklearn.metrics\n",
    "sorted(sklearn.metrics.SCORERS.keys())"
   ]
  },
  {
   "cell_type": "code",
   "execution_count": null,
   "metadata": {},
   "outputs": [],
   "source": [
    "\n"
   ]
  },
  {
   "cell_type": "code",
   "execution_count": 89,
   "metadata": {},
   "outputs": [
    {
     "ename": "KeyboardInterrupt",
     "evalue": "",
     "output_type": "error",
     "traceback": [
      "\u001b[0;31m---------------------------------------------------------------------------\u001b[0m",
      "\u001b[0;31mKeyboardInterrupt\u001b[0m                         Traceback (most recent call last)",
      "\u001b[0;32m<ipython-input-89-fddf8b110af3>\u001b[0m in \u001b[0;36m<module>\u001b[0;34m\u001b[0m\n\u001b[1;32m      1\u001b[0m \u001b[0;32mfrom\u001b[0m \u001b[0msklearn\u001b[0m\u001b[0;34m.\u001b[0m\u001b[0mmodel_selection\u001b[0m \u001b[0;32mimport\u001b[0m \u001b[0mcross_val_score\u001b[0m\u001b[0;34m\u001b[0m\u001b[0;34m\u001b[0m\u001b[0m\n\u001b[0;32m----> 2\u001b[0;31m \u001b[0mprint\u001b[0m\u001b[0;34m(\u001b[0m\u001b[0mcross_val_score\u001b[0m\u001b[0;34m(\u001b[0m\u001b[0mrfc\u001b[0m\u001b[0;34m,\u001b[0m \u001b[0mX_train\u001b[0m\u001b[0;34m,\u001b[0m \u001b[0my_train\u001b[0m\u001b[0;34m,\u001b[0m \u001b[0mcv\u001b[0m \u001b[0;34m=\u001b[0m\u001b[0;36m10\u001b[0m\u001b[0;34m)\u001b[0m\u001b[0;34m)\u001b[0m\u001b[0;34m\u001b[0m\u001b[0;34m\u001b[0m\u001b[0m\n\u001b[0m",
      "\u001b[0;32m~/opt/anaconda3/lib/python3.7/site-packages/sklearn/model_selection/_validation.py\u001b[0m in \u001b[0;36mcross_val_score\u001b[0;34m(estimator, X, y, groups, scoring, cv, n_jobs, verbose, fit_params, pre_dispatch, error_score)\u001b[0m\n\u001b[1;32m    388\u001b[0m                                 \u001b[0mfit_params\u001b[0m\u001b[0;34m=\u001b[0m\u001b[0mfit_params\u001b[0m\u001b[0;34m,\u001b[0m\u001b[0;34m\u001b[0m\u001b[0;34m\u001b[0m\u001b[0m\n\u001b[1;32m    389\u001b[0m                                 \u001b[0mpre_dispatch\u001b[0m\u001b[0;34m=\u001b[0m\u001b[0mpre_dispatch\u001b[0m\u001b[0;34m,\u001b[0m\u001b[0;34m\u001b[0m\u001b[0;34m\u001b[0m\u001b[0m\n\u001b[0;32m--> 390\u001b[0;31m                                 error_score=error_score)\n\u001b[0m\u001b[1;32m    391\u001b[0m     \u001b[0;32mreturn\u001b[0m \u001b[0mcv_results\u001b[0m\u001b[0;34m[\u001b[0m\u001b[0;34m'test_score'\u001b[0m\u001b[0;34m]\u001b[0m\u001b[0;34m\u001b[0m\u001b[0;34m\u001b[0m\u001b[0m\n\u001b[1;32m    392\u001b[0m \u001b[0;34m\u001b[0m\u001b[0m\n",
      "\u001b[0;32m~/opt/anaconda3/lib/python3.7/site-packages/sklearn/model_selection/_validation.py\u001b[0m in \u001b[0;36mcross_validate\u001b[0;34m(estimator, X, y, groups, scoring, cv, n_jobs, verbose, fit_params, pre_dispatch, return_train_score, return_estimator, error_score)\u001b[0m\n\u001b[1;32m    234\u001b[0m             \u001b[0mreturn_times\u001b[0m\u001b[0;34m=\u001b[0m\u001b[0;32mTrue\u001b[0m\u001b[0;34m,\u001b[0m \u001b[0mreturn_estimator\u001b[0m\u001b[0;34m=\u001b[0m\u001b[0mreturn_estimator\u001b[0m\u001b[0;34m,\u001b[0m\u001b[0;34m\u001b[0m\u001b[0;34m\u001b[0m\u001b[0m\n\u001b[1;32m    235\u001b[0m             error_score=error_score)\n\u001b[0;32m--> 236\u001b[0;31m         for train, test in cv.split(X, y, groups))\n\u001b[0m\u001b[1;32m    237\u001b[0m \u001b[0;34m\u001b[0m\u001b[0m\n\u001b[1;32m    238\u001b[0m     \u001b[0mzipped_scores\u001b[0m \u001b[0;34m=\u001b[0m \u001b[0mlist\u001b[0m\u001b[0;34m(\u001b[0m\u001b[0mzip\u001b[0m\u001b[0;34m(\u001b[0m\u001b[0;34m*\u001b[0m\u001b[0mscores\u001b[0m\u001b[0;34m)\u001b[0m\u001b[0;34m)\u001b[0m\u001b[0;34m\u001b[0m\u001b[0;34m\u001b[0m\u001b[0m\n",
      "\u001b[0;32m~/opt/anaconda3/lib/python3.7/site-packages/joblib/parallel.py\u001b[0m in \u001b[0;36m__call__\u001b[0;34m(self, iterable)\u001b[0m\n\u001b[1;32m   1005\u001b[0m                 \u001b[0mself\u001b[0m\u001b[0;34m.\u001b[0m\u001b[0m_iterating\u001b[0m \u001b[0;34m=\u001b[0m \u001b[0mself\u001b[0m\u001b[0;34m.\u001b[0m\u001b[0m_original_iterator\u001b[0m \u001b[0;32mis\u001b[0m \u001b[0;32mnot\u001b[0m \u001b[0;32mNone\u001b[0m\u001b[0;34m\u001b[0m\u001b[0;34m\u001b[0m\u001b[0m\n\u001b[1;32m   1006\u001b[0m \u001b[0;34m\u001b[0m\u001b[0m\n\u001b[0;32m-> 1007\u001b[0;31m             \u001b[0;32mwhile\u001b[0m \u001b[0mself\u001b[0m\u001b[0;34m.\u001b[0m\u001b[0mdispatch_one_batch\u001b[0m\u001b[0;34m(\u001b[0m\u001b[0miterator\u001b[0m\u001b[0;34m)\u001b[0m\u001b[0;34m:\u001b[0m\u001b[0;34m\u001b[0m\u001b[0;34m\u001b[0m\u001b[0m\n\u001b[0m\u001b[1;32m   1008\u001b[0m                 \u001b[0;32mpass\u001b[0m\u001b[0;34m\u001b[0m\u001b[0;34m\u001b[0m\u001b[0m\n\u001b[1;32m   1009\u001b[0m \u001b[0;34m\u001b[0m\u001b[0m\n",
      "\u001b[0;32m~/opt/anaconda3/lib/python3.7/site-packages/joblib/parallel.py\u001b[0m in \u001b[0;36mdispatch_one_batch\u001b[0;34m(self, iterator)\u001b[0m\n\u001b[1;32m    833\u001b[0m                 \u001b[0;32mreturn\u001b[0m \u001b[0;32mFalse\u001b[0m\u001b[0;34m\u001b[0m\u001b[0;34m\u001b[0m\u001b[0m\n\u001b[1;32m    834\u001b[0m             \u001b[0;32melse\u001b[0m\u001b[0;34m:\u001b[0m\u001b[0;34m\u001b[0m\u001b[0;34m\u001b[0m\u001b[0m\n\u001b[0;32m--> 835\u001b[0;31m                 \u001b[0mself\u001b[0m\u001b[0;34m.\u001b[0m\u001b[0m_dispatch\u001b[0m\u001b[0;34m(\u001b[0m\u001b[0mtasks\u001b[0m\u001b[0;34m)\u001b[0m\u001b[0;34m\u001b[0m\u001b[0;34m\u001b[0m\u001b[0m\n\u001b[0m\u001b[1;32m    836\u001b[0m                 \u001b[0;32mreturn\u001b[0m \u001b[0;32mTrue\u001b[0m\u001b[0;34m\u001b[0m\u001b[0;34m\u001b[0m\u001b[0m\n\u001b[1;32m    837\u001b[0m \u001b[0;34m\u001b[0m\u001b[0m\n",
      "\u001b[0;32m~/opt/anaconda3/lib/python3.7/site-packages/joblib/parallel.py\u001b[0m in \u001b[0;36m_dispatch\u001b[0;34m(self, batch)\u001b[0m\n\u001b[1;32m    752\u001b[0m         \u001b[0;32mwith\u001b[0m \u001b[0mself\u001b[0m\u001b[0;34m.\u001b[0m\u001b[0m_lock\u001b[0m\u001b[0;34m:\u001b[0m\u001b[0;34m\u001b[0m\u001b[0;34m\u001b[0m\u001b[0m\n\u001b[1;32m    753\u001b[0m             \u001b[0mjob_idx\u001b[0m \u001b[0;34m=\u001b[0m \u001b[0mlen\u001b[0m\u001b[0;34m(\u001b[0m\u001b[0mself\u001b[0m\u001b[0;34m.\u001b[0m\u001b[0m_jobs\u001b[0m\u001b[0;34m)\u001b[0m\u001b[0;34m\u001b[0m\u001b[0;34m\u001b[0m\u001b[0m\n\u001b[0;32m--> 754\u001b[0;31m             \u001b[0mjob\u001b[0m \u001b[0;34m=\u001b[0m \u001b[0mself\u001b[0m\u001b[0;34m.\u001b[0m\u001b[0m_backend\u001b[0m\u001b[0;34m.\u001b[0m\u001b[0mapply_async\u001b[0m\u001b[0;34m(\u001b[0m\u001b[0mbatch\u001b[0m\u001b[0;34m,\u001b[0m \u001b[0mcallback\u001b[0m\u001b[0;34m=\u001b[0m\u001b[0mcb\u001b[0m\u001b[0;34m)\u001b[0m\u001b[0;34m\u001b[0m\u001b[0;34m\u001b[0m\u001b[0m\n\u001b[0m\u001b[1;32m    755\u001b[0m             \u001b[0;31m# A job can complete so quickly than its callback is\u001b[0m\u001b[0;34m\u001b[0m\u001b[0;34m\u001b[0m\u001b[0;34m\u001b[0m\u001b[0m\n\u001b[1;32m    756\u001b[0m             \u001b[0;31m# called before we get here, causing self._jobs to\u001b[0m\u001b[0;34m\u001b[0m\u001b[0;34m\u001b[0m\u001b[0;34m\u001b[0m\u001b[0m\n",
      "\u001b[0;32m~/opt/anaconda3/lib/python3.7/site-packages/joblib/_parallel_backends.py\u001b[0m in \u001b[0;36mapply_async\u001b[0;34m(self, func, callback)\u001b[0m\n\u001b[1;32m    207\u001b[0m     \u001b[0;32mdef\u001b[0m \u001b[0mapply_async\u001b[0m\u001b[0;34m(\u001b[0m\u001b[0mself\u001b[0m\u001b[0;34m,\u001b[0m \u001b[0mfunc\u001b[0m\u001b[0;34m,\u001b[0m \u001b[0mcallback\u001b[0m\u001b[0;34m=\u001b[0m\u001b[0;32mNone\u001b[0m\u001b[0;34m)\u001b[0m\u001b[0;34m:\u001b[0m\u001b[0;34m\u001b[0m\u001b[0;34m\u001b[0m\u001b[0m\n\u001b[1;32m    208\u001b[0m         \u001b[0;34m\"\"\"Schedule a func to be run\"\"\"\u001b[0m\u001b[0;34m\u001b[0m\u001b[0;34m\u001b[0m\u001b[0m\n\u001b[0;32m--> 209\u001b[0;31m         \u001b[0mresult\u001b[0m \u001b[0;34m=\u001b[0m \u001b[0mImmediateResult\u001b[0m\u001b[0;34m(\u001b[0m\u001b[0mfunc\u001b[0m\u001b[0;34m)\u001b[0m\u001b[0;34m\u001b[0m\u001b[0;34m\u001b[0m\u001b[0m\n\u001b[0m\u001b[1;32m    210\u001b[0m         \u001b[0;32mif\u001b[0m \u001b[0mcallback\u001b[0m\u001b[0;34m:\u001b[0m\u001b[0;34m\u001b[0m\u001b[0;34m\u001b[0m\u001b[0m\n\u001b[1;32m    211\u001b[0m             \u001b[0mcallback\u001b[0m\u001b[0;34m(\u001b[0m\u001b[0mresult\u001b[0m\u001b[0;34m)\u001b[0m\u001b[0;34m\u001b[0m\u001b[0;34m\u001b[0m\u001b[0m\n",
      "\u001b[0;32m~/opt/anaconda3/lib/python3.7/site-packages/joblib/_parallel_backends.py\u001b[0m in \u001b[0;36m__init__\u001b[0;34m(self, batch)\u001b[0m\n\u001b[1;32m    588\u001b[0m         \u001b[0;31m# Don't delay the application, to avoid keeping the input\u001b[0m\u001b[0;34m\u001b[0m\u001b[0;34m\u001b[0m\u001b[0;34m\u001b[0m\u001b[0m\n\u001b[1;32m    589\u001b[0m         \u001b[0;31m# arguments in memory\u001b[0m\u001b[0;34m\u001b[0m\u001b[0;34m\u001b[0m\u001b[0;34m\u001b[0m\u001b[0m\n\u001b[0;32m--> 590\u001b[0;31m         \u001b[0mself\u001b[0m\u001b[0;34m.\u001b[0m\u001b[0mresults\u001b[0m \u001b[0;34m=\u001b[0m \u001b[0mbatch\u001b[0m\u001b[0;34m(\u001b[0m\u001b[0;34m)\u001b[0m\u001b[0;34m\u001b[0m\u001b[0;34m\u001b[0m\u001b[0m\n\u001b[0m\u001b[1;32m    591\u001b[0m \u001b[0;34m\u001b[0m\u001b[0m\n\u001b[1;32m    592\u001b[0m     \u001b[0;32mdef\u001b[0m \u001b[0mget\u001b[0m\u001b[0;34m(\u001b[0m\u001b[0mself\u001b[0m\u001b[0;34m)\u001b[0m\u001b[0;34m:\u001b[0m\u001b[0;34m\u001b[0m\u001b[0;34m\u001b[0m\u001b[0m\n",
      "\u001b[0;32m~/opt/anaconda3/lib/python3.7/site-packages/joblib/parallel.py\u001b[0m in \u001b[0;36m__call__\u001b[0;34m(self)\u001b[0m\n\u001b[1;32m    254\u001b[0m         \u001b[0;32mwith\u001b[0m \u001b[0mparallel_backend\u001b[0m\u001b[0;34m(\u001b[0m\u001b[0mself\u001b[0m\u001b[0;34m.\u001b[0m\u001b[0m_backend\u001b[0m\u001b[0;34m,\u001b[0m \u001b[0mn_jobs\u001b[0m\u001b[0;34m=\u001b[0m\u001b[0mself\u001b[0m\u001b[0;34m.\u001b[0m\u001b[0m_n_jobs\u001b[0m\u001b[0;34m)\u001b[0m\u001b[0;34m:\u001b[0m\u001b[0;34m\u001b[0m\u001b[0;34m\u001b[0m\u001b[0m\n\u001b[1;32m    255\u001b[0m             return [func(*args, **kwargs)\n\u001b[0;32m--> 256\u001b[0;31m                     for func, args, kwargs in self.items]\n\u001b[0m\u001b[1;32m    257\u001b[0m \u001b[0;34m\u001b[0m\u001b[0m\n\u001b[1;32m    258\u001b[0m     \u001b[0;32mdef\u001b[0m \u001b[0m__len__\u001b[0m\u001b[0;34m(\u001b[0m\u001b[0mself\u001b[0m\u001b[0;34m)\u001b[0m\u001b[0;34m:\u001b[0m\u001b[0;34m\u001b[0m\u001b[0;34m\u001b[0m\u001b[0m\n",
      "\u001b[0;32m~/opt/anaconda3/lib/python3.7/site-packages/joblib/parallel.py\u001b[0m in \u001b[0;36m<listcomp>\u001b[0;34m(.0)\u001b[0m\n\u001b[1;32m    254\u001b[0m         \u001b[0;32mwith\u001b[0m \u001b[0mparallel_backend\u001b[0m\u001b[0;34m(\u001b[0m\u001b[0mself\u001b[0m\u001b[0;34m.\u001b[0m\u001b[0m_backend\u001b[0m\u001b[0;34m,\u001b[0m \u001b[0mn_jobs\u001b[0m\u001b[0;34m=\u001b[0m\u001b[0mself\u001b[0m\u001b[0;34m.\u001b[0m\u001b[0m_n_jobs\u001b[0m\u001b[0;34m)\u001b[0m\u001b[0;34m:\u001b[0m\u001b[0;34m\u001b[0m\u001b[0;34m\u001b[0m\u001b[0m\n\u001b[1;32m    255\u001b[0m             return [func(*args, **kwargs)\n\u001b[0;32m--> 256\u001b[0;31m                     for func, args, kwargs in self.items]\n\u001b[0m\u001b[1;32m    257\u001b[0m \u001b[0;34m\u001b[0m\u001b[0m\n\u001b[1;32m    258\u001b[0m     \u001b[0;32mdef\u001b[0m \u001b[0m__len__\u001b[0m\u001b[0;34m(\u001b[0m\u001b[0mself\u001b[0m\u001b[0;34m)\u001b[0m\u001b[0;34m:\u001b[0m\u001b[0;34m\u001b[0m\u001b[0;34m\u001b[0m\u001b[0m\n",
      "\u001b[0;32m~/opt/anaconda3/lib/python3.7/site-packages/sklearn/model_selection/_validation.py\u001b[0m in \u001b[0;36m_fit_and_score\u001b[0;34m(estimator, X, y, scorer, train, test, verbose, parameters, fit_params, return_train_score, return_parameters, return_n_test_samples, return_times, return_estimator, error_score)\u001b[0m\n\u001b[1;32m    513\u001b[0m             \u001b[0mestimator\u001b[0m\u001b[0;34m.\u001b[0m\u001b[0mfit\u001b[0m\u001b[0;34m(\u001b[0m\u001b[0mX_train\u001b[0m\u001b[0;34m,\u001b[0m \u001b[0;34m**\u001b[0m\u001b[0mfit_params\u001b[0m\u001b[0;34m)\u001b[0m\u001b[0;34m\u001b[0m\u001b[0;34m\u001b[0m\u001b[0m\n\u001b[1;32m    514\u001b[0m         \u001b[0;32melse\u001b[0m\u001b[0;34m:\u001b[0m\u001b[0;34m\u001b[0m\u001b[0;34m\u001b[0m\u001b[0m\n\u001b[0;32m--> 515\u001b[0;31m             \u001b[0mestimator\u001b[0m\u001b[0;34m.\u001b[0m\u001b[0mfit\u001b[0m\u001b[0;34m(\u001b[0m\u001b[0mX_train\u001b[0m\u001b[0;34m,\u001b[0m \u001b[0my_train\u001b[0m\u001b[0;34m,\u001b[0m \u001b[0;34m**\u001b[0m\u001b[0mfit_params\u001b[0m\u001b[0;34m)\u001b[0m\u001b[0;34m\u001b[0m\u001b[0;34m\u001b[0m\u001b[0m\n\u001b[0m\u001b[1;32m    516\u001b[0m \u001b[0;34m\u001b[0m\u001b[0m\n\u001b[1;32m    517\u001b[0m     \u001b[0;32mexcept\u001b[0m \u001b[0mException\u001b[0m \u001b[0;32mas\u001b[0m \u001b[0me\u001b[0m\u001b[0;34m:\u001b[0m\u001b[0;34m\u001b[0m\u001b[0;34m\u001b[0m\u001b[0m\n",
      "\u001b[0;32m~/opt/anaconda3/lib/python3.7/site-packages/sklearn/ensemble/_forest.py\u001b[0m in \u001b[0;36mfit\u001b[0;34m(self, X, y, sample_weight)\u001b[0m\n\u001b[1;32m    381\u001b[0m                     \u001b[0mverbose\u001b[0m\u001b[0;34m=\u001b[0m\u001b[0mself\u001b[0m\u001b[0;34m.\u001b[0m\u001b[0mverbose\u001b[0m\u001b[0;34m,\u001b[0m \u001b[0mclass_weight\u001b[0m\u001b[0;34m=\u001b[0m\u001b[0mself\u001b[0m\u001b[0;34m.\u001b[0m\u001b[0mclass_weight\u001b[0m\u001b[0;34m,\u001b[0m\u001b[0;34m\u001b[0m\u001b[0;34m\u001b[0m\u001b[0m\n\u001b[1;32m    382\u001b[0m                     n_samples_bootstrap=n_samples_bootstrap)\n\u001b[0;32m--> 383\u001b[0;31m                 for i, t in enumerate(trees))\n\u001b[0m\u001b[1;32m    384\u001b[0m \u001b[0;34m\u001b[0m\u001b[0m\n\u001b[1;32m    385\u001b[0m             \u001b[0;31m# Collect newly grown trees\u001b[0m\u001b[0;34m\u001b[0m\u001b[0;34m\u001b[0m\u001b[0;34m\u001b[0m\u001b[0m\n",
      "\u001b[0;32m~/opt/anaconda3/lib/python3.7/site-packages/joblib/parallel.py\u001b[0m in \u001b[0;36m__call__\u001b[0;34m(self, iterable)\u001b[0m\n\u001b[1;32m   1005\u001b[0m                 \u001b[0mself\u001b[0m\u001b[0;34m.\u001b[0m\u001b[0m_iterating\u001b[0m \u001b[0;34m=\u001b[0m \u001b[0mself\u001b[0m\u001b[0;34m.\u001b[0m\u001b[0m_original_iterator\u001b[0m \u001b[0;32mis\u001b[0m \u001b[0;32mnot\u001b[0m \u001b[0;32mNone\u001b[0m\u001b[0;34m\u001b[0m\u001b[0;34m\u001b[0m\u001b[0m\n\u001b[1;32m   1006\u001b[0m \u001b[0;34m\u001b[0m\u001b[0m\n\u001b[0;32m-> 1007\u001b[0;31m             \u001b[0;32mwhile\u001b[0m \u001b[0mself\u001b[0m\u001b[0;34m.\u001b[0m\u001b[0mdispatch_one_batch\u001b[0m\u001b[0;34m(\u001b[0m\u001b[0miterator\u001b[0m\u001b[0;34m)\u001b[0m\u001b[0;34m:\u001b[0m\u001b[0;34m\u001b[0m\u001b[0;34m\u001b[0m\u001b[0m\n\u001b[0m\u001b[1;32m   1008\u001b[0m                 \u001b[0;32mpass\u001b[0m\u001b[0;34m\u001b[0m\u001b[0;34m\u001b[0m\u001b[0m\n\u001b[1;32m   1009\u001b[0m \u001b[0;34m\u001b[0m\u001b[0m\n",
      "\u001b[0;32m~/opt/anaconda3/lib/python3.7/site-packages/joblib/parallel.py\u001b[0m in \u001b[0;36mdispatch_one_batch\u001b[0;34m(self, iterator)\u001b[0m\n\u001b[1;32m    833\u001b[0m                 \u001b[0;32mreturn\u001b[0m \u001b[0;32mFalse\u001b[0m\u001b[0;34m\u001b[0m\u001b[0;34m\u001b[0m\u001b[0m\n\u001b[1;32m    834\u001b[0m             \u001b[0;32melse\u001b[0m\u001b[0;34m:\u001b[0m\u001b[0;34m\u001b[0m\u001b[0;34m\u001b[0m\u001b[0m\n\u001b[0;32m--> 835\u001b[0;31m                 \u001b[0mself\u001b[0m\u001b[0;34m.\u001b[0m\u001b[0m_dispatch\u001b[0m\u001b[0;34m(\u001b[0m\u001b[0mtasks\u001b[0m\u001b[0;34m)\u001b[0m\u001b[0;34m\u001b[0m\u001b[0;34m\u001b[0m\u001b[0m\n\u001b[0m\u001b[1;32m    836\u001b[0m                 \u001b[0;32mreturn\u001b[0m \u001b[0;32mTrue\u001b[0m\u001b[0;34m\u001b[0m\u001b[0;34m\u001b[0m\u001b[0m\n\u001b[1;32m    837\u001b[0m \u001b[0;34m\u001b[0m\u001b[0m\n",
      "\u001b[0;32m~/opt/anaconda3/lib/python3.7/site-packages/joblib/parallel.py\u001b[0m in \u001b[0;36m_dispatch\u001b[0;34m(self, batch)\u001b[0m\n\u001b[1;32m    752\u001b[0m         \u001b[0;32mwith\u001b[0m \u001b[0mself\u001b[0m\u001b[0;34m.\u001b[0m\u001b[0m_lock\u001b[0m\u001b[0;34m:\u001b[0m\u001b[0;34m\u001b[0m\u001b[0;34m\u001b[0m\u001b[0m\n\u001b[1;32m    753\u001b[0m             \u001b[0mjob_idx\u001b[0m \u001b[0;34m=\u001b[0m \u001b[0mlen\u001b[0m\u001b[0;34m(\u001b[0m\u001b[0mself\u001b[0m\u001b[0;34m.\u001b[0m\u001b[0m_jobs\u001b[0m\u001b[0;34m)\u001b[0m\u001b[0;34m\u001b[0m\u001b[0;34m\u001b[0m\u001b[0m\n\u001b[0;32m--> 754\u001b[0;31m             \u001b[0mjob\u001b[0m \u001b[0;34m=\u001b[0m \u001b[0mself\u001b[0m\u001b[0;34m.\u001b[0m\u001b[0m_backend\u001b[0m\u001b[0;34m.\u001b[0m\u001b[0mapply_async\u001b[0m\u001b[0;34m(\u001b[0m\u001b[0mbatch\u001b[0m\u001b[0;34m,\u001b[0m \u001b[0mcallback\u001b[0m\u001b[0;34m=\u001b[0m\u001b[0mcb\u001b[0m\u001b[0;34m)\u001b[0m\u001b[0;34m\u001b[0m\u001b[0;34m\u001b[0m\u001b[0m\n\u001b[0m\u001b[1;32m    755\u001b[0m             \u001b[0;31m# A job can complete so quickly than its callback is\u001b[0m\u001b[0;34m\u001b[0m\u001b[0;34m\u001b[0m\u001b[0;34m\u001b[0m\u001b[0m\n\u001b[1;32m    756\u001b[0m             \u001b[0;31m# called before we get here, causing self._jobs to\u001b[0m\u001b[0;34m\u001b[0m\u001b[0;34m\u001b[0m\u001b[0;34m\u001b[0m\u001b[0m\n",
      "\u001b[0;32m~/opt/anaconda3/lib/python3.7/site-packages/joblib/_parallel_backends.py\u001b[0m in \u001b[0;36mapply_async\u001b[0;34m(self, func, callback)\u001b[0m\n\u001b[1;32m    207\u001b[0m     \u001b[0;32mdef\u001b[0m \u001b[0mapply_async\u001b[0m\u001b[0;34m(\u001b[0m\u001b[0mself\u001b[0m\u001b[0;34m,\u001b[0m \u001b[0mfunc\u001b[0m\u001b[0;34m,\u001b[0m \u001b[0mcallback\u001b[0m\u001b[0;34m=\u001b[0m\u001b[0;32mNone\u001b[0m\u001b[0;34m)\u001b[0m\u001b[0;34m:\u001b[0m\u001b[0;34m\u001b[0m\u001b[0;34m\u001b[0m\u001b[0m\n\u001b[1;32m    208\u001b[0m         \u001b[0;34m\"\"\"Schedule a func to be run\"\"\"\u001b[0m\u001b[0;34m\u001b[0m\u001b[0;34m\u001b[0m\u001b[0m\n\u001b[0;32m--> 209\u001b[0;31m         \u001b[0mresult\u001b[0m \u001b[0;34m=\u001b[0m \u001b[0mImmediateResult\u001b[0m\u001b[0;34m(\u001b[0m\u001b[0mfunc\u001b[0m\u001b[0;34m)\u001b[0m\u001b[0;34m\u001b[0m\u001b[0;34m\u001b[0m\u001b[0m\n\u001b[0m\u001b[1;32m    210\u001b[0m         \u001b[0;32mif\u001b[0m \u001b[0mcallback\u001b[0m\u001b[0;34m:\u001b[0m\u001b[0;34m\u001b[0m\u001b[0;34m\u001b[0m\u001b[0m\n\u001b[1;32m    211\u001b[0m             \u001b[0mcallback\u001b[0m\u001b[0;34m(\u001b[0m\u001b[0mresult\u001b[0m\u001b[0;34m)\u001b[0m\u001b[0;34m\u001b[0m\u001b[0;34m\u001b[0m\u001b[0m\n",
      "\u001b[0;32m~/opt/anaconda3/lib/python3.7/site-packages/joblib/_parallel_backends.py\u001b[0m in \u001b[0;36m__init__\u001b[0;34m(self, batch)\u001b[0m\n\u001b[1;32m    588\u001b[0m         \u001b[0;31m# Don't delay the application, to avoid keeping the input\u001b[0m\u001b[0;34m\u001b[0m\u001b[0;34m\u001b[0m\u001b[0;34m\u001b[0m\u001b[0m\n\u001b[1;32m    589\u001b[0m         \u001b[0;31m# arguments in memory\u001b[0m\u001b[0;34m\u001b[0m\u001b[0;34m\u001b[0m\u001b[0;34m\u001b[0m\u001b[0m\n\u001b[0;32m--> 590\u001b[0;31m         \u001b[0mself\u001b[0m\u001b[0;34m.\u001b[0m\u001b[0mresults\u001b[0m \u001b[0;34m=\u001b[0m \u001b[0mbatch\u001b[0m\u001b[0;34m(\u001b[0m\u001b[0;34m)\u001b[0m\u001b[0;34m\u001b[0m\u001b[0;34m\u001b[0m\u001b[0m\n\u001b[0m\u001b[1;32m    591\u001b[0m \u001b[0;34m\u001b[0m\u001b[0m\n\u001b[1;32m    592\u001b[0m     \u001b[0;32mdef\u001b[0m \u001b[0mget\u001b[0m\u001b[0;34m(\u001b[0m\u001b[0mself\u001b[0m\u001b[0;34m)\u001b[0m\u001b[0;34m:\u001b[0m\u001b[0;34m\u001b[0m\u001b[0;34m\u001b[0m\u001b[0m\n",
      "\u001b[0;32m~/opt/anaconda3/lib/python3.7/site-packages/joblib/parallel.py\u001b[0m in \u001b[0;36m__call__\u001b[0;34m(self)\u001b[0m\n\u001b[1;32m    254\u001b[0m         \u001b[0;32mwith\u001b[0m \u001b[0mparallel_backend\u001b[0m\u001b[0;34m(\u001b[0m\u001b[0mself\u001b[0m\u001b[0;34m.\u001b[0m\u001b[0m_backend\u001b[0m\u001b[0;34m,\u001b[0m \u001b[0mn_jobs\u001b[0m\u001b[0;34m=\u001b[0m\u001b[0mself\u001b[0m\u001b[0;34m.\u001b[0m\u001b[0m_n_jobs\u001b[0m\u001b[0;34m)\u001b[0m\u001b[0;34m:\u001b[0m\u001b[0;34m\u001b[0m\u001b[0;34m\u001b[0m\u001b[0m\n\u001b[1;32m    255\u001b[0m             return [func(*args, **kwargs)\n\u001b[0;32m--> 256\u001b[0;31m                     for func, args, kwargs in self.items]\n\u001b[0m\u001b[1;32m    257\u001b[0m \u001b[0;34m\u001b[0m\u001b[0m\n\u001b[1;32m    258\u001b[0m     \u001b[0;32mdef\u001b[0m \u001b[0m__len__\u001b[0m\u001b[0;34m(\u001b[0m\u001b[0mself\u001b[0m\u001b[0;34m)\u001b[0m\u001b[0;34m:\u001b[0m\u001b[0;34m\u001b[0m\u001b[0;34m\u001b[0m\u001b[0m\n",
      "\u001b[0;32m~/opt/anaconda3/lib/python3.7/site-packages/joblib/parallel.py\u001b[0m in \u001b[0;36m<listcomp>\u001b[0;34m(.0)\u001b[0m\n\u001b[1;32m    254\u001b[0m         \u001b[0;32mwith\u001b[0m \u001b[0mparallel_backend\u001b[0m\u001b[0;34m(\u001b[0m\u001b[0mself\u001b[0m\u001b[0;34m.\u001b[0m\u001b[0m_backend\u001b[0m\u001b[0;34m,\u001b[0m \u001b[0mn_jobs\u001b[0m\u001b[0;34m=\u001b[0m\u001b[0mself\u001b[0m\u001b[0;34m.\u001b[0m\u001b[0m_n_jobs\u001b[0m\u001b[0;34m)\u001b[0m\u001b[0;34m:\u001b[0m\u001b[0;34m\u001b[0m\u001b[0;34m\u001b[0m\u001b[0m\n\u001b[1;32m    255\u001b[0m             return [func(*args, **kwargs)\n\u001b[0;32m--> 256\u001b[0;31m                     for func, args, kwargs in self.items]\n\u001b[0m\u001b[1;32m    257\u001b[0m \u001b[0;34m\u001b[0m\u001b[0m\n\u001b[1;32m    258\u001b[0m     \u001b[0;32mdef\u001b[0m \u001b[0m__len__\u001b[0m\u001b[0;34m(\u001b[0m\u001b[0mself\u001b[0m\u001b[0;34m)\u001b[0m\u001b[0;34m:\u001b[0m\u001b[0;34m\u001b[0m\u001b[0;34m\u001b[0m\u001b[0m\n",
      "\u001b[0;32m~/opt/anaconda3/lib/python3.7/site-packages/sklearn/ensemble/_forest.py\u001b[0m in \u001b[0;36m_parallel_build_trees\u001b[0;34m(tree, forest, X, y, sample_weight, tree_idx, n_trees, verbose, class_weight, n_samples_bootstrap)\u001b[0m\n\u001b[1;32m    163\u001b[0m             \u001b[0mcurr_sample_weight\u001b[0m \u001b[0;34m*=\u001b[0m \u001b[0mcompute_sample_weight\u001b[0m\u001b[0;34m(\u001b[0m\u001b[0;34m'balanced'\u001b[0m\u001b[0;34m,\u001b[0m \u001b[0my\u001b[0m\u001b[0;34m,\u001b[0m \u001b[0mindices\u001b[0m\u001b[0;34m)\u001b[0m\u001b[0;34m\u001b[0m\u001b[0;34m\u001b[0m\u001b[0m\n\u001b[1;32m    164\u001b[0m \u001b[0;34m\u001b[0m\u001b[0m\n\u001b[0;32m--> 165\u001b[0;31m         \u001b[0mtree\u001b[0m\u001b[0;34m.\u001b[0m\u001b[0mfit\u001b[0m\u001b[0;34m(\u001b[0m\u001b[0mX\u001b[0m\u001b[0;34m,\u001b[0m \u001b[0my\u001b[0m\u001b[0;34m,\u001b[0m \u001b[0msample_weight\u001b[0m\u001b[0;34m=\u001b[0m\u001b[0mcurr_sample_weight\u001b[0m\u001b[0;34m,\u001b[0m \u001b[0mcheck_input\u001b[0m\u001b[0;34m=\u001b[0m\u001b[0;32mFalse\u001b[0m\u001b[0;34m)\u001b[0m\u001b[0;34m\u001b[0m\u001b[0;34m\u001b[0m\u001b[0m\n\u001b[0m\u001b[1;32m    166\u001b[0m     \u001b[0;32melse\u001b[0m\u001b[0;34m:\u001b[0m\u001b[0;34m\u001b[0m\u001b[0;34m\u001b[0m\u001b[0m\n\u001b[1;32m    167\u001b[0m         \u001b[0mtree\u001b[0m\u001b[0;34m.\u001b[0m\u001b[0mfit\u001b[0m\u001b[0;34m(\u001b[0m\u001b[0mX\u001b[0m\u001b[0;34m,\u001b[0m \u001b[0my\u001b[0m\u001b[0;34m,\u001b[0m \u001b[0msample_weight\u001b[0m\u001b[0;34m=\u001b[0m\u001b[0msample_weight\u001b[0m\u001b[0;34m,\u001b[0m \u001b[0mcheck_input\u001b[0m\u001b[0;34m=\u001b[0m\u001b[0;32mFalse\u001b[0m\u001b[0;34m)\u001b[0m\u001b[0;34m\u001b[0m\u001b[0;34m\u001b[0m\u001b[0m\n",
      "\u001b[0;32m~/opt/anaconda3/lib/python3.7/site-packages/sklearn/tree/_classes.py\u001b[0m in \u001b[0;36mfit\u001b[0;34m(self, X, y, sample_weight, check_input, X_idx_sorted)\u001b[0m\n\u001b[1;32m    875\u001b[0m             \u001b[0msample_weight\u001b[0m\u001b[0;34m=\u001b[0m\u001b[0msample_weight\u001b[0m\u001b[0;34m,\u001b[0m\u001b[0;34m\u001b[0m\u001b[0;34m\u001b[0m\u001b[0m\n\u001b[1;32m    876\u001b[0m             \u001b[0mcheck_input\u001b[0m\u001b[0;34m=\u001b[0m\u001b[0mcheck_input\u001b[0m\u001b[0;34m,\u001b[0m\u001b[0;34m\u001b[0m\u001b[0;34m\u001b[0m\u001b[0m\n\u001b[0;32m--> 877\u001b[0;31m             X_idx_sorted=X_idx_sorted)\n\u001b[0m\u001b[1;32m    878\u001b[0m         \u001b[0;32mreturn\u001b[0m \u001b[0mself\u001b[0m\u001b[0;34m\u001b[0m\u001b[0;34m\u001b[0m\u001b[0m\n\u001b[1;32m    879\u001b[0m \u001b[0;34m\u001b[0m\u001b[0m\n",
      "\u001b[0;32m~/opt/anaconda3/lib/python3.7/site-packages/sklearn/tree/_classes.py\u001b[0m in \u001b[0;36mfit\u001b[0;34m(self, X, y, sample_weight, check_input, X_idx_sorted)\u001b[0m\n\u001b[1;32m    365\u001b[0m                                            min_impurity_split)\n\u001b[1;32m    366\u001b[0m \u001b[0;34m\u001b[0m\u001b[0m\n\u001b[0;32m--> 367\u001b[0;31m         \u001b[0mbuilder\u001b[0m\u001b[0;34m.\u001b[0m\u001b[0mbuild\u001b[0m\u001b[0;34m(\u001b[0m\u001b[0mself\u001b[0m\u001b[0;34m.\u001b[0m\u001b[0mtree_\u001b[0m\u001b[0;34m,\u001b[0m \u001b[0mX\u001b[0m\u001b[0;34m,\u001b[0m \u001b[0my\u001b[0m\u001b[0;34m,\u001b[0m \u001b[0msample_weight\u001b[0m\u001b[0;34m,\u001b[0m \u001b[0mX_idx_sorted\u001b[0m\u001b[0;34m)\u001b[0m\u001b[0;34m\u001b[0m\u001b[0;34m\u001b[0m\u001b[0m\n\u001b[0m\u001b[1;32m    368\u001b[0m \u001b[0;34m\u001b[0m\u001b[0m\n\u001b[1;32m    369\u001b[0m         \u001b[0;32mif\u001b[0m \u001b[0mself\u001b[0m\u001b[0;34m.\u001b[0m\u001b[0mn_outputs_\u001b[0m \u001b[0;34m==\u001b[0m \u001b[0;36m1\u001b[0m \u001b[0;32mand\u001b[0m \u001b[0mis_classifier\u001b[0m\u001b[0;34m(\u001b[0m\u001b[0mself\u001b[0m\u001b[0;34m)\u001b[0m\u001b[0;34m:\u001b[0m\u001b[0;34m\u001b[0m\u001b[0;34m\u001b[0m\u001b[0m\n",
      "\u001b[0;31mKeyboardInterrupt\u001b[0m: "
     ]
    }
   ],
   "source": [
    "from sklearn.model_selection import cross_val_score\n",
    "print(cross_val_score(rfc, X_train, y_train, cv =10))"
   ]
  },
  {
   "cell_type": "code",
   "execution_count": 75,
   "metadata": {},
   "outputs": [
    {
     "data": {
      "image/png": "[encoded data removed]",
      "text/plain": [
       "<Figure size 576x396 with 1 Axes>"
      ]
     },
     "metadata": {},
     "output_type": "display_data"
    }
   ],
   "source": [
    "\n",
    "svc = SVC(random_state=42)\n",
    "svc.fit(X, y)\n",
    "\n",
    "ax = plt.gca()\n",
    "rfc_disp = plot_roc_curve(rfc, X, y, ax=ax, alpha=0.8)\n",
    "# svc_disp = plot_roc_curve(svc, X, y)\n",
    "\n",
    "\n",
    "\n",
    "\n",
    "svc_disp.plot(ax=ax, alpha=0.8)\n",
    "plt.show()"
   ]
  },
  {
   "cell_type": "code",
   "execution_count": 124,
   "metadata": {},
   "outputs": [
    {
     "name": "stdout",
     "output_type": "stream",
     "text": [
      "Score:  0.9311\n"
     ]
    }
   ],
   "source": [
    "print('Score: ', rfc.score(X_train, y_train))\n"
   ]
  },
  {
   "cell_type": "markdown",
   "metadata": {},
   "source": [
    "# beginning EDA make sure to dummyize subs"
   ]
  },
  {
   "cell_type": "code",
   "execution_count": 150,
   "metadata": {},
   "outputs": [
    {
     "name": "stdout",
     "output_type": "stream",
     "text": [
      "18029\n"
     ]
    }
   ],
   "source": [
    "from collections import Counter\n",
    "results = Counter()\n",
    "df_entertainment['Tokelems'].apply(results.update)\n",
    "# print(results)\n",
    "print(len(results))\n",
    "\n",
    "# set(['someone', 'ft.jgt', 'my', 'is', 'to', 'going', 'place', 'nickname'])"
   ]
  },
  {
   "cell_type": "code",
   "execution_count": 639,
   "metadata": {},
   "outputs": [
    {
     "data": {
      "text/plain": [
       "array(['politics', 'libertarian', 'worldnews', 'offbeat', 'news',\n",
       "       'truereddit', 'conspiracy', 'conservative', 'frugal',\n",
       "       'motorcycles', 'sex', 'drunk', 'food', 'lifehacks', 'guns',\n",
       "       'progresspics', 'askscience', 'science', 'explainlikeimfive',\n",
       "       'askhistorians', 'youshouldknow', 'todayilearned', 'space',\n",
       "       'circlejerk', 'facepalm', 'jokes', 'adviceanimals', 'funny',\n",
       "       'imgoingtohellforthis', 'movies', 'harrypotter', 'music', 'anime',\n",
       "       'comicbooks', 'starwars', 'doctorwho', 'community', 'breakingbad',\n",
       "       'thewalkingdead', 'startrek', 'mylittlepony', 'gameofthrones',\n",
       "       'himym', 'tf2', 'dota2', 'leagueoflegends', 'minecraft', 'pokemon',\n",
       "       'gaming', 'skyrim', 'starcraft'], dtype=object)"
      ]
     },
     "execution_count": 639,
     "metadata": {},
     "output_type": "execute_result"
    }
   ],
   "source": [
    "# subs = Counter()\n",
    "df['Subreddit'].unique()"
   ]
  },
  {
   "cell_type": "code",
   "execution_count": 151,
   "metadata": {},
   "outputs": [],
   "source": [
    "resies = results.most_common(20)\n",
    "resies = dict(resies)\n",
    "resies_mod = dict()\n",
    "for k, v in resies.items():\n",
    "    if v<50000:\n",
    "        resies_mod[k] = v"
   ]
  },
  {
   "cell_type": "code",
   "execution_count": 434,
   "metadata": {},
   "outputs": [
    {
     "data": {
      "text/plain": [
       "Counter({'news': 408716,\n",
       "         'lifestyle': 384494,\n",
       "         'learning': 271179,\n",
       "         'humor': 382197,\n",
       "         'entertainment': 379414,\n",
       "         'television': 321794,\n",
       "         'gaming': 578206})"
      ]
     },
     "execution_count": 434,
     "metadata": {},
     "output_type": "execute_result"
    }
   ],
   "source": [
    "(Counter(df['meta'].values))"
   ]
  },
  {
   "cell_type": "code",
   "execution_count": 179,
   "metadata": {},
   "outputs": [
    {
     "data": {
      "image/png": "[encoded data removed]",
      "text/plain": [
       "<Figure size 576x396 with 1 Axes>"
      ]
     },
     "metadata": {},
     "output_type": "display_data"
    }
   ],
   "source": [
    "\n",
    "plt.bar(resies_mod.keys(), resies_mod.values())\n",
    "plt.xticks(rotation=45)\n",
    "plt.show()\n",
    "\n"
   ]
  },
  {
   "cell_type": "code",
   "execution_count": 73,
   "metadata": {},
   "outputs": [],
   "source": [
    "from sklearn.feature_extraction import text\n",
    "my_stop_words = list(text.ENGLISH_STOP_WORDS)\n",
    "my_stop_words.append('www')\n",
    "more_words_to_hate = ['http','things','thing', 'look', 'looking','lot','list','probably','just','year', 'https', 'well', 'time','like', 'maybe', 've', 'did','does', 'ca','does','got', 'times', 'would', 'need', 'actually', 'already', 'time', 'say', 'net', 'com', 'really', \n",
    "]\n",
    "for i in more_words_to_hate:\n",
    "    if i not in my_stop_words:\n",
    "        my_stop_words.append(i)\n",
    "        \n",
    "        \n",
    "new_stops = ['album','amazing', 'awesome', 'bad', 'best', 'better', 'bit', 'character', 'cool', 'day', 'end', 'episode', 'feel', 'film', 'going', 'good', 'great', 'know', 'life', 'little', 'll', 'looks', 'love', 'make', 'man', 'music', 'new', 'people', 'pretty', 'read', 'right', 'saw', 'scene', 'seen', 'sure', 'think', 'thought', 'want', 'wars', 'way', 'come', 'jpg','10','11','12', 'amp', 'days', 'edit', 'far', 'gets', 'fun', 'getting','let', 'later', 'makes', 'men', 'na','oh', 'op', 'post', 'reddit', 'said', 'remember', 'sorry', 'start', 'started', 'stop', 'tell', 'stuff', 'took', 'try','use', 'used', 'wait', 'wanted', 'week','went', 'yeah', 'yes', 'work', 'world']\n",
    "        \n",
    "for i in my_stop_words:\n",
    "    new_stops.append(i)"
   ]
  },
  {
   "cell_type": "code",
   "execution_count": 82,
   "metadata": {},
   "outputs": [
    {
     "data": {
      "text/plain": [
       "<357672x46 sparse matrix of type '<class 'numpy.float64'>'\n",
       "\twith 348802 stored elements in Compressed Sparse Row format>"
      ]
     },
     "execution_count": 82,
     "metadata": {},
     "output_type": "execute_result"
    }
   ],
   "source": [
    "tfidf_vectorizer = TfidfVectorizer(max_df=0.965, min_df=.015, stop_words=new_stops)\n",
    "tfidf_vectorizer.set_params(ngram_range =(1,2))\n",
    "vectorized_y = tfidf_vectorizer.fit_transform(df_entertainment['Text'].values)\n",
    "\n",
    "vectorized_y"
   ]
  },
  {
   "cell_type": "code",
   "execution_count": 80,
   "metadata": {},
   "outputs": [
    {
     "data": {
      "text/plain": [
       "TfidfVectorizer(analyzer='word', binary=False, decode_error='strict',\n",
       "                dtype=<class 'numpy.float64'>, encoding='utf-8',\n",
       "                input='content', lowercase=True, max_df=0.965,\n",
       "                max_features=None, min_df=0.015, ngram_range=(1, 1), norm='l2',\n",
       "                preprocessor=None, smooth_idf=True,\n",
       "                stop_words=['album', 'amazing', 'awesome', 'bad', 'best',\n",
       "                            'better', 'bit', 'character', 'cool', 'day', 'end',\n",
       "                            'episode', 'feel', 'film', 'going', 'good', 'great',\n",
       "                            'know', 'life', 'little', 'll', 'looks', 'love',\n",
       "                            'make', 'man', 'music', 'new', 'people', 'pretty',\n",
       "                            'read', ...],\n",
       "                strip_accents=None, sublinear_tf=False,\n",
       "                token_pattern='(?u)\\\\b\\\\w\\\\w+\\\\b', tokenizer=None, use_idf=True,\n",
       "                vocabulary=None)"
      ]
     },
     "execution_count": 80,
     "metadata": {},
     "output_type": "execute_result"
    }
   ],
   "source": [
    "tfidf_vectorizer.fit(df_entertainment['Text'])"
   ]
  },
  {
   "cell_type": "code",
   "execution_count": null,
   "metadata": {},
   "outputs": [],
   "source": [
    "tfidf = TfidfVectorizer(sublinear_tf=True, min_df=5, norm='l2', encoding='latin-1', ngram_range=(1, 2), stop_words=new_stops)\n",
    "\n",
    "features = tfidf.fit_transform(df_entertainment['Text']).toarray()\n",
    "\n",
    "labels = df_entertainment['Subreddit']\n",
    "features.shape"
   ]
  },
  {
   "cell_type": "code",
   "execution_count": 67,
   "metadata": {},
   "outputs": [],
   "source": [
    "# tfidf_vectorizer.get_feature_names()[vectorized_y[0].indices[1]]\n"
   ]
  },
  {
   "cell_type": "code",
   "execution_count": 83,
   "metadata": {},
   "outputs": [
    {
     "data": {
      "text/plain": [
       "['anime',\n",
       " 'big',\n",
       " 'black',\n",
       " 'book',\n",
       " 'characters',\n",
       " 'dark',\n",
       " 'deadpool',\n",
       " 'death',\n",
       " 'definitely',\n",
       " 'doing',\n",
       " 'fan',\n",
       " 'favorite',\n",
       " 'force',\n",
       " 'fuck',\n",
       " 'fucking',\n",
       " 'gt',\n",
       " 'guess',\n",
       " 'guy',\n",
       " 'harry',\n",
       " 'hope',\n",
       " 'imgur',\n",
       " 'interesting',\n",
       " 'kanye',\n",
       " 'kind',\n",
       " 'long',\n",
       " 'movie',\n",
       " 'movies',\n",
       " 'myanimelist',\n",
       " 'nice',\n",
       " 'old',\n",
       " 'place',\n",
       " 'point',\n",
       " 'real',\n",
       " 'second',\n",
       " 'series',\n",
       " 'shit',\n",
       " 'song',\n",
       " 'star',\n",
       " 'story',\n",
       " 'trying',\n",
       " 'watch',\n",
       " 'watched',\n",
       " 'watching',\n",
       " 'years',\n",
       " 'youtube',\n",
       " 'youtube watch']"
      ]
     },
     "execution_count": 83,
     "metadata": {},
     "output_type": "execute_result"
    }
   ],
   "source": [
    "tfidf_vectorizer.get_feature_names()"
   ]
  },
  {
   "cell_type": "code",
   "execution_count": null,
   "metadata": {
    "scrolled": true
   },
   "outputs": [],
   "source": [
    "X = df_entertainment.drop\n",
    "\n",
    "X_train, X_test, y_train, y_test = train_test_split(X, y, \n",
    "                                                    test_size=.33,\n",
    "                                                    random_state=0)"
   ]
  },
  {
   "cell_type": "code",
   "execution_count": null,
   "metadata": {},
   "outputs": [],
   "source": []
  },
  {
   "cell_type": "code",
   "execution_count": null,
   "metadata": {},
   "outputs": [],
   "source": [
    "\n"
   ]
  },
  {
   "cell_type": "code",
   "execution_count": null,
   "metadata": {
    "scrolled": true
   },
   "outputs": [],
   "source": []
  },
  {
   "cell_type": "code",
   "execution_count": null,
   "metadata": {},
   "outputs": [],
   "source": []
  },
  {
   "cell_type": "code",
   "execution_count": null,
   "metadata": {},
   "outputs": [],
   "source": []
  },
  {
   "cell_type": "code",
   "execution_count": null,
   "metadata": {},
   "outputs": [],
   "source": []
  },
  {
   "cell_type": "code",
   "execution_count": null,
   "metadata": {},
   "outputs": [],
   "source": []
  },
  {
   "cell_type": "code",
   "execution_count": null,
   "metadata": {},
   "outputs": [],
   "source": []
  },
  {
   "cell_type": "code",
   "execution_count": null,
   "metadata": {},
   "outputs": [],
   "source": []
  },
  {
   "cell_type": "code",
   "execution_count": 17,
   "metadata": {},
   "outputs": [],
   "source": []
  },
  {
   "cell_type": "code",
   "execution_count": 2,
   "metadata": {},
   "outputs": [],
   "source": []
  },
  {
   "cell_type": "code",
   "execution_count": 12,
   "metadata": {},
   "outputs": [],
   "source": []
  },
  {
   "cell_type": "markdown",
   "metadata": {},
   "source": [
    "# NMF"
   ]
  },
  {
   "cell_type": "code",
   "execution_count": 13,
   "metadata": {},
   "outputs": [],
   "source": [
    "tfidf_vectorizer = TfidfVectorizer(max_df=0.95, min_df=2, stop_words='english')\n",
    "\n",
    "vectorized = tfidf_vectorizer.fit_transform(clean_df2['Text'])"
   ]
  },
  {
   "cell_type": "code",
   "execution_count": 14,
   "metadata": {},
   "outputs": [
    {
     "data": {
      "text/plain": [
       "['00',\n",
       " '000',\n",
       " '00000',\n",
       " '0000000031',\n",
       " '0000000642',\n",
       " '00000031',\n",
       " '00001',\n",
       " '00001001',\n",
       " '0000110',\n",
       " '00001g',\n",
       " '0001',\n",
       " '00026',\n",
       " '0004',\n",
       " '00063',\n",
       " '000bike',\n",
       " '000pull',\n",
       " '000sqft',\n",
       " '001',\n",
       " '00100000',\n",
       " '0011',\n",
       " '0015',\n",
       " '001c',\n",
       " '001jpg',\n",
       " '002',\n",
       " '003',\n",
       " '0033',\n",
       " '004',\n",
       " '005',\n",
       " '006225133476456637497',\n",
       " '007',\n",
       " '0079',\n",
       " '0080',\n",
       " '00800',\n",
       " '0088',\n",
       " '008jpg',\n",
       " '009',\n",
       " '00am',\n",
       " '00cst',\n",
       " '00gmt',\n",
       " '00pm',\n",
       " '00s',\n",
       " '01',\n",
       " '010',\n",
       " '01000001',\n",
       " '0103',\n",
       " '01100101',\n",
       " '01101000',\n",
       " '01101100',\n",
       " '01101111',\n",
       " '011915',\n",
       " '013',\n",
       " '014',\n",
       " '0140',\n",
       " '015',\n",
       " '016',\n",
       " '017',\n",
       " '01h29m41s',\n",
       " '01h41m51s',\n",
       " '01jpg',\n",
       " '01k',\n",
       " '02',\n",
       " '020',\n",
       " '021',\n",
       " '02102016',\n",
       " '0217',\n",
       " '0225',\n",
       " '0227',\n",
       " '023',\n",
       " '025',\n",
       " '028',\n",
       " '02933',\n",
       " '02937',\n",
       " '02fo',\n",
       " '02h13m39s',\n",
       " '02h26m08s',\n",
       " '03',\n",
       " '03231',\n",
       " '033',\n",
       " '0343',\n",
       " '036',\n",
       " '037',\n",
       " '038',\n",
       " '039',\n",
       " '03c12578',\n",
       " '03h10m20s',\n",
       " '03x0bu2w9hi',\n",
       " '04',\n",
       " '04042010',\n",
       " '042',\n",
       " '04e24f49b4d7b52aamp',\n",
       " '04e88fed000005dc',\n",
       " '04gif',\n",
       " '04jpg',\n",
       " '04mnf1ydnxi',\n",
       " '04putin',\n",
       " '05',\n",
       " '050',\n",
       " '0500',\n",
       " '05242014',\n",
       " '05am',\n",
       " '05pm',\n",
       " '05x02',\n",
       " '06',\n",
       " '062',\n",
       " '067',\n",
       " '07',\n",
       " '0708',\n",
       " '073',\n",
       " '075',\n",
       " '075l',\n",
       " '078',\n",
       " '07l',\n",
       " '07the',\n",
       " '08',\n",
       " '08012008',\n",
       " '0808',\n",
       " '081',\n",
       " '082',\n",
       " '0844',\n",
       " '0849803058586amp',\n",
       " '085',\n",
       " '086',\n",
       " '08am',\n",
       " '08th',\n",
       " '09',\n",
       " '093haunterpng',\n",
       " '094',\n",
       " '099',\n",
       " '09999495c',\n",
       " '099c',\n",
       " '09begin',\n",
       " '09could',\n",
       " '09deconstructing',\n",
       " '09red4png',\n",
       " '09spice',\n",
       " '0a',\n",
       " '0ad4',\n",
       " '0ahukewi496emzkahvbmw4khsc5d1oqauibigb',\n",
       " '0ahukewibq4wlhpkahuusgmkhqguax4q7akiyaamp',\n",
       " '0ahukewifml8vkahul9wmkhbfgdpwq6aeihdaa',\n",
       " '0ahukewilrrsnbkahuutgmkhz2tabuqauibygcamp',\n",
       " '0ahukewipncxdlv3kahui92mkhqhcduaqauibygc',\n",
       " '0ahukewix1qqcxvzkahvinimkheodcj4qfghamauamp',\n",
       " '0ahukewixiyr12zkahvesimkhbilacgqauibigb',\n",
       " '0ahukewjpicqtnfrkahvcdz4khugnbzcqauibigbamp',\n",
       " '0ais',\n",
       " '0amp',\n",
       " '0ao4tfe0i',\n",
       " '0aon',\n",
       " '0apleas',\n",
       " '0bmjtnnsa6i',\n",
       " '0c',\n",
       " '0ctus',\n",
       " '0d',\n",
       " '0dand',\n",
       " '0dpb00004w37m',\n",
       " '0e71kwwe5fk',\n",
       " '0esp',\n",
       " '0gizg8nw40k',\n",
       " '0hth4u65zfc',\n",
       " '0hurmjk6ek',\n",
       " '0i6yfdgdoc4',\n",
       " '0isnj',\n",
       " '0j2qddbelmi',\n",
       " '0k725l92mk4',\n",
       " '0kyy0',\n",
       " '0m15s',\n",
       " '0mxe1t8xrca',\n",
       " '0newwe',\n",
       " '0o',\n",
       " '0o0',\n",
       " '0ons5cex3yiq5e1ewrxrxwxp',\n",
       " '0p526x29654282534876638102261320884288njpg',\n",
       " '0qwp6vgeeui',\n",
       " '0r9whr',\n",
       " '0rha9new82bvtqizk',\n",
       " '0s',\n",
       " '0scn90hayhu',\n",
       " '0w20',\n",
       " '0x',\n",
       " '0x00000',\n",
       " '0x0000000000000001dc41f4',\n",
       " '0x000000000000002191924',\n",
       " '0x22775b5bd359d255',\n",
       " '0xe',\n",
       " '0zrooeft8gwamp',\n",
       " '10',\n",
       " '100',\n",
       " '1000',\n",
       " '10000',\n",
       " '100000',\n",
       " '1000000',\n",
       " '10000000',\n",
       " '10000amp',\n",
       " '10000ft',\n",
       " '1000hr',\n",
       " '1000m',\n",
       " '1000mile',\n",
       " '1000png',\n",
       " '1000s',\n",
       " '1000th',\n",
       " '1000x',\n",
       " '1001',\n",
       " '10015',\n",
       " '1002',\n",
       " '1005',\n",
       " '100777comnode1836',\n",
       " '100amp',\n",
       " '100ft',\n",
       " '100g',\n",
       " '100hz',\n",
       " '100k',\n",
       " '100km',\n",
       " '100lbs',\n",
       " '100ll',\n",
       " '100m',\n",
       " '100mbit',\n",
       " '100mbps',\n",
       " '100mbs',\n",
       " '100ml',\n",
       " '100mo',\n",
       " '100month',\n",
       " '100mph',\n",
       " '100ms',\n",
       " '100right',\n",
       " '100s',\n",
       " '100th',\n",
       " '100wpm',\n",
       " '100x',\n",
       " '101',\n",
       " '1010',\n",
       " '10100',\n",
       " '1010s',\n",
       " '1011',\n",
       " '1012',\n",
       " '101257jep293',\n",
       " '101341448',\n",
       " '1016',\n",
       " '10186621amp',\n",
       " '101html',\n",
       " '102',\n",
       " '1022',\n",
       " '10225',\n",
       " '1024',\n",
       " '1024mb',\n",
       " '1024x576jpg',\n",
       " '1024x768jpg',\n",
       " '1024x778jpg',\n",
       " '1026411',\n",
       " '103',\n",
       " '104',\n",
       " '10400amp',\n",
       " '104046trd2015784463',\n",
       " '1040a',\n",
       " '1040ez',\n",
       " '104g',\n",
       " '105',\n",
       " '1050x10000jpg',\n",
       " '1052',\n",
       " '1054',\n",
       " '1056',\n",
       " '10565',\n",
       " '105k',\n",
       " '106',\n",
       " '1063',\n",
       " '1068',\n",
       " '107',\n",
       " '108',\n",
       " '1080',\n",
       " '1080fp',\n",
       " '1080p',\n",
       " '1084',\n",
       " '108k',\n",
       " '108kg',\n",
       " '109',\n",
       " '1099',\n",
       " '10am',\n",
       " '10amp',\n",
       " '10c',\n",
       " '10d',\n",
       " '10ft',\n",
       " '10gkg',\n",
       " '10hour',\n",
       " '10ish',\n",
       " '10k',\n",
       " '10kyear',\n",
       " '10lbs',\n",
       " '10m',\n",
       " '10m7s',\n",
       " '10mbit',\n",
       " '10mg',\n",
       " '10mm',\n",
       " '10mo',\n",
       " '10month',\n",
       " '10mph',\n",
       " '10october',\n",
       " '10player',\n",
       " '10pm',\n",
       " '10recovery',\n",
       " '10rubk4lwpo',\n",
       " '10s',\n",
       " '10six',\n",
       " '10th',\n",
       " '10v10',\n",
       " '10we',\n",
       " '10x',\n",
       " '10x10',\n",
       " '10x12',\n",
       " '10x32mm',\n",
       " '10y',\n",
       " '10yr',\n",
       " '11',\n",
       " '110',\n",
       " '1100',\n",
       " '11000th',\n",
       " '1100yrd',\n",
       " '1109580',\n",
       " '110f',\n",
       " '110g',\n",
       " '110gr',\n",
       " '110th',\n",
       " '111',\n",
       " '1110',\n",
       " '111111',\n",
       " '1114',\n",
       " '112',\n",
       " '112014',\n",
       " '112263',\n",
       " '1125',\n",
       " '112k',\n",
       " '112lbs',\n",
       " '113',\n",
       " '113028',\n",
       " '11329',\n",
       " '11356780',\n",
       " '1137035',\n",
       " '114',\n",
       " '114th',\n",
       " '115',\n",
       " '115f',\n",
       " '116',\n",
       " '1160215000441html',\n",
       " '1163',\n",
       " '117',\n",
       " '117567',\n",
       " '118',\n",
       " '1181208',\n",
       " '1182',\n",
       " '118921',\n",
       " '119',\n",
       " '119338',\n",
       " '11935',\n",
       " '119361',\n",
       " '1195',\n",
       " '119927',\n",
       " '11999',\n",
       " '11c',\n",
       " '11d',\n",
       " '11e5',\n",
       " '11jpg',\n",
       " '11k',\n",
       " '11lb',\n",
       " '11m30s',\n",
       " '11mm',\n",
       " '11pdf',\n",
       " '11pm',\n",
       " '11s',\n",
       " '11th',\n",
       " '11year',\n",
       " '12',\n",
       " '120',\n",
       " '1200',\n",
       " '12000',\n",
       " '12000n',\n",
       " '1206050012',\n",
       " '120hp',\n",
       " '120ish',\n",
       " '120k',\n",
       " '120ml',\n",
       " '120v',\n",
       " '121',\n",
       " '1211',\n",
       " '121241684',\n",
       " '121494526896',\n",
       " '12180',\n",
       " '122',\n",
       " '12222013',\n",
       " '122915',\n",
       " '123',\n",
       " '123026963rect9zm',\n",
       " '1232',\n",
       " '1238s',\n",
       " '124',\n",
       " '1240486975amp',\n",
       " '1244',\n",
       " '125',\n",
       " '1250',\n",
       " '12509309',\n",
       " '1250km',\n",
       " '12522544',\n",
       " '12533153',\n",
       " '1253amp',\n",
       " '125425',\n",
       " '125cc',\n",
       " '125f',\n",
       " '125lbs',\n",
       " '125m40s',\n",
       " '125mbps',\n",
       " '125mbs',\n",
       " '125mm',\n",
       " '125rr',\n",
       " '126',\n",
       " '127',\n",
       " '1273',\n",
       " '1275400',\n",
       " '127eq',\n",
       " '127f0a1c000005dc',\n",
       " '127kg',\n",
       " '128',\n",
       " '1280amp',\n",
       " '128gb',\n",
       " '128x128',\n",
       " '129',\n",
       " '1299',\n",
       " '12999',\n",
       " '12am',\n",
       " '12amp',\n",
       " '12anti',\n",
       " '12g',\n",
       " '12ga',\n",
       " '12gb',\n",
       " '12guag',\n",
       " '12hr',\n",
       " '12hrs',\n",
       " '12i',\n",
       " '12k',\n",
       " '12mo',\n",
       " '12pm',\n",
       " '12pound',\n",
       " '12s',\n",
       " '12t',\n",
       " '12th',\n",
       " '12v',\n",
       " '12walking',\n",
       " '12wasps',\n",
       " '12x',\n",
       " '12x18x54',\n",
       " '12yo',\n",
       " '13',\n",
       " '130',\n",
       " '1300',\n",
       " '13000',\n",
       " '1300s',\n",
       " '13010580',\n",
       " '13090',\n",
       " '130f',\n",
       " '130k',\n",
       " '130lbs',\n",
       " '131',\n",
       " '1312',\n",
       " '1315',\n",
       " '1318',\n",
       " '13194amp',\n",
       " '132',\n",
       " '1322',\n",
       " '13224046',\n",
       " '132277',\n",
       " '132277x20',\n",
       " '1324',\n",
       " '133',\n",
       " '13356391',\n",
       " '134',\n",
       " '13434751',\n",
       " '1343545538',\n",
       " '13448514',\n",
       " '135',\n",
       " '1350',\n",
       " '1354s',\n",
       " '135k',\n",
       " '135lb',\n",
       " '135mm',\n",
       " '136',\n",
       " '1366',\n",
       " '136m35s',\n",
       " '137',\n",
       " '1379349204',\n",
       " '138',\n",
       " '139',\n",
       " '1390amp',\n",
       " '13999',\n",
       " '13amp',\n",
       " '13k',\n",
       " '13ksub',\n",
       " '13s',\n",
       " '13th',\n",
       " '13x12',\n",
       " '14',\n",
       " '140',\n",
       " '1400',\n",
       " '140056',\n",
       " '140671',\n",
       " '140f',\n",
       " '140ish',\n",
       " '140s',\n",
       " '140usd',\n",
       " '141',\n",
       " '1411',\n",
       " '1415',\n",
       " '141905360607',\n",
       " '142',\n",
       " '14200',\n",
       " '14204',\n",
       " '14215amp',\n",
       " '1422amp',\n",
       " '1426',\n",
       " '143',\n",
       " '143171',\n",
       " '1433',\n",
       " '144',\n",
       " '1440p30',\n",
       " '1441dpb00a9lvbb2',\n",
       " '14423',\n",
       " '1443184818',\n",
       " '1446',\n",
       " '1446645852',\n",
       " '1448amp',\n",
       " '144986',\n",
       " '144hz',\n",
       " '145',\n",
       " '1450',\n",
       " '1453',\n",
       " '1454862865amp',\n",
       " '1454870362amp',\n",
       " '1454875833amp',\n",
       " '1454972824amp',\n",
       " '1455225579amp',\n",
       " '1455225749amp',\n",
       " '1455225921amp',\n",
       " '1455226006amp',\n",
       " '1455373464amp',\n",
       " '1455522000000',\n",
       " '1455558700amp',\n",
       " '1455586388amp',\n",
       " '1455593917amp',\n",
       " '1455602400order',\n",
       " '1455610887amp',\n",
       " '1455614906amp',\n",
       " '1455632384amp',\n",
       " '1455632396amp',\n",
       " '1455637365amp',\n",
       " '1455638359amp',\n",
       " '1455642117amp',\n",
       " '1455651759amp',\n",
       " '1455654181amp',\n",
       " '1455661205amp',\n",
       " '1455667265amp',\n",
       " '1455667525',\n",
       " '1455672033',\n",
       " '1455672264',\n",
       " '1455687472amp',\n",
       " '1455687517amp',\n",
       " '1459',\n",
       " '146',\n",
       " '146153',\n",
       " '1462641564099c3642460399d6cb8eb23c57eb7fe4',\n",
       " '147',\n",
       " '147psi',\n",
       " '148',\n",
       " '1485',\n",
       " '1487502',\n",
       " '1488',\n",
       " '149',\n",
       " '1490',\n",
       " '1492',\n",
       " '1493gb',\n",
       " '1494',\n",
       " '1495',\n",
       " '1499',\n",
       " '14992',\n",
       " '149lbs',\n",
       " '149s',\n",
       " '14cm',\n",
       " '14firedog',\n",
       " '14i',\n",
       " '14ish',\n",
       " '14k',\n",
       " '14minut',\n",
       " '14mm',\n",
       " '14mph',\n",
       " '14s',\n",
       " '14t',\n",
       " '14t1tatbtmc',\n",
       " '14th',\n",
       " '14v',\n",
       " '15',\n",
       " '150',\n",
       " '1500',\n",
       " '15000',\n",
       " '1500sqft',\n",
       " '1500w',\n",
       " '15015',\n",
       " '1505',\n",
       " '150as',\n",
       " '150cc',\n",
       " '150g',\n",
       " '150ish',\n",
       " '150k',\n",
       " '150kph',\n",
       " '150lbs',\n",
       " '150m',\n",
       " '150mb',\n",
       " '150month',\n",
       " '150shigh',\n",
       " '150usd',\n",
       " '151',\n",
       " '1510',\n",
       " '151017225414484html',\n",
       " '151200',\n",
       " '151201',\n",
       " '1514',\n",
       " '151547',\n",
       " '151721',\n",
       " '151geothermal',\n",
       " '152',\n",
       " '15209amp',\n",
       " '1521',\n",
       " '1522',\n",
       " '152347',\n",
       " '1529',\n",
       " '153',\n",
       " '153247',\n",
       " '153365',\n",
       " '1534',\n",
       " '1536',\n",
       " '153747',\n",
       " '153791',\n",
       " '154',\n",
       " '1543925',\n",
       " '155',\n",
       " '15513',\n",
       " '15516',\n",
       " '1556',\n",
       " '1559',\n",
       " '155k',\n",
       " '155lbs',\n",
       " '156',\n",
       " '157',\n",
       " '158',\n",
       " '159',\n",
       " '1594',\n",
       " '1598',\n",
       " '1599',\n",
       " '1599dozen',\n",
       " '1599dz',\n",
       " '15e',\n",
       " '15f',\n",
       " '15gb',\n",
       " '15hour',\n",
       " '15ish',\n",
       " '15k',\n",
       " '15line',\n",
       " '15m',\n",
       " '15mbit',\n",
       " '15mbps',\n",
       " '15minut',\n",
       " '15mo',\n",
       " '15mph',\n",
       " '15pm',\n",
       " '15s',\n",
       " '15th',\n",
       " '15w45a',\n",
       " '15w47c',\n",
       " '15x',\n",
       " '15x10',\n",
       " '15x12',\n",
       " '15x20',\n",
       " '15yr',\n",
       " '16',\n",
       " '160',\n",
       " '1600',\n",
       " '1600month',\n",
       " '1600s',\n",
       " '1600x900',\n",
       " '1602',\n",
       " '160210htm',\n",
       " '160lbs',\n",
       " '160mb',\n",
       " '160th',\n",
       " '161',\n",
       " '1613',\n",
       " '1614',\n",
       " '1615141312',\n",
       " '1616',\n",
       " '1617',\n",
       " '161amp',\n",
       " '162',\n",
       " '16224',\n",
       " '163',\n",
       " '164',\n",
       " '16427247',\n",
       " '1645',\n",
       " '1649',\n",
       " '165',\n",
       " '1654',\n",
       " '1657',\n",
       " '165f',\n",
       " '166',\n",
       " '1666',\n",
       " '166787699',\n",
       " '1668',\n",
       " '167',\n",
       " '16711421676',\n",
       " '167k',\n",
       " '168',\n",
       " '1680x1050',\n",
       " '169',\n",
       " '16907oz',\n",
       " '1694961394068436',\n",
       " '1695',\n",
       " '1698',\n",
       " '1699',\n",
       " '169lbs',\n",
       " '16amp',\n",
       " '16ga',\n",
       " '16gb',\n",
       " '16hobbits',\n",
       " '16ichigo',\n",
       " '16ish',\n",
       " '16k',\n",
       " '16lb',\n",
       " '16m25s',\n",
       " '16m34s',\n",
       " '16mb',\n",
       " '16th',\n",
       " '16vs16',\n",
       " '16w07a',\n",
       " '16w07b',\n",
       " '16x16',\n",
       " '16yr',\n",
       " '17',\n",
       " '170',\n",
       " '1700',\n",
       " '1700s',\n",
       " '1701',\n",
       " '170146673html',\n",
       " '170579',\n",
       " '1706',\n",
       " '17060',\n",
       " '170ish',\n",
       " '170k',\n",
       " '170lbs',\n",
       " '171',\n",
       " '1710',\n",
       " '1713',\n",
       " '1718',\n",
       " '1719',\n",
       " '172',\n",
       " '173',\n",
       " '1737',\n",
       " '1738255686',\n",
       " '173860jpg',\n",
       " '173ish',\n",
       " '174',\n",
       " '17401',\n",
       " '1747',\n",
       " '175',\n",
       " '1750',\n",
       " '1751255050',\n",
       " '1753',\n",
       " '1756',\n",
       " '1757323650',\n",
       " '1758019058',\n",
       " '1758147495',\n",
       " '176',\n",
       " '176193149',\n",
       " '1763',\n",
       " '1769',\n",
       " '176x176',\n",
       " '177',\n",
       " '1772',\n",
       " '1773',\n",
       " '177792',\n",
       " '178',\n",
       " '1781',\n",
       " '1783zdata',\n",
       " '1785',\n",
       " '17873amp',\n",
       " '17874amp',\n",
       " '1788',\n",
       " '1789',\n",
       " '179',\n",
       " '1790',\n",
       " '1795',\n",
       " '1796',\n",
       " '1799',\n",
       " '17999',\n",
       " '17amp',\n",
       " '17artificial',\n",
       " '17f',\n",
       " '17gb',\n",
       " '17hmr',\n",
       " '17jan',\n",
       " '17k',\n",
       " '17mo',\n",
       " '17mph',\n",
       " '17th',\n",
       " '17trillion',\n",
       " '18',\n",
       " '180',\n",
       " '1800',\n",
       " '18000',\n",
       " '1800mo',\n",
       " '1800month',\n",
       " '18056',\n",
       " '1809',\n",
       " '180f',\n",
       " '180k',\n",
       " '180lbs',\n",
       " '180yr',\n",
       " '181',\n",
       " '1815',\n",
       " '1816',\n",
       " '181k',\n",
       " '182',\n",
       " '1820',\n",
       " '1828',\n",
       " '1829',\n",
       " '18291523',\n",
       " '183',\n",
       " '1830',\n",
       " '1837',\n",
       " '183lbs',\n",
       " '184',\n",
       " '184488',\n",
       " '1845',\n",
       " '18450',\n",
       " '184500',\n",
       " '18451',\n",
       " '1847',\n",
       " '185',\n",
       " '1850',\n",
       " '1850s',\n",
       " '1851',\n",
       " '1853',\n",
       " '1857',\n",
       " '1859',\n",
       " '186',\n",
       " '1860',\n",
       " '1860s',\n",
       " '1865',\n",
       " '18650',\n",
       " '1866',\n",
       " '186lbs',\n",
       " '187',\n",
       " '1870',\n",
       " '1873',\n",
       " '1874',\n",
       " '188',\n",
       " '1888',\n",
       " '1889',\n",
       " '188lbs',\n",
       " '189',\n",
       " '1890s',\n",
       " '18911',\n",
       " '1894',\n",
       " '1899',\n",
       " '189lbs',\n",
       " '18bn',\n",
       " '18g',\n",
       " '18k',\n",
       " '18m34s',\n",
       " '18mm',\n",
       " '18month',\n",
       " '18pm',\n",
       " '18s',\n",
       " '18th',\n",
       " '19',\n",
       " '190',\n",
       " '1900',\n",
       " '1900s',\n",
       " '190303a3',\n",
       " '1904',\n",
       " '19052526',\n",
       " '1907',\n",
       " '1907500',\n",
       " '190lbs',\n",
       " '190mbs',\n",
       " '190s',\n",
       " '191',\n",
       " '1910',\n",
       " '1911',\n",
       " '1911s',\n",
       " '1913',\n",
       " '1916',\n",
       " '1917',\n",
       " '1918',\n",
       " '191919',\n",
       " '192',\n",
       " '1920',\n",
       " '192000',\n",
       " '1920amp',\n",
       " '1920s',\n",
       " '1920x1080',\n",
       " '1920x1080jpg',\n",
       " '1921',\n",
       " '1922',\n",
       " '192332',\n",
       " '1925',\n",
       " '1927',\n",
       " '1929',\n",
       " '193',\n",
       " '1930',\n",
       " '1930s',\n",
       " '1932',\n",
       " '1933',\n",
       " '1934',\n",
       " '1936',\n",
       " '1937',\n",
       " '1938',\n",
       " '1939',\n",
       " '194',\n",
       " '1940',\n",
       " '1940s',\n",
       " '1941',\n",
       " '1942',\n",
       " '1943',\n",
       " '1944',\n",
       " '1945',\n",
       " '1946',\n",
       " '1947',\n",
       " '1948',\n",
       " '1949',\n",
       " '195',\n",
       " '1950',\n",
       " '1950s',\n",
       " '1951',\n",
       " '1952',\n",
       " '1953',\n",
       " '1953634',\n",
       " '1954',\n",
       " '195429577',\n",
       " '1955',\n",
       " '19550',\n",
       " '1956',\n",
       " '1957',\n",
       " '1958',\n",
       " '1959',\n",
       " '196',\n",
       " '1960',\n",
       " '1960s',\n",
       " '1961',\n",
       " '1962',\n",
       " '1963',\n",
       " '1964',\n",
       " '1965',\n",
       " '1966',\n",
       " '1967',\n",
       " '1968',\n",
       " '1969',\n",
       " '197',\n",
       " '1970',\n",
       " '19702',\n",
       " '1970s',\n",
       " '1971',\n",
       " '1972',\n",
       " '1973',\n",
       " '1974',\n",
       " '1975',\n",
       " '1976',\n",
       " '1977',\n",
       " '1978',\n",
       " '1979',\n",
       " '198',\n",
       " '1980',\n",
       " '1980s',\n",
       " '1981',\n",
       " '1982',\n",
       " '1983',\n",
       " '19831913',\n",
       " '1984',\n",
       " '1985',\n",
       " '1986',\n",
       " '1987',\n",
       " '1988',\n",
       " '1989',\n",
       " '199',\n",
       " '1990',\n",
       " '1990l0496',\n",
       " '1990now',\n",
       " '1990s',\n",
       " '1991',\n",
       " '1992',\n",
       " '1993',\n",
       " '1994',\n",
       " '1995',\n",
       " '1995ish',\n",
       " '1996',\n",
       " '1997',\n",
       " '1998',\n",
       " '1999',\n",
       " ...]"
      ]
     },
     "execution_count": 14,
     "metadata": {},
     "output_type": "execute_result"
    }
   ],
   "source": [
    "tfidf_vectorizer.get_feature_names()"
   ]
  },
  {
   "cell_type": "code",
   "execution_count": 29,
   "metadata": {},
   "outputs": [],
   "source": [
    "from sklearn.decomposition import NMF\n",
    "\n",
    "model = NMF(n_components=2, init='random', random_state=0)\n",
    "W = model.fit_transform(vectorized)\n",
    "H = model.components_\n",
    "\n",
    "def fit_nmf(r):\n",
    "    nmf = NMF(n_components=r)\n",
    "    nmf.fit(vectorized)\n",
    "    W = nmf.transform(vectorized)\n",
    "    H = nmf.components_\n",
    "    return nmf.reconstruction_err_"
   ]
  },
  {
   "cell_type": "code",
   "execution_count": 28,
   "metadata": {},
   "outputs": [
    {
     "data": {
      "text/plain": [
       "<2497636x49076 sparse matrix of type '<class 'numpy.float64'>'\n",
       "\twith 34722856 stored elements in Compressed Sparse Row format>"
      ]
     },
     "execution_count": 28,
     "metadata": {},
     "output_type": "execute_result"
    }
   ],
   "source": [
    "vectorized"
   ]
  },
  {
   "cell_type": "code",
   "execution_count": 30,
   "metadata": {},
   "outputs": [
    {
     "data": {
      "text/plain": [
       "Text(0, 0.5, 'Reconstruction Errror')"
      ]
     },
     "execution_count": 30,
     "metadata": {},
     "output_type": "execute_result"
    },
    {
     "data": {
      "image/png": "[encoded data removed]",
      "text/plain": [
       "<Figure size 576x396 with 1 Axes>"
      ]
     },
     "metadata": {},
     "output_type": "display_data"
    }
   ],
   "source": [
    "error = [fit_nmf(i) for i in range(1,6)]\n",
    "plt.plot(range(1,6), error)\n",
    "plt.xticks(range(1, 6))\n",
    "plt.xlabel('r')\n",
    "plt.ylabel('Reconstruction Errror')"
   ]
  },
  {
   "cell_type": "markdown",
   "metadata": {},
   "source": [
    "# Random Forest "
   ]
  },
  {
   "cell_type": "code",
   "execution_count": 46,
   "metadata": {},
   "outputs": [],
   "source": [
    "clean_df = clean_df.dropna(axis=0)"
   ]
  },
  {
   "cell_type": "code",
   "execution_count": 97,
   "metadata": {},
   "outputs": [
    {
     "data": {
      "text/html": [
       "<div>\n",
       "<style scoped>\n",
       "    .dataframe tbody tr th:only-of-type {\n",
       "        vertical-align: middle;\n",
       "    }\n",
       "\n",
       "    .dataframe tbody tr th {\n",
       "        vertical-align: top;\n",
       "    }\n",
       "\n",
       "    .dataframe thead th {\n",
       "        text-align: right;\n",
       "    }\n",
       "</style>\n",
       "<table border=\"1\" class=\"dataframe\">\n",
       "  <thead>\n",
       "    <tr style=\"text-align: right;\">\n",
       "      <th></th>\n",
       "      <th>Text</th>\n",
       "      <th>ID</th>\n",
       "      <th>Subreddit</th>\n",
       "      <th>meta</th>\n",
       "      <th>Time</th>\n",
       "      <th>Username</th>\n",
       "      <th>Upvotes</th>\n",
       "      <th>Downvotes</th>\n",
       "      <th>Author_link_karma</th>\n",
       "      <th>Author_Comment_Karma</th>\n",
       "      <th>Author_has_gold?</th>\n",
       "    </tr>\n",
       "  </thead>\n",
       "  <tbody>\n",
       "    <tr>\n",
       "      <th>1306620</th>\n",
       "      <td>wait see whoop intergalact alien butt rogu who...</td>\n",
       "      <td>d02nuw8</td>\n",
       "      <td>movies</td>\n",
       "      <td>entertainment</td>\n",
       "      <td>1.455673e+09</td>\n",
       "      <td>cmonster1697</td>\n",
       "      <td>1.0</td>\n",
       "      <td>0.0</td>\n",
       "      <td>488.0</td>\n",
       "      <td>8426.0</td>\n",
       "      <td>0.0</td>\n",
       "    </tr>\n",
       "    <tr>\n",
       "      <th>1306621</th>\n",
       "      <td>amaz cinematograph best ever</td>\n",
       "      <td>d02q51i</td>\n",
       "      <td>movies</td>\n",
       "      <td>entertainment</td>\n",
       "      <td>1.455676e+09</td>\n",
       "      <td>BrodoFagginsIsMyName</td>\n",
       "      <td>1.0</td>\n",
       "      <td>0.0</td>\n",
       "      <td>1.0</td>\n",
       "      <td>457.0</td>\n",
       "      <td>0.0</td>\n",
       "    </tr>\n",
       "    <tr>\n",
       "      <th>1306622</th>\n",
       "      <td>final life chang</td>\n",
       "      <td>d02uuym</td>\n",
       "      <td>movies</td>\n",
       "      <td>entertainment</td>\n",
       "      <td>1.455684e+09</td>\n",
       "      <td>BrodoFagginsIsMyName</td>\n",
       "      <td>3.0</td>\n",
       "      <td>0.0</td>\n",
       "      <td>1.0</td>\n",
       "      <td>457.0</td>\n",
       "      <td>0.0</td>\n",
       "    </tr>\n",
       "    <tr>\n",
       "      <th>1306623</th>\n",
       "      <td>awesom thank</td>\n",
       "      <td>d02ftgc</td>\n",
       "      <td>movies</td>\n",
       "      <td>entertainment</td>\n",
       "      <td>1.455661e+09</td>\n",
       "      <td>JeopardyThis</td>\n",
       "      <td>3.0</td>\n",
       "      <td>0.0</td>\n",
       "      <td>1.0</td>\n",
       "      <td>-7.0</td>\n",
       "      <td>0.0</td>\n",
       "    </tr>\n",
       "    <tr>\n",
       "      <th>1306624</th>\n",
       "      <td>tom cruis charact john anderton kidnap pre-cog...</td>\n",
       "      <td>465qz3</td>\n",
       "      <td>movies</td>\n",
       "      <td>entertainment</td>\n",
       "      <td>1.455672e+09</td>\n",
       "      <td>tangowhiskey33</td>\n",
       "      <td>16.0</td>\n",
       "      <td>0.0</td>\n",
       "      <td>7346.0</td>\n",
       "      <td>6138.0</td>\n",
       "      <td>0.0</td>\n",
       "    </tr>\n",
       "    <tr>\n",
       "      <th>...</th>\n",
       "      <td>...</td>\n",
       "      <td>...</td>\n",
       "      <td>...</td>\n",
       "      <td>...</td>\n",
       "      <td>...</td>\n",
       "      <td>...</td>\n",
       "      <td>...</td>\n",
       "      <td>...</td>\n",
       "      <td>...</td>\n",
       "      <td>...</td>\n",
       "      <td>...</td>\n",
       "    </tr>\n",
       "    <tr>\n",
       "      <th>1664682</th>\n",
       "      <td>love</td>\n",
       "      <td>d026lj4</td>\n",
       "      <td>harrypotter</td>\n",
       "      <td>entertainment</td>\n",
       "      <td>1.455648e+09</td>\n",
       "      <td>elbowsss</td>\n",
       "      <td>2.0</td>\n",
       "      <td>0.0</td>\n",
       "      <td>2212.0</td>\n",
       "      <td>8637.0</td>\n",
       "      <td>1.0</td>\n",
       "    </tr>\n",
       "    <tr>\n",
       "      <th>1664683</th>\n",
       "      <td>type ra hope manag get select current ras grea...</td>\n",
       "      <td>d02qfaf</td>\n",
       "      <td>harrypotter</td>\n",
       "      <td>entertainment</td>\n",
       "      <td>1.455677e+09</td>\n",
       "      <td>DEP61</td>\n",
       "      <td>2.0</td>\n",
       "      <td>0.0</td>\n",
       "      <td>5581.0</td>\n",
       "      <td>13488.0</td>\n",
       "      <td>0.0</td>\n",
       "    </tr>\n",
       "    <tr>\n",
       "      <th>1664684</th>\n",
       "      <td>bulletin board month p http iimgurcom7h3pfuyjpg</td>\n",
       "      <td>d02rem2</td>\n",
       "      <td>harrypotter</td>\n",
       "      <td>entertainment</td>\n",
       "      <td>1.455678e+09</td>\n",
       "      <td>laneebird</td>\n",
       "      <td>2.0</td>\n",
       "      <td>0.0</td>\n",
       "      <td>43.0</td>\n",
       "      <td>8.0</td>\n",
       "      <td>0.0</td>\n",
       "    </tr>\n",
       "    <tr>\n",
       "      <th>1664685</th>\n",
       "      <td>excel would pleas find first day great job</td>\n",
       "      <td>d02ecuj</td>\n",
       "      <td>harrypotter</td>\n",
       "      <td>entertainment</td>\n",
       "      <td>1.455659e+09</td>\n",
       "      <td>GoodniteMush</td>\n",
       "      <td>1.0</td>\n",
       "      <td>0.0</td>\n",
       "      <td>1.0</td>\n",
       "      <td>681.0</td>\n",
       "      <td>0.0</td>\n",
       "    </tr>\n",
       "    <tr>\n",
       "      <th>1664686</th>\n",
       "      <td>ra favorit bulletin board ever univers like ho...</td>\n",
       "      <td>d02w08k</td>\n",
       "      <td>harrypotter</td>\n",
       "      <td>entertainment</td>\n",
       "      <td>1.455687e+09</td>\n",
       "      <td>billclintonsbunghole</td>\n",
       "      <td>1.0</td>\n",
       "      <td>0.0</td>\n",
       "      <td>11.0</td>\n",
       "      <td>1156.0</td>\n",
       "      <td>0.0</td>\n",
       "    </tr>\n",
       "  </tbody>\n",
       "</table>\n",
       "<p>356493 rows × 11 columns</p>\n",
       "</div>"
      ],
      "text/plain": [
       "                                                      Text       ID  \\\n",
       "1306620  wait see whoop intergalact alien butt rogu who...  d02nuw8   \n",
       "1306621                       amaz cinematograph best ever  d02q51i   \n",
       "1306622                                   final life chang  d02uuym   \n",
       "1306623                                       awesom thank  d02ftgc   \n",
       "1306624  tom cruis charact john anderton kidnap pre-cog...   465qz3   \n",
       "...                                                    ...      ...   \n",
       "1664682                                               love  d026lj4   \n",
       "1664683  type ra hope manag get select current ras grea...  d02qfaf   \n",
       "1664684    bulletin board month p http iimgurcom7h3pfuyjpg  d02rem2   \n",
       "1664685         excel would pleas find first day great job  d02ecuj   \n",
       "1664686  ra favorit bulletin board ever univers like ho...  d02w08k   \n",
       "\n",
       "           Subreddit           meta          Time              Username  \\\n",
       "1306620       movies  entertainment  1.455673e+09          cmonster1697   \n",
       "1306621       movies  entertainment  1.455676e+09  BrodoFagginsIsMyName   \n",
       "1306622       movies  entertainment  1.455684e+09  BrodoFagginsIsMyName   \n",
       "1306623       movies  entertainment  1.455661e+09          JeopardyThis   \n",
       "1306624       movies  entertainment  1.455672e+09        tangowhiskey33   \n",
       "...              ...            ...           ...                   ...   \n",
       "1664682  harrypotter  entertainment  1.455648e+09              elbowsss   \n",
       "1664683  harrypotter  entertainment  1.455677e+09                 DEP61   \n",
       "1664684  harrypotter  entertainment  1.455678e+09             laneebird   \n",
       "1664685  harrypotter  entertainment  1.455659e+09          GoodniteMush   \n",
       "1664686  harrypotter  entertainment  1.455687e+09  billclintonsbunghole   \n",
       "\n",
       "         Upvotes  Downvotes  Author_link_karma  Author_Comment_Karma  \\\n",
       "1306620      1.0        0.0              488.0                8426.0   \n",
       "1306621      1.0        0.0                1.0                 457.0   \n",
       "1306622      3.0        0.0                1.0                 457.0   \n",
       "1306623      3.0        0.0                1.0                  -7.0   \n",
       "1306624     16.0        0.0             7346.0                6138.0   \n",
       "...          ...        ...                ...                   ...   \n",
       "1664682      2.0        0.0             2212.0                8637.0   \n",
       "1664683      2.0        0.0             5581.0               13488.0   \n",
       "1664684      2.0        0.0               43.0                   8.0   \n",
       "1664685      1.0        0.0                1.0                 681.0   \n",
       "1664686      1.0        0.0               11.0                1156.0   \n",
       "\n",
       "         Author_has_gold?  \n",
       "1306620               0.0  \n",
       "1306621               0.0  \n",
       "1306622               0.0  \n",
       "1306623               0.0  \n",
       "1306624               0.0  \n",
       "...                   ...  \n",
       "1664682               1.0  \n",
       "1664683               0.0  \n",
       "1664684               0.0  \n",
       "1664685               0.0  \n",
       "1664686               0.0  \n",
       "\n",
       "[356493 rows x 11 columns]"
      ]
     },
     "execution_count": 97,
     "metadata": {},
     "output_type": "execute_result"
    }
   ],
   "source": [
    "df_select = clean_df.loc[clean_df['Subreddit'] == 'entertainment']\n",
    "df_select"
   ]
  },
  {
   "cell_type": "code",
   "execution_count": 154,
   "metadata": {},
   "outputs": [],
   "source": [
    "X = df_select.drop(['Subreddit', 'ID'], axis =1)\n",
    "y = df_select['Subreddit']"
   ]
  },
  {
   "cell_type": "code",
   "execution_count": 155,
   "metadata": {},
   "outputs": [],
   "source": [
    "X_train, X_test, y_train, y_test = train_test_split(X, y, \n",
    "                                                    test_size=.33,\n",
    "                                                    random_state=0)"
   ]
  },
  {
   "cell_type": "code",
   "execution_count": 152,
   "metadata": {},
   "outputs": [],
   "source": [
    "tfidf_vectorizer = TfidfVectorizer(max_df=0.95, min_df=2, stop_words=s_stop, max_features =5000 )\n",
    "vec_X_train = tfidf_vectorizer.fit_transform(X_train)\n",
    "vec_X_test = tfidf_vectorizer.fit_transform(X_test)"
   ]
  },
  {
   "cell_type": "code",
   "execution_count": 153,
   "metadata": {},
   "outputs": [
    {
     "name": "stdout",
     "output_type": "stream",
     "text": [
      "Accuracy score: 0.224\n"
     ]
    }
   ],
   "source": [
    "# Train and fit model                                                   \n",
    "rf = RandomForestClassifier(random_state=0,n_jobs=10, max_features = 'sqrt')\n",
    "\n",
    "rf.fit(vec_X_train, y_train)\n",
    "                                     \n",
    "# Test Prediction\n",
    "pred = rf.predict(vec_X_test)\n",
    "print('Accuracy score: {:.3}'.format(rf.score(vec_X_test, y_test)))"
   ]
  },
  {
   "cell_type": "code",
   "execution_count": null,
   "metadata": {},
   "outputs": [],
   "source": []
  },
  {
   "cell_type": "code",
   "execution_count": null,
   "metadata": {},
   "outputs": [],
   "source": []
  },
  {
   "cell_type": "code",
   "execution_count": null,
   "metadata": {},
   "outputs": [],
   "source": []
  },
  {
   "cell_type": "code",
   "execution_count": null,
   "metadata": {},
   "outputs": [],
   "source": [
    "full_class_names = ['entertainment_anime.csv', 'entertainment_comicbooks.csv', 'entertainment_harrypotter.csv', 'entertainment_movies.csv', 'entertainment_music.csv', 'entertainment_starwars.csv', 'gaming_dota2.csv','gaming_gaming.csv', 'gaming_leagueoflegends.csv','gaming_minecraft.csv','gaming_pokemon.csv','gaming_skyrim.csv','gaming_starcraft.csv', 'gaming_tf2.csv','humor_adviceanimals.csv', 'humor_circlejerk.csv', 'humor_facepalm.csv','humor_funny.csv','humor_imgoingtohellforthis.csv','humor_jokes.csv', 'learning_askhistorians.csv','learning_askscience.csv','learning_explainlikeimfive.csv', 'learning_science.csv', 'learning_space.csv', 'learning_todayilearned.csv', 'learning_youshouldknow.csv', 'lifestyle_drunk.csv', 'lifestyle_food.csv', 'lifestyle_frugal.csv', 'lifestyle_guns.csv','lifestyle_lifehacks.csv','lifestyle_motorcycles.csv','lifestyle_progresspics.csv', 'lifestyle_sex.csv','news_conservative.csv','news_conspiracy.csv', 'news_libertarian.csv', 'news_news.csv','news_offbeat.csv','news_politics.csv', 'news_truereddit.csv', 'news_worldnews.csv','television_breakingbad.csv','television_community.csv', 'television_doctorwho.csv', 'television_gameofthrones.csv', 'television_himym.csv', 'television_mylittlepony.csv','television_startrek.csv', 'television_thewalkingdead.csv']\n"
   ]
  },
  {
   "cell_type": "code",
   "execution_count": 135,
   "metadata": {},
   "outputs": [],
   "source": [
    "enter_names = ['anime', 'comicbooks', 'harrypotter', 'movies', 'music', 'starwars']\n",
    "\n"
   ]
  },
  {
   "cell_type": "code",
   "execution_count": 131,
   "metadata": {},
   "outputs": [
    {
     "ename": "KeyError",
     "evalue": "'anime'",
     "output_type": "error",
     "traceback": [
      "\u001b[0;31m---------------------------------------------------------------------------\u001b[0m",
      "\u001b[0;31mKeyError\u001b[0m                                  Traceback (most recent call last)",
      "\u001b[0;32m<ipython-input-131-8f4e5c3b1fa4>\u001b[0m in \u001b[0;36m<module>\u001b[0;34m\u001b[0m\n\u001b[1;32m      3\u001b[0m \u001b[0;31m# predictions = {'id': test['id']}\u001b[0m\u001b[0;34m\u001b[0m\u001b[0;34m\u001b[0m\u001b[0;34m\u001b[0m\u001b[0m\n\u001b[1;32m      4\u001b[0m \u001b[0;32mfor\u001b[0m \u001b[0mclass_name\u001b[0m \u001b[0;32min\u001b[0m \u001b[0mclass_names\u001b[0m\u001b[0;34m:\u001b[0m\u001b[0;34m\u001b[0m\u001b[0;34m\u001b[0m\u001b[0m\n\u001b[0;32m----> 5\u001b[0;31m     \u001b[0mtrain_target\u001b[0m \u001b[0;34m=\u001b[0m \u001b[0my_train\u001b[0m\u001b[0;34m[\u001b[0m\u001b[0mclass_name\u001b[0m\u001b[0;34m]\u001b[0m\u001b[0;34m\u001b[0m\u001b[0;34m\u001b[0m\u001b[0m\n\u001b[0m\u001b[1;32m      6\u001b[0m     classifier = RandomForestClassifier(bootstrap=True, class_weight=None, criterion='gini',\n\u001b[1;32m      7\u001b[0m             \u001b[0mmax_depth\u001b[0m\u001b[0;34m=\u001b[0m\u001b[0;36m100\u001b[0m\u001b[0;34m,\u001b[0m \u001b[0mmax_features\u001b[0m\u001b[0;34m=\u001b[0m\u001b[0;36m1000\u001b[0m\u001b[0;34m,\u001b[0m \u001b[0mmax_leaf_nodes\u001b[0m\u001b[0;34m=\u001b[0m\u001b[0;32mNone\u001b[0m\u001b[0;34m,\u001b[0m\u001b[0;34m\u001b[0m\u001b[0;34m\u001b[0m\u001b[0m\n",
      "\u001b[0;32m~/opt/anaconda3/lib/python3.7/site-packages/pandas/core/series.py\u001b[0m in \u001b[0;36m__getitem__\u001b[0;34m(self, key)\u001b[0m\n\u001b[1;32m   1069\u001b[0m         \u001b[0mkey\u001b[0m \u001b[0;34m=\u001b[0m \u001b[0mcom\u001b[0m\u001b[0;34m.\u001b[0m\u001b[0mapply_if_callable\u001b[0m\u001b[0;34m(\u001b[0m\u001b[0mkey\u001b[0m\u001b[0;34m,\u001b[0m \u001b[0mself\u001b[0m\u001b[0;34m)\u001b[0m\u001b[0;34m\u001b[0m\u001b[0;34m\u001b[0m\u001b[0m\n\u001b[1;32m   1070\u001b[0m         \u001b[0;32mtry\u001b[0m\u001b[0;34m:\u001b[0m\u001b[0;34m\u001b[0m\u001b[0;34m\u001b[0m\u001b[0m\n\u001b[0;32m-> 1071\u001b[0;31m             \u001b[0mresult\u001b[0m \u001b[0;34m=\u001b[0m \u001b[0mself\u001b[0m\u001b[0;34m.\u001b[0m\u001b[0mindex\u001b[0m\u001b[0;34m.\u001b[0m\u001b[0mget_value\u001b[0m\u001b[0;34m(\u001b[0m\u001b[0mself\u001b[0m\u001b[0;34m,\u001b[0m \u001b[0mkey\u001b[0m\u001b[0;34m)\u001b[0m\u001b[0;34m\u001b[0m\u001b[0;34m\u001b[0m\u001b[0m\n\u001b[0m\u001b[1;32m   1072\u001b[0m \u001b[0;34m\u001b[0m\u001b[0m\n\u001b[1;32m   1073\u001b[0m             \u001b[0;32mif\u001b[0m \u001b[0;32mnot\u001b[0m \u001b[0mis_scalar\u001b[0m\u001b[0;34m(\u001b[0m\u001b[0mresult\u001b[0m\u001b[0;34m)\u001b[0m\u001b[0;34m:\u001b[0m\u001b[0;34m\u001b[0m\u001b[0;34m\u001b[0m\u001b[0m\n",
      "\u001b[0;32m~/opt/anaconda3/lib/python3.7/site-packages/pandas/core/indexes/base.py\u001b[0m in \u001b[0;36mget_value\u001b[0;34m(self, series, key)\u001b[0m\n\u001b[1;32m   4728\u001b[0m         \u001b[0mk\u001b[0m \u001b[0;34m=\u001b[0m \u001b[0mself\u001b[0m\u001b[0;34m.\u001b[0m\u001b[0m_convert_scalar_indexer\u001b[0m\u001b[0;34m(\u001b[0m\u001b[0mk\u001b[0m\u001b[0;34m,\u001b[0m \u001b[0mkind\u001b[0m\u001b[0;34m=\u001b[0m\u001b[0;34m\"getitem\"\u001b[0m\u001b[0;34m)\u001b[0m\u001b[0;34m\u001b[0m\u001b[0;34m\u001b[0m\u001b[0m\n\u001b[1;32m   4729\u001b[0m         \u001b[0;32mtry\u001b[0m\u001b[0;34m:\u001b[0m\u001b[0;34m\u001b[0m\u001b[0;34m\u001b[0m\u001b[0m\n\u001b[0;32m-> 4730\u001b[0;31m             \u001b[0;32mreturn\u001b[0m \u001b[0mself\u001b[0m\u001b[0;34m.\u001b[0m\u001b[0m_engine\u001b[0m\u001b[0;34m.\u001b[0m\u001b[0mget_value\u001b[0m\u001b[0;34m(\u001b[0m\u001b[0ms\u001b[0m\u001b[0;34m,\u001b[0m \u001b[0mk\u001b[0m\u001b[0;34m,\u001b[0m \u001b[0mtz\u001b[0m\u001b[0;34m=\u001b[0m\u001b[0mgetattr\u001b[0m\u001b[0;34m(\u001b[0m\u001b[0mseries\u001b[0m\u001b[0;34m.\u001b[0m\u001b[0mdtype\u001b[0m\u001b[0;34m,\u001b[0m \u001b[0;34m\"tz\"\u001b[0m\u001b[0;34m,\u001b[0m \u001b[0;32mNone\u001b[0m\u001b[0;34m)\u001b[0m\u001b[0;34m)\u001b[0m\u001b[0;34m\u001b[0m\u001b[0;34m\u001b[0m\u001b[0m\n\u001b[0m\u001b[1;32m   4731\u001b[0m         \u001b[0;32mexcept\u001b[0m \u001b[0mKeyError\u001b[0m \u001b[0;32mas\u001b[0m \u001b[0me1\u001b[0m\u001b[0;34m:\u001b[0m\u001b[0;34m\u001b[0m\u001b[0;34m\u001b[0m\u001b[0m\n\u001b[1;32m   4732\u001b[0m             \u001b[0;32mif\u001b[0m \u001b[0mlen\u001b[0m\u001b[0;34m(\u001b[0m\u001b[0mself\u001b[0m\u001b[0;34m)\u001b[0m \u001b[0;34m>\u001b[0m \u001b[0;36m0\u001b[0m \u001b[0;32mand\u001b[0m \u001b[0;34m(\u001b[0m\u001b[0mself\u001b[0m\u001b[0;34m.\u001b[0m\u001b[0mholds_integer\u001b[0m\u001b[0;34m(\u001b[0m\u001b[0;34m)\u001b[0m \u001b[0;32mor\u001b[0m \u001b[0mself\u001b[0m\u001b[0;34m.\u001b[0m\u001b[0mis_boolean\u001b[0m\u001b[0;34m(\u001b[0m\u001b[0;34m)\u001b[0m\u001b[0;34m)\u001b[0m\u001b[0;34m:\u001b[0m\u001b[0;34m\u001b[0m\u001b[0;34m\u001b[0m\u001b[0m\n",
      "\u001b[0;32mpandas/_libs/index.pyx\u001b[0m in \u001b[0;36mpandas._libs.index.IndexEngine.get_value\u001b[0;34m()\u001b[0m\n",
      "\u001b[0;32mpandas/_libs/index.pyx\u001b[0m in \u001b[0;36mpandas._libs.index.IndexEngine.get_value\u001b[0;34m()\u001b[0m\n",
      "\u001b[0;32mpandas/_libs/index.pyx\u001b[0m in \u001b[0;36mpandas._libs.index.IndexEngine.get_loc\u001b[0;34m()\u001b[0m\n",
      "\u001b[0;32mpandas/_libs/index_class_helper.pxi\u001b[0m in \u001b[0;36mpandas._libs.index.Int64Engine._check_type\u001b[0;34m()\u001b[0m\n",
      "\u001b[0;31mKeyError\u001b[0m: 'anime'"
     ]
    }
   ],
   "source": []
  },
  {
   "cell_type": "code",
   "execution_count": 55,
   "metadata": {},
   "outputs": [
    {
     "name": "stdout",
     "output_type": "stream",
     "text": [
      "6255\n",
      "6471\n"
     ]
    }
   ],
   "source": [
    "s_stop = set(stopwords.words())\n",
    "print(len(s_stop))\n",
    "new_stops = ['2015ref','publisherspage190ref','volume9', 'issue2','005', '1671', '2015', 'jpgthumbemerg', 'jpgthumbrightth', 'logo', 'page7','logo.png','2015.ref', 'nameleaf200kcit','ref', '005.jpgthumbrightth', 'whose', 'kind','png', 'jpg', 'wiktionaryzero', 'wiktionaryzero0', 'wiktionaryzero0', 'articlesquantum','0supsup', '0refcit', '1-3', 'redirectzero', '.', ',', 'nameleaf200k2cit', 'wiktionari', 'namecarb01cit','-', 'filezero', 'mvaramvarxmvari', 'page98','datemfyes1915228', 'year1989ref', '1671.jpgthumbemerg', 'refimprovedatemay','ligatureligatur', 'pppc1expiry2144', 'wiktionary','wiktionary0', 'n','improvedateoctob','baiknya', 'berkali', 'kali', 'kurangnya', 'mata', 'olah', 'onların', 'printr', 'sekurang', 'setidak', 'tama', 'tidaknya', 'δι', 'арбаң', 'арсалаң', 'афташ', 'бай', 'бале', 'баски', 'батыр', 'баҳри', 'болои', 'бүгжең', 'бұтыр', 'валекин', 'вақте', 'вой', 'вуҷуди', 'гар', 'гарчанде', 'далаң', 'даме', 'ербелең', 'жалт', 'жұлт', 'карда', 'кошки', 'куя', 'күңгір', 'кӣ', 'магар', 'майлаш', 'митың', 'модоме', 'нияти', 'онан', 'оре', 'паһ', 'рӯи', 'салаң', 'сар', 'сұлаң', 'сұрт', 'тарбаң', 'тразе', 'ту', 'тыржың', 'тұрс', 'хом', 'хуб', 'чаро', 'чи', 'чун', 'чунон', 'шарте', 'шұңқ', 'ыржың', 'қадар', 'қайқаң', 'қалт', 'қаңғыр', 'қаңқ', 'қош', 'қызараң', 'құйқаң', 'құлт', 'құңқ', 'ұрс', 'ҳай', 'ҳамин', 'ҳатто', 'ҳо', 'ҳол', 'ҳолате', 'әттеген', 'ӯим', 'अक', 'अग', 'अझ', 'अन', 'अर', 'आजक', 'आत', 'आद', 'आफ', 'आय', 'ईक', 'उद', 'उनक', 'उनल', 'उह', 'एउट', 'एन', 'कog', 'कत', 'कम', 'कस', 'कसर', 'कह', 'गत', 'गय', 'गर', 'चम', 'छन', 'जत', 'जबक', 'जस', 'जसक', 'जसब', 'जसम', 'जसल', 'जह', 'तत', 'तथ', 'तदन', 'तप', 'तवम', 'नज', 'नत', 'नभन', 'नय', 'पक', 'पछ', 'पन', 'पय', 'पर', 'पष', 'पह', 'बन', 'बर', 'भएक', 'भय', 'भव', 'मल', 'यत', 'यथ', 'यद', 'यप', 'यसक', 'यसपछ', 'यसब', 'यसर', 'यह', 'रण', 'रत', 'रमश', 'रह', 'लस', 'वर', 'सक', 'सट', 'सध', 'सपछ', 'सब', 'सम', 'सर', 'सह', 'हन', 'हर', 'हरण', 'ἀλλ']\n",
    "for i in new_stops:\n",
    "    s_stop.add(i)\n",
    "    \n",
    "    \n",
    "print(len(s_stop))\n",
    "\n",
    "\n"
   ]
  },
  {
   "cell_type": "code",
   "execution_count": 92,
   "metadata": {},
   "outputs": [
    {
     "ename": "ValueError",
     "evalue": "Number of labels=1673416 does not match number of samples=10",
     "output_type": "error",
     "traceback": [
      "\u001b[0;31m---------------------------------------------------------------------------\u001b[0m",
      "\u001b[0;31mValueError\u001b[0m                                Traceback (most recent call last)",
      "\u001b[0;32m<ipython-input-92-9f374644d3b0>\u001b[0m in \u001b[0;36m<module>\u001b[0;34m\u001b[0m\n\u001b[1;32m      8\u001b[0m                            oob_score=True)\n\u001b[1;32m      9\u001b[0m \u001b[0;34m\u001b[0m\u001b[0m\n\u001b[0;32m---> 10\u001b[0;31m \u001b[0mrf\u001b[0m\u001b[0;34m.\u001b[0m\u001b[0mfit\u001b[0m\u001b[0;34m(\u001b[0m\u001b[0mX_train_vec\u001b[0m\u001b[0;34m,\u001b[0m \u001b[0my_train\u001b[0m\u001b[0;34m)\u001b[0m\u001b[0;34m\u001b[0m\u001b[0;34m\u001b[0m\u001b[0m\n\u001b[0m\u001b[1;32m     11\u001b[0m \u001b[0mrf\u001b[0m\u001b[0;34m.\u001b[0m\u001b[0moob_score_\u001b[0m\u001b[0;34m\u001b[0m\u001b[0;34m\u001b[0m\u001b[0m\n\u001b[1;32m     12\u001b[0m \u001b[0;31m# print(\"Cross Val Score: \",cross_val_score(rf,X_train_vec,y_train,cv=5).mean())\u001b[0m\u001b[0;34m\u001b[0m\u001b[0;34m\u001b[0m\u001b[0;34m\u001b[0m\u001b[0m\n",
      "\u001b[0;32m~/opt/anaconda3/lib/python3.7/site-packages/sklearn/ensemble/_forest.py\u001b[0m in \u001b[0;36mfit\u001b[0;34m(self, X, y, sample_weight)\u001b[0m\n\u001b[1;32m    381\u001b[0m                     \u001b[0mverbose\u001b[0m\u001b[0;34m=\u001b[0m\u001b[0mself\u001b[0m\u001b[0;34m.\u001b[0m\u001b[0mverbose\u001b[0m\u001b[0;34m,\u001b[0m \u001b[0mclass_weight\u001b[0m\u001b[0;34m=\u001b[0m\u001b[0mself\u001b[0m\u001b[0;34m.\u001b[0m\u001b[0mclass_weight\u001b[0m\u001b[0;34m,\u001b[0m\u001b[0;34m\u001b[0m\u001b[0;34m\u001b[0m\u001b[0m\n\u001b[1;32m    382\u001b[0m                     n_samples_bootstrap=n_samples_bootstrap)\n\u001b[0;32m--> 383\u001b[0;31m                 for i, t in enumerate(trees))\n\u001b[0m\u001b[1;32m    384\u001b[0m \u001b[0;34m\u001b[0m\u001b[0m\n\u001b[1;32m    385\u001b[0m             \u001b[0;31m# Collect newly grown trees\u001b[0m\u001b[0;34m\u001b[0m\u001b[0;34m\u001b[0m\u001b[0;34m\u001b[0m\u001b[0m\n",
      "\u001b[0;32m~/opt/anaconda3/lib/python3.7/site-packages/joblib/parallel.py\u001b[0m in \u001b[0;36m__call__\u001b[0;34m(self, iterable)\u001b[0m\n\u001b[1;32m   1002\u001b[0m             \u001b[0;31m# remaining jobs.\u001b[0m\u001b[0;34m\u001b[0m\u001b[0;34m\u001b[0m\u001b[0;34m\u001b[0m\u001b[0m\n\u001b[1;32m   1003\u001b[0m             \u001b[0mself\u001b[0m\u001b[0;34m.\u001b[0m\u001b[0m_iterating\u001b[0m \u001b[0;34m=\u001b[0m \u001b[0;32mFalse\u001b[0m\u001b[0;34m\u001b[0m\u001b[0;34m\u001b[0m\u001b[0m\n\u001b[0;32m-> 1004\u001b[0;31m             \u001b[0;32mif\u001b[0m \u001b[0mself\u001b[0m\u001b[0;34m.\u001b[0m\u001b[0mdispatch_one_batch\u001b[0m\u001b[0;34m(\u001b[0m\u001b[0miterator\u001b[0m\u001b[0;34m)\u001b[0m\u001b[0;34m:\u001b[0m\u001b[0;34m\u001b[0m\u001b[0;34m\u001b[0m\u001b[0m\n\u001b[0m\u001b[1;32m   1005\u001b[0m                 \u001b[0mself\u001b[0m\u001b[0;34m.\u001b[0m\u001b[0m_iterating\u001b[0m \u001b[0;34m=\u001b[0m \u001b[0mself\u001b[0m\u001b[0;34m.\u001b[0m\u001b[0m_original_iterator\u001b[0m \u001b[0;32mis\u001b[0m \u001b[0;32mnot\u001b[0m \u001b[0;32mNone\u001b[0m\u001b[0;34m\u001b[0m\u001b[0;34m\u001b[0m\u001b[0m\n\u001b[1;32m   1006\u001b[0m \u001b[0;34m\u001b[0m\u001b[0m\n",
      "\u001b[0;32m~/opt/anaconda3/lib/python3.7/site-packages/joblib/parallel.py\u001b[0m in \u001b[0;36mdispatch_one_batch\u001b[0;34m(self, iterator)\u001b[0m\n\u001b[1;32m    833\u001b[0m                 \u001b[0;32mreturn\u001b[0m \u001b[0;32mFalse\u001b[0m\u001b[0;34m\u001b[0m\u001b[0;34m\u001b[0m\u001b[0m\n\u001b[1;32m    834\u001b[0m             \u001b[0;32melse\u001b[0m\u001b[0;34m:\u001b[0m\u001b[0;34m\u001b[0m\u001b[0;34m\u001b[0m\u001b[0m\n\u001b[0;32m--> 835\u001b[0;31m                 \u001b[0mself\u001b[0m\u001b[0;34m.\u001b[0m\u001b[0m_dispatch\u001b[0m\u001b[0;34m(\u001b[0m\u001b[0mtasks\u001b[0m\u001b[0;34m)\u001b[0m\u001b[0;34m\u001b[0m\u001b[0;34m\u001b[0m\u001b[0m\n\u001b[0m\u001b[1;32m    836\u001b[0m                 \u001b[0;32mreturn\u001b[0m \u001b[0;32mTrue\u001b[0m\u001b[0;34m\u001b[0m\u001b[0;34m\u001b[0m\u001b[0m\n\u001b[1;32m    837\u001b[0m \u001b[0;34m\u001b[0m\u001b[0m\n",
      "\u001b[0;32m~/opt/anaconda3/lib/python3.7/site-packages/joblib/parallel.py\u001b[0m in \u001b[0;36m_dispatch\u001b[0;34m(self, batch)\u001b[0m\n\u001b[1;32m    752\u001b[0m         \u001b[0;32mwith\u001b[0m \u001b[0mself\u001b[0m\u001b[0;34m.\u001b[0m\u001b[0m_lock\u001b[0m\u001b[0;34m:\u001b[0m\u001b[0;34m\u001b[0m\u001b[0;34m\u001b[0m\u001b[0m\n\u001b[1;32m    753\u001b[0m             \u001b[0mjob_idx\u001b[0m \u001b[0;34m=\u001b[0m \u001b[0mlen\u001b[0m\u001b[0;34m(\u001b[0m\u001b[0mself\u001b[0m\u001b[0;34m.\u001b[0m\u001b[0m_jobs\u001b[0m\u001b[0;34m)\u001b[0m\u001b[0;34m\u001b[0m\u001b[0;34m\u001b[0m\u001b[0m\n\u001b[0;32m--> 754\u001b[0;31m             \u001b[0mjob\u001b[0m \u001b[0;34m=\u001b[0m \u001b[0mself\u001b[0m\u001b[0;34m.\u001b[0m\u001b[0m_backend\u001b[0m\u001b[0;34m.\u001b[0m\u001b[0mapply_async\u001b[0m\u001b[0;34m(\u001b[0m\u001b[0mbatch\u001b[0m\u001b[0;34m,\u001b[0m \u001b[0mcallback\u001b[0m\u001b[0;34m=\u001b[0m\u001b[0mcb\u001b[0m\u001b[0;34m)\u001b[0m\u001b[0;34m\u001b[0m\u001b[0;34m\u001b[0m\u001b[0m\n\u001b[0m\u001b[1;32m    755\u001b[0m             \u001b[0;31m# A job can complete so quickly than its callback is\u001b[0m\u001b[0;34m\u001b[0m\u001b[0;34m\u001b[0m\u001b[0;34m\u001b[0m\u001b[0m\n\u001b[1;32m    756\u001b[0m             \u001b[0;31m# called before we get here, causing self._jobs to\u001b[0m\u001b[0;34m\u001b[0m\u001b[0;34m\u001b[0m\u001b[0;34m\u001b[0m\u001b[0m\n",
      "\u001b[0;32m~/opt/anaconda3/lib/python3.7/site-packages/joblib/_parallel_backends.py\u001b[0m in \u001b[0;36mapply_async\u001b[0;34m(self, func, callback)\u001b[0m\n\u001b[1;32m    207\u001b[0m     \u001b[0;32mdef\u001b[0m \u001b[0mapply_async\u001b[0m\u001b[0;34m(\u001b[0m\u001b[0mself\u001b[0m\u001b[0;34m,\u001b[0m \u001b[0mfunc\u001b[0m\u001b[0;34m,\u001b[0m \u001b[0mcallback\u001b[0m\u001b[0;34m=\u001b[0m\u001b[0;32mNone\u001b[0m\u001b[0;34m)\u001b[0m\u001b[0;34m:\u001b[0m\u001b[0;34m\u001b[0m\u001b[0;34m\u001b[0m\u001b[0m\n\u001b[1;32m    208\u001b[0m         \u001b[0;34m\"\"\"Schedule a func to be run\"\"\"\u001b[0m\u001b[0;34m\u001b[0m\u001b[0;34m\u001b[0m\u001b[0m\n\u001b[0;32m--> 209\u001b[0;31m         \u001b[0mresult\u001b[0m \u001b[0;34m=\u001b[0m \u001b[0mImmediateResult\u001b[0m\u001b[0;34m(\u001b[0m\u001b[0mfunc\u001b[0m\u001b[0;34m)\u001b[0m\u001b[0;34m\u001b[0m\u001b[0;34m\u001b[0m\u001b[0m\n\u001b[0m\u001b[1;32m    210\u001b[0m         \u001b[0;32mif\u001b[0m \u001b[0mcallback\u001b[0m\u001b[0;34m:\u001b[0m\u001b[0;34m\u001b[0m\u001b[0;34m\u001b[0m\u001b[0m\n\u001b[1;32m    211\u001b[0m             \u001b[0mcallback\u001b[0m\u001b[0;34m(\u001b[0m\u001b[0mresult\u001b[0m\u001b[0;34m)\u001b[0m\u001b[0;34m\u001b[0m\u001b[0;34m\u001b[0m\u001b[0m\n",
      "\u001b[0;32m~/opt/anaconda3/lib/python3.7/site-packages/joblib/_parallel_backends.py\u001b[0m in \u001b[0;36m__init__\u001b[0;34m(self, batch)\u001b[0m\n\u001b[1;32m    588\u001b[0m         \u001b[0;31m# Don't delay the application, to avoid keeping the input\u001b[0m\u001b[0;34m\u001b[0m\u001b[0;34m\u001b[0m\u001b[0;34m\u001b[0m\u001b[0m\n\u001b[1;32m    589\u001b[0m         \u001b[0;31m# arguments in memory\u001b[0m\u001b[0;34m\u001b[0m\u001b[0;34m\u001b[0m\u001b[0;34m\u001b[0m\u001b[0m\n\u001b[0;32m--> 590\u001b[0;31m         \u001b[0mself\u001b[0m\u001b[0;34m.\u001b[0m\u001b[0mresults\u001b[0m \u001b[0;34m=\u001b[0m \u001b[0mbatch\u001b[0m\u001b[0;34m(\u001b[0m\u001b[0;34m)\u001b[0m\u001b[0;34m\u001b[0m\u001b[0;34m\u001b[0m\u001b[0m\n\u001b[0m\u001b[1;32m    591\u001b[0m \u001b[0;34m\u001b[0m\u001b[0m\n\u001b[1;32m    592\u001b[0m     \u001b[0;32mdef\u001b[0m \u001b[0mget\u001b[0m\u001b[0;34m(\u001b[0m\u001b[0mself\u001b[0m\u001b[0;34m)\u001b[0m\u001b[0;34m:\u001b[0m\u001b[0;34m\u001b[0m\u001b[0;34m\u001b[0m\u001b[0m\n",
      "\u001b[0;32m~/opt/anaconda3/lib/python3.7/site-packages/joblib/parallel.py\u001b[0m in \u001b[0;36m__call__\u001b[0;34m(self)\u001b[0m\n\u001b[1;32m    254\u001b[0m         \u001b[0;32mwith\u001b[0m \u001b[0mparallel_backend\u001b[0m\u001b[0;34m(\u001b[0m\u001b[0mself\u001b[0m\u001b[0;34m.\u001b[0m\u001b[0m_backend\u001b[0m\u001b[0;34m,\u001b[0m \u001b[0mn_jobs\u001b[0m\u001b[0;34m=\u001b[0m\u001b[0mself\u001b[0m\u001b[0;34m.\u001b[0m\u001b[0m_n_jobs\u001b[0m\u001b[0;34m)\u001b[0m\u001b[0;34m:\u001b[0m\u001b[0;34m\u001b[0m\u001b[0;34m\u001b[0m\u001b[0m\n\u001b[1;32m    255\u001b[0m             return [func(*args, **kwargs)\n\u001b[0;32m--> 256\u001b[0;31m                     for func, args, kwargs in self.items]\n\u001b[0m\u001b[1;32m    257\u001b[0m \u001b[0;34m\u001b[0m\u001b[0m\n\u001b[1;32m    258\u001b[0m     \u001b[0;32mdef\u001b[0m \u001b[0m__len__\u001b[0m\u001b[0;34m(\u001b[0m\u001b[0mself\u001b[0m\u001b[0;34m)\u001b[0m\u001b[0;34m:\u001b[0m\u001b[0;34m\u001b[0m\u001b[0;34m\u001b[0m\u001b[0m\n",
      "\u001b[0;32m~/opt/anaconda3/lib/python3.7/site-packages/joblib/parallel.py\u001b[0m in \u001b[0;36m<listcomp>\u001b[0;34m(.0)\u001b[0m\n\u001b[1;32m    254\u001b[0m         \u001b[0;32mwith\u001b[0m \u001b[0mparallel_backend\u001b[0m\u001b[0;34m(\u001b[0m\u001b[0mself\u001b[0m\u001b[0;34m.\u001b[0m\u001b[0m_backend\u001b[0m\u001b[0;34m,\u001b[0m \u001b[0mn_jobs\u001b[0m\u001b[0;34m=\u001b[0m\u001b[0mself\u001b[0m\u001b[0;34m.\u001b[0m\u001b[0m_n_jobs\u001b[0m\u001b[0;34m)\u001b[0m\u001b[0;34m:\u001b[0m\u001b[0;34m\u001b[0m\u001b[0;34m\u001b[0m\u001b[0m\n\u001b[1;32m    255\u001b[0m             return [func(*args, **kwargs)\n\u001b[0;32m--> 256\u001b[0;31m                     for func, args, kwargs in self.items]\n\u001b[0m\u001b[1;32m    257\u001b[0m \u001b[0;34m\u001b[0m\u001b[0m\n\u001b[1;32m    258\u001b[0m     \u001b[0;32mdef\u001b[0m \u001b[0m__len__\u001b[0m\u001b[0;34m(\u001b[0m\u001b[0mself\u001b[0m\u001b[0;34m)\u001b[0m\u001b[0;34m:\u001b[0m\u001b[0;34m\u001b[0m\u001b[0;34m\u001b[0m\u001b[0m\n",
      "\u001b[0;32m~/opt/anaconda3/lib/python3.7/site-packages/sklearn/ensemble/_forest.py\u001b[0m in \u001b[0;36m_parallel_build_trees\u001b[0;34m(tree, forest, X, y, sample_weight, tree_idx, n_trees, verbose, class_weight, n_samples_bootstrap)\u001b[0m\n\u001b[1;32m    163\u001b[0m             \u001b[0mcurr_sample_weight\u001b[0m \u001b[0;34m*=\u001b[0m \u001b[0mcompute_sample_weight\u001b[0m\u001b[0;34m(\u001b[0m\u001b[0;34m'balanced'\u001b[0m\u001b[0;34m,\u001b[0m \u001b[0my\u001b[0m\u001b[0;34m,\u001b[0m \u001b[0mindices\u001b[0m\u001b[0;34m)\u001b[0m\u001b[0;34m\u001b[0m\u001b[0;34m\u001b[0m\u001b[0m\n\u001b[1;32m    164\u001b[0m \u001b[0;34m\u001b[0m\u001b[0m\n\u001b[0;32m--> 165\u001b[0;31m         \u001b[0mtree\u001b[0m\u001b[0;34m.\u001b[0m\u001b[0mfit\u001b[0m\u001b[0;34m(\u001b[0m\u001b[0mX\u001b[0m\u001b[0;34m,\u001b[0m \u001b[0my\u001b[0m\u001b[0;34m,\u001b[0m \u001b[0msample_weight\u001b[0m\u001b[0;34m=\u001b[0m\u001b[0mcurr_sample_weight\u001b[0m\u001b[0;34m,\u001b[0m \u001b[0mcheck_input\u001b[0m\u001b[0;34m=\u001b[0m\u001b[0;32mFalse\u001b[0m\u001b[0;34m)\u001b[0m\u001b[0;34m\u001b[0m\u001b[0;34m\u001b[0m\u001b[0m\n\u001b[0m\u001b[1;32m    166\u001b[0m     \u001b[0;32melse\u001b[0m\u001b[0;34m:\u001b[0m\u001b[0;34m\u001b[0m\u001b[0;34m\u001b[0m\u001b[0m\n\u001b[1;32m    167\u001b[0m         \u001b[0mtree\u001b[0m\u001b[0;34m.\u001b[0m\u001b[0mfit\u001b[0m\u001b[0;34m(\u001b[0m\u001b[0mX\u001b[0m\u001b[0;34m,\u001b[0m \u001b[0my\u001b[0m\u001b[0;34m,\u001b[0m \u001b[0msample_weight\u001b[0m\u001b[0;34m=\u001b[0m\u001b[0msample_weight\u001b[0m\u001b[0;34m,\u001b[0m \u001b[0mcheck_input\u001b[0m\u001b[0;34m=\u001b[0m\u001b[0;32mFalse\u001b[0m\u001b[0;34m)\u001b[0m\u001b[0;34m\u001b[0m\u001b[0;34m\u001b[0m\u001b[0m\n",
      "\u001b[0;32m~/opt/anaconda3/lib/python3.7/site-packages/sklearn/tree/_classes.py\u001b[0m in \u001b[0;36mfit\u001b[0;34m(self, X, y, sample_weight, check_input, X_idx_sorted)\u001b[0m\n\u001b[1;32m    875\u001b[0m             \u001b[0msample_weight\u001b[0m\u001b[0;34m=\u001b[0m\u001b[0msample_weight\u001b[0m\u001b[0;34m,\u001b[0m\u001b[0;34m\u001b[0m\u001b[0;34m\u001b[0m\u001b[0m\n\u001b[1;32m    876\u001b[0m             \u001b[0mcheck_input\u001b[0m\u001b[0;34m=\u001b[0m\u001b[0mcheck_input\u001b[0m\u001b[0;34m,\u001b[0m\u001b[0;34m\u001b[0m\u001b[0;34m\u001b[0m\u001b[0m\n\u001b[0;32m--> 877\u001b[0;31m             X_idx_sorted=X_idx_sorted)\n\u001b[0m\u001b[1;32m    878\u001b[0m         \u001b[0;32mreturn\u001b[0m \u001b[0mself\u001b[0m\u001b[0;34m\u001b[0m\u001b[0;34m\u001b[0m\u001b[0m\n\u001b[1;32m    879\u001b[0m \u001b[0;34m\u001b[0m\u001b[0m\n",
      "\u001b[0;32m~/opt/anaconda3/lib/python3.7/site-packages/sklearn/tree/_classes.py\u001b[0m in \u001b[0;36mfit\u001b[0;34m(self, X, y, sample_weight, check_input, X_idx_sorted)\u001b[0m\n\u001b[1;32m    263\u001b[0m         \u001b[0;32mif\u001b[0m \u001b[0mlen\u001b[0m\u001b[0;34m(\u001b[0m\u001b[0my\u001b[0m\u001b[0;34m)\u001b[0m \u001b[0;34m!=\u001b[0m \u001b[0mn_samples\u001b[0m\u001b[0;34m:\u001b[0m\u001b[0;34m\u001b[0m\u001b[0;34m\u001b[0m\u001b[0m\n\u001b[1;32m    264\u001b[0m             raise ValueError(\"Number of labels=%d does not match \"\n\u001b[0;32m--> 265\u001b[0;31m                              \"number of samples=%d\" % (len(y), n_samples))\n\u001b[0m\u001b[1;32m    266\u001b[0m         \u001b[0;32mif\u001b[0m \u001b[0;32mnot\u001b[0m \u001b[0;36m0\u001b[0m \u001b[0;34m<=\u001b[0m \u001b[0mself\u001b[0m\u001b[0;34m.\u001b[0m\u001b[0mmin_weight_fraction_leaf\u001b[0m \u001b[0;34m<=\u001b[0m \u001b[0;36m0.5\u001b[0m\u001b[0;34m:\u001b[0m\u001b[0;34m\u001b[0m\u001b[0;34m\u001b[0m\u001b[0m\n\u001b[1;32m    267\u001b[0m             \u001b[0;32mraise\u001b[0m \u001b[0mValueError\u001b[0m\u001b[0;34m(\u001b[0m\u001b[0;34m\"min_weight_fraction_leaf must in [0, 0.5]\"\u001b[0m\u001b[0;34m)\u001b[0m\u001b[0;34m\u001b[0m\u001b[0;34m\u001b[0m\u001b[0m\n",
      "\u001b[0;31mValueError\u001b[0m: Number of labels=1673416 does not match number of samples=10"
     ]
    }
   ],
   "source": [
    "vectorizer = CountVectorizer(stop_words=s_stop)\n",
    "X_train_vec = vectorizer.fit_transform(X_train)\n",
    "X_test_vec = vectorizer.transform(X_test)\n",
    "y_train_vec = vectorizer.transform(y_train)\n",
    "rf = RandomForestClassifier(n_estimators=,\n",
    "                           max_features='auto',\n",
    "                           random_state=0,\n",
    "                           oob_score=True)\n",
    "\n",
    "rf.fit(X_train_vec, y_train)\n",
    "rf.oob_score_\n",
    "# print(\"Cross Val Score: \",cross_val_score(rf,X_train_vec,y_train,cv=5).mean())\n",
    "# print(\"Train Score: \", round(rf.score(X_train_vec,y_train)))\n",
    "# print(\"Train Score: \", round(rf.score(X_test_vec,y_test)))\n",
    "# print(\"Dic Size:\", len(vectorizer.get_feature_names()))"
   ]
  },
  {
   "cell_type": "code",
   "execution_count": 111,
   "metadata": {},
   "outputs": [],
   "source": [
    "X = df_select['Text']\n",
    "y = df_select['meta']\n",
    "X_train, X_test, y_train, y_test = train_test_split(X, y, \n",
    "                                                    test_size=.33,\n",
    "                                                    random_state=0)"
   ]
  },
  {
   "cell_type": "code",
   "execution_count": 113,
   "metadata": {},
   "outputs": [
    {
     "data": {
      "text/plain": [
       "1306620    entertainment\n",
       "1306621    entertainment\n",
       "1306622    entertainment\n",
       "1306623    entertainment\n",
       "1306624    entertainment\n",
       "               ...      \n",
       "1664682    entertainment\n",
       "1664683    entertainment\n",
       "1664684    entertainment\n",
       "1664685    entertainment\n",
       "1664686    entertainment\n",
       "Name: meta, Length: 356493, dtype: object"
      ]
     },
     "execution_count": 113,
     "metadata": {},
     "output_type": "execute_result"
    }
   ],
   "source": []
  },
  {
   "cell_type": "code",
   "execution_count": 110,
   "metadata": {},
   "outputs": [
    {
     "ename": "KeyError",
     "evalue": "'Text'",
     "output_type": "error",
     "traceback": [
      "\u001b[0;31m---------------------------------------------------------------------------\u001b[0m",
      "\u001b[0;31mKeyError\u001b[0m                                  Traceback (most recent call last)",
      "\u001b[0;32m<ipython-input-110-47ec182c9b7a>\u001b[0m in \u001b[0;36m<module>\u001b[0;34m\u001b[0m\n\u001b[1;32m      7\u001b[0m                                                     \u001b[0mtest_size\u001b[0m\u001b[0;34m=\u001b[0m\u001b[0;36m.33\u001b[0m\u001b[0;34m,\u001b[0m\u001b[0;34m\u001b[0m\u001b[0;34m\u001b[0m\u001b[0m\n\u001b[1;32m      8\u001b[0m                                                     random_state=0)\n\u001b[0;32m----> 9\u001b[0;31m \u001b[0mtrain_text\u001b[0m \u001b[0;34m=\u001b[0m \u001b[0mX_train\u001b[0m\u001b[0;34m[\u001b[0m\u001b[0;34m'Text'\u001b[0m\u001b[0;34m]\u001b[0m\u001b[0;34m\u001b[0m\u001b[0;34m\u001b[0m\u001b[0m\n\u001b[0m\u001b[1;32m     10\u001b[0m \u001b[0mtest_text\u001b[0m \u001b[0;34m=\u001b[0m \u001b[0mx_test\u001b[0m\u001b[0;34m[\u001b[0m\u001b[0;34m'Text'\u001b[0m\u001b[0;34m]\u001b[0m\u001b[0;34m\u001b[0m\u001b[0;34m\u001b[0m\u001b[0m\n\u001b[1;32m     11\u001b[0m \u001b[0mall_text\u001b[0m \u001b[0;34m=\u001b[0m \u001b[0mpd\u001b[0m\u001b[0;34m.\u001b[0m\u001b[0mconcat\u001b[0m\u001b[0;34m(\u001b[0m\u001b[0;34m[\u001b[0m\u001b[0mtrain_text\u001b[0m\u001b[0;34m,\u001b[0m \u001b[0mtest_text\u001b[0m\u001b[0;34m]\u001b[0m\u001b[0;34m)\u001b[0m\u001b[0;34m\u001b[0m\u001b[0;34m\u001b[0m\u001b[0m\n",
      "\u001b[0;32m~/opt/anaconda3/lib/python3.7/site-packages/pandas/core/series.py\u001b[0m in \u001b[0;36m__getitem__\u001b[0;34m(self, key)\u001b[0m\n\u001b[1;32m   1069\u001b[0m         \u001b[0mkey\u001b[0m \u001b[0;34m=\u001b[0m \u001b[0mcom\u001b[0m\u001b[0;34m.\u001b[0m\u001b[0mapply_if_callable\u001b[0m\u001b[0;34m(\u001b[0m\u001b[0mkey\u001b[0m\u001b[0;34m,\u001b[0m \u001b[0mself\u001b[0m\u001b[0;34m)\u001b[0m\u001b[0;34m\u001b[0m\u001b[0;34m\u001b[0m\u001b[0m\n\u001b[1;32m   1070\u001b[0m         \u001b[0;32mtry\u001b[0m\u001b[0;34m:\u001b[0m\u001b[0;34m\u001b[0m\u001b[0;34m\u001b[0m\u001b[0m\n\u001b[0;32m-> 1071\u001b[0;31m             \u001b[0mresult\u001b[0m \u001b[0;34m=\u001b[0m \u001b[0mself\u001b[0m\u001b[0;34m.\u001b[0m\u001b[0mindex\u001b[0m\u001b[0;34m.\u001b[0m\u001b[0mget_value\u001b[0m\u001b[0;34m(\u001b[0m\u001b[0mself\u001b[0m\u001b[0;34m,\u001b[0m \u001b[0mkey\u001b[0m\u001b[0;34m)\u001b[0m\u001b[0;34m\u001b[0m\u001b[0;34m\u001b[0m\u001b[0m\n\u001b[0m\u001b[1;32m   1072\u001b[0m \u001b[0;34m\u001b[0m\u001b[0m\n\u001b[1;32m   1073\u001b[0m             \u001b[0;32mif\u001b[0m \u001b[0;32mnot\u001b[0m \u001b[0mis_scalar\u001b[0m\u001b[0;34m(\u001b[0m\u001b[0mresult\u001b[0m\u001b[0;34m)\u001b[0m\u001b[0;34m:\u001b[0m\u001b[0;34m\u001b[0m\u001b[0;34m\u001b[0m\u001b[0m\n",
      "\u001b[0;32m~/opt/anaconda3/lib/python3.7/site-packages/pandas/core/indexes/base.py\u001b[0m in \u001b[0;36mget_value\u001b[0;34m(self, series, key)\u001b[0m\n\u001b[1;32m   4728\u001b[0m         \u001b[0mk\u001b[0m \u001b[0;34m=\u001b[0m \u001b[0mself\u001b[0m\u001b[0;34m.\u001b[0m\u001b[0m_convert_scalar_indexer\u001b[0m\u001b[0;34m(\u001b[0m\u001b[0mk\u001b[0m\u001b[0;34m,\u001b[0m \u001b[0mkind\u001b[0m\u001b[0;34m=\u001b[0m\u001b[0;34m\"getitem\"\u001b[0m\u001b[0;34m)\u001b[0m\u001b[0;34m\u001b[0m\u001b[0;34m\u001b[0m\u001b[0m\n\u001b[1;32m   4729\u001b[0m         \u001b[0;32mtry\u001b[0m\u001b[0;34m:\u001b[0m\u001b[0;34m\u001b[0m\u001b[0;34m\u001b[0m\u001b[0m\n\u001b[0;32m-> 4730\u001b[0;31m             \u001b[0;32mreturn\u001b[0m \u001b[0mself\u001b[0m\u001b[0;34m.\u001b[0m\u001b[0m_engine\u001b[0m\u001b[0;34m.\u001b[0m\u001b[0mget_value\u001b[0m\u001b[0;34m(\u001b[0m\u001b[0ms\u001b[0m\u001b[0;34m,\u001b[0m \u001b[0mk\u001b[0m\u001b[0;34m,\u001b[0m \u001b[0mtz\u001b[0m\u001b[0;34m=\u001b[0m\u001b[0mgetattr\u001b[0m\u001b[0;34m(\u001b[0m\u001b[0mseries\u001b[0m\u001b[0;34m.\u001b[0m\u001b[0mdtype\u001b[0m\u001b[0;34m,\u001b[0m \u001b[0;34m\"tz\"\u001b[0m\u001b[0;34m,\u001b[0m \u001b[0;32mNone\u001b[0m\u001b[0;34m)\u001b[0m\u001b[0;34m)\u001b[0m\u001b[0;34m\u001b[0m\u001b[0;34m\u001b[0m\u001b[0m\n\u001b[0m\u001b[1;32m   4731\u001b[0m         \u001b[0;32mexcept\u001b[0m \u001b[0mKeyError\u001b[0m \u001b[0;32mas\u001b[0m \u001b[0me1\u001b[0m\u001b[0;34m:\u001b[0m\u001b[0;34m\u001b[0m\u001b[0;34m\u001b[0m\u001b[0m\n\u001b[1;32m   4732\u001b[0m             \u001b[0;32mif\u001b[0m \u001b[0mlen\u001b[0m\u001b[0;34m(\u001b[0m\u001b[0mself\u001b[0m\u001b[0;34m)\u001b[0m \u001b[0;34m>\u001b[0m \u001b[0;36m0\u001b[0m \u001b[0;32mand\u001b[0m \u001b[0;34m(\u001b[0m\u001b[0mself\u001b[0m\u001b[0;34m.\u001b[0m\u001b[0mholds_integer\u001b[0m\u001b[0;34m(\u001b[0m\u001b[0;34m)\u001b[0m \u001b[0;32mor\u001b[0m \u001b[0mself\u001b[0m\u001b[0;34m.\u001b[0m\u001b[0mis_boolean\u001b[0m\u001b[0;34m(\u001b[0m\u001b[0;34m)\u001b[0m\u001b[0;34m)\u001b[0m\u001b[0;34m:\u001b[0m\u001b[0;34m\u001b[0m\u001b[0;34m\u001b[0m\u001b[0m\n",
      "\u001b[0;32mpandas/_libs/index.pyx\u001b[0m in \u001b[0;36mpandas._libs.index.IndexEngine.get_value\u001b[0;34m()\u001b[0m\n",
      "\u001b[0;32mpandas/_libs/index.pyx\u001b[0m in \u001b[0;36mpandas._libs.index.IndexEngine.get_value\u001b[0;34m()\u001b[0m\n",
      "\u001b[0;32mpandas/_libs/index.pyx\u001b[0m in \u001b[0;36mpandas._libs.index.IndexEngine.get_loc\u001b[0;34m()\u001b[0m\n",
      "\u001b[0;32mpandas/_libs/index_class_helper.pxi\u001b[0m in \u001b[0;36mpandas._libs.index.Int64Engine._check_type\u001b[0;34m()\u001b[0m\n",
      "\u001b[0;31mKeyError\u001b[0m: 'Text'"
     ]
    }
   ],
   "source": [
    "\n",
    "# train = pd.read_csv('../input/train.csv').fillna(' ')\n",
    "# test = pd.read_csv('../input/test.csv').fillna(' ')\n"
   ]
  },
  {
   "cell_type": "code",
   "execution_count": null,
   "metadata": {},
   "outputs": [],
   "source": []
  },
  {
   "cell_type": "code",
   "execution_count": null,
   "metadata": {},
   "outputs": [],
   "source": []
  },
  {
   "cell_type": "code",
   "execution_count": null,
   "metadata": {},
   "outputs": [],
   "source": []
  },
  {
   "cell_type": "code",
   "execution_count": 114,
   "metadata": {},
   "outputs": [
    {
     "data": {
      "text/html": [
       "<div>\n",
       "<style scoped>\n",
       "    .dataframe tbody tr th:only-of-type {\n",
       "        vertical-align: middle;\n",
       "    }\n",
       "\n",
       "    .dataframe tbody tr th {\n",
       "        vertical-align: top;\n",
       "    }\n",
       "\n",
       "    .dataframe thead th {\n",
       "        text-align: right;\n",
       "    }\n",
       "</style>\n",
       "<table border=\"1\" class=\"dataframe\">\n",
       "  <thead>\n",
       "    <tr style=\"text-align: right;\">\n",
       "      <th></th>\n",
       "      <th>Text</th>\n",
       "      <th>ID</th>\n",
       "      <th>Subreddit</th>\n",
       "      <th>meta</th>\n",
       "      <th>Time</th>\n",
       "      <th>Username</th>\n",
       "      <th>Upvotes</th>\n",
       "      <th>Downvotes</th>\n",
       "      <th>Author_link_karma</th>\n",
       "      <th>Author_Comment_Karma</th>\n",
       "      <th>Author_has_gold?</th>\n",
       "    </tr>\n",
       "  </thead>\n",
       "  <tbody>\n",
       "    <tr>\n",
       "      <th>4</th>\n",
       "      <td>disclaimer : i think obama should nominate som...</td>\n",
       "      <td>d028c5d</td>\n",
       "      <td>politics</td>\n",
       "      <td>news</td>\n",
       "      <td>1.455651e+09</td>\n",
       "      <td>degausse</td>\n",
       "      <td>3.0</td>\n",
       "      <td>0.0</td>\n",
       "      <td>1.0</td>\n",
       "      <td>1941.0</td>\n",
       "      <td>0.0</td>\n",
       "    </tr>\n",
       "    <tr>\n",
       "      <th>6</th>\n",
       "      <td>either way the process will be dragged out unt...</td>\n",
       "      <td>d026od6</td>\n",
       "      <td>politics</td>\n",
       "      <td>news</td>\n",
       "      <td>1.455648e+09</td>\n",
       "      <td>cyberspyder</td>\n",
       "      <td>5.0</td>\n",
       "      <td>0.0</td>\n",
       "      <td>1300.0</td>\n",
       "      <td>6462.0</td>\n",
       "      <td>1.0</td>\n",
       "    </tr>\n",
       "    <tr>\n",
       "      <th>7</th>\n",
       "      <td>republicans have always battled with severe ca...</td>\n",
       "      <td>d026wk3</td>\n",
       "      <td>politics</td>\n",
       "      <td>news</td>\n",
       "      <td>1.455649e+09</td>\n",
       "      <td>jabb0</td>\n",
       "      <td>15.0</td>\n",
       "      <td>0.0</td>\n",
       "      <td>44981.0</td>\n",
       "      <td>141501.0</td>\n",
       "      <td>0.0</td>\n",
       "    </tr>\n",
       "    <tr>\n",
       "      <th>8</th>\n",
       "      <td>politics were so different back then. people o...</td>\n",
       "      <td>d02a3k3</td>\n",
       "      <td>politics</td>\n",
       "      <td>news</td>\n",
       "      <td>1.455653e+09</td>\n",
       "      <td>Hypertension123456</td>\n",
       "      <td>2.0</td>\n",
       "      <td>0.0</td>\n",
       "      <td>46.0</td>\n",
       "      <td>42036.0</td>\n",
       "      <td>0.0</td>\n",
       "    </tr>\n",
       "    <tr>\n",
       "      <th>9</th>\n",
       "      <td>equally ridiculous , here 's a 1970 law review...</td>\n",
       "      <td>d025wad</td>\n",
       "      <td>politics</td>\n",
       "      <td>news</td>\n",
       "      <td>1.455647e+09</td>\n",
       "      <td>trash_reason</td>\n",
       "      <td>26.0</td>\n",
       "      <td>0.0</td>\n",
       "      <td>5613.0</td>\n",
       "      <td>1361.0</td>\n",
       "      <td>0.0</td>\n",
       "    </tr>\n",
       "    <tr>\n",
       "      <th>...</th>\n",
       "      <td>...</td>\n",
       "      <td>...</td>\n",
       "      <td>...</td>\n",
       "      <td>...</td>\n",
       "      <td>...</td>\n",
       "      <td>...</td>\n",
       "      <td>...</td>\n",
       "      <td>...</td>\n",
       "      <td>...</td>\n",
       "      <td>...</td>\n",
       "      <td>...</td>\n",
       "    </tr>\n",
       "    <tr>\n",
       "      <th>2725995</th>\n",
       "      <td>for those with a woefully bad sense of directi...</td>\n",
       "      <td>d02c1s1</td>\n",
       "      <td>minecraft</td>\n",
       "      <td>gaming</td>\n",
       "      <td>1.455656e+09</td>\n",
       "      <td>capfan67</td>\n",
       "      <td>2.0</td>\n",
       "      <td>0.0</td>\n",
       "      <td>178.0</td>\n",
       "      <td>2518.0</td>\n",
       "      <td>0.0</td>\n",
       "    </tr>\n",
       "    <tr>\n",
       "      <th>2725996</th>\n",
       "      <td>the characters hand in first person is invisib...</td>\n",
       "      <td>464kj4</td>\n",
       "      <td>minecraft</td>\n",
       "      <td>gaming</td>\n",
       "      <td>1.455656e+09</td>\n",
       "      <td>CookiezFort</td>\n",
       "      <td>0.0</td>\n",
       "      <td>0.0</td>\n",
       "      <td>833.0</td>\n",
       "      <td>3248.0</td>\n",
       "      <td>0.0</td>\n",
       "    </tr>\n",
       "    <tr>\n",
       "      <th>2725997</th>\n",
       "      <td>i guess either the shaders use some feature th...</td>\n",
       "      <td>d02cxvk</td>\n",
       "      <td>minecraft</td>\n",
       "      <td>gaming</td>\n",
       "      <td>1.455657e+09</td>\n",
       "      <td>Huntron</td>\n",
       "      <td>1.0</td>\n",
       "      <td>0.0</td>\n",
       "      <td>5534.0</td>\n",
       "      <td>3062.0</td>\n",
       "      <td>1.0</td>\n",
       "    </tr>\n",
       "    <tr>\n",
       "      <th>2725998</th>\n",
       "      <td>my guess is that you 're trying to use a brand...</td>\n",
       "      <td>d02ic1n</td>\n",
       "      <td>minecraft</td>\n",
       "      <td>gaming</td>\n",
       "      <td>1.455664e+09</td>\n",
       "      <td>nothingl_</td>\n",
       "      <td>1.0</td>\n",
       "      <td>0.0</td>\n",
       "      <td>104.0</td>\n",
       "      <td>807.0</td>\n",
       "      <td>0.0</td>\n",
       "    </tr>\n",
       "    <tr>\n",
       "      <th>2725999</th>\n",
       "      <td>i run a 1.8 server , and ever since 1.6 or so ...</td>\n",
       "      <td>463kch</td>\n",
       "      <td>minecraft</td>\n",
       "      <td>gaming</td>\n",
       "      <td>1.455644e+09</td>\n",
       "      <td>generalmumble</td>\n",
       "      <td>0.0</td>\n",
       "      <td>0.0</td>\n",
       "      <td>2790.0</td>\n",
       "      <td>179.0</td>\n",
       "      <td>0.0</td>\n",
       "    </tr>\n",
       "  </tbody>\n",
       "</table>\n",
       "<p>2506609 rows × 11 columns</p>\n",
       "</div>"
      ],
      "text/plain": [
       "                                                      Text       ID  \\\n",
       "4        disclaimer : i think obama should nominate som...  d028c5d   \n",
       "6        either way the process will be dragged out unt...  d026od6   \n",
       "7        republicans have always battled with severe ca...  d026wk3   \n",
       "8        politics were so different back then. people o...  d02a3k3   \n",
       "9        equally ridiculous , here 's a 1970 law review...  d025wad   \n",
       "...                                                    ...      ...   \n",
       "2725995  for those with a woefully bad sense of directi...  d02c1s1   \n",
       "2725996  the characters hand in first person is invisib...   464kj4   \n",
       "2725997  i guess either the shaders use some feature th...  d02cxvk   \n",
       "2725998  my guess is that you 're trying to use a brand...  d02ic1n   \n",
       "2725999  i run a 1.8 server , and ever since 1.6 or so ...   463kch   \n",
       "\n",
       "         Subreddit    meta          Time            Username  Upvotes  \\\n",
       "4         politics    news  1.455651e+09            degausse      3.0   \n",
       "6         politics    news  1.455648e+09         cyberspyder      5.0   \n",
       "7         politics    news  1.455649e+09               jabb0     15.0   \n",
       "8         politics    news  1.455653e+09  Hypertension123456      2.0   \n",
       "9         politics    news  1.455647e+09        trash_reason     26.0   \n",
       "...            ...     ...           ...                 ...      ...   \n",
       "2725995  minecraft  gaming  1.455656e+09            capfan67      2.0   \n",
       "2725996  minecraft  gaming  1.455656e+09         CookiezFort      0.0   \n",
       "2725997  minecraft  gaming  1.455657e+09             Huntron      1.0   \n",
       "2725998  minecraft  gaming  1.455664e+09           nothingl_      1.0   \n",
       "2725999  minecraft  gaming  1.455644e+09       generalmumble      0.0   \n",
       "\n",
       "         Downvotes  Author_link_karma  Author_Comment_Karma  Author_has_gold?  \n",
       "4              0.0                1.0                1941.0               0.0  \n",
       "6              0.0             1300.0                6462.0               1.0  \n",
       "7              0.0            44981.0              141501.0               0.0  \n",
       "8              0.0               46.0               42036.0               0.0  \n",
       "9              0.0             5613.0                1361.0               0.0  \n",
       "...            ...                ...                   ...               ...  \n",
       "2725995        0.0              178.0                2518.0               0.0  \n",
       "2725996        0.0              833.0                3248.0               0.0  \n",
       "2725997        0.0             5534.0                3062.0               1.0  \n",
       "2725998        0.0              104.0                 807.0               0.0  \n",
       "2725999        0.0             2790.0                 179.0               0.0  \n",
       "\n",
       "[2506609 rows x 11 columns]"
      ]
     },
     "execution_count": 114,
     "metadata": {},
     "output_type": "execute_result"
    }
   ],
   "source": []
  },
  {
   "cell_type": "markdown",
   "metadata": {},
   "source": [
    "# EDA and Exploratory Graphs"
   ]
  },
  {
   "cell_type": "code",
   "execution_count": 194,
   "metadata": {},
   "outputs": [
    {
     "name": "stderr",
     "output_type": "stream",
     "text": [
      "/Users/JamesSkelton/opt/anaconda3/lib/python3.7/site-packages/numpy/lib/histograms.py:839: RuntimeWarning: invalid value encountered in greater_equal\n",
      "  keep = (tmp_a >= first_edge)\n",
      "/Users/JamesSkelton/opt/anaconda3/lib/python3.7/site-packages/numpy/lib/histograms.py:840: RuntimeWarning: invalid value encountered in less_equal\n",
      "  keep &= (tmp_a <= last_edge)\n"
     ]
    },
    {
     "data": {
      "text/plain": [
       "Text(0.5, 1.0, \"Histogram of users' link karma, removed outliers\")"
      ]
     },
     "execution_count": 194,
     "metadata": {},
     "output_type": "execute_result"
    },
    {
     "data": {
      "image/png": "[encoded data removed]",
      "text/plain": [
       "<Figure size 576x396 with 1 Axes>"
      ]
     },
     "metadata": {},
     "output_type": "display_data"
    }
   ],
   "source": [
    "fig, ax = plt.subplots()\n",
    "plt.hist(df.Author_link_karma, bins = 500)\n",
    "plt.ylim(0, 5000)\n",
    "plt.xlim(5,1000000)\n",
    "ax.set_xlabel('Author Link Karma')\n",
    "ax.set_ylabel('Counts')\n",
    "ax.set_title(\"Histogram of users' link karma, removed outliers\")"
   ]
  },
  {
   "cell_type": "code",
   "execution_count": 195,
   "metadata": {},
   "outputs": [
    {
     "data": {
      "text/plain": [
       "Text(0.5, 1.0, \"Histogram of users' link karma, yscale log\")"
      ]
     },
     "execution_count": 195,
     "metadata": {},
     "output_type": "execute_result"
    },
    {
     "data": {
      "image/png": "[encoded data removed]",
      "text/plain": [
       "<Figure size 576x396 with 1 Axes>"
      ]
     },
     "metadata": {},
     "output_type": "display_data"
    }
   ],
   "source": [
    "fig, ax = plt.subplots()\n",
    "plt.hist(df.Author_link_karma, bins = 500)\n",
    "# plt.ylim(0, 5000)\n",
    "# plt.xlim(5,1000000)\n",
    "\n",
    "ax.set_yscale('log')\n",
    "\n",
    "ax.set_xlabel('Author Link Karma')\n",
    "ax.set_ylabel('Counts')\n",
    "ax.set_title(\"Histogram of users' link karma, yscale log\")"
   ]
  },
  {
   "cell_type": "code",
   "execution_count": 160,
   "metadata": {},
   "outputs": [
    {
     "data": {
      "text/plain": [
       "Text(0.5, 1.0, \"Histogram of users' link karma, outliers removed yscale log\")"
      ]
     },
     "execution_count": 160,
     "metadata": {},
     "output_type": "execute_result"
    },
    {
     "data": {
      "image/png": "[encoded data removed]",
      "text/plain": [
       "<Figure size 432x288 with 1 Axes>"
      ]
     },
     "metadata": {},
     "output_type": "display_data"
    }
   ],
   "source": [
    "fig, ax = plt.subplots()\n",
    "plt.hist(df.Author_link_karma, bins = 3000)\n",
    "# plt.ylim()\n",
    "plt.xlim(1,300000)\n",
    "\n",
    "ax.set_yscale('log')\n",
    "\n",
    "ax.set_xlabel('Author Link Karma')\n",
    "ax.set_ylabel('Counts')\n",
    "ax.set_title(\"Histogram of users' link karma, outliers removed yscale log\")"
   ]
  },
  {
   "cell_type": "code",
   "execution_count": 204,
   "metadata": {},
   "outputs": [
    {
     "data": {
      "text/plain": [
       "Text(0.5, 1.0, \"Histogram of users' comment karma, removed outliers\")"
      ]
     },
     "execution_count": 204,
     "metadata": {},
     "output_type": "execute_result"
    },
    {
     "data": {
      "image/png": "[encoded data removed]",
      "text/plain": [
       "<Figure size 576x396 with 1 Axes>"
      ]
     },
     "metadata": {},
     "output_type": "display_data"
    }
   ],
   "source": [
    "fig, ax = plt.subplots()\n",
    "plt.hist(df.Author_Comment_Karma, bins = 500)\n",
    "# plt.ylim(0, 5000)\n",
    "plt.xlim(1,1000000)\n",
    "\n",
    "ax.set_yscale('log')\n",
    "ax.set_xlabel('Author Comment Karma')\n",
    "ax.set_ylabel('Counts')\n",
    "ax.set_title(\"Histogram of users' comment karma, removed outliers\")"
   ]
  },
  {
   "cell_type": "code",
   "execution_count": 207,
   "metadata": {},
   "outputs": [
    {
     "data": {
      "text/plain": [
       "(0, 1500000)"
      ]
     },
     "execution_count": 207,
     "metadata": {},
     "output_type": "execute_result"
    },
    {
     "data": {
      "image/png": "[encoded data removed]",
      "text/plain": [
       "<Figure size 576x396 with 1 Axes>"
      ]
     },
     "metadata": {},
     "output_type": "display_data"
    }
   ],
   "source": [
    "fig, ax = plt.subplots()\n",
    "\n",
    "plt.scatter(df_test.Author_link_karma, df_test.Author_Comment_Karma)\n",
    "\n",
    "# ax.set_yscale('')\n",
    "\n",
    "ax.set_ylim(0, 1000000)\n",
    "ax.set_xlim(0, 1500000)"
   ]
  },
  {
   "cell_type": "code",
   "execution_count": 192,
   "metadata": {},
   "outputs": [
    {
     "data": {
      "text/plain": [
       "Text(0.5, 1.0, 'Histogram of posts per hour of day')"
      ]
     },
     "execution_count": 192,
     "metadata": {},
     "output_type": "execute_result"
    },
    {
     "data": {
      "image/png": "[encoded data removed]",
      "text/plain": [
       "<Figure size 576x396 with 1 Axes>"
      ]
     },
     "metadata": {},
     "output_type": "display_data"
    }
   ],
   "source": [
    "fig, ax = plt.subplots()\n",
    "\n",
    "plt.hist(df_test.Time.dt.hour, bins = 24)\n",
    "plt.style.use('seaborn')\n",
    "ax.set_ylabel('Counts of posts')\n",
    "ax.set_xlabel('Hour of day')\n",
    "ax.set_title('Histogram of posts per hour of day')"
   ]
  },
  {
   "cell_type": "code",
   "execution_count": 1,
   "metadata": {},
   "outputs": [
    {
     "ename": "NameError",
     "evalue": "name 'df_test' is not defined",
     "output_type": "error",
     "traceback": [
      "\u001b[0;31m---------------------------------------------------------------------------\u001b[0m",
      "\u001b[0;31mNameError\u001b[0m                                 Traceback (most recent call last)",
      "\u001b[0;32m<ipython-input-1-c1fd9680e778>\u001b[0m in \u001b[0;36m<module>\u001b[0;34m\u001b[0m\n\u001b[0;32m----> 1\u001b[0;31m \u001b[0mdf_test\u001b[0m\u001b[0;34m[\u001b[0m\u001b[0;34m'Time'\u001b[0m\u001b[0;34m]\u001b[0m\u001b[0;34m.\u001b[0m\u001b[0mdt\u001b[0m\u001b[0;34m.\u001b[0m\u001b[0mhour\u001b[0m\u001b[0;34m\u001b[0m\u001b[0;34m\u001b[0m\u001b[0m\n\u001b[0m",
      "\u001b[0;31mNameError\u001b[0m: name 'df_test' is not defined"
     ]
    }
   ],
   "source": [
    "df_test['Time'].dt.hour"
   ]
  },
  {
   "cell_type": "code",
   "execution_count": 205,
   "metadata": {},
   "outputs": [
    {
     "data": {
      "text/html": [
       "<div>\n",
       "<style scoped>\n",
       "    .dataframe tbody tr th:only-of-type {\n",
       "        vertical-align: middle;\n",
       "    }\n",
       "\n",
       "    .dataframe tbody tr th {\n",
       "        vertical-align: top;\n",
       "    }\n",
       "\n",
       "    .dataframe thead th {\n",
       "        text-align: right;\n",
       "    }\n",
       "</style>\n",
       "<table border=\"1\" class=\"dataframe\">\n",
       "  <thead>\n",
       "    <tr style=\"text-align: right;\">\n",
       "      <th></th>\n",
       "      <th>Text</th>\n",
       "      <th>ID</th>\n",
       "      <th>Subreddit</th>\n",
       "      <th>meta</th>\n",
       "      <th>Time</th>\n",
       "      <th>Username</th>\n",
       "      <th>Upvotes</th>\n",
       "      <th>Downvotes</th>\n",
       "      <th>Author_link_karma</th>\n",
       "      <th>Author_Comment_Karma</th>\n",
       "      <th>Author_has_gold?</th>\n",
       "    </tr>\n",
       "  </thead>\n",
       "  <tbody>\n",
       "    <tr>\n",
       "      <th>4</th>\n",
       "      <td>disclaim think obama nomin someon senat hold c...</td>\n",
       "      <td>d028c5d</td>\n",
       "      <td>politics</td>\n",
       "      <td>news</td>\n",
       "      <td>2016-02-16 13:25:06</td>\n",
       "      <td>degausse</td>\n",
       "      <td>3.0</td>\n",
       "      <td>0.0</td>\n",
       "      <td>1.0</td>\n",
       "      <td>1941.0</td>\n",
       "      <td>0.0</td>\n",
       "    </tr>\n",
       "    <tr>\n",
       "      <th>6</th>\n",
       "      <td>either way process drag elect gop vote senat s...</td>\n",
       "      <td>d026od6</td>\n",
       "      <td>politics</td>\n",
       "      <td>news</td>\n",
       "      <td>2016-02-16 12:47:45</td>\n",
       "      <td>cyberspyder</td>\n",
       "      <td>5.0</td>\n",
       "      <td>0.0</td>\n",
       "      <td>1300.0</td>\n",
       "      <td>6462.0</td>\n",
       "      <td>1.0</td>\n",
       "    </tr>\n",
       "    <tr>\n",
       "      <th>7</th>\n",
       "      <td>republican alway battl sever case select amnesia</td>\n",
       "      <td>d026wk3</td>\n",
       "      <td>politics</td>\n",
       "      <td>news</td>\n",
       "      <td>2016-02-16 12:52:49</td>\n",
       "      <td>jabb0</td>\n",
       "      <td>15.0</td>\n",
       "      <td>0.0</td>\n",
       "      <td>44981.0</td>\n",
       "      <td>141501.0</td>\n",
       "      <td>0.0</td>\n",
       "    </tr>\n",
       "    <tr>\n",
       "      <th>8</th>\n",
       "      <td>polit differ back peopl side least pretend rea...</td>\n",
       "      <td>d02a3k3</td>\n",
       "      <td>politics</td>\n",
       "      <td>news</td>\n",
       "      <td>2016-02-16 14:04:12</td>\n",
       "      <td>Hypertension123456</td>\n",
       "      <td>2.0</td>\n",
       "      <td>0.0</td>\n",
       "      <td>46.0</td>\n",
       "      <td>42036.0</td>\n",
       "      <td>0.0</td>\n",
       "    </tr>\n",
       "    <tr>\n",
       "      <th>9</th>\n",
       "      <td>equal ridicul 1970 law review articl mcconnel ...</td>\n",
       "      <td>d025wad</td>\n",
       "      <td>politics</td>\n",
       "      <td>news</td>\n",
       "      <td>2016-02-16 12:30:13</td>\n",
       "      <td>trash_reason</td>\n",
       "      <td>26.0</td>\n",
       "      <td>0.0</td>\n",
       "      <td>5613.0</td>\n",
       "      <td>1361.0</td>\n",
       "      <td>0.0</td>\n",
       "    </tr>\n",
       "    <tr>\n",
       "      <th>...</th>\n",
       "      <td>...</td>\n",
       "      <td>...</td>\n",
       "      <td>...</td>\n",
       "      <td>...</td>\n",
       "      <td>...</td>\n",
       "      <td>...</td>\n",
       "      <td>...</td>\n",
       "      <td>...</td>\n",
       "      <td>...</td>\n",
       "      <td>...</td>\n",
       "      <td>...</td>\n",
       "    </tr>\n",
       "    <tr>\n",
       "      <th>2725995</th>\n",
       "      <td>woefulli bad sens direct use advic hand time p...</td>\n",
       "      <td>d02c1s1</td>\n",
       "      <td>minecraft</td>\n",
       "      <td>gaming</td>\n",
       "      <td>2016-02-16 14:46:51</td>\n",
       "      <td>capfan67</td>\n",
       "      <td>2.0</td>\n",
       "      <td>0.0</td>\n",
       "      <td>178.0</td>\n",
       "      <td>2518.0</td>\n",
       "      <td>0.0</td>\n",
       "    </tr>\n",
       "    <tr>\n",
       "      <th>2725996</th>\n",
       "      <td>charact hand first person invis look glitchi u...</td>\n",
       "      <td>464kj4</td>\n",
       "      <td>minecraft</td>\n",
       "      <td>gaming</td>\n",
       "      <td>2016-02-16 15:01:34</td>\n",
       "      <td>CookiezFort</td>\n",
       "      <td>0.0</td>\n",
       "      <td>0.0</td>\n",
       "      <td>833.0</td>\n",
       "      <td>3248.0</td>\n",
       "      <td>0.0</td>\n",
       "    </tr>\n",
       "    <tr>\n",
       "      <th>2725997</th>\n",
       "      <td>guess either shader use featur ad 18 glsl vers...</td>\n",
       "      <td>d02cxvk</td>\n",
       "      <td>minecraft</td>\n",
       "      <td>gaming</td>\n",
       "      <td>2016-02-16 15:06:52</td>\n",
       "      <td>Huntron</td>\n",
       "      <td>1.0</td>\n",
       "      <td>0.0</td>\n",
       "      <td>5534.0</td>\n",
       "      <td>3062.0</td>\n",
       "      <td>1.0</td>\n",
       "    </tr>\n",
       "    <tr>\n",
       "      <th>2725998</th>\n",
       "      <td>guess tri use brand spank new graphic driver n...</td>\n",
       "      <td>d02ic1n</td>\n",
       "      <td>minecraft</td>\n",
       "      <td>gaming</td>\n",
       "      <td>2016-02-16 17:11:31</td>\n",
       "      <td>nothingl_</td>\n",
       "      <td>1.0</td>\n",
       "      <td>0.0</td>\n",
       "      <td>104.0</td>\n",
       "      <td>807.0</td>\n",
       "      <td>0.0</td>\n",
       "    </tr>\n",
       "    <tr>\n",
       "      <th>2725999</th>\n",
       "      <td>run 18 server ever sinc 16 server skip everi h...</td>\n",
       "      <td>463kch</td>\n",
       "      <td>minecraft</td>\n",
       "      <td>gaming</td>\n",
       "      <td>2016-02-16 11:37:38</td>\n",
       "      <td>generalmumble</td>\n",
       "      <td>0.0</td>\n",
       "      <td>0.0</td>\n",
       "      <td>2790.0</td>\n",
       "      <td>179.0</td>\n",
       "      <td>0.0</td>\n",
       "    </tr>\n",
       "  </tbody>\n",
       "</table>\n",
       "<p>2506609 rows × 11 columns</p>\n",
       "</div>"
      ],
      "text/plain": [
       "                                                      Text       ID  \\\n",
       "4        disclaim think obama nomin someon senat hold c...  d028c5d   \n",
       "6        either way process drag elect gop vote senat s...  d026od6   \n",
       "7         republican alway battl sever case select amnesia  d026wk3   \n",
       "8        polit differ back peopl side least pretend rea...  d02a3k3   \n",
       "9        equal ridicul 1970 law review articl mcconnel ...  d025wad   \n",
       "...                                                    ...      ...   \n",
       "2725995  woefulli bad sens direct use advic hand time p...  d02c1s1   \n",
       "2725996  charact hand first person invis look glitchi u...   464kj4   \n",
       "2725997  guess either shader use featur ad 18 glsl vers...  d02cxvk   \n",
       "2725998  guess tri use brand spank new graphic driver n...  d02ic1n   \n",
       "2725999  run 18 server ever sinc 16 server skip everi h...   463kch   \n",
       "\n",
       "         Subreddit    meta                Time            Username  Upvotes  \\\n",
       "4         politics    news 2016-02-16 13:25:06            degausse      3.0   \n",
       "6         politics    news 2016-02-16 12:47:45         cyberspyder      5.0   \n",
       "7         politics    news 2016-02-16 12:52:49               jabb0     15.0   \n",
       "8         politics    news 2016-02-16 14:04:12  Hypertension123456      2.0   \n",
       "9         politics    news 2016-02-16 12:30:13        trash_reason     26.0   \n",
       "...            ...     ...                 ...                 ...      ...   \n",
       "2725995  minecraft  gaming 2016-02-16 14:46:51            capfan67      2.0   \n",
       "2725996  minecraft  gaming 2016-02-16 15:01:34         CookiezFort      0.0   \n",
       "2725997  minecraft  gaming 2016-02-16 15:06:52             Huntron      1.0   \n",
       "2725998  minecraft  gaming 2016-02-16 17:11:31           nothingl_      1.0   \n",
       "2725999  minecraft  gaming 2016-02-16 11:37:38       generalmumble      0.0   \n",
       "\n",
       "         Downvotes  Author_link_karma  Author_Comment_Karma  Author_has_gold?  \n",
       "4              0.0                1.0                1941.0               0.0  \n",
       "6              0.0             1300.0                6462.0               1.0  \n",
       "7              0.0            44981.0              141501.0               0.0  \n",
       "8              0.0               46.0               42036.0               0.0  \n",
       "9              0.0             5613.0                1361.0               0.0  \n",
       "...            ...                ...                   ...               ...  \n",
       "2725995        0.0              178.0                2518.0               0.0  \n",
       "2725996        0.0              833.0                3248.0               0.0  \n",
       "2725997        0.0             5534.0                3062.0               1.0  \n",
       "2725998        0.0              104.0                 807.0               0.0  \n",
       "2725999        0.0             2790.0                 179.0               0.0  \n",
       "\n",
       "[2506609 rows x 11 columns]"
      ]
     },
     "execution_count": 205,
     "metadata": {},
     "output_type": "execute_result"
    }
   ],
   "source": [
    "df_test"
   ]
  },
  {
   "cell_type": "code",
   "execution_count": null,
   "metadata": {},
   "outputs": [],
   "source": [
    "import itertools\n",
    "\n",
    "words = clean_df['Text'].str.lower().str.findall(\"\\w+\")\n",
    "words = list(itertools.chain(words))\n",
    "unique = set(words)\n",
    "print(unique)"
   ]
  },
  {
   "cell_type": "markdown",
   "metadata": {},
   "source": [
    "# PETER PREDICTIONS"
   ]
  },
  {
   "cell_type": "code",
   "execution_count": null,
   "metadata": {},
   "outputs": [],
   "source": [
    "from sklearn.feature_extraction.text import TfidfVectorizer\n",
    "group_names = ['Cities in USA', 'Biology', 'Articles abt Wikipedia', 'Music',\n",
    "          'Cities in Japan', 'Pictures', 'Politics', 'TV & Movies',\n",
    "          'Cities in USA', 'History']\n",
    "with open('vectorizer.pk', 'rb') as fin:\n",
    "    vectorizer = pickle.load(fin)\n",
    "with open('sk_nmf.pk', 'rb') as fin:\n",
    "    sk_nmf = pickle.load(fin)\n",
    "print (\"Please Enter Your Article:\")\n",
    "article = input()\n",
    "my_dict = {\"file_name\": [\"bozo.txt\"], \"contents\": [article]}\n",
    "new_df = pd.DataFrame.from_dict(my_dict)\n",
    "X_new = vectorizer.transform(new_df['contents'])\n",
    "W_new = sk_nmf.transform(X_new)\n",
    "group_probs = W_new[0]\n",
    "z = zip(group_names, group_probs)\n",
    "z = sorted(z, key = lambda x: x[1], reverse=True)\n",
    "for n, p in z:\n",
    "    print (n + \":\", p)"
   ]
  }
 ],
 "metadata": {
  "kernelspec": {
   "display_name": "Python 3",
   "language": "python",
   "name": "python3"
  },
  "language_info": {
   "codemirror_mode": {
    "name": "ipython",
    "version": 3
   },
   "file_extension": ".py",
   "mimetype": "text/x-python",
   "name": "python",
   "nbconvert_exporter": "python",
   "pygments_lexer": "ipython3",
   "version": "3.7.6"
  }
 },
 "nbformat": 4,
 "nbformat_minor": 2
}
